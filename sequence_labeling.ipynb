{
 "cells": [
  {
   "cell_type": "code",
   "execution_count": 43,
   "outputs": [],
   "source": [
    "from keras.layers import Input, LSTM, Embedding, Dense, TimeDistributed, Bidirectional\n",
    "from keras.models import Model\n",
    "from keras.preprocessing.sequence import pad_sequences\n",
    "from keras.preprocessing.text import Tokenizer\n",
    "from sklearn.model_selection import train_test_split\n",
    "from tf2crf import CRF, ModelWithCRFLoss\n",
    "import preprocess\n",
    "import pandas as pd\n",
    "import matplotlib.pyplot as plt\n",
    "import numpy as np"
   ],
   "metadata": {
    "collapsed": false,
    "ExecuteTime": {
     "end_time": "2023-12-10T03:20:19.151427Z",
     "start_time": "2023-12-10T03:20:19.131735Z"
    }
   }
  },
  {
   "cell_type": "code",
   "execution_count": 44,
   "outputs": [
    {
     "name": "stdout",
     "output_type": "stream",
     "text": [
      "(21891, 4)\n",
      "(3136, 4)\n",
      "(25027, 4)\n"
     ]
    },
    {
     "data": {
      "text/plain": "                                                   words  \\\n0      [anyway, ,, thanks, mkm, and, keep, up, the, g...   \n1      [well, done, steffi, —, keep, up, the, good, w...   \n2      [please, use, it, as, a, reminder, to, ensure,...   \n3             [please, do, keep, up, the, good, work, .]   \n4      [we, hope, you, find, the, current, issue, sti...   \n...                                                  ...   \n25022  [this, year, marked, the, completion, and, ope...   \n25023  [a, quantum, leap, ahead, of, grace, bros, ', ...   \n25024  [anybody, see, erm, quantum, leap, last, night...   \n25025                    [quantum, leap, in, microscopy]   \n25026  [quantum, leaps, from, working, class, to, the...   \n\n                                                    tags  \\\n0      [O, O, O, O, O, B-IDIOM, I-IDIOM, I-IDIOM, I-I...   \n1      [O, O, O, O, B-IDIOM, I-IDIOM, I-IDIOM, I-IDIO...   \n2      [O, O, O, O, O, O, O, O, O, O, B-IDIOM, I-IDIO...   \n3      [O, O, B-IDIOM, I-IDIOM, I-IDIOM, I-IDIOM, I-I...   \n4      [O, O, O, O, O, O, O, O, O, O, O, O, O, O, B-I...   \n...                                                  ...   \n25022  [O, O, O, O, O, O, O, O, O, O, O, O, O, O, O, ...   \n25023  [O, B-IDIOM, I-IDIOM, O, O, O, O, O, O, O, O, ...   \n25024               [O, O, O, B-IDIOM, I-IDIOM, O, O, O]   \n25025                           [B-IDIOM, I-IDIOM, O, O]   \n25026  [B-IDIOM, I-IDIOM, O, O, O, O, O, O, O, O, O, ...   \n\n                   candidate  label  \n0      keep up the good work      1  \n1      keep up the good work      1  \n2      keep up the good work      1  \n3      keep up the good work      1  \n4      keep up the good work      1  \n...                      ...    ...  \n25022           quantum leap      1  \n25023           quantum leap      1  \n25024           quantum leap      1  \n25025           quantum leap      1  \n25026           quantum leap      1  \n\n[25027 rows x 4 columns]",
      "text/html": "<div>\n<style scoped>\n    .dataframe tbody tr th:only-of-type {\n        vertical-align: middle;\n    }\n\n    .dataframe tbody tr th {\n        vertical-align: top;\n    }\n\n    .dataframe thead th {\n        text-align: right;\n    }\n</style>\n<table border=\"1\" class=\"dataframe\">\n  <thead>\n    <tr style=\"text-align: right;\">\n      <th></th>\n      <th>words</th>\n      <th>tags</th>\n      <th>candidate</th>\n      <th>label</th>\n    </tr>\n  </thead>\n  <tbody>\n    <tr>\n      <th>0</th>\n      <td>[anyway, ,, thanks, mkm, and, keep, up, the, g...</td>\n      <td>[O, O, O, O, O, B-IDIOM, I-IDIOM, I-IDIOM, I-I...</td>\n      <td>keep up the good work</td>\n      <td>1</td>\n    </tr>\n    <tr>\n      <th>1</th>\n      <td>[well, done, steffi, —, keep, up, the, good, w...</td>\n      <td>[O, O, O, O, B-IDIOM, I-IDIOM, I-IDIOM, I-IDIO...</td>\n      <td>keep up the good work</td>\n      <td>1</td>\n    </tr>\n    <tr>\n      <th>2</th>\n      <td>[please, use, it, as, a, reminder, to, ensure,...</td>\n      <td>[O, O, O, O, O, O, O, O, O, O, B-IDIOM, I-IDIO...</td>\n      <td>keep up the good work</td>\n      <td>1</td>\n    </tr>\n    <tr>\n      <th>3</th>\n      <td>[please, do, keep, up, the, good, work, .]</td>\n      <td>[O, O, B-IDIOM, I-IDIOM, I-IDIOM, I-IDIOM, I-I...</td>\n      <td>keep up the good work</td>\n      <td>1</td>\n    </tr>\n    <tr>\n      <th>4</th>\n      <td>[we, hope, you, find, the, current, issue, sti...</td>\n      <td>[O, O, O, O, O, O, O, O, O, O, O, O, O, O, B-I...</td>\n      <td>keep up the good work</td>\n      <td>1</td>\n    </tr>\n    <tr>\n      <th>...</th>\n      <td>...</td>\n      <td>...</td>\n      <td>...</td>\n      <td>...</td>\n    </tr>\n    <tr>\n      <th>25022</th>\n      <td>[this, year, marked, the, completion, and, ope...</td>\n      <td>[O, O, O, O, O, O, O, O, O, O, O, O, O, O, O, ...</td>\n      <td>quantum leap</td>\n      <td>1</td>\n    </tr>\n    <tr>\n      <th>25023</th>\n      <td>[a, quantum, leap, ahead, of, grace, bros, ', ...</td>\n      <td>[O, B-IDIOM, I-IDIOM, O, O, O, O, O, O, O, O, ...</td>\n      <td>quantum leap</td>\n      <td>1</td>\n    </tr>\n    <tr>\n      <th>25024</th>\n      <td>[anybody, see, erm, quantum, leap, last, night...</td>\n      <td>[O, O, O, B-IDIOM, I-IDIOM, O, O, O]</td>\n      <td>quantum leap</td>\n      <td>1</td>\n    </tr>\n    <tr>\n      <th>25025</th>\n      <td>[quantum, leap, in, microscopy]</td>\n      <td>[B-IDIOM, I-IDIOM, O, O]</td>\n      <td>quantum leap</td>\n      <td>1</td>\n    </tr>\n    <tr>\n      <th>25026</th>\n      <td>[quantum, leaps, from, working, class, to, the...</td>\n      <td>[B-IDIOM, I-IDIOM, O, O, O, O, O, O, O, O, O, ...</td>\n      <td>quantum leap</td>\n      <td>1</td>\n    </tr>\n  </tbody>\n</table>\n<p>25027 rows × 4 columns</p>\n</div>"
     },
     "execution_count": 44,
     "metadata": {},
     "output_type": "execute_result"
    }
   ],
   "source": [
    "static_df, formal_df = preprocess.fetch_preprocessed_data()\n",
    "print(static_df.shape)\n",
    "print(formal_df.shape)\n",
    "df = pd.concat([static_df, formal_df], ignore_index=True)\n",
    "print(df.shape)\n",
    "df"
   ],
   "metadata": {
    "collapsed": false,
    "ExecuteTime": {
     "end_time": "2023-12-10T03:20:19.954463Z",
     "start_time": "2023-12-10T03:20:19.829168Z"
    }
   }
  },
  {
   "cell_type": "code",
   "execution_count": 45,
   "outputs": [
    {
     "name": "stdout",
     "output_type": "stream",
     "text": [
      "Maximum sentence length: 751\n"
     ]
    }
   ],
   "source": [
    "df['sentence_length'] = df['words'].apply(len)\n",
    "\n",
    "# Find the maximum sentence length\n",
    "max_sentence_length = df['sentence_length'].max()\n",
    "\n",
    "print(\"Maximum sentence length:\", max_sentence_length)"
   ],
   "metadata": {
    "collapsed": false,
    "ExecuteTime": {
     "end_time": "2023-12-10T03:20:20.255235Z",
     "start_time": "2023-12-10T03:20:20.246040Z"
    }
   }
  },
  {
   "cell_type": "code",
   "execution_count": 46,
   "outputs": [
    {
     "name": "stdout",
     "output_type": "stream",
     "text": [
      "yeah , well let me just read you two or three verses from exodus , chapter forty , this is what it says then the cloud covered the tent of meeting and the glory of the lord filled the tabernacle and moses was not able to enter the tent of meeting because the cloud had settled on it and the glory of the lord filled the tabernacle and throughout all their journeys whenever the cloud was taken up from over the tabernacle the sons of israel would set out , but if the cloud was not taken up then they did not set out until the day that it was taken up , for throughout all their journeys the cloud of the lord was on the tabernacle by day and there was fire in it by night , in the sight of all the house in israel and if you were to turn over to kings you have got a , you have got a similar thing there with the dedication of the temple and as be ben was saying the power really it 's the it 's the presence of god , the shine , the glory , that cloud of , and so what , what , what catches the lord jesus up is really the glory of god here he is , the , the riseness , the glorified christ being called up into heaven in the , in the glory , what he 's been glorified , so he withdraws his physical , physical presence from one place here on earth to present there on the throne and yet by the holy spirit to be every where now jesus then , he did not cease to be truly man at either his resurrection or at his ascension , he stays man , god , the god man all the way through and it 's still true today he is the god man today and that 's important for you and me , think of the very worse experience that you have ever had in your life , think of the very worse experience that could happen to you , with the exception of you know that of , of say total failure of some awful sin , the worse thing , maybe a loss of someone dear to you , someone very close to you , er , er , a bereavement , the most awful experience you have had well he has gone through , he has known that experience , he has , has tempted in all points like as we are he knows our frame , he remembers were dust and he has been there and it is a man who has experienced those same experiences that you and i experience day by day , year after year , it is a man who has gone that , who has walked that path , who is in heaven interceding and praying for us , we will stop there cos time has gone erm we will stop there , we will not go on otherwise i will get into trouble during this past month some of the questions in the new testament , the first one we looked at you remember was that question that jesus asked of his disciples , do you believe that i am able to do this , then we looked at a question which the disciples asked of jesus , why could we not cast it out last week we looked at another question , are only a few people going to be saved and this morning i 'd like us it 's the final one of these questions not that there are not other questions in the new testament and scores , scores of others but were just looking at four er throughout this month , i 'd like us to look this morning for one at , for a few minutes , at one that jesus asked of a man who confronted him , i 'd like to read a few verses from luke chapter eighteen , luke chapter eighteen i 'm going to read from verse thirty five , it 's the well known account of blind bartimaeus , luke chapter eighteen and verse thirty five and he came about that as jesus was approaching jericho a certain blind man was sitting by the road begging , now hearing a multitude going by he began to inquire\n"
     ]
    }
   ],
   "source": [
    "longest_sentences = df[df['sentence_length'] == max_sentence_length]['words']\n",
    "print(\" \".join(longest_sentences[14552]))"
   ],
   "metadata": {
    "collapsed": false,
    "ExecuteTime": {
     "end_time": "2023-12-10T03:20:21.246366Z",
     "start_time": "2023-12-10T03:20:21.241313Z"
    }
   }
  },
  {
   "cell_type": "code",
   "execution_count": 48,
   "outputs": [
    {
     "data": {
      "text/plain": "<Figure size 640x480 with 1 Axes>",
      "image/png": "[encoded data removed]"
     },
     "metadata": {},
     "output_type": "display_data"
    }
   ],
   "source": [
    "binwidth = 20\n",
    "plt.hist(df['sentence_length'], bins=np.arange(0, df['sentence_length'].max() + binwidth, binwidth))\n",
    "plt.yscale(\"log\")"
   ],
   "metadata": {
    "collapsed": false,
    "ExecuteTime": {
     "end_time": "2023-12-10T03:20:55.473304Z",
     "start_time": "2023-12-10T03:20:55.271978Z"
    }
   }
  },
  {
   "cell_type": "code",
   "execution_count": 53,
   "outputs": [
    {
     "name": "stdout",
     "output_type": "stream",
     "text": [
      "50.0\n",
      "61.0\n",
      "79.0\n",
      "99.0\n"
     ]
    }
   ],
   "source": [
    "print(np.percentile(df['sentence_length'], 90))\n",
    "print(np.percentile(df['sentence_length'], 95))\n",
    "print(np.percentile(df['sentence_length'], 98))\n",
    "print(np.percentile(df['sentence_length'], 99))"
   ],
   "metadata": {
    "collapsed": false,
    "ExecuteTime": {
     "end_time": "2023-12-10T03:24:59.903343Z",
     "start_time": "2023-12-10T03:24:59.899079Z"
    }
   }
  },
  {
   "cell_type": "code",
   "execution_count": 35,
   "outputs": [
    {
     "data": {
      "text/plain": "       sentence_length                                              words\n14552              751  [yeah, ,, well, let, me, just, read, you, two,...\n18205              710  [the, letter, from, the, plaintiffs, solicitor...\n1818               641  [you, make, your, sound, and, you, carry, on, ...\n1773               641  [you, make, your, sound, and, you, carry, on, ...\n23280              468  [a, word, gets, around, the, famine, is, over,...\n20733              468  [nao, naomi, realizes, there, 's, no, point, t...\n13059              468  [nao, naomi, realizes, there, 's, no, point, t...\n13010              422  [if, that, power, was, sufficient, ,, the, hol...\n5187               410  [well, my, pal, and, myself, we, took, these, ...\n15795              375  [she, said, it, was, br, it, was, ,, i, did, n...\n12983              315  [he, exhibits, a, number, of, adjectives, whic...\n19765              303  [for, example, ,, it, is, suggested, that, :, ...\n17434              296  [very, briefly, ,, peter, davis, ,, north, yor...\n15902              288  [i, find, this, very, difficult, to, erm, ,, t...\n9783               282  [erm, with, without, a, new, settlement, erm, ...\n20831              282  [the, end, of, the, last, straw, you, see, ,, ...\n13311              278  [that, would, be, about, sixty, ,, sixty, one,...\n654                264  [the, thing, is, ,, if, they, always, give, yo...\n5222               264  [the, thing, is, ,, if, they, always, give, yo...\n19552              264  [the, thing, is, ,, if, they, always, give, yo...",
      "text/html": "<div>\n<style scoped>\n    .dataframe tbody tr th:only-of-type {\n        vertical-align: middle;\n    }\n\n    .dataframe tbody tr th {\n        vertical-align: top;\n    }\n\n    .dataframe thead th {\n        text-align: right;\n    }\n</style>\n<table border=\"1\" class=\"dataframe\">\n  <thead>\n    <tr style=\"text-align: right;\">\n      <th></th>\n      <th>sentence_length</th>\n      <th>words</th>\n    </tr>\n  </thead>\n  <tbody>\n    <tr>\n      <th>14552</th>\n      <td>751</td>\n      <td>[yeah, ,, well, let, me, just, read, you, two,...</td>\n    </tr>\n    <tr>\n      <th>18205</th>\n      <td>710</td>\n      <td>[the, letter, from, the, plaintiffs, solicitor...</td>\n    </tr>\n    <tr>\n      <th>1818</th>\n      <td>641</td>\n      <td>[you, make, your, sound, and, you, carry, on, ...</td>\n    </tr>\n    <tr>\n      <th>1773</th>\n      <td>641</td>\n      <td>[you, make, your, sound, and, you, carry, on, ...</td>\n    </tr>\n    <tr>\n      <th>23280</th>\n      <td>468</td>\n      <td>[a, word, gets, around, the, famine, is, over,...</td>\n    </tr>\n    <tr>\n      <th>20733</th>\n      <td>468</td>\n      <td>[nao, naomi, realizes, there, 's, no, point, t...</td>\n    </tr>\n    <tr>\n      <th>13059</th>\n      <td>468</td>\n      <td>[nao, naomi, realizes, there, 's, no, point, t...</td>\n    </tr>\n    <tr>\n      <th>13010</th>\n      <td>422</td>\n      <td>[if, that, power, was, sufficient, ,, the, hol...</td>\n    </tr>\n    <tr>\n      <th>5187</th>\n      <td>410</td>\n      <td>[well, my, pal, and, myself, we, took, these, ...</td>\n    </tr>\n    <tr>\n      <th>15795</th>\n      <td>375</td>\n      <td>[she, said, it, was, br, it, was, ,, i, did, n...</td>\n    </tr>\n    <tr>\n      <th>12983</th>\n      <td>315</td>\n      <td>[he, exhibits, a, number, of, adjectives, whic...</td>\n    </tr>\n    <tr>\n      <th>19765</th>\n      <td>303</td>\n      <td>[for, example, ,, it, is, suggested, that, :, ...</td>\n    </tr>\n    <tr>\n      <th>17434</th>\n      <td>296</td>\n      <td>[very, briefly, ,, peter, davis, ,, north, yor...</td>\n    </tr>\n    <tr>\n      <th>15902</th>\n      <td>288</td>\n      <td>[i, find, this, very, difficult, to, erm, ,, t...</td>\n    </tr>\n    <tr>\n      <th>9783</th>\n      <td>282</td>\n      <td>[erm, with, without, a, new, settlement, erm, ...</td>\n    </tr>\n    <tr>\n      <th>20831</th>\n      <td>282</td>\n      <td>[the, end, of, the, last, straw, you, see, ,, ...</td>\n    </tr>\n    <tr>\n      <th>13311</th>\n      <td>278</td>\n      <td>[that, would, be, about, sixty, ,, sixty, one,...</td>\n    </tr>\n    <tr>\n      <th>654</th>\n      <td>264</td>\n      <td>[the, thing, is, ,, if, they, always, give, yo...</td>\n    </tr>\n    <tr>\n      <th>5222</th>\n      <td>264</td>\n      <td>[the, thing, is, ,, if, they, always, give, yo...</td>\n    </tr>\n    <tr>\n      <th>19552</th>\n      <td>264</td>\n      <td>[the, thing, is, ,, if, they, always, give, yo...</td>\n    </tr>\n  </tbody>\n</table>\n</div>"
     },
     "execution_count": 35,
     "metadata": {},
     "output_type": "execute_result"
    }
   ],
   "source": [
    "df.sort_values(by='sentence_length', ascending=False).head(20)[[\"sentence_length\", \"words\"]]\n"
   ],
   "metadata": {
    "collapsed": false,
    "ExecuteTime": {
     "end_time": "2023-12-10T03:18:40.643837Z",
     "start_time": "2023-12-10T03:18:40.629486Z"
    }
   }
  },
  {
   "cell_type": "code",
   "execution_count": 55,
   "outputs": [
    {
     "name": "stdout",
     "output_type": "stream",
     "text": [
      "- 751: yeah , well let me just read you two or three verses from exodus , chapter forty , this is what it says then the cloud covered the tent of meeting and the glory of the lord filled the tabernacle and moses was not able to enter the tent of meeting because the cloud had settled on it and the glory of the lord filled the tabernacle and throughout all their journeys whenever the cloud was taken up from over the tabernacle the sons of israel would set out , but if the cloud was not taken up then they...\n",
      "- 710: the letter from the plaintiffs solicitors in respect of question of interest one causes , the letter of the twenty ninth of january of nineteen ninety two , asking mr to confirm , that in addition to the settlement figure of forty two thousand pounds in respect of costs he 'd be paying interest until the date of payment , and er , there was never a mind that erm which find a reply to in , in thirtieth of march nineteen ninety two by mr , there 's no unqualified agreement in figure of forty two thousand pounds ,...\n",
      "- 641: you make your sound and you carry on and on and on , i 'm going to keep on taping different people 's make their sound and then we 're going to see what it feels like you 're in hospital , okay , now it does not matter if somebody 's got the same sound as somebody else , it 's no big deal , alright , because eventually they will all blend into each other , but as soon as i have tapped you , make your sound , alright patients , come on where 's the machines...\n",
      "- 641: you make your sound and you carry on and on and on , i 'm going to keep on taping different people 's make their sound and then we 're going to see what it feels like you 're in hospital , okay , now it does not matter if somebody 's got the same sound as somebody else , it 's no big deal , alright , because eventually they will all blend into each other , but as soon as i have tapped you , make your sound , alright patients , come on where 's the machines...\n",
      "- 468: a word gets around the famine is over and after the tragic experience of loosing her family , her three men in her life , her husband and her sons , nobody starts to consider the situation again , she 's alone now in a foreign , a strange land , surely the only sensible thing for her to do would be to return to her own people in bethlehem , they say news comes through that they have been a succession of good harvest , well of course there was going to be good harvest , god had not...\n",
      "- 468: nao naomi realizes there 's no point talking about it now , the dye has been cast the decision has been made , the commitment has been entered into , whatever the cost she was going gods way , there was nothing more to be said about it we find that a de a decision made before god and we all make those decisions , means nothing at all unless were determined to carry it through , whatever the cost may be , three women here make their decisions before god , they make their choices , naomi she chooses...\n",
      "- 468: nao naomi realizes there 's no point talking about it now , the dye has been cast the decision has been made , the commitment has been entered into , whatever the cost she was going gods way , there was nothing more to be said about it we find that a de a decision made before god and we all make those decisions , means nothing at all unless were determined to carry it through , whatever the cost may be , three women here make their decisions before god , they make their choices , naomi she chooses...\n",
      "- 422: if that power was sufficient , the holy spirit , if that power was sufficient to raise christ from the dead , you not think he 's able to exert that power in your life and in my life to make us live lives that are pleasing to god , of course it is so we do not do it ourselves , just let me in closing mention one other thing , this relationship we have needs to be maintained , you know for any relationship to grow , one needs to spend time with the other person , i...\n",
      "- 410: well my pal and myself we took these two girls and we sat in the middle of the temperance hall and he said come on let's sit over on the balcony he says and put up my clothes by the radiator he says it 's been raining he says and it will dry them , so we moved , and exactly from were we moved was where the women got killed , just candelabra dropped on her and er when it happened the fella on the stage the comedian was singing , a hundred years from now you will not...\n",
      "- 375: she said it was br it was , i did not think it was but it wa it was really good fun and also i was going out with carl at the time and so , you know , in our big like little group big little group , our big group , that was a bit of a erm contradiction , erm in our big group and erm we knew masses of people and there were lots of there and there were lots of felixstowe people there and it was just a really good laugh and erm right said...\n",
      "- 315: he exhibits a number of adjectives which differ in precisely the way required while maintaining the same or essentially the same lexical value ( we modify his examples slightly where it is possible to do so without damage to his case , so as to make the distinction sharper ) : ( 19 ) visible stars vs stars visible the only navigable rivers vs the only rivers navigable a handy tool vs are your tools handy ? guilty people vs people guilty as it happens , the examples which bolinger uses employ words which can make the distinction a rather...\n",
      "- 303: for example , it is suggested that : \" the rooms should be grouped in a simple manner , easy for patients and visitors to find their way around ; the whole building should be on one level and should look as far as is possible both externally and internally like a house not a hospital : there should be a clearly defined main entry/exit point for patients , staff , visitors and supplies which should have a ramped approach and in which the main door should be lockable : wc and washing compartment should be shared between pairs of...\n",
      "- 296: very briefly , peter davis , north yorkshire county council , you raised the issue of procedures looking at the er post two thousand and six scenario within the light of er a statutory greenbelt er at that time , and i would envisage that the county council and the districts , if indeed we 're all er in business at er er in in in the next century , would probably want to run a similar sort of exercise that they would be ran through the end of the eighties , and that is to sit down together ,...\n",
      "- 288: i find this very difficult to erm , to relate , to relate hard work to the women portraying in , in this , we have got the postcard of that one , erm it must of been hard work and very tedious , but i think every now and then the moment breaks away and shines through at the back , and i think people like , like gaugin erm captures those moments and then releases them on the canvass , and i hope that erm by , i hope i have been able to show you how i...\n",
      "- 282: erm with without a new settlement erm that that was indeed the the impression that erm i was left with as well , and what what we have sought to do in in the evidence that we have we have put before you is to take the nine seven , nine thousand seven hundred figure in greater york , and and er s based on the data supplied by the county council to demonstrate that that actually when one looks at outstanding commitments erm with planning permission , identified the sites er without planning permission , those those that are...\n",
      "- 282: the end of the last straw you see , so i went in the co-op and i felt really , really fed up , i said i oh i said i could cry i said because i have tried so hard i said not for lending you money i said , i 'm not meant to have any sodding luck so got a couple of bits and i really could not get me act together and on the tuesday dad 's gone in hospital with that fit , so i was thinking of him a lot and i thought i...\n",
      "- 278: that would be about sixty , sixty one as i see , and er they were the last match of the season virtually was that they gained promotion on was shrewsbury , which was at the game meadow and arthur , the player manager who was a prolific goal scorer in his day , was playing at the time and er nobody expected walsall to win but they ran out two-one winners and all down the a five that night all the pubs were full coming back with everyone celebrating , so erm , after then they had a civic...\n",
      "- 264: the thing is , if they always give you and you , your , nine times out of ten what they do is like , is either , they either put a can over there or a beer or something , they put it over the end of the , the weapon pull the trigger and that , even with a flash that can go like that , and then they show you one with the , the erm flashes right which have more powerful than the and they have actually got same again same charge as a life grenade...\n",
      "- 264: the thing is , if they always give you and you , your , nine times out of ten what they do is like , is either , they either put a can over there or a beer or something , they put it over the end of the , the weapon pull the trigger and that , even with a flash that can go like that , and then they show you one with the , the erm flashes right which have more powerful than the and they have actually got same again same charge as a life grenade...\n",
      "- 264: the thing is , if they always give you and you , your , nine times out of ten what they do is like , is either , they either put a can over there or a beer or something , they put it over the end of the , the weapon pull the trigger and that , even with a flash that can go like that , and then they show you one with the , the erm flashes right which have more powerful than the and they have actually got same again same charge as a life grenade...\n"
     ]
    }
   ],
   "source": [
    "for i, row in df.sort_values(by='sentence_length', ascending=False).head(20)[[\"sentence_length\", \"words\"]].iterrows():\n",
    "    sentence_length, words = row\n",
    "    print(f\"- {sentence_length}: {' '.join(words[:100])}...\")"
   ],
   "metadata": {
    "collapsed": false,
    "ExecuteTime": {
     "end_time": "2023-12-10T03:27:33.416552Z",
     "start_time": "2023-12-10T03:27:33.410189Z"
    }
   }
  },
  {
   "cell_type": "code",
   "execution_count": 58,
   "outputs": [
    {
     "name": "stdout",
     "output_type": "stream",
     "text": [
      "- 47: an across the board budgetary cut of 10 per cent for all state departments was proposed ; there was to be a freeze on the hiring of state employees , a large reduction in the staffing of state mental hospitals and various other cost cutting measures .\n",
      "- 12: whatever you do do not make a mess on the table ,\n",
      "- 20: one of the reasons being put forward is that they are jumping on a bandwagon which unfortunately is worldwide .\n",
      "- 20: he shouted at me so i sat under the table and waited for him to put some food down .\n",
      "- 17: his life seemed stuck in limbo with no sex and , worse still , no admiration .\n",
      "- 27: grant watched them go , chatting amiably and swapping friendly banter as they went , easing their inner tensions as they moved nearer to zero hour .\n",
      "- 13: ‘ once , ’ said burden thoughtfully , ‘ is fair enough .\n",
      "- 18: it is business as usual — and the ec 's ambitious plans for monetary union are unaffected .\n",
      "- 6: he just kicked the bucket .\n",
      "- 16: they say an ulsterman calls a spade a spade and knows the value of one .\n"
     ]
    }
   ],
   "source": [
    "for i, row in df.sample(n=10)[[\"sentence_length\", \"words\"]].iterrows():\n",
    "    sentence_length, words = row\n",
    "    print(f\"- {sentence_length}: {' '.join(words[:100])}\")\n"
   ],
   "metadata": {
    "collapsed": false,
    "ExecuteTime": {
     "end_time": "2023-12-10T03:33:31.496213Z",
     "start_time": "2023-12-10T03:33:31.489223Z"
    }
   }
  },
  {
   "cell_type": "markdown",
   "source": [
    "The longest sentences in the dataset seem to be speech transcriptions that are missing punctuation between sentences, so they are actually not single sentences, but paragraphs / collections of sentences. Therefore, these sentences can be considered mostly noise and might hurt the performance of the model. In comparison, the random sample of sentences from the dataset appears to be much closer to what one would expect. Including the longest \"sentences\" in the dataset for the purposes of training the model would increase the encoded size of each input sample substantially, since the vectorized form of each sample will be padded to the length of the maximum sentence, which would drastically increase computational load. For these reasons, we will truncate the longest sentences to 100 words, which is at the 99th percentile of sentence lengths."
   ],
   "metadata": {
    "collapsed": false
   }
  },
  {
   "cell_type": "code",
   "execution_count": 49,
   "outputs": [
    {
     "data": {
      "text/plain": "0        [O, O, O, O, O, B-IDIOM, I-IDIOM, I-IDIOM, I-I...\n1        [O, O, O, O, B-IDIOM, I-IDIOM, I-IDIOM, I-IDIO...\n2        [O, O, O, O, O, O, O, O, O, O, B-IDIOM, I-IDIO...\n3        [O, O, B-IDIOM, I-IDIOM, I-IDIOM, I-IDIOM, I-I...\n4        [O, O, O, O, O, O, O, O, O, O, O, O, O, O, B-I...\n                               ...                        \n25022    [O, O, O, O, O, O, O, O, O, O, O, O, O, O, O, ...\n25023    [O, B-IDIOM, I-IDIOM, O, O, O, O, O, O, O, O, ...\n25024                 [O, O, O, B-IDIOM, I-IDIOM, O, O, O]\n25025                             [B-IDIOM, I-IDIOM, O, O]\n25026    [B-IDIOM, I-IDIOM, O, O, O, O, O, O, O, O, O, ...\nName: tags, Length: 25027, dtype: object"
     },
     "execution_count": 49,
     "metadata": {},
     "output_type": "execute_result"
    }
   ],
   "source": [
    "df[\"tags\"]"
   ],
   "metadata": {
    "collapsed": false,
    "ExecuteTime": {
     "end_time": "2023-12-10T03:21:52.786694Z",
     "start_time": "2023-12-10T03:21:52.785374Z"
    }
   }
  },
  {
   "cell_type": "code",
   "execution_count": 59,
   "outputs": [],
   "source": [
    "df['text'] = df['words'].apply(lambda x: ' '.join(x))"
   ],
   "metadata": {
    "collapsed": false,
    "ExecuteTime": {
     "end_time": "2023-12-10T03:39:38.701489Z",
     "start_time": "2023-12-10T03:39:38.694850Z"
    }
   }
  },
  {
   "cell_type": "code",
   "execution_count": null,
   "outputs": [],
   "source": [
    "max_len = 100\n",
    "\n",
    "# Tokenize the words\n",
    "word_tokenizer = Tokenizer(lower=False)\n",
    "word_tokenizer.fit_on_texts(df['text'])\n",
    "X = word_tokenizer.texts_to_sequences(df['text'])\n",
    "X = pad_sequences(X, maxlen=max_len, padding='post')\n",
    "\n",
    "# Tokenize the tags\n",
    "tag_tokenizer = Tokenizer(lower=False)\n",
    "tag_tokenizer.fit_on_texts(df['tags'])\n",
    "y = tag_tokenizer.texts_to_sequences(df['tags'])\n",
    "y = pad_sequences(y, maxlen=max_len, padding='post')\n",
    "\n",
    "# Split into training and test sets\n",
    "X_train, X_test, y_train, y_test = train_test_split(X, y, test_size=0.2, random_state=42)\n",
    "\n",
    "# Model architecture\n",
    "input = Input(shape=(max_len,))\n",
    "model = Embedding(input_dim=len(word_tokenizer.word_index) + 1, output_dim=50, input_length=max_len)(input)\n",
    "model = Bidirectional(LSTM(units=100, return_sequences=True, recurrent_dropout=0.1))(model)\n",
    "model = TimeDistributed(Dense(50, activation=\"relu\"))(model)\n",
    "crf = CRF(len(tag_tokenizer.word_index) + 1)  # CRF layer\n",
    "out = crf(model)  # output\n",
    "\n",
    "model = ModelWithCRFLoss(Model(input, out))\n",
    "\n",
    "# Compile the model\n",
    "model.compile(optimizer=\"adam\", loss=model.loss, metrics=[model.accuracy])\n",
    "\n",
    "# Train the model\n",
    "history = model.fit(X_train, y_train, batch_size=32, epochs=5, validation_split=0.1, verbose=1)\n",
    "\n",
    "# Evaluate the model\n",
    "pred_test = model.predict(X_test)"
   ],
   "metadata": {
    "collapsed": false
   }
  }
 ],
 "metadata": {
  "kernelspec": {
   "display_name": "Python 3",
   "language": "python",
   "name": "python3"
  },
  "language_info": {
   "codemirror_mode": {
    "name": "ipython",
    "version": 2
   },
   "file_extension": ".py",
   "mimetype": "text/x-python",
   "name": "python",
   "nbconvert_exporter": "python",
   "pygments_lexer": "ipython2",
   "version": "2.7.6"
  }
 },
 "nbformat": 4,
 "nbformat_minor": 0
}
