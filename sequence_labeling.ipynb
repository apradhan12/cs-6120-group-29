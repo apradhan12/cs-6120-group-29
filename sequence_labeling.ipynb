{
 "cells": [
  {
   "cell_type": "code",
   "execution_count": 35,
   "outputs": [],
   "source": [
    "import string\n",
    "\n",
    "import tensorflow as tf\n",
    "import matplotlib.pyplot as plt\n",
    "import numpy as np\n",
    "import pandas as pd\n",
    "from keras.layers import Input, LSTM, Embedding, Dense, TimeDistributed, Bidirectional, Dropout\n",
    "from keras.models import Model\n",
    "from keras.preprocessing.sequence import pad_sequences\n",
    "from keras.preprocessing.text import Tokenizer\n",
    "from sklearn.metrics import classification_report\n",
    "from sklearn.model_selection import train_test_split\n",
    "from tf2crf import CRF, ModelWithCRFLoss\n",
    "from keras.utils import to_categorical\n",
    "\n",
    "import preprocess"
   ],
   "metadata": {
    "collapsed": false,
    "ExecuteTime": {
     "end_time": "2023-12-11T02:16:48.143419Z",
     "start_time": "2023-12-11T02:16:48.138944Z"
    }
   }
  },
  {
   "cell_type": "code",
   "execution_count": 2,
   "outputs": [
    {
     "name": "stdout",
     "output_type": "stream",
     "text": [
      "(21891, 4)\n",
      "(3136, 4)\n",
      "(25027, 4)\n"
     ]
    },
    {
     "data": {
      "text/plain": "                                                   words  \\\n0      [anyway, ,, thanks, mkm, and, keep, up, the, g...   \n1      [well, done, steffi, —, keep, up, the, good, w...   \n2      [please, use, it, as, a, reminder, to, ensure,...   \n3             [please, do, keep, up, the, good, work, .]   \n4      [we, hope, you, find, the, current, issue, sti...   \n...                                                  ...   \n25022  [this, year, marked, the, completion, and, ope...   \n25023  [a, quantum, leap, ahead, of, grace, bros, ', ...   \n25024  [anybody, see, erm, quantum, leap, last, night...   \n25025                    [quantum, leap, in, microscopy]   \n25026  [quantum, leaps, from, working, class, to, the...   \n\n                                                    tags  \\\n0      [O, O, O, O, O, B-IDIOM, I-IDIOM, I-IDIOM, I-I...   \n1      [O, O, O, O, B-IDIOM, I-IDIOM, I-IDIOM, I-IDIO...   \n2      [O, O, O, O, O, O, O, O, O, O, B-IDIOM, I-IDIO...   \n3      [O, O, B-IDIOM, I-IDIOM, I-IDIOM, I-IDIOM, I-I...   \n4      [O, O, O, O, O, O, O, O, O, O, O, O, O, O, B-I...   \n...                                                  ...   \n25022  [O, O, O, O, O, O, O, O, O, O, O, O, O, O, O, ...   \n25023  [O, B-IDIOM, I-IDIOM, O, O, O, O, O, O, O, O, ...   \n25024               [O, O, O, B-IDIOM, I-IDIOM, O, O, O]   \n25025                           [B-IDIOM, I-IDIOM, O, O]   \n25026  [B-IDIOM, I-IDIOM, O, O, O, O, O, O, O, O, O, ...   \n\n                   candidate  label  \n0      keep up the good work      1  \n1      keep up the good work      1  \n2      keep up the good work      1  \n3      keep up the good work      1  \n4      keep up the good work      1  \n...                      ...    ...  \n25022           quantum leap      1  \n25023           quantum leap      1  \n25024           quantum leap      1  \n25025           quantum leap      1  \n25026           quantum leap      1  \n\n[25027 rows x 4 columns]",
      "text/html": "<div>\n<style scoped>\n    .dataframe tbody tr th:only-of-type {\n        vertical-align: middle;\n    }\n\n    .dataframe tbody tr th {\n        vertical-align: top;\n    }\n\n    .dataframe thead th {\n        text-align: right;\n    }\n</style>\n<table border=\"1\" class=\"dataframe\">\n  <thead>\n    <tr style=\"text-align: right;\">\n      <th></th>\n      <th>words</th>\n      <th>tags</th>\n      <th>candidate</th>\n      <th>label</th>\n    </tr>\n  </thead>\n  <tbody>\n    <tr>\n      <th>0</th>\n      <td>[anyway, ,, thanks, mkm, and, keep, up, the, g...</td>\n      <td>[O, O, O, O, O, B-IDIOM, I-IDIOM, I-IDIOM, I-I...</td>\n      <td>keep up the good work</td>\n      <td>1</td>\n    </tr>\n    <tr>\n      <th>1</th>\n      <td>[well, done, steffi, —, keep, up, the, good, w...</td>\n      <td>[O, O, O, O, B-IDIOM, I-IDIOM, I-IDIOM, I-IDIO...</td>\n      <td>keep up the good work</td>\n      <td>1</td>\n    </tr>\n    <tr>\n      <th>2</th>\n      <td>[please, use, it, as, a, reminder, to, ensure,...</td>\n      <td>[O, O, O, O, O, O, O, O, O, O, B-IDIOM, I-IDIO...</td>\n      <td>keep up the good work</td>\n      <td>1</td>\n    </tr>\n    <tr>\n      <th>3</th>\n      <td>[please, do, keep, up, the, good, work, .]</td>\n      <td>[O, O, B-IDIOM, I-IDIOM, I-IDIOM, I-IDIOM, I-I...</td>\n      <td>keep up the good work</td>\n      <td>1</td>\n    </tr>\n    <tr>\n      <th>4</th>\n      <td>[we, hope, you, find, the, current, issue, sti...</td>\n      <td>[O, O, O, O, O, O, O, O, O, O, O, O, O, O, B-I...</td>\n      <td>keep up the good work</td>\n      <td>1</td>\n    </tr>\n    <tr>\n      <th>...</th>\n      <td>...</td>\n      <td>...</td>\n      <td>...</td>\n      <td>...</td>\n    </tr>\n    <tr>\n      <th>25022</th>\n      <td>[this, year, marked, the, completion, and, ope...</td>\n      <td>[O, O, O, O, O, O, O, O, O, O, O, O, O, O, O, ...</td>\n      <td>quantum leap</td>\n      <td>1</td>\n    </tr>\n    <tr>\n      <th>25023</th>\n      <td>[a, quantum, leap, ahead, of, grace, bros, ', ...</td>\n      <td>[O, B-IDIOM, I-IDIOM, O, O, O, O, O, O, O, O, ...</td>\n      <td>quantum leap</td>\n      <td>1</td>\n    </tr>\n    <tr>\n      <th>25024</th>\n      <td>[anybody, see, erm, quantum, leap, last, night...</td>\n      <td>[O, O, O, B-IDIOM, I-IDIOM, O, O, O]</td>\n      <td>quantum leap</td>\n      <td>1</td>\n    </tr>\n    <tr>\n      <th>25025</th>\n      <td>[quantum, leap, in, microscopy]</td>\n      <td>[B-IDIOM, I-IDIOM, O, O]</td>\n      <td>quantum leap</td>\n      <td>1</td>\n    </tr>\n    <tr>\n      <th>25026</th>\n      <td>[quantum, leaps, from, working, class, to, the...</td>\n      <td>[B-IDIOM, I-IDIOM, O, O, O, O, O, O, O, O, O, ...</td>\n      <td>quantum leap</td>\n      <td>1</td>\n    </tr>\n  </tbody>\n</table>\n<p>25027 rows × 4 columns</p>\n</div>"
     },
     "execution_count": 2,
     "metadata": {},
     "output_type": "execute_result"
    }
   ],
   "source": [
    "# Fetch preprocesed data\n",
    "static_df, formal_df = preprocess.fetch_preprocessed_data()\n",
    "print(static_df.shape)\n",
    "print(formal_df.shape)\n",
    "\n",
    "# Concatenate static and formal samples\n",
    "df = pd.concat([static_df, formal_df], ignore_index=True)\n",
    "print(df.shape)\n",
    "df"
   ],
   "metadata": {
    "collapsed": false,
    "ExecuteTime": {
     "end_time": "2023-12-11T01:05:05.571504Z",
     "start_time": "2023-12-11T01:05:05.384893Z"
    }
   }
  },
  {
   "cell_type": "code",
   "execution_count": 3,
   "outputs": [
    {
     "name": "stdout",
     "output_type": "stream",
     "text": [
      "Maximum sentence length: 751\n"
     ]
    }
   ],
   "source": [
    "# Find the maximum sentence length\n",
    "df['sentence_length'] = df['words'].apply(len)\n",
    "max_sentence_length = df['sentence_length'].max()\n",
    "print(\"Maximum sentence length:\", max_sentence_length)"
   ],
   "metadata": {
    "collapsed": false,
    "ExecuteTime": {
     "end_time": "2023-12-11T01:05:08.602300Z",
     "start_time": "2023-12-11T01:05:08.587680Z"
    }
   }
  },
  {
   "cell_type": "code",
   "execution_count": 4,
   "outputs": [
    {
     "name": "stdout",
     "output_type": "stream",
     "text": [
      "1\n",
      "yeah , well let me just read you two or three verses from exodus , chapter forty , this is what it says then the cloud covered the tent of meeting and the glory of the lord filled the tabernacle and moses was not able to enter the tent of meeting because the cloud had settled on it and the glory of the lord filled the tabernacle and throughout all their journeys whenever the cloud was taken up from over the tabernacle the sons of israel would set out , but if the cloud was not taken up then they did not set out until the day that it was taken up , for throughout all their journeys the cloud of the lord was on the tabernacle by day and there was fire in it by night , in the sight of all the house in israel and if you were to turn over to kings you have got a , you have got a similar thing there with the dedication of the temple and as be ben was saying the power really it 's the it 's the presence of god , the shine , the glory , that cloud of , and so what , what , what catches the lord jesus up is really the glory of god here he is , the , the riseness , the glorified christ being called up into heaven in the , in the glory , what he 's been glorified , so he withdraws his physical , physical presence from one place here on earth to present there on the throne and yet by the holy spirit to be every where now jesus then , he did not cease to be truly man at either his resurrection or at his ascension , he stays man , god , the god man all the way through and it 's still true today he is the god man today and that 's important for you and me , think of the very worse experience that you have ever had in your life , think of the very worse experience that could happen to you , with the exception of you know that of , of say total failure of some awful sin , the worse thing , maybe a loss of someone dear to you , someone very close to you , er , er , a bereavement , the most awful experience you have had well he has gone through , he has known that experience , he has , has tempted in all points like as we are he knows our frame , he remembers were dust and he has been there and it is a man who has experienced those same experiences that you and i experience day by day , year after year , it is a man who has gone that , who has walked that path , who is in heaven interceding and praying for us , we will stop there cos time has gone erm we will stop there , we will not go on otherwise i will get into trouble during this past month some of the questions in the new testament , the first one we looked at you remember was that question that jesus asked of his disciples , do you believe that i am able to do this , then we looked at a question which the disciples asked of jesus , why could we not cast it out last week we looked at another question , are only a few people going to be saved and this morning i 'd like us it 's the final one of these questions not that there are not other questions in the new testament and scores , scores of others but were just looking at four er throughout this month , i 'd like us to look this morning for one at , for a few minutes , at one that jesus asked of a man who confronted him , i 'd like to read a few verses from luke chapter eighteen , luke chapter eighteen i 'm going to read from verse thirty five , it 's the well known account of blind bartimaeus , luke chapter eighteen and verse thirty five and he came about that as jesus was approaching jericho a certain blind man was sitting by the road begging , now hearing a multitude going by he began to inquire\n"
     ]
    }
   ],
   "source": [
    "# Print the longest sentence\n",
    "longest_sentences = df[df['sentence_length'] == max_sentence_length]['words']\n",
    "print(len(longest_sentences))  # Verify that there's exactly one longest sentence\n",
    "print(\" \".join(longest_sentences.iloc[0]))"
   ],
   "metadata": {
    "collapsed": false,
    "ExecuteTime": {
     "end_time": "2023-12-11T01:05:09.182718Z",
     "start_time": "2023-12-11T01:05:09.156732Z"
    }
   }
  },
  {
   "cell_type": "code",
   "execution_count": 34,
   "outputs": [
    {
     "data": {
      "text/plain": "Text(0.5, 1.0, 'Sentence Lengths')"
     },
     "execution_count": 34,
     "metadata": {},
     "output_type": "execute_result"
    },
    {
     "data": {
      "text/plain": "<Figure size 640x480 with 1 Axes>",
      "image/png": "[encoded data removed]"
     },
     "metadata": {},
     "output_type": "display_data"
    }
   ],
   "source": [
    "# Draw a histogram of sentence lengths, using log scale for the y-axis to better capture the outliers\n",
    "binwidth = 20\n",
    "plt.hist(df['sentence_length'], bins=np.arange(0, df['sentence_length'].max() + binwidth, binwidth))\n",
    "plt.yscale(\"log\")\n",
    "plt.xlabel(\"Sentence Length (Number of Words)\")\n",
    "plt.ylabel(\"Frequency\")\n",
    "plt.title(\"Sentence Lengths\")"
   ],
   "metadata": {
    "collapsed": false,
    "ExecuteTime": {
     "end_time": "2023-12-11T01:52:30.565717Z",
     "start_time": "2023-12-11T01:52:30.384677Z"
    }
   }
  },
  {
   "cell_type": "code",
   "execution_count": 6,
   "outputs": [
    {
     "name": "stdout",
     "output_type": "stream",
     "text": [
      "50.0\n",
      "61.0\n",
      "79.0\n",
      "99.0\n"
     ]
    }
   ],
   "source": [
    "# Print sentence lengths at various percentiles\n",
    "print(np.percentile(df['sentence_length'], 90))\n",
    "print(np.percentile(df['sentence_length'], 95))\n",
    "print(np.percentile(df['sentence_length'], 98))\n",
    "print(np.percentile(df['sentence_length'], 99))"
   ],
   "metadata": {
    "collapsed": false,
    "ExecuteTime": {
     "end_time": "2023-12-11T01:05:11.597611Z",
     "start_time": "2023-12-11T01:05:11.578340Z"
    }
   }
  },
  {
   "cell_type": "code",
   "execution_count": 7,
   "outputs": [
    {
     "data": {
      "text/plain": "       sentence_length                                              words\n14552              751  [yeah, ,, well, let, me, just, read, you, two,...\n18205              710  [the, letter, from, the, plaintiffs, solicitor...\n1818               641  [you, make, your, sound, and, you, carry, on, ...\n1773               641  [you, make, your, sound, and, you, carry, on, ...\n23280              468  [a, word, gets, around, the, famine, is, over,...\n20733              468  [nao, naomi, realizes, there, 's, no, point, t...\n13059              468  [nao, naomi, realizes, there, 's, no, point, t...\n13010              422  [if, that, power, was, sufficient, ,, the, hol...\n5187               410  [well, my, pal, and, myself, we, took, these, ...\n15795              375  [she, said, it, was, br, it, was, ,, i, did, n...\n12983              315  [he, exhibits, a, number, of, adjectives, whic...\n19765              303  [for, example, ,, it, is, suggested, that, :, ...\n17434              296  [very, briefly, ,, peter, davis, ,, north, yor...\n15902              288  [i, find, this, very, difficult, to, erm, ,, t...\n9783               282  [erm, with, without, a, new, settlement, erm, ...\n20831              282  [the, end, of, the, last, straw, you, see, ,, ...\n13311              278  [that, would, be, about, sixty, ,, sixty, one,...\n654                264  [the, thing, is, ,, if, they, always, give, yo...\n5222               264  [the, thing, is, ,, if, they, always, give, yo...\n19552              264  [the, thing, is, ,, if, they, always, give, yo...",
      "text/html": "<div>\n<style scoped>\n    .dataframe tbody tr th:only-of-type {\n        vertical-align: middle;\n    }\n\n    .dataframe tbody tr th {\n        vertical-align: top;\n    }\n\n    .dataframe thead th {\n        text-align: right;\n    }\n</style>\n<table border=\"1\" class=\"dataframe\">\n  <thead>\n    <tr style=\"text-align: right;\">\n      <th></th>\n      <th>sentence_length</th>\n      <th>words</th>\n    </tr>\n  </thead>\n  <tbody>\n    <tr>\n      <th>14552</th>\n      <td>751</td>\n      <td>[yeah, ,, well, let, me, just, read, you, two,...</td>\n    </tr>\n    <tr>\n      <th>18205</th>\n      <td>710</td>\n      <td>[the, letter, from, the, plaintiffs, solicitor...</td>\n    </tr>\n    <tr>\n      <th>1818</th>\n      <td>641</td>\n      <td>[you, make, your, sound, and, you, carry, on, ...</td>\n    </tr>\n    <tr>\n      <th>1773</th>\n      <td>641</td>\n      <td>[you, make, your, sound, and, you, carry, on, ...</td>\n    </tr>\n    <tr>\n      <th>23280</th>\n      <td>468</td>\n      <td>[a, word, gets, around, the, famine, is, over,...</td>\n    </tr>\n    <tr>\n      <th>20733</th>\n      <td>468</td>\n      <td>[nao, naomi, realizes, there, 's, no, point, t...</td>\n    </tr>\n    <tr>\n      <th>13059</th>\n      <td>468</td>\n      <td>[nao, naomi, realizes, there, 's, no, point, t...</td>\n    </tr>\n    <tr>\n      <th>13010</th>\n      <td>422</td>\n      <td>[if, that, power, was, sufficient, ,, the, hol...</td>\n    </tr>\n    <tr>\n      <th>5187</th>\n      <td>410</td>\n      <td>[well, my, pal, and, myself, we, took, these, ...</td>\n    </tr>\n    <tr>\n      <th>15795</th>\n      <td>375</td>\n      <td>[she, said, it, was, br, it, was, ,, i, did, n...</td>\n    </tr>\n    <tr>\n      <th>12983</th>\n      <td>315</td>\n      <td>[he, exhibits, a, number, of, adjectives, whic...</td>\n    </tr>\n    <tr>\n      <th>19765</th>\n      <td>303</td>\n      <td>[for, example, ,, it, is, suggested, that, :, ...</td>\n    </tr>\n    <tr>\n      <th>17434</th>\n      <td>296</td>\n      <td>[very, briefly, ,, peter, davis, ,, north, yor...</td>\n    </tr>\n    <tr>\n      <th>15902</th>\n      <td>288</td>\n      <td>[i, find, this, very, difficult, to, erm, ,, t...</td>\n    </tr>\n    <tr>\n      <th>9783</th>\n      <td>282</td>\n      <td>[erm, with, without, a, new, settlement, erm, ...</td>\n    </tr>\n    <tr>\n      <th>20831</th>\n      <td>282</td>\n      <td>[the, end, of, the, last, straw, you, see, ,, ...</td>\n    </tr>\n    <tr>\n      <th>13311</th>\n      <td>278</td>\n      <td>[that, would, be, about, sixty, ,, sixty, one,...</td>\n    </tr>\n    <tr>\n      <th>654</th>\n      <td>264</td>\n      <td>[the, thing, is, ,, if, they, always, give, yo...</td>\n    </tr>\n    <tr>\n      <th>5222</th>\n      <td>264</td>\n      <td>[the, thing, is, ,, if, they, always, give, yo...</td>\n    </tr>\n    <tr>\n      <th>19552</th>\n      <td>264</td>\n      <td>[the, thing, is, ,, if, they, always, give, yo...</td>\n    </tr>\n  </tbody>\n</table>\n</div>"
     },
     "execution_count": 7,
     "metadata": {},
     "output_type": "execute_result"
    }
   ],
   "source": [
    "# Print the top 20 longest sentences\n",
    "df.sort_values(by='sentence_length', ascending=False).head(20)[[\"sentence_length\", \"words\"]]"
   ],
   "metadata": {
    "collapsed": false,
    "ExecuteTime": {
     "end_time": "2023-12-11T01:05:14.033103Z",
     "start_time": "2023-12-11T01:05:14.008321Z"
    }
   }
  },
  {
   "cell_type": "code",
   "execution_count": 8,
   "outputs": [
    {
     "name": "stdout",
     "output_type": "stream",
     "text": [
      "- 751: yeah , well let me just read you two or three verses from exodus , chapter forty , this is what it says then the cloud covered the tent of meeting and the glory of the lord filled the tabernacle and moses was not able to enter the tent of meeting because the cloud had settled on it and the glory of the lord filled the tabernacle and throughout all their journeys whenever the cloud was taken up from over the tabernacle the sons of israel would set out , but if the cloud was not taken up then they...\n",
      "- 710: the letter from the plaintiffs solicitors in respect of question of interest one causes , the letter of the twenty ninth of january of nineteen ninety two , asking mr to confirm , that in addition to the settlement figure of forty two thousand pounds in respect of costs he 'd be paying interest until the date of payment , and er , there was never a mind that erm which find a reply to in , in thirtieth of march nineteen ninety two by mr , there 's no unqualified agreement in figure of forty two thousand pounds ,...\n",
      "- 641: you make your sound and you carry on and on and on , i 'm going to keep on taping different people 's make their sound and then we 're going to see what it feels like you 're in hospital , okay , now it does not matter if somebody 's got the same sound as somebody else , it 's no big deal , alright , because eventually they will all blend into each other , but as soon as i have tapped you , make your sound , alright patients , come on where 's the machines...\n",
      "- 641: you make your sound and you carry on and on and on , i 'm going to keep on taping different people 's make their sound and then we 're going to see what it feels like you 're in hospital , okay , now it does not matter if somebody 's got the same sound as somebody else , it 's no big deal , alright , because eventually they will all blend into each other , but as soon as i have tapped you , make your sound , alright patients , come on where 's the machines...\n",
      "- 468: a word gets around the famine is over and after the tragic experience of loosing her family , her three men in her life , her husband and her sons , nobody starts to consider the situation again , she 's alone now in a foreign , a strange land , surely the only sensible thing for her to do would be to return to her own people in bethlehem , they say news comes through that they have been a succession of good harvest , well of course there was going to be good harvest , god had not...\n",
      "- 468: nao naomi realizes there 's no point talking about it now , the dye has been cast the decision has been made , the commitment has been entered into , whatever the cost she was going gods way , there was nothing more to be said about it we find that a de a decision made before god and we all make those decisions , means nothing at all unless were determined to carry it through , whatever the cost may be , three women here make their decisions before god , they make their choices , naomi she chooses...\n",
      "- 468: nao naomi realizes there 's no point talking about it now , the dye has been cast the decision has been made , the commitment has been entered into , whatever the cost she was going gods way , there was nothing more to be said about it we find that a de a decision made before god and we all make those decisions , means nothing at all unless were determined to carry it through , whatever the cost may be , three women here make their decisions before god , they make their choices , naomi she chooses...\n",
      "- 422: if that power was sufficient , the holy spirit , if that power was sufficient to raise christ from the dead , you not think he 's able to exert that power in your life and in my life to make us live lives that are pleasing to god , of course it is so we do not do it ourselves , just let me in closing mention one other thing , this relationship we have needs to be maintained , you know for any relationship to grow , one needs to spend time with the other person , i...\n",
      "- 410: well my pal and myself we took these two girls and we sat in the middle of the temperance hall and he said come on let's sit over on the balcony he says and put up my clothes by the radiator he says it 's been raining he says and it will dry them , so we moved , and exactly from were we moved was where the women got killed , just candelabra dropped on her and er when it happened the fella on the stage the comedian was singing , a hundred years from now you will not...\n",
      "- 375: she said it was br it was , i did not think it was but it wa it was really good fun and also i was going out with carl at the time and so , you know , in our big like little group big little group , our big group , that was a bit of a erm contradiction , erm in our big group and erm we knew masses of people and there were lots of there and there were lots of felixstowe people there and it was just a really good laugh and erm right said...\n",
      "- 315: he exhibits a number of adjectives which differ in precisely the way required while maintaining the same or essentially the same lexical value ( we modify his examples slightly where it is possible to do so without damage to his case , so as to make the distinction sharper ) : ( 19 ) visible stars vs stars visible the only navigable rivers vs the only rivers navigable a handy tool vs are your tools handy ? guilty people vs people guilty as it happens , the examples which bolinger uses employ words which can make the distinction a rather...\n",
      "- 303: for example , it is suggested that : \" the rooms should be grouped in a simple manner , easy for patients and visitors to find their way around ; the whole building should be on one level and should look as far as is possible both externally and internally like a house not a hospital : there should be a clearly defined main entry/exit point for patients , staff , visitors and supplies which should have a ramped approach and in which the main door should be lockable : wc and washing compartment should be shared between pairs of...\n",
      "- 296: very briefly , peter davis , north yorkshire county council , you raised the issue of procedures looking at the er post two thousand and six scenario within the light of er a statutory greenbelt er at that time , and i would envisage that the county council and the districts , if indeed we 're all er in business at er er in in in the next century , would probably want to run a similar sort of exercise that they would be ran through the end of the eighties , and that is to sit down together ,...\n",
      "- 288: i find this very difficult to erm , to relate , to relate hard work to the women portraying in , in this , we have got the postcard of that one , erm it must of been hard work and very tedious , but i think every now and then the moment breaks away and shines through at the back , and i think people like , like gaugin erm captures those moments and then releases them on the canvass , and i hope that erm by , i hope i have been able to show you how i...\n",
      "- 282: erm with without a new settlement erm that that was indeed the the impression that erm i was left with as well , and what what we have sought to do in in the evidence that we have we have put before you is to take the nine seven , nine thousand seven hundred figure in greater york , and and er s based on the data supplied by the county council to demonstrate that that actually when one looks at outstanding commitments erm with planning permission , identified the sites er without planning permission , those those that are...\n",
      "- 282: the end of the last straw you see , so i went in the co-op and i felt really , really fed up , i said i oh i said i could cry i said because i have tried so hard i said not for lending you money i said , i 'm not meant to have any sodding luck so got a couple of bits and i really could not get me act together and on the tuesday dad 's gone in hospital with that fit , so i was thinking of him a lot and i thought i...\n",
      "- 278: that would be about sixty , sixty one as i see , and er they were the last match of the season virtually was that they gained promotion on was shrewsbury , which was at the game meadow and arthur , the player manager who was a prolific goal scorer in his day , was playing at the time and er nobody expected walsall to win but they ran out two-one winners and all down the a five that night all the pubs were full coming back with everyone celebrating , so erm , after then they had a civic...\n",
      "- 264: the thing is , if they always give you and you , your , nine times out of ten what they do is like , is either , they either put a can over there or a beer or something , they put it over the end of the , the weapon pull the trigger and that , even with a flash that can go like that , and then they show you one with the , the erm flashes right which have more powerful than the and they have actually got same again same charge as a life grenade...\n",
      "- 264: the thing is , if they always give you and you , your , nine times out of ten what they do is like , is either , they either put a can over there or a beer or something , they put it over the end of the , the weapon pull the trigger and that , even with a flash that can go like that , and then they show you one with the , the erm flashes right which have more powerful than the and they have actually got same again same charge as a life grenade...\n",
      "- 264: the thing is , if they always give you and you , your , nine times out of ten what they do is like , is either , they either put a can over there or a beer or something , they put it over the end of the , the weapon pull the trigger and that , even with a flash that can go like that , and then they show you one with the , the erm flashes right which have more powerful than the and they have actually got same again same charge as a life grenade...\n"
     ]
    }
   ],
   "source": [
    "# Print the first 100 words of the top 20 longest sentences to get a sense of their contents\n",
    "for i, row in df.sort_values(by='sentence_length', ascending=False).head(20)[[\"sentence_length\", \"words\"]].iterrows():\n",
    "    sentence_length, words = row\n",
    "    print(f\"- {sentence_length}: {' '.join(words[:100])}...\")"
   ],
   "metadata": {
    "collapsed": false,
    "ExecuteTime": {
     "end_time": "2023-12-11T01:05:14.598784Z",
     "start_time": "2023-12-11T01:05:14.580171Z"
    }
   }
  },
  {
   "cell_type": "code",
   "execution_count": 9,
   "outputs": [
    {
     "name": "stdout",
     "output_type": "stream",
     "text": [
      "- 29: in the end i lost interest in my job , and the work at hand , and fell down on my efficiency and aptitude as a skilled man .\n",
      "- 24: for the first time there were reports of german units refusing to ‘ go over the top ’ , or surrendering too easily .\n",
      "- 50: the idea that anything can last for ever is nonsense , and if that 's what happens with kiss , then fair enough ; if it does not mean anything more to anyone than the time the band was functioning then that 's also perfectly fine with me . ’\n",
      "- 51: and many of my staff in s in not just but one or two others , see this as the tail wagging the dog if you like where somebody says , you will do so and so , or you know , i 'm telling you you will do this .\n",
      "- 24: if a coincidence of this magnitude happened to me , i should call it a miracle and would watch my language in future .\n",
      "- 34: mr toshiki kaifu , japan 's prime minister , may still be a little wet behind the ears but , not for the first time , he has confounded his more experienced rivals .\n",
      "- 61: mr murphy , who works for the housing department as a caretaker for a group of flats in coatbridge and is a shop steward for the national union of public employees , said at the time that he could ‘ name names ’ and that elected members had told him that they had been put under pressure when short-leeting jobs .\n",
      "- 52: on dec. 12 the far eastern economic review reported that the government was under pressure from religious parties to eliminate bank interest ( prohibited under islamic law ) after a federal islamic court on nov. 14 ordered 22 economic laws to be brought in line with islamic injunctions by june 1992 .\n",
      "- 119: and yes you ask and open probe , but follow up with secondary and tertiary open probes , what they mean if you broke your back and could not pay the bills , how would you suffer , what would , what would be the problems if , god forbid , you did die last night , what would you want your family to have how much do you want them to have , when do you want them to have it what would they go without if they did not have it okay so they start building mental pictures\n",
      "- 25: yeah , dean dean 's good looking but , andrew 's got eyebrows all the way across here , christian 's about that high .\n"
     ]
    }
   ],
   "source": [
    "# Print a random sample of 10 sentences for comparison\n",
    "for i, row in df.sample(n=10)[[\"sentence_length\", \"words\"]].iterrows():\n",
    "    sentence_length, words = row\n",
    "    print(f\"- {sentence_length}: {' '.join(words[:100])}\")"
   ],
   "metadata": {
    "collapsed": false,
    "ExecuteTime": {
     "end_time": "2023-12-11T01:05:15.124954Z",
     "start_time": "2023-12-11T01:05:15.106801Z"
    }
   }
  },
  {
   "cell_type": "markdown",
   "source": [
    "\n",
    "The longest sentences in the dataset seem to be speech transcriptions that are missing punctuation between sentences, so they are actually not single sentences, but paragraphs / collections of sentences. Therefore, these sentences can be considered mostly noise and might hurt the performance of the model. In comparison, the random sample of sentences from the dataset appears to be much closer to what one would expect. Including the longest \"sentences\" in the dataset for the purposes of training the model would increase the encoded size of each input sample substantially, since the vectorized form of each sample will be padded to the length of the maximum sentence, which would drastically increase computational load. For these reasons, we will truncate the longest sentences to 100 words, which is at the 99th percentile of sentence lengths."
   ],
   "metadata": {
    "collapsed": false
   }
  },
  {
   "cell_type": "code",
   "execution_count": 10,
   "outputs": [
    {
     "data": {
      "text/plain": "0        [O, O, O, O, O, I-IDIOM, I-IDIOM, I-IDIOM, I-I...\n1        [O, O, O, O, I-IDIOM, I-IDIOM, I-IDIOM, I-IDIO...\n2        [O, O, O, O, O, O, O, O, O, O, I-IDIOM, I-IDIO...\n3        [O, O, I-IDIOM, I-IDIOM, I-IDIOM, I-IDIOM, I-I...\n4        [O, O, O, O, O, O, O, O, O, O, O, O, O, O, I-I...\n                               ...                        \n25022    [O, O, O, O, O, O, O, O, O, O, O, O, O, O, O, ...\n25023    [O, I-IDIOM, I-IDIOM, O, O, O, O, O, O, O, O, ...\n25024                 [O, O, O, I-IDIOM, I-IDIOM, O, O, O]\n25025                             [I-IDIOM, I-IDIOM, O, O]\n25026    [I-IDIOM, I-IDIOM, O, O, O, O, O, O, O, O, O, ...\nName: tags, Length: 25027, dtype: object"
     },
     "execution_count": 10,
     "metadata": {},
     "output_type": "execute_result"
    }
   ],
   "source": [
    "# We replace 'B-IDIOM' with 'I-IDIOM' in each sequence to simplify the input to the model.\n",
    "# This way, the model does not have to learn that 'B-IDIOM' always comes at the beginning\n",
    "# of an idiom, and we don't lose any information.\n",
    "tags = df[\"tags\"].apply(lambda row: ['I-IDIOM' if elt == 'B-IDIOM' else elt for elt in row])\n",
    "tags"
   ],
   "metadata": {
    "collapsed": false,
    "ExecuteTime": {
     "end_time": "2023-12-11T01:05:19.723420Z",
     "start_time": "2023-12-11T01:05:19.707803Z"
    }
   }
  },
  {
   "cell_type": "code",
   "execution_count": 11,
   "outputs": [],
   "source": [
    "df['text'] = df['words'].apply(lambda x: ' '.join(x))"
   ],
   "metadata": {
    "collapsed": false,
    "ExecuteTime": {
     "end_time": "2023-12-11T01:05:20.378875Z",
     "start_time": "2023-12-11T01:05:20.363584Z"
    }
   }
  },
  {
   "cell_type": "code",
   "execution_count": 12,
   "outputs": [],
   "source": [
    "# Maximum sentence length (longer ones will be truncated)\n",
    "max_len = 100\n",
    "\n",
    "# Split into training and test sets\n",
    "X_train, X_test, y_train, y_test = train_test_split(df[\"text\"], tags, test_size=0.2, random_state=42)"
   ],
   "metadata": {
    "collapsed": false,
    "ExecuteTime": {
     "end_time": "2023-12-11T01:05:21.136986Z",
     "start_time": "2023-12-11T01:05:21.120964Z"
    }
   }
  },
  {
   "cell_type": "code",
   "execution_count": 13,
   "outputs": [],
   "source": [
    "def tokenize_and_pad(df, tokenizer):\n",
    "    \"\"\"Tokenize the rows of the dataframe using the given tokenizer and pad them to max_len.\"\"\"\n",
    "    return pad_sequences(tokenizer.texts_to_sequences(df), maxlen=max_len, padding='post', truncating='post')\n",
    "\n",
    "# Tokenize the words\n",
    "word_tokenizer = Tokenizer(lower=False)\n",
    "word_tokenizer.fit_on_texts(X_train)\n",
    "X_train_tokens = tokenize_and_pad(X_train, word_tokenizer)\n",
    "X_test_tokens = tokenize_and_pad(X_test, word_tokenizer)\n",
    "\n",
    "# Tokenize the tags\n",
    "tag_tokenizer = Tokenizer(lower=False)\n",
    "tag_tokenizer.fit_on_texts(y_train)\n",
    "y_train_tokens = tokenize_and_pad(y_train, tag_tokenizer)\n",
    "y_test_tokens = tokenize_and_pad(y_test, tag_tokenizer)"
   ],
   "metadata": {
    "collapsed": false,
    "ExecuteTime": {
     "end_time": "2023-12-11T01:05:22.901816Z",
     "start_time": "2023-12-11T01:05:22.201362Z"
    }
   }
  },
  {
   "cell_type": "code",
   "execution_count": 14,
   "outputs": [
    {
     "data": {
      "text/plain": "array([[19616,   230,     5, ...,     0,     0,     0],\n       [    8,    14,    90, ...,     0,     0,     0],\n       [   46,    22,    20, ...,     0,     0,     0],\n       ...,\n       [   55,    27,    38, ...,     0,     0,     0],\n       [  191,    74,   122, ...,     0,     0,     0],\n       [    1,   199,     2, ...,     0,     0,     0]], dtype=int32)"
     },
     "execution_count": 14,
     "metadata": {},
     "output_type": "execute_result"
    }
   ],
   "source": [
    "X_test_tokens"
   ],
   "metadata": {
    "collapsed": false,
    "ExecuteTime": {
     "end_time": "2023-12-11T01:05:23.994194Z",
     "start_time": "2023-12-11T01:05:23.974902Z"
    }
   }
  },
  {
   "cell_type": "code",
   "execution_count": 115,
   "outputs": [
    {
     "data": {
      "text/plain": "31754"
     },
     "execution_count": 115,
     "metadata": {},
     "output_type": "execute_result"
    }
   ],
   "source": [
    "len(word_tokenizer.word_index)"
   ],
   "metadata": {
    "collapsed": false,
    "ExecuteTime": {
     "end_time": "2023-12-10T20:34:49.978029Z",
     "start_time": "2023-12-10T20:34:49.972119Z"
    }
   }
  },
  {
   "cell_type": "code",
   "execution_count": 116,
   "outputs": [],
   "source": [
    "# Model architecture\n",
    "input_tensor = Input(shape=(max_len,))\n",
    "model = Embedding(input_dim=len(word_tokenizer.word_index) + 1, output_dim=50, input_length=max_len)(input_tensor)\n",
    "model = Bidirectional(LSTM(units=100, return_sequences=True, recurrent_dropout=0.1))(model)\n",
    "model = TimeDistributed(Dense(50, activation=\"relu\"))(model)\n",
    "crf = CRF(len(tag_tokenizer.word_index) + 1)  # CRF layer\n",
    "out = crf(model)  # output\n",
    "\n",
    "model = ModelWithCRFLoss(Model(input_tensor, out))\n",
    "\n",
    "# Compile the model\n",
    "model.compile(optimizer=\"adam\")"
   ],
   "metadata": {
    "collapsed": false,
    "ExecuteTime": {
     "end_time": "2023-12-10T20:34:55.470182Z",
     "start_time": "2023-12-10T20:34:54.778882Z"
    }
   }
  },
  {
   "cell_type": "code",
   "execution_count": 118,
   "outputs": [
    {
     "name": "stdout",
     "output_type": "stream",
     "text": [
      "Epoch 1/5\n",
      "564/564 [==============================] - 106s 183ms/step - loss: 18.0768 - accuracy: 0.9408 - val_loss_val: 8.9804 - val_val_accuracy: 0.9664\n",
      "Epoch 2/5\n",
      "564/564 [==============================] - 109s 193ms/step - loss: 7.2805 - accuracy: 0.9717 - val_loss_val: 6.8699 - val_val_accuracy: 0.9722\n",
      "Epoch 3/5\n",
      "564/564 [==============================] - 110s 195ms/step - loss: 5.1705 - accuracy: 0.9785 - val_loss_val: 7.1192 - val_val_accuracy: 0.9734\n",
      "Epoch 4/5\n",
      "564/564 [==============================] - 111s 197ms/step - loss: 4.1156 - accuracy: 0.9825 - val_loss_val: 6.6316 - val_val_accuracy: 0.9743\n",
      "Epoch 5/5\n",
      "564/564 [==============================] - 109s 193ms/step - loss: 3.4449 - accuracy: 0.9853 - val_loss_val: 7.6037 - val_val_accuracy: 0.9735\n"
     ]
    }
   ],
   "source": [
    "# Train the model\n",
    "history = model.fit(X_train_tokens, y_train_tokens, batch_size=32, epochs=5, validation_split=0.1, verbose=1)"
   ],
   "metadata": {
    "collapsed": false,
    "ExecuteTime": {
     "end_time": "2023-12-10T20:44:19.836508Z",
     "start_time": "2023-12-10T20:35:15.580636Z"
    }
   }
  },
  {
   "cell_type": "code",
   "execution_count": 119,
   "outputs": [
    {
     "name": "stdout",
     "output_type": "stream",
     "text": [
      "157/157 [==============================] - 7s 44ms/step\n"
     ]
    }
   ],
   "source": [
    "# Evaluate the model\n",
    "y_pred_tokens = model.predict(X_test_tokens)"
   ],
   "metadata": {
    "collapsed": false,
    "ExecuteTime": {
     "end_time": "2023-12-10T20:51:53.042134Z",
     "start_time": "2023-12-10T20:51:45.951818Z"
    }
   }
  },
  {
   "cell_type": "code",
   "execution_count": 121,
   "outputs": [
    {
     "data": {
      "text/plain": "array([[1, 1, 1, ..., 0, 0, 0],\n       [1, 1, 1, ..., 0, 0, 0],\n       [1, 1, 1, ..., 0, 0, 0],\n       ...,\n       [1, 1, 1, ..., 0, 0, 0],\n       [1, 1, 1, ..., 0, 0, 0],\n       [1, 2, 2, ..., 0, 0, 0]], dtype=int32)"
     },
     "execution_count": 121,
     "metadata": {},
     "output_type": "execute_result"
    }
   ],
   "source": [
    "y_test_tokens"
   ],
   "metadata": {
    "collapsed": false,
    "ExecuteTime": {
     "end_time": "2023-12-10T20:51:58.110014Z",
     "start_time": "2023-12-10T20:51:58.100297Z"
    }
   }
  },
  {
   "cell_type": "code",
   "execution_count": 122,
   "outputs": [
    {
     "data": {
      "text/plain": "array([[1, 1, 1, ..., 0, 0, 0],\n       [1, 1, 1, ..., 0, 0, 0],\n       [1, 1, 1, ..., 0, 0, 0],\n       ...,\n       [1, 1, 1, ..., 0, 0, 0],\n       [1, 1, 1, ..., 0, 0, 0],\n       [1, 2, 2, ..., 0, 0, 0]], dtype=int32)"
     },
     "execution_count": 122,
     "metadata": {},
     "output_type": "execute_result"
    }
   ],
   "source": [
    "y_pred_tokens"
   ],
   "metadata": {
    "collapsed": false,
    "ExecuteTime": {
     "end_time": "2023-12-10T20:51:59.895149Z",
     "start_time": "2023-12-10T20:51:59.865957Z"
    }
   }
  },
  {
   "cell_type": "code",
   "execution_count": 123,
   "outputs": [
    {
     "data": {
      "text/plain": "{'O': 1, 'I-IDIOM': 2}"
     },
     "execution_count": 123,
     "metadata": {},
     "output_type": "execute_result"
    }
   ],
   "source": [
    "tag_tokenizer.word_index"
   ],
   "metadata": {
    "collapsed": false,
    "ExecuteTime": {
     "end_time": "2023-12-10T20:52:01.567498Z",
     "start_time": "2023-12-10T20:52:01.556396Z"
    }
   }
  },
  {
   "cell_type": "code",
   "execution_count": 124,
   "outputs": [
    {
     "name": "stdout",
     "output_type": "stream",
     "text": [
      "Number of sequences that are not valid according to the rules: 3\n"
     ]
    }
   ],
   "source": [
    "# We verify if all the sequences are valid according to the syntactical rules of the tagging\n",
    "def verify_sequences(sequences_df):\n",
    "    violations = []\n",
    "    for i, sequence in enumerate(sequences_df):\n",
    "        for j in range(len(sequence)):\n",
    "            current_token = sequence[j]\n",
    "            previous_token = sequence[j-1] if j > 0 else None\n",
    "\n",
    "            # Only '0' can occur after '0'.\n",
    "            if current_token != 0 and previous_token == 0:\n",
    "                violations.append((i, j, \"0\"))\n",
    "                continue\n",
    "\n",
    "             # '0' cannot occur at the beginning.\n",
    "            if current_token == 0 and previous_token is None:\n",
    "                violations.append((i, j, \"0\"))\n",
    "                continue\n",
    "\n",
    "    return violations\n",
    "\n",
    "violations = verify_sequences(y_pred_tokens)\n",
    "print(\"Number of sequences that are not valid according to the rules:\", len(violations))"
   ],
   "metadata": {
    "collapsed": false,
    "ExecuteTime": {
     "end_time": "2023-12-10T20:52:04.460162Z",
     "start_time": "2023-12-10T20:52:03.559101Z"
    }
   }
  },
  {
   "cell_type": "code",
   "execution_count": 125,
   "outputs": [
    {
     "data": {
      "text/plain": "[(1129, 41, '0'), (1396, 41, '0'), (1409, 36, '0')]"
     },
     "execution_count": 125,
     "metadata": {},
     "output_type": "execute_result"
    }
   ],
   "source": [
    "violations"
   ],
   "metadata": {
    "collapsed": false,
    "ExecuteTime": {
     "end_time": "2023-12-10T20:52:05.553192Z",
     "start_time": "2023-12-10T20:52:05.525126Z"
    }
   }
  },
  {
   "cell_type": "markdown",
   "source": [
    "There are a few instances (3, to be precise) where the model violated the syntactic structure of the tags, placing a '0', which represents padding at the end of a sentence, in the middle of a sentence. This is important to keep in mind as we iterate on the model design, but it shouldn't affect the evaluation for now."
   ],
   "metadata": {
    "collapsed": false
   }
  },
  {
   "cell_type": "code",
   "execution_count": 126,
   "outputs": [
    {
     "data": {
      "text/plain": "array([1, 1, 1, 1, 1, 1, 1, 1, 1, 1, 1, 1, 1, 1, 1, 1, 1, 1, 1, 1, 1, 1,\n       2, 1, 1, 1, 1, 1, 1, 1, 1, 1, 1, 1, 1, 1, 1, 1, 1, 1, 0, 1, 1, 1,\n       1, 1, 1, 1, 1, 1, 0, 0, 0, 0, 0, 0, 0, 0, 0, 0, 0, 0, 0, 0, 0, 0,\n       0, 0, 0, 0, 0, 0, 0, 0, 0, 0, 0, 0, 0, 0, 0, 0, 0, 0, 0, 0, 0, 0,\n       0, 0, 0, 0, 0, 0, 0, 0, 0, 0, 0, 0], dtype=int32)"
     },
     "execution_count": 126,
     "metadata": {},
     "output_type": "execute_result"
    }
   ],
   "source": [
    "y_pred_tokens[1129]"
   ],
   "metadata": {
    "collapsed": false,
    "ExecuteTime": {
     "end_time": "2023-12-10T20:52:22.532749Z",
     "start_time": "2023-12-10T20:52:22.527646Z"
    }
   }
  },
  {
   "cell_type": "code",
   "execution_count": 127,
   "outputs": [
    {
     "data": {
      "text/plain": "array([1, 1, 1, 1, 1, 1, 1, 1, 1, 1, 1, 1, 1, 1, 1, 1, 1, 1, 1, 1, 1, 1,\n       1, 1, 1, 1, 2, 2, 1, 1, 1, 1, 1, 1, 1, 1, 1, 1, 1, 1, 1, 1, 1, 1,\n       1, 1, 1, 1, 1, 1, 1, 1, 1, 1, 1, 1, 1, 1, 0, 0, 0, 0, 0, 0, 0, 0,\n       0, 0, 0, 0, 0, 0, 0, 0, 0, 0, 0, 0, 0, 0, 0, 0, 0, 0, 0, 0, 0, 0,\n       0, 0, 0, 0, 0, 0, 0, 0, 0, 0, 0, 0], dtype=int32)"
     },
     "execution_count": 127,
     "metadata": {},
     "output_type": "execute_result"
    }
   ],
   "source": [
    "y_test_tokens[1129]"
   ],
   "metadata": {
    "collapsed": false,
    "ExecuteTime": {
     "end_time": "2023-12-10T20:53:05.784480Z",
     "start_time": "2023-12-10T20:53:05.770020Z"
    }
   }
  },
  {
   "cell_type": "code",
   "execution_count": 128,
   "outputs": [
    {
     "data": {
      "text/plain": "19653    guido took a mouthful of his whisky , his eyes...\n14100    it 's two days ' journey to london by horse , ...\n18456    so , with ‘ fly away peter ’ you lift up your ...\n17647    duane jackson ( jeff bridges ) has survived ro...\n397                                      no , never mind .\n                               ...                        \n6899     smyth — on the run for nine years — was jailed...\n8241     down into his arteries and we can not get anyt...\n17628    when they are in moult they often sit ashore o...\n4024     does my right hon. friend agree that the launc...\n15644    the north and south coasts are 14 miles equidi...\nName: text, Length: 5006, dtype: object"
     },
     "execution_count": 128,
     "metadata": {},
     "output_type": "execute_result"
    }
   ],
   "source": [
    "X_test"
   ],
   "metadata": {
    "collapsed": false,
    "ExecuteTime": {
     "end_time": "2023-12-10T20:53:40.116593Z",
     "start_time": "2023-12-10T20:53:40.112733Z"
    }
   }
  },
  {
   "cell_type": "code",
   "execution_count": 132,
   "outputs": [
    {
     "data": {
      "text/plain": "                                                   words  \\\n19653  [guido, took, a, mouthful, of, his, whisky, ,,...   \n14100  [it, 's, two, days, ', journey, to, london, by...   \n18456  [so, ,, with, ‘, fly, away, peter, ’, you, lif...   \n17647  [duane, jackson, (, jeff, bridges, ), has, sur...   \n397                              [no, ,, never, mind, .]   \n...                                                  ...   \n6899   [smyth, —, on, the, run, for, nine, years, —, ...   \n8241   [down, into, his, arteries, and, we, can, not,...   \n17628  [when, they, are, in, moult, they, often, sit,...   \n4024   [does, my, right, hon., friend, agree, that, t...   \n15644  [the, north, and, south, coasts, are, 14, mile...   \n\n                                                    tags           candidate  \\\n19653  [O, O, O, O, O, O, O, O, O, O, O, O, O, B-IDIO...        over the top   \n14100  [O, O, O, O, O, O, O, O, O, O, O, O, O, O, B-I...         all the way   \n18456  [O, O, O, O, O, O, O, O, O, O, O, O, O, O, O, ...        out of sight   \n17647  [O, O, O, O, O, O, O, O, O, O, O, O, O, O, O, ...        on the rocks   \n397                          [O, O, B-IDIOM, I-IDIOM, O]          never mind   \n...                                                  ...                 ...   \n6899   [O, O, B-IDIOM, I-IDIOM, I-IDIOM, O, O, O, O, ...          on the run   \n8241   [O, O, O, O, O, O, O, O, O, O, O, O, O, O, O, ...        on the table   \n17628  [O, O, O, O, O, O, O, O, O, B-IDIOM, I-IDIOM, ...        on the rocks   \n4024   [O, O, O, O, O, O, O, O, O, O, O, O, O, O, O, ...  under construction   \n15644   [O, B-IDIOM, I-IDIOM, I-IDIOM, O, O, O, O, O, O]     north and south   \n\n       label  sentence_length  \\\n19653      1               20   \n14100      1               18   \n18456      1               40   \n17647      1               70   \n397        1                5   \n...      ...              ...   \n6899       1               24   \n8241       1              134   \n17628      1               25   \n4024       1               45   \n15644      1               10   \n\n                                                    text  \n19653  guido took a mouthful of his whisky , his eyes...  \n14100  it 's two days ' journey to london by horse , ...  \n18456  so , with ‘ fly away peter ’ you lift up your ...  \n17647  duane jackson ( jeff bridges ) has survived ro...  \n397                                    no , never mind .  \n...                                                  ...  \n6899   smyth — on the run for nine years — was jailed...  \n8241   down into his arteries and we can not get anyt...  \n17628  when they are in moult they often sit ashore o...  \n4024   does my right hon. friend agree that the launc...  \n15644  the north and south coasts are 14 miles equidi...  \n\n[5006 rows x 6 columns]",
      "text/html": "<div>\n<style scoped>\n    .dataframe tbody tr th:only-of-type {\n        vertical-align: middle;\n    }\n\n    .dataframe tbody tr th {\n        vertical-align: top;\n    }\n\n    .dataframe thead th {\n        text-align: right;\n    }\n</style>\n<table border=\"1\" class=\"dataframe\">\n  <thead>\n    <tr style=\"text-align: right;\">\n      <th></th>\n      <th>words</th>\n      <th>tags</th>\n      <th>candidate</th>\n      <th>label</th>\n      <th>sentence_length</th>\n      <th>text</th>\n    </tr>\n  </thead>\n  <tbody>\n    <tr>\n      <th>19653</th>\n      <td>[guido, took, a, mouthful, of, his, whisky, ,,...</td>\n      <td>[O, O, O, O, O, O, O, O, O, O, O, O, O, B-IDIO...</td>\n      <td>over the top</td>\n      <td>1</td>\n      <td>20</td>\n      <td>guido took a mouthful of his whisky , his eyes...</td>\n    </tr>\n    <tr>\n      <th>14100</th>\n      <td>[it, 's, two, days, ', journey, to, london, by...</td>\n      <td>[O, O, O, O, O, O, O, O, O, O, O, O, O, O, B-I...</td>\n      <td>all the way</td>\n      <td>1</td>\n      <td>18</td>\n      <td>it 's two days ' journey to london by horse , ...</td>\n    </tr>\n    <tr>\n      <th>18456</th>\n      <td>[so, ,, with, ‘, fly, away, peter, ’, you, lif...</td>\n      <td>[O, O, O, O, O, O, O, O, O, O, O, O, O, O, O, ...</td>\n      <td>out of sight</td>\n      <td>1</td>\n      <td>40</td>\n      <td>so , with ‘ fly away peter ’ you lift up your ...</td>\n    </tr>\n    <tr>\n      <th>17647</th>\n      <td>[duane, jackson, (, jeff, bridges, ), has, sur...</td>\n      <td>[O, O, O, O, O, O, O, O, O, O, O, O, O, O, O, ...</td>\n      <td>on the rocks</td>\n      <td>1</td>\n      <td>70</td>\n      <td>duane jackson ( jeff bridges ) has survived ro...</td>\n    </tr>\n    <tr>\n      <th>397</th>\n      <td>[no, ,, never, mind, .]</td>\n      <td>[O, O, B-IDIOM, I-IDIOM, O]</td>\n      <td>never mind</td>\n      <td>1</td>\n      <td>5</td>\n      <td>no , never mind .</td>\n    </tr>\n    <tr>\n      <th>...</th>\n      <td>...</td>\n      <td>...</td>\n      <td>...</td>\n      <td>...</td>\n      <td>...</td>\n      <td>...</td>\n    </tr>\n    <tr>\n      <th>6899</th>\n      <td>[smyth, —, on, the, run, for, nine, years, —, ...</td>\n      <td>[O, O, B-IDIOM, I-IDIOM, I-IDIOM, O, O, O, O, ...</td>\n      <td>on the run</td>\n      <td>1</td>\n      <td>24</td>\n      <td>smyth — on the run for nine years — was jailed...</td>\n    </tr>\n    <tr>\n      <th>8241</th>\n      <td>[down, into, his, arteries, and, we, can, not,...</td>\n      <td>[O, O, O, O, O, O, O, O, O, O, O, O, O, O, O, ...</td>\n      <td>on the table</td>\n      <td>1</td>\n      <td>134</td>\n      <td>down into his arteries and we can not get anyt...</td>\n    </tr>\n    <tr>\n      <th>17628</th>\n      <td>[when, they, are, in, moult, they, often, sit,...</td>\n      <td>[O, O, O, O, O, O, O, O, O, B-IDIOM, I-IDIOM, ...</td>\n      <td>on the rocks</td>\n      <td>1</td>\n      <td>25</td>\n      <td>when they are in moult they often sit ashore o...</td>\n    </tr>\n    <tr>\n      <th>4024</th>\n      <td>[does, my, right, hon., friend, agree, that, t...</td>\n      <td>[O, O, O, O, O, O, O, O, O, O, O, O, O, O, O, ...</td>\n      <td>under construction</td>\n      <td>1</td>\n      <td>45</td>\n      <td>does my right hon. friend agree that the launc...</td>\n    </tr>\n    <tr>\n      <th>15644</th>\n      <td>[the, north, and, south, coasts, are, 14, mile...</td>\n      <td>[O, B-IDIOM, I-IDIOM, I-IDIOM, O, O, O, O, O, O]</td>\n      <td>north and south</td>\n      <td>1</td>\n      <td>10</td>\n      <td>the north and south coasts are 14 miles equidi...</td>\n    </tr>\n  </tbody>\n</table>\n<p>5006 rows × 6 columns</p>\n</div>"
     },
     "execution_count": 132,
     "metadata": {},
     "output_type": "execute_result"
    }
   ],
   "source": [
    "df.iloc[X_test.index]"
   ],
   "metadata": {
    "collapsed": false,
    "ExecuteTime": {
     "end_time": "2023-12-10T20:56:47.295677Z",
     "start_time": "2023-12-10T20:56:47.278420Z"
    }
   }
  },
  {
   "cell_type": "code",
   "execution_count": 155,
   "outputs": [],
   "source": [
    "IDIOM_TAG = 2\n",
    "\n",
    "def mark_idioms(sentence_words, tags):\n",
    "    # Truncate the tags list to the length of the sentence\n",
    "    truncated_tags = tags[:len(sentence_words)]\n",
    "\n",
    "    # Initialize variables\n",
    "    marked_sentence = []\n",
    "    in_idiom = False\n",
    "\n",
    "    # Iterate over the words and their corresponding tags\n",
    "    for i, (word, tag) in enumerate(zip(sentence_words, truncated_tags)):\n",
    "        if tag == IDIOM_TAG and not in_idiom:\n",
    "            # Mark the start of an idiom\n",
    "            marked_sentence.append('**' + word)\n",
    "            in_idiom = True\n",
    "        elif in_idiom and (i == len(truncated_tags) - 1 or truncated_tags[i + 1] != IDIOM_TAG):\n",
    "            # Mark the end of an idiom\n",
    "            marked_sentence.append(word + '**')\n",
    "            in_idiom = False\n",
    "        else:\n",
    "            # Add the word as it is\n",
    "            marked_sentence.append(word)\n",
    "\n",
    "    # Join the words back into a sentence\n",
    "    return ' '.join(marked_sentence)\n"
   ],
   "metadata": {
    "collapsed": false,
    "ExecuteTime": {
     "end_time": "2023-12-10T21:53:21.336364Z",
     "start_time": "2023-12-10T21:53:21.328396Z"
    }
   }
  },
  {
   "cell_type": "code",
   "execution_count": 175,
   "outputs": [
    {
     "data": {
      "text/plain": "                                                   words  \\\n19653  [guido, took, a, mouthful, of, his, whisky, ,,...   \n14100  [it, 's, two, days, ', journey, to, london, by...   \n18456  [so, ,, with, ‘, fly, away, peter, ’, you, lif...   \n17647  [duane, jackson, (, jeff, bridges, ), has, sur...   \n397                              [no, ,, never, mind, .]   \n...                                                  ...   \n6899   [smyth, —, on, the, run, for, nine, years, —, ...   \n8241   [down, into, his, arteries, and, we, can, not,...   \n17628  [when, they, are, in, moult, they, often, sit,...   \n4024   [does, my, right, hon., friend, agree, that, t...   \n15644  [the, north, and, south, coasts, are, 14, mile...   \n\n                                                    tags           candidate  \\\n19653  [O, O, O, O, O, O, O, O, O, O, O, O, O, B-IDIO...        over the top   \n14100  [O, O, O, O, O, O, O, O, O, O, O, O, O, O, B-I...         all the way   \n18456  [O, O, O, O, O, O, O, O, O, O, O, O, O, O, O, ...        out of sight   \n17647  [O, O, O, O, O, O, O, O, O, O, O, O, O, O, O, ...        on the rocks   \n397                          [O, O, B-IDIOM, I-IDIOM, O]          never mind   \n...                                                  ...                 ...   \n6899   [O, O, B-IDIOM, I-IDIOM, I-IDIOM, O, O, O, O, ...          on the run   \n8241   [O, O, O, O, O, O, O, O, O, O, O, O, O, O, O, ...        on the table   \n17628  [O, O, O, O, O, O, O, O, O, B-IDIOM, I-IDIOM, ...        on the rocks   \n4024   [O, O, O, O, O, O, O, O, O, O, O, O, O, O, O, ...  under construction   \n15644   [O, B-IDIOM, I-IDIOM, I-IDIOM, O, O, O, O, O, O]     north and south   \n\n       label  sentence_length  \\\n19653      1               20   \n14100      1               18   \n18456      1               40   \n17647      1               70   \n397        1                5   \n...      ...              ...   \n6899       1               24   \n8241       1              134   \n17628      1               25   \n4024       1               45   \n15644      1               10   \n\n                                                    text  \n19653  guido took a mouthful of his whisky , his eyes...  \n14100  it 's two days ' journey to london by horse , ...  \n18456  so , with ‘ fly away peter ’ you lift up your ...  \n17647  duane jackson ( jeff bridges ) has survived ro...  \n397                                    no , never mind .  \n...                                                  ...  \n6899   smyth — on the run for nine years — was jailed...  \n8241   down into his arteries and we can not get anyt...  \n17628  when they are in moult they often sit ashore o...  \n4024   does my right hon. friend agree that the launc...  \n15644  the north and south coasts are 14 miles equidi...  \n\n[5006 rows x 6 columns]",
      "text/html": "<div>\n<style scoped>\n    .dataframe tbody tr th:only-of-type {\n        vertical-align: middle;\n    }\n\n    .dataframe tbody tr th {\n        vertical-align: top;\n    }\n\n    .dataframe thead th {\n        text-align: right;\n    }\n</style>\n<table border=\"1\" class=\"dataframe\">\n  <thead>\n    <tr style=\"text-align: right;\">\n      <th></th>\n      <th>words</th>\n      <th>tags</th>\n      <th>candidate</th>\n      <th>label</th>\n      <th>sentence_length</th>\n      <th>text</th>\n    </tr>\n  </thead>\n  <tbody>\n    <tr>\n      <th>19653</th>\n      <td>[guido, took, a, mouthful, of, his, whisky, ,,...</td>\n      <td>[O, O, O, O, O, O, O, O, O, O, O, O, O, B-IDIO...</td>\n      <td>over the top</td>\n      <td>1</td>\n      <td>20</td>\n      <td>guido took a mouthful of his whisky , his eyes...</td>\n    </tr>\n    <tr>\n      <th>14100</th>\n      <td>[it, 's, two, days, ', journey, to, london, by...</td>\n      <td>[O, O, O, O, O, O, O, O, O, O, O, O, O, O, B-I...</td>\n      <td>all the way</td>\n      <td>1</td>\n      <td>18</td>\n      <td>it 's two days ' journey to london by horse , ...</td>\n    </tr>\n    <tr>\n      <th>18456</th>\n      <td>[so, ,, with, ‘, fly, away, peter, ’, you, lif...</td>\n      <td>[O, O, O, O, O, O, O, O, O, O, O, O, O, O, O, ...</td>\n      <td>out of sight</td>\n      <td>1</td>\n      <td>40</td>\n      <td>so , with ‘ fly away peter ’ you lift up your ...</td>\n    </tr>\n    <tr>\n      <th>17647</th>\n      <td>[duane, jackson, (, jeff, bridges, ), has, sur...</td>\n      <td>[O, O, O, O, O, O, O, O, O, O, O, O, O, O, O, ...</td>\n      <td>on the rocks</td>\n      <td>1</td>\n      <td>70</td>\n      <td>duane jackson ( jeff bridges ) has survived ro...</td>\n    </tr>\n    <tr>\n      <th>397</th>\n      <td>[no, ,, never, mind, .]</td>\n      <td>[O, O, B-IDIOM, I-IDIOM, O]</td>\n      <td>never mind</td>\n      <td>1</td>\n      <td>5</td>\n      <td>no , never mind .</td>\n    </tr>\n    <tr>\n      <th>...</th>\n      <td>...</td>\n      <td>...</td>\n      <td>...</td>\n      <td>...</td>\n      <td>...</td>\n      <td>...</td>\n    </tr>\n    <tr>\n      <th>6899</th>\n      <td>[smyth, —, on, the, run, for, nine, years, —, ...</td>\n      <td>[O, O, B-IDIOM, I-IDIOM, I-IDIOM, O, O, O, O, ...</td>\n      <td>on the run</td>\n      <td>1</td>\n      <td>24</td>\n      <td>smyth — on the run for nine years — was jailed...</td>\n    </tr>\n    <tr>\n      <th>8241</th>\n      <td>[down, into, his, arteries, and, we, can, not,...</td>\n      <td>[O, O, O, O, O, O, O, O, O, O, O, O, O, O, O, ...</td>\n      <td>on the table</td>\n      <td>1</td>\n      <td>134</td>\n      <td>down into his arteries and we can not get anyt...</td>\n    </tr>\n    <tr>\n      <th>17628</th>\n      <td>[when, they, are, in, moult, they, often, sit,...</td>\n      <td>[O, O, O, O, O, O, O, O, O, B-IDIOM, I-IDIOM, ...</td>\n      <td>on the rocks</td>\n      <td>1</td>\n      <td>25</td>\n      <td>when they are in moult they often sit ashore o...</td>\n    </tr>\n    <tr>\n      <th>4024</th>\n      <td>[does, my, right, hon., friend, agree, that, t...</td>\n      <td>[O, O, O, O, O, O, O, O, O, O, O, O, O, O, O, ...</td>\n      <td>under construction</td>\n      <td>1</td>\n      <td>45</td>\n      <td>does my right hon. friend agree that the launc...</td>\n    </tr>\n    <tr>\n      <th>15644</th>\n      <td>[the, north, and, south, coasts, are, 14, mile...</td>\n      <td>[O, B-IDIOM, I-IDIOM, I-IDIOM, O, O, O, O, O, O]</td>\n      <td>north and south</td>\n      <td>1</td>\n      <td>10</td>\n      <td>the north and south coasts are 14 miles equidi...</td>\n    </tr>\n  </tbody>\n</table>\n<p>5006 rows × 6 columns</p>\n</div>"
     },
     "execution_count": 175,
     "metadata": {},
     "output_type": "execute_result"
    }
   ],
   "source": [
    "df.iloc[X_test.index]"
   ],
   "metadata": {
    "collapsed": false,
    "ExecuteTime": {
     "end_time": "2023-12-10T22:11:04.734929Z",
     "start_time": "2023-12-10T22:11:04.713518Z"
    }
   }
  },
  {
   "cell_type": "code",
   "execution_count": 156,
   "outputs": [
    {
     "data": {
      "text/plain": "                                                  words  \\\n0     [guido, took, a, mouthful, of, his, whisky, ,,...   \n1     [it, 's, two, days, ', journey, to, london, by...   \n2     [so, ,, with, ‘, fly, away, peter, ’, you, lif...   \n3     [duane, jackson, (, jeff, bridges, ), has, sur...   \n4                               [no, ,, never, mind, .]   \n...                                                 ...   \n5001  [smyth, —, on, the, run, for, nine, years, —, ...   \n5002  [down, into, his, arteries, and, we, can, not,...   \n5003  [when, they, are, in, moult, they, often, sit,...   \n5004  [does, my, right, hon., friend, agree, that, t...   \n5005  [the, north, and, south, coasts, are, 14, mile...   \n\n                                                   tags           candidate  \\\n0     [O, O, O, O, O, O, O, O, O, O, O, O, O, B-IDIO...        over the top   \n1     [O, O, O, O, O, O, O, O, O, O, O, O, O, O, B-I...         all the way   \n2     [O, O, O, O, O, O, O, O, O, O, O, O, O, O, O, ...        out of sight   \n3     [O, O, O, O, O, O, O, O, O, O, O, O, O, O, O, ...        on the rocks   \n4                           [O, O, B-IDIOM, I-IDIOM, O]          never mind   \n...                                                 ...                 ...   \n5001  [O, O, B-IDIOM, I-IDIOM, I-IDIOM, O, O, O, O, ...          on the run   \n5002  [O, O, O, O, O, O, O, O, O, O, O, O, O, O, O, ...        on the table   \n5003  [O, O, O, O, O, O, O, O, O, B-IDIOM, I-IDIOM, ...        on the rocks   \n5004  [O, O, O, O, O, O, O, O, O, O, O, O, O, O, O, ...  under construction   \n5005   [O, B-IDIOM, I-IDIOM, I-IDIOM, O, O, O, O, O, O]     north and south   \n\n      label  sentence_length  \\\n0         1               20   \n1         1               18   \n2         1               40   \n3         1               70   \n4         1                5   \n...     ...              ...   \n5001      1               24   \n5002      1              134   \n5003      1               25   \n5004      1               45   \n5005      1               10   \n\n                                                   text  \n0     guido took a mouthful of his whisky , his eyes...  \n1     it 's two days ' journey to london by horse , ...  \n2     so , with ‘ fly away peter ’ you lift up your ...  \n3     duane jackson ( jeff bridges ) has survived ro...  \n4                                     no , never mind .  \n...                                                 ...  \n5001  smyth — on the run for nine years — was jailed...  \n5002  down into his arteries and we can not get anyt...  \n5003  when they are in moult they often sit ashore o...  \n5004  does my right hon. friend agree that the launc...  \n5005  the north and south coasts are 14 miles equidi...  \n\n[5006 rows x 6 columns]",
      "text/html": "<div>\n<style scoped>\n    .dataframe tbody tr th:only-of-type {\n        vertical-align: middle;\n    }\n\n    .dataframe tbody tr th {\n        vertical-align: top;\n    }\n\n    .dataframe thead th {\n        text-align: right;\n    }\n</style>\n<table border=\"1\" class=\"dataframe\">\n  <thead>\n    <tr style=\"text-align: right;\">\n      <th></th>\n      <th>words</th>\n      <th>tags</th>\n      <th>candidate</th>\n      <th>label</th>\n      <th>sentence_length</th>\n      <th>text</th>\n    </tr>\n  </thead>\n  <tbody>\n    <tr>\n      <th>0</th>\n      <td>[guido, took, a, mouthful, of, his, whisky, ,,...</td>\n      <td>[O, O, O, O, O, O, O, O, O, O, O, O, O, B-IDIO...</td>\n      <td>over the top</td>\n      <td>1</td>\n      <td>20</td>\n      <td>guido took a mouthful of his whisky , his eyes...</td>\n    </tr>\n    <tr>\n      <th>1</th>\n      <td>[it, 's, two, days, ', journey, to, london, by...</td>\n      <td>[O, O, O, O, O, O, O, O, O, O, O, O, O, O, B-I...</td>\n      <td>all the way</td>\n      <td>1</td>\n      <td>18</td>\n      <td>it 's two days ' journey to london by horse , ...</td>\n    </tr>\n    <tr>\n      <th>2</th>\n      <td>[so, ,, with, ‘, fly, away, peter, ’, you, lif...</td>\n      <td>[O, O, O, O, O, O, O, O, O, O, O, O, O, O, O, ...</td>\n      <td>out of sight</td>\n      <td>1</td>\n      <td>40</td>\n      <td>so , with ‘ fly away peter ’ you lift up your ...</td>\n    </tr>\n    <tr>\n      <th>3</th>\n      <td>[duane, jackson, (, jeff, bridges, ), has, sur...</td>\n      <td>[O, O, O, O, O, O, O, O, O, O, O, O, O, O, O, ...</td>\n      <td>on the rocks</td>\n      <td>1</td>\n      <td>70</td>\n      <td>duane jackson ( jeff bridges ) has survived ro...</td>\n    </tr>\n    <tr>\n      <th>4</th>\n      <td>[no, ,, never, mind, .]</td>\n      <td>[O, O, B-IDIOM, I-IDIOM, O]</td>\n      <td>never mind</td>\n      <td>1</td>\n      <td>5</td>\n      <td>no , never mind .</td>\n    </tr>\n    <tr>\n      <th>...</th>\n      <td>...</td>\n      <td>...</td>\n      <td>...</td>\n      <td>...</td>\n      <td>...</td>\n      <td>...</td>\n    </tr>\n    <tr>\n      <th>5001</th>\n      <td>[smyth, —, on, the, run, for, nine, years, —, ...</td>\n      <td>[O, O, B-IDIOM, I-IDIOM, I-IDIOM, O, O, O, O, ...</td>\n      <td>on the run</td>\n      <td>1</td>\n      <td>24</td>\n      <td>smyth — on the run for nine years — was jailed...</td>\n    </tr>\n    <tr>\n      <th>5002</th>\n      <td>[down, into, his, arteries, and, we, can, not,...</td>\n      <td>[O, O, O, O, O, O, O, O, O, O, O, O, O, O, O, ...</td>\n      <td>on the table</td>\n      <td>1</td>\n      <td>134</td>\n      <td>down into his arteries and we can not get anyt...</td>\n    </tr>\n    <tr>\n      <th>5003</th>\n      <td>[when, they, are, in, moult, they, often, sit,...</td>\n      <td>[O, O, O, O, O, O, O, O, O, B-IDIOM, I-IDIOM, ...</td>\n      <td>on the rocks</td>\n      <td>1</td>\n      <td>25</td>\n      <td>when they are in moult they often sit ashore o...</td>\n    </tr>\n    <tr>\n      <th>5004</th>\n      <td>[does, my, right, hon., friend, agree, that, t...</td>\n      <td>[O, O, O, O, O, O, O, O, O, O, O, O, O, O, O, ...</td>\n      <td>under construction</td>\n      <td>1</td>\n      <td>45</td>\n      <td>does my right hon. friend agree that the launc...</td>\n    </tr>\n    <tr>\n      <th>5005</th>\n      <td>[the, north, and, south, coasts, are, 14, mile...</td>\n      <td>[O, B-IDIOM, I-IDIOM, I-IDIOM, O, O, O, O, O, O]</td>\n      <td>north and south</td>\n      <td>1</td>\n      <td>10</td>\n      <td>the north and south coasts are 14 miles equidi...</td>\n    </tr>\n  </tbody>\n</table>\n<p>5006 rows × 6 columns</p>\n</div>"
     },
     "execution_count": 156,
     "metadata": {},
     "output_type": "execute_result"
    }
   ],
   "source": [
    "# Includes all the columns (words, tags, candidate, etc.)\n",
    "X_test_expanded = df.iloc[X_test.index].reset_index(drop=True)\n",
    "X_test_expanded"
   ],
   "metadata": {
    "collapsed": false,
    "ExecuteTime": {
     "end_time": "2023-12-10T21:53:21.754630Z",
     "start_time": "2023-12-10T21:53:21.725604Z"
    }
   }
  },
  {
   "cell_type": "code",
   "execution_count": 157,
   "outputs": [
    {
     "name": "stdout",
     "output_type": "stream",
     "text": [
      "Sample 0 (label 1, idiom 'over the top'):\n",
      "- Predicted: guido took a mouthful of his whisky , his eyes **scanning her amusedly** over the top of his glass .\n",
      "- Actual: guido took a mouthful of his whisky , his eyes scanning her amusedly **over the top** of his glass .\n",
      "\n",
      "Sample 1 (label 1, idiom 'all the way'):\n",
      "- Predicted: it 's two days ' journey to london by horse , and will **talked all the** way .\n",
      "- Actual: it 's two days ' journey to london by horse , and will talked **all the way** .\n",
      "\n",
      "Sample 2 (label 1, idiom 'out of sight'):\n",
      "- Predicted: so , with ‘ fly away peter ’ you lift up your left hand and , as your fingers go **out of sight** behind your ears , you put away your index finger and bring out the second finger .\n",
      "- Actual: so , with ‘ fly away peter ’ you lift up your left hand and , as your fingers go **out of sight** behind your ears , you put away your index finger and bring out the second finger .\n",
      "\n",
      "Sample 3 (label 1, idiom 'on the rocks'):\n",
      "- Predicted: duane jackson ( jeff bridges ) has survived rocky adolescence and service in korea to earn big money in the 70s boom , but as anarene prepares for centennial celebrations , with a replica of ‘ old texasville ’ in the town square , **he 's saddled** with debts of $12 million , a marriage on the rocks and a tearaway elder son with a liking for older women .\n",
      "- Actual: duane jackson ( jeff bridges ) has survived rocky adolescence and service in korea to earn big money in the 70s boom , but as anarene prepares for centennial celebrations , with a replica of ‘ old texasville ’ in the town square , he 's saddled with debts of $12 million , a marriage **on the rocks** and a tearaway elder son with a liking for older women .\n",
      "\n",
      "Sample 4 (label 1, idiom 'never mind'):\n",
      "- Predicted: no **, never mind** .\n",
      "- Actual: no , **never mind** .\n",
      "\n",
      "Sample 5 (label 1, idiom 'against time'):\n",
      "- Predicted: the beam deflection is then fed to a recorder and a trace of stress **against time** is obtained .\n",
      "- Actual: the beam deflection is then fed to a recorder and a trace of stress **against time** is obtained .\n",
      "\n",
      "Sample 6 (label 1, idiom 'all the way'):\n",
      "- Predicted: the night goblins continued to harass the dwarf **column all the** way to the citadel , but thanks to their heavy armour and natural toughness there were few more casualties .\n",
      "- Actual: the night goblins continued to harass the dwarf column **all the way** to the citadel , but thanks to their heavy armour and natural toughness there were few more casualties .\n",
      "\n",
      "Sample 7 (label 1, idiom 'out of sight'):\n",
      "- Predicted: his coach had been parked **out of sight** while his white saddle horse had been tethered to a post at the roadside so that the passing soldiers would think their emperor was riding to war instead of being carried in upholstered comfort .\n",
      "- Actual: his coach had been parked **out of sight** while his white saddle horse had been tethered to a post at the roadside so that the passing soldiers would think their emperor was riding to war instead of being carried in upholstered comfort .\n",
      "\n",
      "Sample 8 (label 1, idiom 'behind bars'):\n",
      "- Predicted: because of this , people make the attractive and easy deduction that **those behind** bars constitute our most serious criminals .\n",
      "- Actual: because of this , people make the attractive and easy deduction that those **behind bars** constitute our most serious criminals .\n",
      "\n",
      "Sample 9 (label 1, idiom 'out of the blue'):\n",
      "- Predicted: ‘ ah , rodion romanovich , ’ he says completely out of the blue , ‘ **what every man needs is** air , air , air !\n",
      "- Actual: ‘ ah , rodion romanovich , ’ he says completely **out of the blue** , ‘ what every man needs is air , air , air !\n",
      "\n",
      "Sample 10 (label 1, idiom 'now and then'):\n",
      "- Predicted: a wee smack now **and then , mind** .\n",
      "- Actual: a wee smack **now and then** , mind .\n",
      "\n",
      "Sample 11 (label 1, idiom 'all the way'):\n",
      "- Predicted: gives , gives her the **cramps all the** way across here .\n",
      "- Actual: gives , gives her the cramps **all the way** across here .\n",
      "\n",
      "Sample 12 (label 1, idiom 'just in case'):\n",
      "- Predicted: going back to the railway station was for the moment out of the question , **just in case** i bumped into someone who recognized me .\n",
      "- Actual: going back to the railway station was for the moment out of the question , **just in case** i bumped into someone who recognized me .\n",
      "\n",
      "Sample 13 (label 1, idiom 'on the table'):\n",
      "- Predicted: he denied angrily that he had ever sought compensation of up to £1m ‘ although this has been a very expensive operation ’ , adding : ‘ i could have proceeded had i been totally selfish for there were several options **on the table** , financially very attractive . ’\n",
      "- Actual: he denied angrily that he had ever sought compensation of up to £1m ‘ although this has been a very expensive operation ’ , adding : ‘ i could have proceeded had i been totally selfish for there were several options **on the table** , financially very attractive . ’\n",
      "\n",
      "Sample 14 (label 1, idiom 'over the top'):\n",
      "- Predicted: but there 's times when we can go say from our middle third dink **over the top** for john durnin .\n",
      "- Actual: but there 's times when we can go say from our middle third dink **over the top** for john durnin .\n",
      "\n",
      "Sample 15 (label 1, idiom 'out of sight'):\n",
      "- Predicted: then there are the cupboards and drawers , both inside and out , top and bottom and all the shelves too — areas that are often out of sight and out of mind .\n",
      "- Actual: then there are the cupboards and drawers , both inside and out , top and bottom and all the shelves too — areas that are often **out of sight** and out of mind .\n",
      "\n",
      "Sample 16 (label 1, idiom 'out of sight'):\n",
      "- Predicted: he slumped inside the cockpit as far as he could **, out of** sight of the pounding high explosive , protected by old canvas against jagged shell-fragments ; and dimly recognized the familiar sensation of hot urine soaking down his right leg .\n",
      "- Actual: he slumped inside the cockpit as far as he could , **out of sight** of the pounding high explosive , protected by old canvas against jagged shell-fragments ; and dimly recognized the familiar sensation of hot urine soaking down his right leg .\n",
      "\n",
      "Sample 17 (label 1, idiom 'in the bag'):\n",
      "- Predicted: he reaches **in the bag** and starts to throw his bread upon the waters .\n",
      "- Actual: he reaches **in the bag** and starts to throw his bread upon the waters .\n",
      "\n",
      "Sample 18 (label 1, idiom 'on the table'):\n",
      "- Predicted: in washington , president clinton said that the option of lifting the un arms embargo was still **on the table** even though britain , russia and france rejected his earlier proposal to do so .\n",
      "- Actual: in washington , president clinton said that the option of lifting the un arms embargo was still **on the table** even though britain , russia and france rejected his earlier proposal to do so .\n",
      "\n",
      "Sample 19 (label 0, idiom 'keep [pron] cool'):\n",
      "- Predicted: in addition , the system , when compressed , allows for a greater circulation of air around the foot , keeping it cool and dry .\n",
      "- Actual: in addition , the system , when compressed , allows for a greater circulation of air around the foot , **keeping it cool** and dry .\n",
      "\n"
     ]
    }
   ],
   "source": [
    "for i in range(20):\n",
    "    print(f\"Sample {i} (label {X_test_expanded['label'][i]}, idiom '{X_test_expanded['candidate'][i]}'):\")\n",
    "    print(f\"- Predicted: {mark_idioms(X_test_expanded['words'][i], y_pred_tokens[i])}\")\n",
    "    print(f\"- Actual: {mark_idioms(X_test_expanded['words'][i], y_test_tokens[i])}\")\n",
    "    print()"
   ],
   "metadata": {
    "collapsed": false,
    "ExecuteTime": {
     "end_time": "2023-12-10T21:53:23.637017Z",
     "start_time": "2023-12-10T21:53:23.619215Z"
    }
   }
  },
  {
   "cell_type": "markdown",
   "source": [
    "Observations:\n",
    "- The model successfully labels a substantial proportion of idioms.\n",
    "- Sometimes, the model identifies phrases that could reasonably be interpreted as idioms, but that simply aren't the target idioms that are labeled in the sentence. For example, in sample 3, the model predicts \"he's saddled [with debts of $12 million]\" to be the idiom. This is not the literal use of the term \"saddled,\" so it's reasonable to describe this as an idiom. However, the actual idiom is \"[a marriage] on the rocks.\"\n",
    "- The model often seems to predict idioms off by one word, e.g. \"talked all the\" instead of \"all the way in sample 1. This reveals an issue with the tokenization - the dataset treats special characters as words, but the `Tokenizer` does not.\n",
    "- Sometimes, the model doesn't recognize idioms that are either negative samples (literal use rather than idiomatic), or that are not as extreme examples of idioms. For example, in \"areas that are often out of sight and out of mind,\" the model does not recognize the phrase \"out of sight.\" The dataset only labels \"out of sight\" as an idiom, whereas the full idiom should probably be labeled as \"out of sight and out of mind.\" The latter case can't really be helped, but for negative samples, we should probably add the label as an input to the model; otherwise, the model will have no way of knowing from the input data alone that a particular sample is negative, since the tagging does not reflect this.\n",
    "\n",
    "Changes to be made:\n",
    "- Fix the tokenization\n",
    "- Add label as an input to the model, or better yet, update the tags for negative samples to no longer label them as idioms"
   ],
   "metadata": {
    "collapsed": false
   }
  },
  {
   "cell_type": "markdown",
   "source": [
    "# Fixing the preprocessing"
   ],
   "metadata": {
    "collapsed": false
   }
  },
  {
   "cell_type": "code",
   "execution_count": 15,
   "outputs": [
    {
     "data": {
      "text/plain": "[['O', 'O', 'O', 'O', 'O', 'O', 'O', 'O', 'O', 'I-IDIOM', 'I-IDIOM', 'O'],\n ['O',\n  'O',\n  'O',\n  'I-IDIOM',\n  'I-IDIOM',\n  'O',\n  'O',\n  'O',\n  'O',\n  'O',\n  'O',\n  'O',\n  'O',\n  'O',\n  'O',\n  'O',\n  'O',\n  'O',\n  'O',\n  'O',\n  'O',\n  'O',\n  'O',\n  'O',\n  'O',\n  'O',\n  'O',\n  'O',\n  'O',\n  'O',\n  'O',\n  'O',\n  'O',\n  'O',\n  'O',\n  'O',\n  'O',\n  'O',\n  'O',\n  'O',\n  'O',\n  'O',\n  'O',\n  'O',\n  'O'],\n ['O',\n  'O',\n  'O',\n  'O',\n  'O',\n  'O',\n  'O',\n  'O',\n  'O',\n  'O',\n  'O',\n  'O',\n  'O',\n  'O',\n  'O',\n  'I-IDIOM',\n  'I-IDIOM',\n  'O',\n  'O',\n  'O',\n  'O',\n  'O',\n  'O',\n  'O',\n  'O',\n  'O',\n  'O',\n  'O',\n  'O',\n  'O',\n  'O',\n  'O',\n  'O',\n  'O',\n  'O',\n  'O',\n  'O',\n  'O',\n  'O',\n  'O',\n  'O',\n  'O'],\n ['O',\n  'O',\n  'O',\n  'O',\n  'O',\n  'O',\n  'O',\n  'O',\n  'O',\n  'O',\n  'O',\n  'O',\n  'I-IDIOM',\n  'I-IDIOM',\n  'I-IDIOM',\n  'O'],\n ['I-IDIOM', 'I-IDIOM', 'O', 'O', 'O', 'O'],\n ['O',\n  'O',\n  'O',\n  'O',\n  'I-IDIOM',\n  'I-IDIOM',\n  'O',\n  'O',\n  'O',\n  'O',\n  'O',\n  'O',\n  'O',\n  'O',\n  'O'],\n ['O',\n  'O',\n  'O',\n  'I-IDIOM',\n  'I-IDIOM',\n  'I-IDIOM',\n  'O',\n  'O',\n  'O',\n  'O',\n  'O',\n  'O',\n  'O',\n  'O',\n  'O',\n  'O',\n  'O',\n  'O',\n  'O',\n  'O',\n  'O',\n  'O',\n  'O',\n  'O',\n  'O',\n  'O',\n  'O',\n  'O'],\n ['O',\n  'O',\n  'O',\n  'O',\n  'O',\n  'O',\n  'O',\n  'I-IDIOM',\n  'I-IDIOM',\n  'I-IDIOM',\n  'O',\n  'O'],\n ['O',\n  'O',\n  'O',\n  'O',\n  'O',\n  'O',\n  'O',\n  'O',\n  'O',\n  'O',\n  'O',\n  'O',\n  'O',\n  'O',\n  'O',\n  'O',\n  'O',\n  'O',\n  'O',\n  'O',\n  'O',\n  'O',\n  'O',\n  'O',\n  'O',\n  'O',\n  'I-IDIOM',\n  'I-IDIOM',\n  'I-IDIOM',\n  'I-IDIOM',\n  'I-IDIOM',\n  'I-IDIOM',\n  'O',\n  'O',\n  'O',\n  'O',\n  'O',\n  'O',\n  'O',\n  'O',\n  'O',\n  'O',\n  'O',\n  'O',\n  'O',\n  'O',\n  'O',\n  'O',\n  'O',\n  'O'],\n ['O',\n  'O',\n  'O',\n  'O',\n  'O',\n  'O',\n  'O',\n  'O',\n  'O',\n  'O',\n  'O',\n  'O',\n  'O',\n  'O',\n  'O',\n  'O',\n  'O',\n  'O',\n  'O',\n  'O',\n  'O',\n  'O',\n  'O',\n  'O',\n  'O',\n  'O',\n  'O',\n  'O',\n  'O',\n  'O',\n  'O',\n  'O',\n  'O',\n  'I-IDIOM',\n  'I-IDIOM',\n  'I-IDIOM',\n  'I-IDIOM',\n  'O'],\n ['O', 'O', 'O', 'I-IDIOM', 'I-IDIOM', 'O', 'O', 'O'],\n ['O',\n  'O',\n  'O',\n  'I-IDIOM',\n  'I-IDIOM',\n  'I-IDIOM',\n  'O',\n  'O',\n  'O',\n  'O',\n  'O',\n  'O'],\n ['O',\n  'O',\n  'O',\n  'O',\n  'O',\n  'O',\n  'O',\n  'O',\n  'O',\n  'I-IDIOM',\n  'I-IDIOM',\n  'I-IDIOM',\n  'O',\n  'O'],\n ['O', 'O', 'O', 'O', 'I-IDIOM', 'I-IDIOM', 'I-IDIOM'],\n ['O',\n  'O',\n  'O',\n  'O',\n  'O',\n  'O',\n  'O',\n  'O',\n  'O',\n  'O',\n  'O',\n  'O',\n  'O',\n  'O',\n  'O',\n  'O',\n  'O',\n  'O',\n  'O',\n  'O',\n  'O',\n  'O',\n  'O',\n  'I-IDIOM',\n  'I-IDIOM',\n  'I-IDIOM',\n  'O',\n  'O',\n  'O',\n  'O',\n  'O',\n  'O',\n  'O',\n  'O',\n  'O'],\n ['O',\n  'O',\n  'O',\n  'O',\n  'O',\n  'O',\n  'O',\n  'O',\n  'O',\n  'O',\n  'O',\n  'O',\n  'O',\n  'O',\n  'O',\n  'O',\n  'O',\n  'O',\n  'O',\n  'O',\n  'O',\n  'O',\n  'O',\n  'O',\n  'O',\n  'O',\n  'O',\n  'O',\n  'O',\n  'O',\n  'O',\n  'O',\n  'O',\n  'O',\n  'O',\n  'I-IDIOM',\n  'I-IDIOM',\n  'I-IDIOM',\n  'I-IDIOM',\n  'I-IDIOM',\n  'O'],\n ['O',\n  'O',\n  'O',\n  'O',\n  'O',\n  'O',\n  'O',\n  'O',\n  'O',\n  'O',\n  'O',\n  'O',\n  'O',\n  'O',\n  'O',\n  'O',\n  'O',\n  'O',\n  'O',\n  'O',\n  'O',\n  'O',\n  'O',\n  'O',\n  'O',\n  'O',\n  'O',\n  'O',\n  'O',\n  'O',\n  'I-IDIOM',\n  'I-IDIOM',\n  'I-IDIOM',\n  'O',\n  'O',\n  'O',\n  'O',\n  'O',\n  'O',\n  'O',\n  'O',\n  'O',\n  'O',\n  'O'],\n ['O',\n  'O',\n  'O',\n  'O',\n  'O',\n  'O',\n  'O',\n  'O',\n  'O',\n  'O',\n  'I-IDIOM',\n  'I-IDIOM',\n  'I-IDIOM',\n  'I-IDIOM',\n  'O'],\n ['O',\n  'O',\n  'O',\n  'O',\n  'O',\n  'O',\n  'O',\n  'O',\n  'O',\n  'O',\n  'I-IDIOM',\n  'I-IDIOM',\n  'I-IDIOM',\n  'O',\n  'O',\n  'O',\n  'O',\n  'O',\n  'O',\n  'O',\n  'O'],\n ['O',\n  'O',\n  'O',\n  'O',\n  'O',\n  'O',\n  'O',\n  'O',\n  'O',\n  'O',\n  'O',\n  'O',\n  'O',\n  'O',\n  'O',\n  'O',\n  'O',\n  'O',\n  'O',\n  'O',\n  'O',\n  'O',\n  'O',\n  'O',\n  'O',\n  'O',\n  'O',\n  'O',\n  'O',\n  'O',\n  'O',\n  'O',\n  'O',\n  'O',\n  'O',\n  'O',\n  'O',\n  'O',\n  'O',\n  'O',\n  'O',\n  'O',\n  'O',\n  'O',\n  'O',\n  'O',\n  'I-IDIOM',\n  'I-IDIOM',\n  'O',\n  'O',\n  'O',\n  'O',\n  'O',\n  'O'],\n ['O',\n  'O',\n  'O',\n  'O',\n  'O',\n  'O',\n  'O',\n  'O',\n  'O',\n  'O',\n  'O',\n  'O',\n  'O',\n  'I-IDIOM',\n  'I-IDIOM',\n  'O',\n  'O',\n  'O',\n  'O',\n  'O',\n  'O',\n  'O',\n  'O',\n  'O',\n  'O',\n  'O',\n  'O'],\n ['O',\n  'O',\n  'I-IDIOM',\n  'I-IDIOM',\n  'I-IDIOM',\n  'O',\n  'O',\n  'O',\n  'O',\n  'O',\n  'O',\n  'O',\n  'O',\n  'O',\n  'O',\n  'O',\n  'O',\n  'O',\n  'O',\n  'O',\n  'O',\n  'O',\n  'O',\n  'O'],\n ['O',\n  'O',\n  'O',\n  'O',\n  'O',\n  'O',\n  'O',\n  'O',\n  'O',\n  'O',\n  'O',\n  'O',\n  'O',\n  'O',\n  'O',\n  'O',\n  'O',\n  'I-IDIOM',\n  'I-IDIOM',\n  'I-IDIOM',\n  'I-IDIOM',\n  'I-IDIOM',\n  'O',\n  'O',\n  'O',\n  'O',\n  'O',\n  'O',\n  'O',\n  'O',\n  'O',\n  'O',\n  'O',\n  'O',\n  'O',\n  'O',\n  'O',\n  'O',\n  'O',\n  'O',\n  'O',\n  'O',\n  'O',\n  'O',\n  'O',\n  'O',\n  'O',\n  'O',\n  'O',\n  'O',\n  'O',\n  'O',\n  'O'],\n ['O',\n  'O',\n  'O',\n  'O',\n  'O',\n  'O',\n  'O',\n  'O',\n  'O',\n  'O',\n  'O',\n  'I-IDIOM',\n  'I-IDIOM',\n  'I-IDIOM',\n  'O',\n  'O',\n  'O',\n  'O'],\n ['O',\n  'O',\n  'O',\n  'O',\n  'O',\n  'O',\n  'O',\n  'O',\n  'O',\n  'O',\n  'O',\n  'O',\n  'O',\n  'O',\n  'O',\n  'O',\n  'O',\n  'O',\n  'O',\n  'O',\n  'O',\n  'O',\n  'O',\n  'O',\n  'O',\n  'O',\n  'O',\n  'O',\n  'O',\n  'O',\n  'O',\n  'O',\n  'O',\n  'O',\n  'O',\n  'O',\n  'O',\n  'O',\n  'O',\n  'O',\n  'O',\n  'I-IDIOM',\n  'I-IDIOM',\n  'I-IDIOM',\n  'O'],\n ['O',\n  'O',\n  'O',\n  'O',\n  'O',\n  'O',\n  'O',\n  'O',\n  'O',\n  'O',\n  'O',\n  'O',\n  'O',\n  'O',\n  'O',\n  'O',\n  'O',\n  'O',\n  'O',\n  'O',\n  'O',\n  'I-IDIOM',\n  'I-IDIOM',\n  'O',\n  'O',\n  'O',\n  'O'],\n ['O',\n  'O',\n  'O',\n  'O',\n  'O',\n  'O',\n  'O',\n  'O',\n  'O',\n  'O',\n  'O',\n  'O',\n  'O',\n  'O',\n  'O',\n  'O',\n  'O',\n  'O',\n  'O',\n  'O',\n  'O',\n  'O',\n  'O',\n  'O',\n  'O',\n  'O',\n  'O',\n  'O',\n  'I-IDIOM',\n  'I-IDIOM',\n  'I-IDIOM',\n  'O',\n  'O',\n  'O',\n  'O',\n  'O',\n  'O',\n  'O',\n  'O',\n  'O',\n  'O',\n  'O'],\n ['O',\n  'O',\n  'O',\n  'O',\n  'O',\n  'O',\n  'O',\n  'O',\n  'O',\n  'O',\n  'O',\n  'I-IDIOM',\n  'I-IDIOM',\n  'I-IDIOM',\n  'I-IDIOM',\n  'O',\n  'O',\n  'O',\n  'O',\n  'O',\n  'O',\n  'O',\n  'O',\n  'O',\n  'O',\n  'O',\n  'O',\n  'O'],\n ['O', 'O', 'O', 'I-IDIOM', 'I-IDIOM', 'O', 'O', 'O', 'O', 'O', 'O', 'O'],\n ['O',\n  'O',\n  'O',\n  'O',\n  'O',\n  'O',\n  'O',\n  'O',\n  'O',\n  'O',\n  'O',\n  'I-IDIOM',\n  'I-IDIOM',\n  'I-IDIOM',\n  'O',\n  'O',\n  'O',\n  'O',\n  'O',\n  'O',\n  'O',\n  'O',\n  'O',\n  'O',\n  'O',\n  'O',\n  'O',\n  'O',\n  'O',\n  'O',\n  'O',\n  'O',\n  'O',\n  'O',\n  'O'],\n ['O',\n  'O',\n  'O',\n  'O',\n  'I-IDIOM',\n  'I-IDIOM',\n  'I-IDIOM',\n  'O',\n  'O',\n  'O',\n  'O',\n  'O',\n  'O',\n  'O',\n  'O',\n  'O',\n  'O',\n  'O',\n  'O',\n  'O',\n  'O',\n  'O',\n  'O',\n  'O',\n  'O',\n  'O',\n  'O',\n  'O',\n  'O',\n  'O',\n  'O',\n  'O',\n  'O',\n  'O',\n  'O',\n  'O',\n  'O',\n  'O',\n  'O',\n  'O'],\n ['O', 'O', 'O', 'O', 'O', 'O', 'O', 'O'],\n ['O', 'O', 'O', 'O', 'O', 'I-IDIOM', 'I-IDIOM', 'I-IDIOM', 'O'],\n ['I-IDIOM',\n  'I-IDIOM',\n  'I-IDIOM',\n  'I-IDIOM',\n  'O',\n  'O',\n  'O',\n  'O',\n  'O',\n  'O',\n  'O',\n  'O',\n  'O',\n  'O',\n  'O',\n  'O',\n  'O',\n  'O',\n  'O',\n  'O',\n  'O',\n  'O',\n  'O',\n  'O',\n  'O',\n  'O',\n  'O',\n  'O',\n  'O',\n  'O',\n  'O',\n  'O',\n  'O',\n  'O',\n  'O',\n  'O',\n  'O',\n  'O',\n  'O',\n  'O',\n  'O',\n  'O',\n  'O',\n  'O',\n  'O',\n  'O',\n  'O',\n  'O',\n  'O',\n  'O',\n  'O',\n  'O',\n  'O'],\n ['O',\n  'O',\n  'O',\n  'O',\n  'O',\n  'O',\n  'O',\n  'O',\n  'O',\n  'O',\n  'O',\n  'O',\n  'O',\n  'O',\n  'O',\n  'O',\n  'I-IDIOM',\n  'I-IDIOM',\n  'O'],\n ['O',\n  'O',\n  'O',\n  'I-IDIOM',\n  'I-IDIOM',\n  'I-IDIOM',\n  'O',\n  'O',\n  'O',\n  'O',\n  'O',\n  'O',\n  'O',\n  'O',\n  'O',\n  'O',\n  'O',\n  'O',\n  'O',\n  'O',\n  'O',\n  'O',\n  'O',\n  'O',\n  'O',\n  'O',\n  'O',\n  'O',\n  'O',\n  'O',\n  'O',\n  'O',\n  'O',\n  'O',\n  'O',\n  'O',\n  'O',\n  'O',\n  'O',\n  'O',\n  'O',\n  'O',\n  'O',\n  'O',\n  'O',\n  'O'],\n ['O',\n  'O',\n  'O',\n  'O',\n  'O',\n  'O',\n  'O',\n  'O',\n  'O',\n  'O',\n  'O',\n  'O',\n  'O',\n  'O',\n  'O',\n  'O',\n  'O',\n  'O',\n  'O',\n  'O',\n  'O',\n  'O',\n  'O',\n  'O',\n  'O',\n  'O',\n  'O',\n  'O',\n  'O',\n  'O',\n  'O',\n  'O',\n  'O',\n  'O',\n  'O',\n  'O',\n  'O',\n  'O',\n  'O',\n  'O',\n  'O',\n  'O',\n  'O',\n  'O',\n  'O',\n  'O',\n  'O',\n  'O',\n  'O',\n  'O',\n  'O',\n  'O',\n  'O',\n  'O',\n  'O',\n  'O',\n  'O',\n  'I-IDIOM',\n  'I-IDIOM',\n  'I-IDIOM',\n  'O'],\n ['O',\n  'I-IDIOM',\n  'I-IDIOM',\n  'I-IDIOM',\n  'I-IDIOM',\n  'O',\n  'O',\n  'O',\n  'O',\n  'O',\n  'O',\n  'O',\n  'O',\n  'O',\n  'O',\n  'O',\n  'O',\n  'O',\n  'O',\n  'O',\n  'O',\n  'O',\n  'O',\n  'O',\n  'O',\n  'O',\n  'O',\n  'O',\n  'O',\n  'O',\n  'O',\n  'O',\n  'O',\n  'O',\n  'O',\n  'O',\n  'O',\n  'O',\n  'O',\n  'O',\n  'O',\n  'O',\n  'O',\n  'O',\n  'O'],\n ['O',\n  'O',\n  'O',\n  'O',\n  'O',\n  'O',\n  'O',\n  'O',\n  'O',\n  'O',\n  'O',\n  'O',\n  'O',\n  'O',\n  'O',\n  'I-IDIOM',\n  'I-IDIOM',\n  'I-IDIOM',\n  'O',\n  'O',\n  'O',\n  'O',\n  'O',\n  'O',\n  'O',\n  'O'],\n ['O',\n  'O',\n  'O',\n  'O',\n  'O',\n  'O',\n  'O',\n  'O',\n  'O',\n  'O',\n  'O',\n  'O',\n  'O',\n  'I-IDIOM',\n  'I-IDIOM',\n  'I-IDIOM',\n  'O',\n  'O'],\n ['O', 'O', 'O', 'O', 'I-IDIOM', 'I-IDIOM', 'I-IDIOM', 'I-IDIOM', 'O'],\n ['O',\n  'O',\n  'O',\n  'O',\n  'O',\n  'O',\n  'O',\n  'O',\n  'O',\n  'O',\n  'I-IDIOM',\n  'I-IDIOM',\n  'O',\n  'O',\n  'O',\n  'O',\n  'O'],\n ['O',\n  'O',\n  'O',\n  'O',\n  'O',\n  'O',\n  'O',\n  'O',\n  'O',\n  'O',\n  'O',\n  'O',\n  'O',\n  'O',\n  'O',\n  'O',\n  'O',\n  'I-IDIOM',\n  'I-IDIOM',\n  'I-IDIOM',\n  'O',\n  'O',\n  'O',\n  'O',\n  'O',\n  'O',\n  'O',\n  'O',\n  'O'],\n ['O',\n  'O',\n  'O',\n  'O',\n  'O',\n  'O',\n  'I-IDIOM',\n  'I-IDIOM',\n  'I-IDIOM',\n  'O',\n  'O',\n  'O',\n  'O',\n  'O',\n  'O',\n  'O',\n  'O',\n  'O',\n  'O',\n  'O',\n  'O',\n  'O',\n  'O',\n  'O',\n  'O',\n  'O',\n  'O',\n  'O',\n  'O',\n  'O',\n  'O',\n  'O',\n  'O',\n  'O',\n  'O',\n  'O',\n  'O',\n  'O',\n  'O',\n  'O',\n  'O',\n  'O',\n  'O',\n  'O',\n  'O',\n  'O',\n  'O'],\n ['I-IDIOM', 'I-IDIOM', 'I-IDIOM', 'I-IDIOM'],\n ['O',\n  'O',\n  'O',\n  'O',\n  'O',\n  'O',\n  'O',\n  'O',\n  'O',\n  'O',\n  'O',\n  'O',\n  'O',\n  'O',\n  'O',\n  'O',\n  'I-IDIOM',\n  'I-IDIOM',\n  'I-IDIOM',\n  'I-IDIOM',\n  'O',\n  'O',\n  'O',\n  'O',\n  'O',\n  'O',\n  'O',\n  'O',\n  'O',\n  'O',\n  'O',\n  'O',\n  'O'],\n ['O',\n  'O',\n  'O',\n  'O',\n  'O',\n  'O',\n  'O',\n  'I-IDIOM',\n  'I-IDIOM',\n  'I-IDIOM',\n  'I-IDIOM',\n  'O',\n  'O',\n  'O',\n  'O',\n  'O'],\n ['O',\n  'O',\n  'O',\n  'O',\n  'O',\n  'O',\n  'O',\n  'O',\n  'O',\n  'O',\n  'O',\n  'O',\n  'O',\n  'O',\n  'O',\n  'O',\n  'O',\n  'O',\n  'O',\n  'O',\n  'O',\n  'O',\n  'O',\n  'O',\n  'O',\n  'I-IDIOM',\n  'I-IDIOM',\n  'I-IDIOM',\n  'O',\n  'O',\n  'O',\n  'O',\n  'O',\n  'O',\n  'O',\n  'O'],\n ['O',\n  'O',\n  'O',\n  'O',\n  'O',\n  'O',\n  'O',\n  'O',\n  'O',\n  'O',\n  'O',\n  'O',\n  'I-IDIOM',\n  'I-IDIOM',\n  'I-IDIOM',\n  'O',\n  'O',\n  'O',\n  'O',\n  'O',\n  'O',\n  'O',\n  'O',\n  'O',\n  'O',\n  'O',\n  'O',\n  'O',\n  'O',\n  'O',\n  'O',\n  'O',\n  'O',\n  'O',\n  'O',\n  'O',\n  'O',\n  'O',\n  'O',\n  'O',\n  'O',\n  'O',\n  'O'],\n ['O',\n  'O',\n  'O',\n  'O',\n  'O',\n  'O',\n  'O',\n  'O',\n  'O',\n  'O',\n  'O',\n  'O',\n  'O',\n  'O',\n  'O',\n  'O',\n  'O',\n  'O',\n  'O',\n  'O',\n  'O',\n  'O',\n  'O',\n  'O',\n  'O',\n  'O',\n  'O',\n  'I-IDIOM',\n  'I-IDIOM',\n  'O'],\n ['O',\n  'O',\n  'O',\n  'O',\n  'O',\n  'O',\n  'O',\n  'O',\n  'O',\n  'O',\n  'O',\n  'O',\n  'O',\n  'O',\n  'O',\n  'O',\n  'O',\n  'I-IDIOM',\n  'I-IDIOM',\n  'I-IDIOM',\n  'I-IDIOM',\n  'O',\n  'O',\n  'O',\n  'O',\n  'O',\n  'O',\n  'O',\n  'O',\n  'O',\n  'O',\n  'O',\n  'O',\n  'O',\n  'O',\n  'O',\n  'O',\n  'O',\n  'O',\n  'O',\n  'O',\n  'O',\n  'O',\n  'O',\n  'O'],\n ['O',\n  'O',\n  'O',\n  'O',\n  'I-IDIOM',\n  'I-IDIOM',\n  'I-IDIOM',\n  'I-IDIOM',\n  'O',\n  'O',\n  'O',\n  'O',\n  'O',\n  'O',\n  'O',\n  'O',\n  'O',\n  'O',\n  'O',\n  'O',\n  'O',\n  'O',\n  'O',\n  'O',\n  'O',\n  'O',\n  'O',\n  'O',\n  'O',\n  'O',\n  'O',\n  'O',\n  'O',\n  'O'],\n ['O',\n  'O',\n  'O',\n  'O',\n  'O',\n  'O',\n  'O',\n  'O',\n  'O',\n  'O',\n  'I-IDIOM',\n  'I-IDIOM',\n  'O',\n  'O',\n  'O',\n  'O',\n  'O',\n  'O',\n  'O',\n  'O',\n  'O',\n  'O',\n  'O',\n  'O',\n  'O',\n  'O',\n  'O',\n  'O',\n  'O'],\n ['O',\n  'O',\n  'O',\n  'O',\n  'O',\n  'O',\n  'O',\n  'O',\n  'O',\n  'O',\n  'O',\n  'O',\n  'O',\n  'O',\n  'O',\n  'I-IDIOM',\n  'I-IDIOM',\n  'I-IDIOM',\n  'O',\n  'O',\n  'O',\n  'O',\n  'O',\n  'O',\n  'O',\n  'O',\n  'O',\n  'O',\n  'O',\n  'O',\n  'O',\n  'O',\n  'O',\n  'O',\n  'O',\n  'O',\n  'O',\n  'O',\n  'O',\n  'O'],\n ['O',\n  'I-IDIOM',\n  'I-IDIOM',\n  'I-IDIOM',\n  'O',\n  'O',\n  'O',\n  'O',\n  'O',\n  'O',\n  'O',\n  'O',\n  'O',\n  'O',\n  'O',\n  'O',\n  'O',\n  'O',\n  'O',\n  'O',\n  'O'],\n ['O',\n  'O',\n  'O',\n  'O',\n  'O',\n  'O',\n  'O',\n  'O',\n  'O',\n  'O',\n  'O',\n  'I-IDIOM',\n  'I-IDIOM',\n  'I-IDIOM',\n  'I-IDIOM',\n  'O'],\n ['O',\n  'O',\n  'I-IDIOM',\n  'I-IDIOM',\n  'I-IDIOM',\n  'O',\n  'O',\n  'O',\n  'O',\n  'O',\n  'O',\n  'O',\n  'O',\n  'O',\n  'O',\n  'O',\n  'O',\n  'O',\n  'O',\n  'O',\n  'O',\n  'O',\n  'O',\n  'O',\n  'O',\n  'O',\n  'O',\n  'O',\n  'O',\n  'O',\n  'O',\n  'O',\n  'O'],\n ['O',\n  'O',\n  'O',\n  'O',\n  'O',\n  'O',\n  'O',\n  'O',\n  'O',\n  'O',\n  'O',\n  'O',\n  'O',\n  'I-IDIOM',\n  'I-IDIOM',\n  'O',\n  'O'],\n ['O',\n  'O',\n  'O',\n  'O',\n  'O',\n  'O',\n  'O',\n  'O',\n  'O',\n  'O',\n  'O',\n  'O',\n  'O',\n  'O',\n  'O',\n  'O',\n  'O',\n  'O',\n  'O',\n  'O',\n  'O',\n  'O',\n  'O',\n  'O',\n  'O',\n  'I-IDIOM',\n  'I-IDIOM',\n  'I-IDIOM',\n  'I-IDIOM',\n  'O',\n  'O',\n  'O',\n  'O'],\n ['O',\n  'O',\n  'O',\n  'O',\n  'O',\n  'O',\n  'O',\n  'O',\n  'O',\n  'O',\n  'O',\n  'O',\n  'O',\n  'O',\n  'O',\n  'O',\n  'O',\n  'O',\n  'O',\n  'O',\n  'O',\n  'O',\n  'O',\n  'O',\n  'O',\n  'O',\n  'O',\n  'O',\n  'O',\n  'O',\n  'O'],\n ['O',\n  'O',\n  'O',\n  'O',\n  'O',\n  'O',\n  'O',\n  'O',\n  'O',\n  'O',\n  'O',\n  'O',\n  'O',\n  'O',\n  'O',\n  'O',\n  'O',\n  'O',\n  'O',\n  'O',\n  'O',\n  'O',\n  'O',\n  'O',\n  'I-IDIOM',\n  'I-IDIOM',\n  'I-IDIOM',\n  'O',\n  'O',\n  'O',\n  'O',\n  'O'],\n ['O',\n  'O',\n  'O',\n  'O',\n  'O',\n  'O',\n  'O',\n  'O',\n  'O',\n  'O',\n  'O',\n  'O',\n  'O',\n  'I-IDIOM',\n  'I-IDIOM',\n  'I-IDIOM',\n  'O',\n  'O',\n  'O',\n  'O',\n  'O',\n  'O',\n  'O',\n  'O',\n  'O',\n  'O',\n  'O',\n  'O',\n  'O',\n  'O',\n  'O',\n  'O'],\n ['O',\n  'O',\n  'I-IDIOM',\n  'I-IDIOM',\n  'O',\n  'O',\n  'O',\n  'O',\n  'O',\n  'O',\n  'O',\n  'O',\n  'O',\n  'O',\n  'O',\n  'O',\n  'O',\n  'O',\n  'O',\n  'O'],\n ['O',\n  'O',\n  'O',\n  'O',\n  'O',\n  'O',\n  'O',\n  'O',\n  'O',\n  'O',\n  'O',\n  'O',\n  'O',\n  'O',\n  'O',\n  'O',\n  'O',\n  'O',\n  'O',\n  'O',\n  'O',\n  'O',\n  'O',\n  'O',\n  'I-IDIOM',\n  'I-IDIOM',\n  'I-IDIOM',\n  'O'],\n ['O', 'O', 'O', 'O', 'O', 'O', 'I-IDIOM', 'I-IDIOM', 'I-IDIOM', 'O', 'O'],\n ['O',\n  'O',\n  'O',\n  'O',\n  'O',\n  'O',\n  'O',\n  'O',\n  'O',\n  'O',\n  'O',\n  'O',\n  'O',\n  'I-IDIOM',\n  'I-IDIOM',\n  'O',\n  'O',\n  'O',\n  'O',\n  'O',\n  'O',\n  'O'],\n ['O',\n  'O',\n  'O',\n  'O',\n  'O',\n  'O',\n  'O',\n  'O',\n  'O',\n  'I-IDIOM',\n  'I-IDIOM',\n  'I-IDIOM',\n  'I-IDIOM',\n  'O',\n  'O',\n  'O',\n  'O',\n  'O',\n  'O',\n  'O',\n  'O',\n  'O',\n  'O',\n  'O',\n  'O'],\n ['O', 'I-IDIOM', 'I-IDIOM', 'O', 'O', 'O', 'O', 'O', 'O', 'O', 'O'],\n ['O',\n  'I-IDIOM',\n  'I-IDIOM',\n  'I-IDIOM',\n  'O',\n  'O',\n  'O',\n  'O',\n  'O',\n  'O',\n  'O',\n  'O',\n  'O',\n  'O',\n  'O',\n  'O',\n  'O',\n  'O',\n  'O',\n  'O',\n  'O',\n  'O',\n  'O',\n  'O',\n  'O',\n  'O',\n  'O',\n  'O',\n  'O',\n  'O',\n  'O',\n  'O',\n  'O'],\n ['O',\n  'O',\n  'I-IDIOM',\n  'I-IDIOM',\n  'I-IDIOM',\n  'O',\n  'O',\n  'O',\n  'O',\n  'O',\n  'O',\n  'O',\n  'O',\n  'O',\n  'O',\n  'O',\n  'O',\n  'O',\n  'O',\n  'O'],\n ['O', 'O', 'O', 'O', 'O', 'I-IDIOM', 'I-IDIOM', 'O', 'O', 'O', 'O', 'O'],\n ['O',\n  'O',\n  'O',\n  'O',\n  'O',\n  'O',\n  'O',\n  'O',\n  'O',\n  'I-IDIOM',\n  'I-IDIOM',\n  'I-IDIOM',\n  'O',\n  'O',\n  'O'],\n ['I-IDIOM', 'I-IDIOM', 'I-IDIOM', 'O'],\n ['O',\n  'O',\n  'O',\n  'O',\n  'O',\n  'O',\n  'O',\n  'O',\n  'O',\n  'O',\n  'O',\n  'O',\n  'O',\n  'O',\n  'O',\n  'O',\n  'O',\n  'O',\n  'O',\n  'O',\n  'O',\n  'O',\n  'O',\n  'O',\n  'O',\n  'I-IDIOM',\n  'I-IDIOM',\n  'O',\n  'O',\n  'O',\n  'O',\n  'O',\n  'O',\n  'O',\n  'O',\n  'O',\n  'O',\n  'O',\n  'O',\n  'O',\n  'O',\n  'O',\n  'O',\n  'O',\n  'O',\n  'O',\n  'O',\n  'O'],\n ['O',\n  'O',\n  'O',\n  'I-IDIOM',\n  'I-IDIOM',\n  'I-IDIOM',\n  'O',\n  'O',\n  'O',\n  'O',\n  'O',\n  'O',\n  'O'],\n ['O',\n  'O',\n  'O',\n  'O',\n  'O',\n  'O',\n  'O',\n  'O',\n  'O',\n  'O',\n  'O',\n  'O',\n  'O',\n  'O',\n  'O',\n  'O',\n  'O',\n  'O',\n  'O',\n  'O',\n  'O',\n  'O',\n  'O',\n  'O',\n  'O',\n  'O',\n  'O',\n  'O',\n  'O',\n  'O',\n  'I-IDIOM',\n  'I-IDIOM',\n  'I-IDIOM',\n  'O',\n  'O',\n  'O',\n  'O',\n  'O',\n  'O',\n  'O',\n  'O',\n  'O',\n  'O',\n  'O',\n  'O',\n  'O',\n  'O',\n  'O',\n  'O',\n  'O',\n  'O'],\n ['O',\n  'O',\n  'O',\n  'O',\n  'O',\n  'O',\n  'O',\n  'O',\n  'O',\n  'O',\n  'O',\n  'O',\n  'I-IDIOM',\n  'I-IDIOM',\n  'O',\n  'O',\n  'O',\n  'O',\n  'O',\n  'O',\n  'O',\n  'O',\n  'O'],\n ['O',\n  'O',\n  'O',\n  'O',\n  'O',\n  'O',\n  'O',\n  'O',\n  'O',\n  'O',\n  'O',\n  'O',\n  'I-IDIOM',\n  'I-IDIOM',\n  'O',\n  'O',\n  'O',\n  'O',\n  'O',\n  'O',\n  'O',\n  'O',\n  'O',\n  'O'],\n ['O',\n  'O',\n  'O',\n  'O',\n  'O',\n  'O',\n  'O',\n  'O',\n  'O',\n  'O',\n  'O',\n  'O',\n  'O',\n  'O',\n  'O',\n  'O',\n  'O',\n  'I-IDIOM',\n  'I-IDIOM',\n  'I-IDIOM',\n  'I-IDIOM',\n  'O'],\n ['O',\n  'O',\n  'O',\n  'O',\n  'O',\n  'O',\n  'O',\n  'O',\n  'O',\n  'O',\n  'O',\n  'O',\n  'I-IDIOM',\n  'I-IDIOM',\n  'I-IDIOM',\n  'I-IDIOM',\n  'O'],\n ['O',\n  'O',\n  'O',\n  'O',\n  'O',\n  'O',\n  'O',\n  'O',\n  'O',\n  'O',\n  'O',\n  'O',\n  'O',\n  'O',\n  'O',\n  'O',\n  'O',\n  'O',\n  'O',\n  'O',\n  'O',\n  'O',\n  'O',\n  'O',\n  'O',\n  'O',\n  'O',\n  'O',\n  'O',\n  'O',\n  'O',\n  'O',\n  'O',\n  'O',\n  'O',\n  'O',\n  'O',\n  'I-IDIOM',\n  'I-IDIOM',\n  'O',\n  'O',\n  'O',\n  'O',\n  'O',\n  'O',\n  'O',\n  'O',\n  'O',\n  'O',\n  'O',\n  'O',\n  'O',\n  'O',\n  'O',\n  'O',\n  'O',\n  'O',\n  'O',\n  'O',\n  'O',\n  'O',\n  'O',\n  'O',\n  'O',\n  'O',\n  'O',\n  'O',\n  'O',\n  'O',\n  'O',\n  'O',\n  'O'],\n ['O',\n  'O',\n  'I-IDIOM',\n  'I-IDIOM',\n  'I-IDIOM',\n  'I-IDIOM',\n  'O',\n  'O',\n  'O',\n  'O',\n  'O',\n  'O',\n  'O',\n  'O',\n  'O',\n  'O',\n  'O'],\n ['O',\n  'O',\n  'O',\n  'O',\n  'O',\n  'O',\n  'O',\n  'O',\n  'O',\n  'O',\n  'O',\n  'O',\n  'O',\n  'O',\n  'I-IDIOM',\n  'I-IDIOM',\n  'I-IDIOM',\n  'O'],\n ['O',\n  'O',\n  'O',\n  'O',\n  'O',\n  'O',\n  'O',\n  'O',\n  'O',\n  'O',\n  'O',\n  'O',\n  'O',\n  'O',\n  'O',\n  'O',\n  'I-IDIOM',\n  'I-IDIOM',\n  'I-IDIOM',\n  'O',\n  'O',\n  'O',\n  'O',\n  'O',\n  'O',\n  'O',\n  'O',\n  'O'],\n ['O', 'I-IDIOM', 'I-IDIOM', 'O', 'O', 'O', 'O', 'O'],\n ['O',\n  'O',\n  'O',\n  'O',\n  'O',\n  'O',\n  'O',\n  'O',\n  'O',\n  'O',\n  'O',\n  'O',\n  'O',\n  'O',\n  'O',\n  'O',\n  'O',\n  'O',\n  'I-IDIOM',\n  'I-IDIOM',\n  'I-IDIOM',\n  'I-IDIOM',\n  'O',\n  'O',\n  'O',\n  'O',\n  'O',\n  'O',\n  'O',\n  'O'],\n ['O',\n  'O',\n  'O',\n  'O',\n  'O',\n  'O',\n  'O',\n  'O',\n  'O',\n  'O',\n  'O',\n  'O',\n  'O',\n  'O',\n  'O',\n  'O',\n  'O',\n  'O',\n  'O',\n  'O',\n  'O',\n  'O',\n  'O',\n  'O',\n  'O',\n  'O',\n  'O',\n  'O',\n  'O',\n  'O',\n  'O',\n  'O',\n  'O',\n  'O',\n  'O',\n  'O',\n  'O',\n  'O',\n  'I-IDIOM',\n  'I-IDIOM',\n  'O',\n  'O',\n  'O',\n  'O',\n  'O',\n  'O',\n  'O',\n  'O',\n  'O'],\n ['O',\n  'O',\n  'O',\n  'O',\n  'O',\n  'O',\n  'O',\n  'O',\n  'O',\n  'O',\n  'O',\n  'O',\n  'O',\n  'O',\n  'I-IDIOM',\n  'I-IDIOM',\n  'I-IDIOM',\n  'O',\n  'O',\n  'O',\n  'O',\n  'O',\n  'O',\n  'O',\n  'O',\n  'O',\n  'O',\n  'O',\n  'O',\n  'O',\n  'O',\n  'O',\n  'O',\n  'O',\n  'O',\n  'O',\n  'O',\n  'O',\n  'O',\n  'O',\n  'O',\n  'O'],\n ['O', 'O', 'O', 'O', 'O', 'I-IDIOM', 'I-IDIOM', 'I-IDIOM', 'O'],\n ['O',\n  'O',\n  'O',\n  'O',\n  'O',\n  'O',\n  'O',\n  'O',\n  'O',\n  'O',\n  'O',\n  'O',\n  'O',\n  'O',\n  'O',\n  'O',\n  'O',\n  'O',\n  'O',\n  'O',\n  'O',\n  'O',\n  'O',\n  'O',\n  'O',\n  'O',\n  'O',\n  'O',\n  'O',\n  'O',\n  'O',\n  'I-IDIOM',\n  'I-IDIOM',\n  'I-IDIOM',\n  'I-IDIOM',\n  'O',\n  'O',\n  'O',\n  'O',\n  'O',\n  'O',\n  'O',\n  'O',\n  'O',\n  'O',\n  'O',\n  'O',\n  'O',\n  'O'],\n ['O',\n  'O',\n  'O',\n  'O',\n  'O',\n  'O',\n  'O',\n  'O',\n  'O',\n  'O',\n  'I-IDIOM',\n  'I-IDIOM',\n  'I-IDIOM',\n  'I-IDIOM',\n  'O',\n  'O',\n  'O',\n  'O',\n  'O'],\n ['O',\n  'O',\n  'O',\n  'O',\n  'O',\n  'O',\n  'O',\n  'O',\n  'O',\n  'O',\n  'O',\n  'O',\n  'O',\n  'O',\n  'O',\n  'O',\n  'O',\n  'O',\n  'O',\n  'O',\n  'O',\n  'O',\n  'O',\n  'O',\n  'O',\n  'O',\n  'O',\n  'O',\n  'O',\n  'O',\n  'O',\n  'O',\n  'O',\n  'O',\n  'I-IDIOM',\n  'I-IDIOM',\n  'I-IDIOM',\n  'O',\n  'O',\n  'O',\n  'O',\n  'O',\n  'O',\n  'O',\n  'O',\n  'O',\n  'O',\n  'O',\n  'O',\n  'O',\n  'O'],\n ['O', 'O', 'O', 'O', 'O', 'O', 'O', 'O', 'I-IDIOM', 'I-IDIOM', 'O'],\n ['O', 'O', 'I-IDIOM', 'I-IDIOM', 'I-IDIOM'],\n ['O',\n  'O',\n  'O',\n  'O',\n  'O',\n  'O',\n  'O',\n  'O',\n  'O',\n  'O',\n  'O',\n  'O',\n  'O',\n  'O',\n  'O',\n  'O',\n  'O',\n  'O',\n  'O',\n  'O',\n  'O',\n  'O',\n  'O',\n  'I-IDIOM',\n  'I-IDIOM',\n  'I-IDIOM',\n  'O',\n  'O',\n  'O',\n  'O',\n  'O',\n  'O',\n  'O',\n  'O',\n  'O',\n  'O',\n  'O',\n  'O',\n  'O',\n  'O',\n  'O',\n  'O',\n  'O',\n  'O',\n  'O',\n  'O',\n  'O',\n  'O',\n  'O',\n  'O',\n  'O',\n  'O',\n  'O',\n  'O',\n  'O'],\n ['O',\n  'O',\n  'O',\n  'O',\n  'O',\n  'O',\n  'O',\n  'O',\n  'O',\n  'O',\n  'O',\n  'O',\n  'O',\n  'O',\n  'O',\n  'O',\n  'O',\n  'I-IDIOM',\n  'I-IDIOM',\n  'I-IDIOM',\n  'O',\n  'O',\n  'O',\n  'O',\n  'O'],\n ['O',\n  'O',\n  'O',\n  'O',\n  'O',\n  'O',\n  'O',\n  'O',\n  'I-IDIOM',\n  'I-IDIOM',\n  'I-IDIOM',\n  'O'],\n ['O',\n  'O',\n  'O',\n  'O',\n  'O',\n  'O',\n  'O',\n  'O',\n  'O',\n  'O',\n  'O',\n  'O',\n  'O',\n  'O',\n  'O',\n  'O',\n  'O',\n  'O',\n  'O',\n  'O',\n  'O',\n  'O',\n  'O',\n  'O',\n  'O',\n  'O',\n  'O',\n  'O',\n  'O',\n  'O',\n  'O',\n  'O',\n  'O',\n  'I-IDIOM',\n  'I-IDIOM',\n  'I-IDIOM',\n  'O',\n  'O',\n  'O',\n  'O',\n  'O',\n  'O',\n  'O',\n  'O',\n  'O',\n  'O',\n  'O',\n  'O'],\n ['O',\n  'O',\n  'O',\n  'I-IDIOM',\n  'I-IDIOM',\n  'I-IDIOM',\n  'O',\n  'O',\n  'O',\n  'O',\n  'O',\n  'O',\n  'O',\n  'O',\n  'O',\n  'O',\n  'O',\n  'O',\n  'O',\n  'O',\n  'O',\n  'O',\n  'O'],\n ['O',\n  'O',\n  'O',\n  'O',\n  'O',\n  'O',\n  'O',\n  'O',\n  'O',\n  'O',\n  'I-IDIOM',\n  'I-IDIOM',\n  'I-IDIOM',\n  'O',\n  'O',\n  'O',\n  'O',\n  'O',\n  'O',\n  'O',\n  'O',\n  'O',\n  'O',\n  'O',\n  'O',\n  'O',\n  'O',\n  'O',\n  'O',\n  'O',\n  'O'],\n ['O', 'O', 'O', 'O', 'O', 'O', 'O', 'O', 'O', 'O'],\n ['O',\n  'O',\n  'O',\n  'O',\n  'O',\n  'O',\n  'I-IDIOM',\n  'I-IDIOM',\n  'O',\n  'O',\n  'O',\n  'O',\n  'O',\n  'O',\n  'O',\n  'O',\n  'O',\n  'O',\n  'O',\n  'O',\n  'O',\n  'O',\n  'O',\n  'O',\n  'O',\n  'O',\n  'O'],\n ['O',\n  'O',\n  'O',\n  'O',\n  'O',\n  'O',\n  'O',\n  'O',\n  'O',\n  'O',\n  'O',\n  'O',\n  'I-IDIOM',\n  'I-IDIOM',\n  'I-IDIOM',\n  'O',\n  'O',\n  'O',\n  'O',\n  'O',\n  'O',\n  'O',\n  'O',\n  'O',\n  'O',\n  'O',\n  'O',\n  'O',\n  'O',\n  'O',\n  'O',\n  'O',\n  'O'],\n ['O',\n  'O',\n  'O',\n  'O',\n  'O',\n  'O',\n  'O',\n  'O',\n  'O',\n  'O',\n  'O',\n  'O',\n  'O',\n  'O',\n  'O',\n  'O',\n  'O',\n  'O',\n  'O',\n  'O',\n  'O',\n  'O',\n  'O',\n  'O',\n  'O',\n  'O',\n  'O',\n  'O',\n  'O',\n  'O',\n  'O',\n  'I-IDIOM',\n  'I-IDIOM',\n  'O',\n  'O',\n  'O'],\n ['O', 'I-IDIOM', 'I-IDIOM', 'O'],\n ['O',\n  'O',\n  'O',\n  'O',\n  'O',\n  'O',\n  'O',\n  'O',\n  'O',\n  'O',\n  'I-IDIOM',\n  'I-IDIOM',\n  'O',\n  'O',\n  'O',\n  'O',\n  'O'],\n ['O',\n  'O',\n  'O',\n  'O',\n  'O',\n  'O',\n  'O',\n  'O',\n  'O',\n  'O',\n  'O',\n  'O',\n  'O',\n  'O',\n  'O',\n  'O',\n  'O',\n  'O',\n  'I-IDIOM',\n  'I-IDIOM',\n  'I-IDIOM',\n  'O'],\n ['O', 'O', 'I-IDIOM', 'I-IDIOM', 'I-IDIOM', 'I-IDIOM', 'O'],\n ['O',\n  'O',\n  'O',\n  'O',\n  'O',\n  'O',\n  'O',\n  'O',\n  'O',\n  'O',\n  'O',\n  'O',\n  'O',\n  'O',\n  'O',\n  'O',\n  'O',\n  'O',\n  'O',\n  'O',\n  'O',\n  'O',\n  'O',\n  'O',\n  'O',\n  'I-IDIOM',\n  'I-IDIOM',\n  'O',\n  'O',\n  'O',\n  'O',\n  'O',\n  'O',\n  'O',\n  'O',\n  'O',\n  'O',\n  'O',\n  'O',\n  'O'],\n ['O', 'I-IDIOM', 'I-IDIOM', 'I-IDIOM', 'O', 'O', 'O', 'O', 'O', 'O', 'O'],\n ['O',\n  'O',\n  'O',\n  'O',\n  'O',\n  'O',\n  'O',\n  'O',\n  'O',\n  'O',\n  'O',\n  'I-IDIOM',\n  'I-IDIOM',\n  'O',\n  'O',\n  'O',\n  'O'],\n ['O',\n  'O',\n  'O',\n  'O',\n  'O',\n  'O',\n  'O',\n  'O',\n  'O',\n  'O',\n  'O',\n  'O',\n  'O',\n  'O',\n  'O',\n  'O',\n  'O',\n  'O',\n  'O',\n  'O',\n  'O',\n  'O',\n  'O',\n  'O',\n  'O',\n  'O',\n  'O',\n  'I-IDIOM',\n  'I-IDIOM',\n  'O',\n  'O',\n  'O',\n  'O'],\n ['O',\n  'O',\n  'I-IDIOM',\n  'I-IDIOM',\n  'I-IDIOM',\n  'O',\n  'O',\n  'O',\n  'O',\n  'O',\n  'O',\n  'O',\n  'O',\n  'O',\n  'O',\n  'O',\n  'O',\n  'O',\n  'O',\n  'O',\n  'O'],\n ['O',\n  'O',\n  'O',\n  'O',\n  'I-IDIOM',\n  'I-IDIOM',\n  'I-IDIOM',\n  'O',\n  'O',\n  'O',\n  'O',\n  'O',\n  'O',\n  'O'],\n ['O',\n  'O',\n  'O',\n  'O',\n  'O',\n  'O',\n  'O',\n  'I-IDIOM',\n  'I-IDIOM',\n  'O',\n  'O',\n  'O',\n  'O',\n  'O',\n  'O',\n  'O',\n  'O',\n  'O',\n  'O',\n  'O',\n  'O',\n  'O',\n  'O',\n  'O',\n  'O',\n  'O',\n  'O',\n  'O',\n  'O',\n  'O',\n  'O'],\n ['O',\n  'O',\n  'O',\n  'O',\n  'O',\n  'O',\n  'O',\n  'O',\n  'O',\n  'O',\n  'O',\n  'O',\n  'O',\n  'O',\n  'O',\n  'O',\n  'O',\n  'O',\n  'O',\n  'O',\n  'I-IDIOM',\n  'I-IDIOM',\n  'I-IDIOM',\n  'I-IDIOM',\n  'I-IDIOM',\n  'O',\n  'O',\n  'O',\n  'O',\n  'O'],\n ['O',\n  'O',\n  'O',\n  'O',\n  'O',\n  'O',\n  'O',\n  'O',\n  'O',\n  'O',\n  'O',\n  'O',\n  'O',\n  'O',\n  'I-IDIOM',\n  'I-IDIOM',\n  'O',\n  'O',\n  'O',\n  'O',\n  'O',\n  'O',\n  'O',\n  'O',\n  'O',\n  'O',\n  'O',\n  'O',\n  'O',\n  'O',\n  'O',\n  'O',\n  'O',\n  'O',\n  'O',\n  'O',\n  'O',\n  'O',\n  'O',\n  'O',\n  'O',\n  'O',\n  'O',\n  'O',\n  'O',\n  'O',\n  'O',\n  'O',\n  'O'],\n ['O',\n  'O',\n  'O',\n  'O',\n  'O',\n  'O',\n  'O',\n  'O',\n  'O',\n  'O',\n  'O',\n  'O',\n  'O',\n  'O',\n  'O',\n  'O',\n  'O',\n  'I-IDIOM',\n  'I-IDIOM',\n  'I-IDIOM',\n  'I-IDIOM',\n  'O'],\n ['O',\n  'O',\n  'O',\n  'O',\n  'O',\n  'O',\n  'O',\n  'O',\n  'O',\n  'O',\n  'O',\n  'O',\n  'I-IDIOM',\n  'I-IDIOM',\n  'O',\n  'O',\n  'O',\n  'O',\n  'O',\n  'O',\n  'O',\n  'O',\n  'O',\n  'O',\n  'O',\n  'O',\n  'O',\n  'O',\n  'O',\n  'O',\n  'O',\n  'O',\n  'O',\n  'O',\n  'O',\n  'O',\n  'O',\n  'O',\n  'O'],\n ['O',\n  'O',\n  'O',\n  'O',\n  'O',\n  'O',\n  'O',\n  'O',\n  'O',\n  'O',\n  'O',\n  'O',\n  'O',\n  'O',\n  'O',\n  'O',\n  'O',\n  'O',\n  'O',\n  'O',\n  'O',\n  'O',\n  'I-IDIOM',\n  'I-IDIOM',\n  'I-IDIOM',\n  'O',\n  'O',\n  'O',\n  'O',\n  'O',\n  'O',\n  'O',\n  'O',\n  'O',\n  'O',\n  'O',\n  'O',\n  'O',\n  'O',\n  'O',\n  'O',\n  'O',\n  'O',\n  'O',\n  'O'],\n ['O',\n  'O',\n  'O',\n  'O',\n  'O',\n  'O',\n  'O',\n  'O',\n  'O',\n  'O',\n  'O',\n  'O',\n  'O',\n  'O',\n  'O',\n  'O',\n  'O',\n  'O',\n  'I-IDIOM',\n  'I-IDIOM',\n  'O',\n  'O',\n  'O',\n  'O',\n  'O',\n  'O',\n  'O',\n  'O',\n  'O',\n  'O'],\n ['O',\n  'O',\n  'O',\n  'O',\n  'I-IDIOM',\n  'I-IDIOM',\n  'I-IDIOM',\n  'O',\n  'O',\n  'O',\n  'O',\n  'O',\n  'O',\n  'O',\n  'O',\n  'O'],\n ['O',\n  'O',\n  'O',\n  'O',\n  'O',\n  'O',\n  'O',\n  'O',\n  'O',\n  'O',\n  'O',\n  'O',\n  'O',\n  'O',\n  'O',\n  'O',\n  'O',\n  'O',\n  'O',\n  'O',\n  'O',\n  'O',\n  'O',\n  'O',\n  'O',\n  'I-IDIOM',\n  'I-IDIOM',\n  'I-IDIOM',\n  'I-IDIOM',\n  'O',\n  'O',\n  'O',\n  'O',\n  'O',\n  'O',\n  'O',\n  'O',\n  'O',\n  'O',\n  'O',\n  'O',\n  'O',\n  'O',\n  'O',\n  'O',\n  'O',\n  'O',\n  'O',\n  'O',\n  'O',\n  'O',\n  'O'],\n ['O',\n  'O',\n  'O',\n  'O',\n  'O',\n  'O',\n  'O',\n  'O',\n  'O',\n  'O',\n  'O',\n  'O',\n  'O',\n  'O',\n  'O',\n  'I-IDIOM',\n  'I-IDIOM',\n  'I-IDIOM',\n  'O',\n  'O'],\n ['O',\n  'O',\n  'O',\n  'O',\n  'O',\n  'O',\n  'O',\n  'O',\n  'O',\n  'O',\n  'O',\n  'O',\n  'O',\n  'O',\n  'O',\n  'O',\n  'O',\n  'O',\n  'O',\n  'O',\n  'O',\n  'O',\n  'I-IDIOM',\n  'I-IDIOM',\n  'I-IDIOM',\n  'O'],\n ['O',\n  'O',\n  'I-IDIOM',\n  'I-IDIOM',\n  'O',\n  'O',\n  'O',\n  'O',\n  'O',\n  'O',\n  'O',\n  'O',\n  'O',\n  'O',\n  'O',\n  'O',\n  'O',\n  'O',\n  'O',\n  'O',\n  'O',\n  'O',\n  'O',\n  'O'],\n ['O',\n  'O',\n  'O',\n  'O',\n  'O',\n  'O',\n  'O',\n  'O',\n  'O',\n  'O',\n  'O',\n  'O',\n  'O',\n  'O',\n  'O',\n  'O',\n  'O',\n  'I-IDIOM',\n  'I-IDIOM',\n  'O',\n  'O',\n  'O',\n  'O',\n  'O',\n  'O',\n  'O',\n  'O'],\n ['O',\n  'O',\n  'O',\n  'O',\n  'O',\n  'O',\n  'O',\n  'O',\n  'O',\n  'I-IDIOM',\n  'I-IDIOM',\n  'O',\n  'O',\n  'O',\n  'O',\n  'O',\n  'O',\n  'O',\n  'O',\n  'O',\n  'O',\n  'O',\n  'O',\n  'O',\n  'O',\n  'O',\n  'O',\n  'O',\n  'O'],\n ['O',\n  'O',\n  'O',\n  'O',\n  'O',\n  'O',\n  'O',\n  'O',\n  'O',\n  'O',\n  'O',\n  'O',\n  'O',\n  'O',\n  'O',\n  'O',\n  'O',\n  'O',\n  'O',\n  'O',\n  'O',\n  'O',\n  'O',\n  'O',\n  'O',\n  'I-IDIOM',\n  'I-IDIOM',\n  'I-IDIOM',\n  'I-IDIOM',\n  'O'],\n ['O', 'O', 'O', 'O', 'O', 'I-IDIOM', 'I-IDIOM', 'I-IDIOM'],\n ['O',\n  'O',\n  'O',\n  'O',\n  'O',\n  'O',\n  'I-IDIOM',\n  'I-IDIOM',\n  'I-IDIOM',\n  'I-IDIOM',\n  'O',\n  'O',\n  'O',\n  'O',\n  'O',\n  'O',\n  'O',\n  'O',\n  'O',\n  'O',\n  'O',\n  'O',\n  'O',\n  'O',\n  'O',\n  'O',\n  'O',\n  'O',\n  'O',\n  'O',\n  'O',\n  'O',\n  'O',\n  'O',\n  'O',\n  'O',\n  'O',\n  'O',\n  'O',\n  'O',\n  'O',\n  'O',\n  'O',\n  'O',\n  'O'],\n ['O',\n  'O',\n  'O',\n  'O',\n  'O',\n  'O',\n  'O',\n  'O',\n  'O',\n  'I-IDIOM',\n  'I-IDIOM',\n  'I-IDIOM',\n  'O',\n  'O',\n  'O',\n  'O',\n  'O',\n  'O',\n  'O',\n  'O',\n  'O'],\n ['O',\n  'O',\n  'O',\n  'O',\n  'O',\n  'O',\n  'O',\n  'O',\n  'O',\n  'O',\n  'O',\n  'O',\n  'O',\n  'O',\n  'O',\n  'O',\n  'O',\n  'O',\n  'O',\n  'O',\n  'O',\n  'O',\n  'O',\n  'O',\n  'O',\n  'O',\n  'O',\n  'O',\n  'O',\n  'O',\n  'O',\n  'O',\n  'O',\n  'O',\n  'O',\n  'O',\n  'O',\n  'O',\n  'I-IDIOM',\n  'I-IDIOM',\n  'I-IDIOM',\n  'O',\n  'O',\n  'O',\n  'O',\n  'O',\n  'O',\n  'O',\n  'O',\n  'O',\n  'O',\n  'O',\n  'O'],\n ['O',\n  'O',\n  'I-IDIOM',\n  'I-IDIOM',\n  'I-IDIOM',\n  'O',\n  'O',\n  'O',\n  'O',\n  'O',\n  'O',\n  'O',\n  'O'],\n ['O',\n  'O',\n  'O',\n  'O',\n  'O',\n  'O',\n  'O',\n  'O',\n  'O',\n  'O',\n  'O',\n  'O',\n  'O',\n  'O',\n  'O',\n  'O',\n  'O',\n  'O',\n  'O',\n  'O',\n  'O',\n  'O',\n  'O',\n  'O',\n  'O',\n  'O',\n  'I-IDIOM',\n  'I-IDIOM',\n  'I-IDIOM',\n  'O'],\n ['O',\n  'O',\n  'O',\n  'O',\n  'O',\n  'O',\n  'O',\n  'O',\n  'O',\n  'O',\n  'O',\n  'O',\n  'O',\n  'O',\n  'O',\n  'O',\n  'O',\n  'O',\n  'O',\n  'O',\n  'O',\n  'O',\n  'O',\n  'O',\n  'O',\n  'O',\n  'O',\n  'O',\n  'O',\n  'O',\n  'I-IDIOM',\n  'I-IDIOM',\n  'I-IDIOM',\n  'O',\n  'O',\n  'O',\n  'O',\n  'O',\n  'O',\n  'O',\n  'O',\n  'O'],\n ['O',\n  'O',\n  'O',\n  'O',\n  'O',\n  'O',\n  'O',\n  'O',\n  'O',\n  'O',\n  'O',\n  'O',\n  'O',\n  'O',\n  'O',\n  'I-IDIOM',\n  'I-IDIOM',\n  'I-IDIOM',\n  'O',\n  'O',\n  'O',\n  'O',\n  'O',\n  'O',\n  'O',\n  'O',\n  'O',\n  'O',\n  'O',\n  'O'],\n ['O',\n  'O',\n  'O',\n  'O',\n  'O',\n  'O',\n  'O',\n  'O',\n  'O',\n  'O',\n  'I-IDIOM',\n  'I-IDIOM',\n  'I-IDIOM',\n  'I-IDIOM',\n  'O'],\n ['O',\n  'O',\n  'O',\n  'O',\n  'O',\n  'O',\n  'O',\n  'O',\n  'O',\n  'O',\n  'O',\n  'I-IDIOM',\n  'I-IDIOM',\n  'O'],\n ['O',\n  'O',\n  'O',\n  'O',\n  'O',\n  'O',\n  'O',\n  'O',\n  'O',\n  'O',\n  'O',\n  'O',\n  'O',\n  'O',\n  'O',\n  'O',\n  'O',\n  'O',\n  'O',\n  'O',\n  'O',\n  'O',\n  'O',\n  'O',\n  'O',\n  'O',\n  'O',\n  'O',\n  'O',\n  'I-IDIOM',\n  'I-IDIOM',\n  'I-IDIOM',\n  'O',\n  'O',\n  'O',\n  'O',\n  'O',\n  'O',\n  'O'],\n ['O',\n  'O',\n  'O',\n  'O',\n  'O',\n  'O',\n  'O',\n  'O',\n  'O',\n  'O',\n  'O',\n  'O',\n  'O',\n  'O',\n  'O',\n  'O',\n  'O',\n  'O',\n  'O',\n  'O',\n  'O',\n  'O',\n  'O',\n  'O',\n  'O',\n  'O',\n  'O',\n  'O',\n  'O',\n  'O',\n  'O',\n  'O',\n  'O',\n  'O',\n  'O',\n  'O',\n  'O',\n  'O',\n  'O',\n  'O',\n  'O',\n  'O',\n  'O',\n  'O',\n  'O',\n  'O',\n  'O',\n  'O',\n  'O',\n  'O',\n  'O',\n  'O',\n  'O',\n  'O',\n  'O',\n  'O',\n  'O',\n  'O',\n  'O',\n  'O',\n  'O',\n  'O',\n  'O',\n  'O',\n  'O',\n  'O',\n  'O',\n  'O',\n  'O',\n  'O',\n  'O',\n  'O',\n  'I-IDIOM',\n  'I-IDIOM',\n  'I-IDIOM',\n  'O',\n  'O',\n  'O',\n  'O',\n  'O',\n  'O',\n  'O',\n  'O',\n  'O',\n  'O'],\n ['O',\n  'O',\n  'O',\n  'O',\n  'O',\n  'O',\n  'I-IDIOM',\n  'I-IDIOM',\n  'I-IDIOM',\n  'O',\n  'O',\n  'O',\n  'O',\n  'O',\n  'O',\n  'O',\n  'O',\n  'O',\n  'O',\n  'O',\n  'O',\n  'O'],\n ['O', 'O', 'O', 'O', 'O', 'O', 'O'],\n ['O',\n  'O',\n  'O',\n  'O',\n  'O',\n  'O',\n  'O',\n  'O',\n  'O',\n  'O',\n  'O',\n  'O',\n  'O',\n  'I-IDIOM',\n  'I-IDIOM',\n  'I-IDIOM',\n  'I-IDIOM',\n  'O',\n  'O',\n  'O',\n  'O',\n  'O'],\n ['O',\n  'O',\n  'O',\n  'I-IDIOM',\n  'I-IDIOM',\n  'I-IDIOM',\n  'I-IDIOM',\n  'O',\n  'O',\n  'O',\n  'O',\n  'O',\n  'O',\n  'O',\n  'O',\n  'O',\n  'O',\n  'O',\n  'O',\n  'O',\n  'O',\n  'O',\n  'O',\n  'O',\n  'O',\n  'O'],\n ['O', 'O', 'O', 'I-IDIOM', 'I-IDIOM', 'I-IDIOM', 'I-IDIOM'],\n ['O',\n  'O',\n  'O',\n  'O',\n  'O',\n  'O',\n  'O',\n  'O',\n  'O',\n  'I-IDIOM',\n  'I-IDIOM',\n  'I-IDIOM',\n  'O',\n  'O',\n  'O',\n  'O',\n  'O',\n  'O',\n  'O',\n  'O',\n  'O',\n  'O',\n  'O',\n  'O',\n  'O',\n  'O',\n  'O',\n  'O',\n  'O',\n  'O'],\n ['O',\n  'O',\n  'O',\n  'O',\n  'O',\n  'O',\n  'O',\n  'O',\n  'O',\n  'O',\n  'O',\n  'O',\n  'O',\n  'O',\n  'O',\n  'O',\n  'O',\n  'I-IDIOM',\n  'I-IDIOM',\n  'O',\n  'O',\n  'O',\n  'O',\n  'O',\n  'O',\n  'O',\n  'O',\n  'O',\n  'O'],\n ['O',\n  'O',\n  'O',\n  'O',\n  'O',\n  'O',\n  'O',\n  'O',\n  'O',\n  'O',\n  'O',\n  'O',\n  'O',\n  'O',\n  'O',\n  'I-IDIOM',\n  'I-IDIOM',\n  'I-IDIOM',\n  'O'],\n ['O',\n  'O',\n  'O',\n  'O',\n  'O',\n  'O',\n  'O',\n  'O',\n  'O',\n  'I-IDIOM',\n  'I-IDIOM',\n  'I-IDIOM',\n  'O',\n  'O',\n  'O',\n  'O'],\n ['O',\n  'O',\n  'O',\n  'O',\n  'O',\n  'O',\n  'O',\n  'O',\n  'O',\n  'O',\n  'O',\n  'O',\n  'O',\n  'O',\n  'I-IDIOM',\n  'I-IDIOM',\n  'O',\n  'O',\n  'O',\n  'O',\n  'O',\n  'O',\n  'O',\n  'O',\n  'O',\n  'O',\n  'O',\n  'O',\n  'O',\n  'O',\n  'O',\n  'O',\n  'O',\n  'O',\n  'O',\n  'O',\n  'O',\n  'O',\n  'O',\n  'O',\n  'O',\n  'O',\n  'O'],\n ['O',\n  'O',\n  'O',\n  'I-IDIOM',\n  'I-IDIOM',\n  'I-IDIOM',\n  'O',\n  'O',\n  'O',\n  'O',\n  'O',\n  'O',\n  'O',\n  'O',\n  'O',\n  'O',\n  'O',\n  'O',\n  'O',\n  'O',\n  'O',\n  'O',\n  'O',\n  'O',\n  'O'],\n ['O',\n  'O',\n  'O',\n  'O',\n  'O',\n  'O',\n  'O',\n  'O',\n  'O',\n  'O',\n  'O',\n  'O',\n  'O',\n  'O',\n  'O',\n  'O',\n  'O',\n  'O',\n  'O',\n  'O',\n  'O',\n  'O',\n  'I-IDIOM',\n  'I-IDIOM',\n  'O'],\n ['O',\n  'O',\n  'O',\n  'O',\n  'O',\n  'O',\n  'I-IDIOM',\n  'I-IDIOM',\n  'I-IDIOM',\n  'I-IDIOM',\n  'O',\n  'O',\n  'O',\n  'O',\n  'O',\n  'O',\n  'O',\n  'O',\n  'O'],\n ['O',\n  'O',\n  'O',\n  'O',\n  'O',\n  'O',\n  'I-IDIOM',\n  'I-IDIOM',\n  'I-IDIOM',\n  'I-IDIOM',\n  'I-IDIOM',\n  'O'],\n ['O',\n  'O',\n  'O',\n  'O',\n  'O',\n  'O',\n  'O',\n  'O',\n  'O',\n  'O',\n  'O',\n  'O',\n  'O',\n  'I-IDIOM',\n  'I-IDIOM',\n  'I-IDIOM',\n  'O',\n  'O',\n  'O',\n  'O',\n  'O',\n  'O'],\n ['O',\n  'O',\n  'O',\n  'O',\n  'O',\n  'O',\n  'O',\n  'O',\n  'I-IDIOM',\n  'I-IDIOM',\n  'I-IDIOM',\n  'O',\n  'O',\n  'O',\n  'O',\n  'O',\n  'O',\n  'O',\n  'O',\n  'O',\n  'O',\n  'O',\n  'O',\n  'O',\n  'O',\n  'O'],\n ['O',\n  'O',\n  'O',\n  'O',\n  'O',\n  'O',\n  'O',\n  'O',\n  'O',\n  'I-IDIOM',\n  'I-IDIOM',\n  'O',\n  'O',\n  'O',\n  'O',\n  'O',\n  'O',\n  'O',\n  'O'],\n ['O',\n  'O',\n  'O',\n  'O',\n  'O',\n  'O',\n  'O',\n  'O',\n  'O',\n  'O',\n  'O',\n  'O',\n  'O',\n  'O',\n  'O',\n  'O',\n  'O',\n  'O',\n  'O',\n  'O',\n  'O',\n  'O',\n  'O',\n  'O',\n  'O',\n  'O',\n  'O',\n  'O',\n  'O',\n  'O',\n  'O',\n  'O',\n  'O',\n  'O',\n  'O',\n  'O',\n  'O',\n  'O',\n  'O',\n  'O',\n  'O',\n  'O',\n  'O',\n  'O',\n  'O',\n  'O',\n  'O',\n  'O',\n  'O',\n  'I-IDIOM',\n  'I-IDIOM',\n  'I-IDIOM',\n  'O'],\n ['O', 'I-IDIOM', 'I-IDIOM', 'O', 'O', 'O', 'O', 'O', 'O', 'O'],\n ['O',\n  'O',\n  'O',\n  'I-IDIOM',\n  'I-IDIOM',\n  'O',\n  'O',\n  'O',\n  'O',\n  'O',\n  'O',\n  'O',\n  'O',\n  'O',\n  'O',\n  'O',\n  'O',\n  'O'],\n ['O',\n  'O',\n  'O',\n  'O',\n  'O',\n  'O',\n  'O',\n  'O',\n  'O',\n  'O',\n  'O',\n  'O',\n  'O',\n  'O',\n  'I-IDIOM',\n  'I-IDIOM',\n  'I-IDIOM',\n  'O',\n  'O',\n  'O',\n  'O',\n  'O',\n  'O'],\n ['O',\n  'O',\n  'O',\n  'O',\n  'O',\n  'O',\n  'O',\n  'O',\n  'O',\n  'O',\n  'O',\n  'O',\n  'O',\n  'O',\n  'O',\n  'O',\n  'O',\n  'O',\n  'O',\n  'O',\n  'O',\n  'O',\n  'O',\n  'O',\n  'O',\n  'O',\n  'O',\n  'O',\n  'O',\n  'O',\n  'O',\n  'O',\n  'I-IDIOM',\n  'I-IDIOM',\n  'I-IDIOM',\n  'I-IDIOM',\n  'O'],\n ['O',\n  'O',\n  'I-IDIOM',\n  'I-IDIOM',\n  'I-IDIOM',\n  'O',\n  'O',\n  'O',\n  'O',\n  'O',\n  'O',\n  'O',\n  'O',\n  'O',\n  'O',\n  'O'],\n ['O',\n  'O',\n  'O',\n  'O',\n  'O',\n  'O',\n  'O',\n  'O',\n  'O',\n  'O',\n  'O',\n  'O',\n  'O',\n  'O',\n  'O',\n  'O',\n  'O',\n  'O',\n  'O',\n  'I-IDIOM',\n  'I-IDIOM',\n  'I-IDIOM',\n  'O',\n  'O',\n  'O',\n  'O',\n  'O',\n  'O',\n  'O',\n  'O',\n  'O',\n  'O',\n  'O'],\n ['O',\n  'O',\n  'O',\n  'O',\n  'O',\n  'O',\n  'O',\n  'O',\n  'O',\n  'O',\n  'O',\n  'O',\n  'I-IDIOM',\n  'I-IDIOM',\n  'I-IDIOM',\n  'O',\n  'O',\n  'O',\n  'O',\n  'O',\n  'O',\n  'O',\n  'O'],\n ['O',\n  'O',\n  'O',\n  'O',\n  'O',\n  'O',\n  'O',\n  'O',\n  'O',\n  'O',\n  'O',\n  'O',\n  'O',\n  'O',\n  'I-IDIOM',\n  'I-IDIOM',\n  'I-IDIOM',\n  'I-IDIOM',\n  'O',\n  'O',\n  'O',\n  'O',\n  'O',\n  'O',\n  'O',\n  'O',\n  'O',\n  'O'],\n ['O',\n  'O',\n  'O',\n  'O',\n  'O',\n  'O',\n  'O',\n  'O',\n  'I-IDIOM',\n  'I-IDIOM',\n  'O',\n  'O',\n  'O',\n  'O',\n  'O',\n  'O',\n  'O',\n  'O',\n  'O',\n  'O',\n  'O',\n  'O',\n  'O',\n  'O',\n  'O',\n  'O',\n  'O',\n  'O',\n  'O',\n  'O',\n  'O',\n  'O',\n  'O',\n  'O'],\n ['O',\n  'O',\n  'O',\n  'O',\n  'O',\n  'O',\n  'O',\n  'O',\n  'O',\n  'O',\n  'O',\n  'O',\n  'I-IDIOM',\n  'I-IDIOM',\n  'I-IDIOM',\n  'I-IDIOM',\n  'O'],\n ['O',\n  'O',\n  'O',\n  'I-IDIOM',\n  'I-IDIOM',\n  'I-IDIOM',\n  'I-IDIOM',\n  'O',\n  'O',\n  'O',\n  'O',\n  'O'],\n ['O',\n  'O',\n  'O',\n  'O',\n  'I-IDIOM',\n  'I-IDIOM',\n  'O',\n  'O',\n  'O',\n  'O',\n  'O',\n  'O',\n  'O',\n  'O',\n  'O',\n  'O',\n  'O',\n  'O'],\n ['O',\n  'I-IDIOM',\n  'I-IDIOM',\n  'I-IDIOM',\n  'O',\n  'O',\n  'O',\n  'O',\n  'O',\n  'O',\n  'O',\n  'O',\n  'O',\n  'O',\n  'O',\n  'O',\n  'O',\n  'O',\n  'O',\n  'O',\n  'O',\n  'O',\n  'O',\n  'O',\n  'O',\n  'O',\n  'O',\n  'O',\n  'O',\n  'O'],\n ['O',\n  'O',\n  'O',\n  'O',\n  'O',\n  'O',\n  'O',\n  'O',\n  'O',\n  'O',\n  'O',\n  'O',\n  'O',\n  'I-IDIOM',\n  'I-IDIOM',\n  'I-IDIOM',\n  'I-IDIOM',\n  'O'],\n ['O',\n  'O',\n  'O',\n  'I-IDIOM',\n  'I-IDIOM',\n  'I-IDIOM',\n  'I-IDIOM',\n  'I-IDIOM',\n  'O',\n  'O',\n  'O',\n  'O',\n  'O'],\n ['O',\n  'O',\n  'O',\n  'O',\n  'O',\n  'O',\n  'O',\n  'O',\n  'O',\n  'O',\n  'O',\n  'O',\n  'O',\n  'O',\n  'O',\n  'O',\n  'O',\n  'O',\n  'I-IDIOM',\n  'I-IDIOM',\n  'I-IDIOM',\n  'I-IDIOM',\n  'O'],\n ['O',\n  'O',\n  'O',\n  'O',\n  'O',\n  'O',\n  'O',\n  'O',\n  'O',\n  'O',\n  'O',\n  'O',\n  'O',\n  'O',\n  'O',\n  'O',\n  'O',\n  'O',\n  'O',\n  'O',\n  'O',\n  'O',\n  'O',\n  'O',\n  'O',\n  'I-IDIOM',\n  'I-IDIOM',\n  'I-IDIOM',\n  'O'],\n ['O',\n  'O',\n  'O',\n  'O',\n  'O',\n  'O',\n  'I-IDIOM',\n  'I-IDIOM',\n  'I-IDIOM',\n  'O',\n  'O',\n  'O',\n  'O',\n  'O',\n  'O',\n  'O',\n  'O'],\n ['O',\n  'O',\n  'O',\n  'O',\n  'O',\n  'O',\n  'O',\n  'O',\n  'O',\n  'O',\n  'O',\n  'O',\n  'O',\n  'O',\n  'O',\n  'I-IDIOM',\n  'I-IDIOM',\n  'O',\n  'O',\n  'O',\n  'O',\n  'O',\n  'O',\n  'O',\n  'O',\n  'O',\n  'O',\n  'O',\n  'O',\n  'O',\n  'O',\n  'O',\n  'O',\n  'O',\n  'O',\n  'O',\n  'O',\n  'O',\n  'O',\n  'O',\n  'O',\n  'O'],\n ['O', 'O', 'O', 'O', 'O', 'O', 'O', 'O', 'O', 'O', 'O', 'O', 'O', 'O', 'O'],\n ['O',\n  'O',\n  'O',\n  'O',\n  'O',\n  'O',\n  'O',\n  'O',\n  'O',\n  'O',\n  'O',\n  'O',\n  'O',\n  'O',\n  'I-IDIOM',\n  'I-IDIOM',\n  'I-IDIOM',\n  'I-IDIOM',\n  'O',\n  'O',\n  'O',\n  'O',\n  'O',\n  'O',\n  'O',\n  'O',\n  'O',\n  'O',\n  'O',\n  'O',\n  'O',\n  'O',\n  'O',\n  'O'],\n ['O', 'O', 'O', 'O', 'I-IDIOM', 'I-IDIOM', 'I-IDIOM', 'O', 'O', 'O', 'O'],\n ['O',\n  'O',\n  'O',\n  'O',\n  'O',\n  'O',\n  'O',\n  'O',\n  'O',\n  'O',\n  'O',\n  'O',\n  'O',\n  'O',\n  'O',\n  'O',\n  'O',\n  'O',\n  'O',\n  'O',\n  'O',\n  'O',\n  'O',\n  'O',\n  'O',\n  'O',\n  'O',\n  'O',\n  'O',\n  'O',\n  'I-IDIOM',\n  'I-IDIOM',\n  'I-IDIOM',\n  'I-IDIOM',\n  'I-IDIOM',\n  'O',\n  'O'],\n ['O',\n  'O',\n  'O',\n  'O',\n  'O',\n  'O',\n  'O',\n  'O',\n  'O',\n  'O',\n  'O',\n  'O',\n  'O',\n  'I-IDIOM',\n  'I-IDIOM',\n  'I-IDIOM',\n  'O'],\n ['O',\n  'O',\n  'O',\n  'O',\n  'O',\n  'O',\n  'O',\n  'O',\n  'O',\n  'O',\n  'O',\n  'O',\n  'O',\n  'O',\n  'O',\n  'O',\n  'O',\n  'O',\n  'O',\n  'O',\n  'O',\n  'O',\n  'O',\n  'O',\n  'O',\n  'O',\n  'O',\n  'O',\n  'O',\n  'O',\n  'O',\n  'I-IDIOM',\n  'I-IDIOM',\n  'I-IDIOM',\n  'O',\n  'O',\n  'O',\n  'O',\n  'O',\n  'O',\n  'O',\n  'O',\n  'O',\n  'O',\n  'O'],\n ['O',\n  'O',\n  'O',\n  'O',\n  'O',\n  'O',\n  'O',\n  'O',\n  'I-IDIOM',\n  'I-IDIOM',\n  'I-IDIOM',\n  'O',\n  'O',\n  'O',\n  'O',\n  'O',\n  'O',\n  'O',\n  'O',\n  'O',\n  'O',\n  'O',\n  'O',\n  'O',\n  'O'],\n ['O',\n  'O',\n  'O',\n  'O',\n  'O',\n  'O',\n  'O',\n  'O',\n  'O',\n  'O',\n  'O',\n  'O',\n  'O',\n  'O',\n  'O',\n  'O',\n  'O',\n  'O',\n  'O',\n  'O',\n  'O',\n  'O',\n  'O',\n  'O',\n  'O',\n  'O',\n  'O',\n  'O',\n  'O',\n  'O',\n  'I-IDIOM',\n  'I-IDIOM',\n  'I-IDIOM',\n  'O',\n  'O',\n  'O'],\n ['O', 'O', 'O', 'O', 'O', 'O', 'O', 'O', 'O', 'I-IDIOM', 'I-IDIOM', 'O'],\n ['O',\n  'O',\n  'O',\n  'O',\n  'O',\n  'O',\n  'O',\n  'O',\n  'O',\n  'O',\n  'O',\n  'O',\n  'O',\n  'O',\n  'O',\n  'O',\n  'O',\n  'O',\n  'O',\n  'O',\n  'O',\n  'O',\n  'O',\n  'O',\n  'O',\n  'O',\n  'O',\n  'O',\n  'O',\n  'O',\n  'O',\n  'O',\n  'O',\n  'O',\n  'O',\n  'O',\n  'O',\n  'O',\n  'O',\n  'O',\n  'I-IDIOM',\n  'I-IDIOM',\n  'I-IDIOM',\n  'O',\n  'O',\n  'O',\n  'O',\n  'O'],\n ['O',\n  'O',\n  'O',\n  'O',\n  'O',\n  'O',\n  'O',\n  'O',\n  'I-IDIOM',\n  'I-IDIOM',\n  'I-IDIOM',\n  'O',\n  'O',\n  'O',\n  'O',\n  'O',\n  'O'],\n ['O',\n  'O',\n  'O',\n  'O',\n  'O',\n  'O',\n  'O',\n  'O',\n  'O',\n  'O',\n  'O',\n  'I-IDIOM',\n  'I-IDIOM',\n  'I-IDIOM',\n  'O',\n  'O',\n  'O',\n  'O',\n  'O',\n  'O',\n  'O',\n  'O',\n  'O',\n  'O',\n  'O',\n  'O',\n  'O',\n  'O',\n  'O',\n  'O',\n  'O',\n  'O',\n  'O',\n  'O',\n  'O',\n  'O',\n  'O',\n  'O',\n  'O',\n  'O',\n  'O',\n  'O'],\n ['O',\n  'O',\n  'O',\n  'O',\n  'O',\n  'O',\n  'O',\n  'O',\n  'O',\n  'O',\n  'O',\n  'O',\n  'O',\n  'O',\n  'O',\n  'O',\n  'O',\n  'O',\n  'O',\n  'O',\n  'O',\n  'O',\n  'O',\n  'O',\n  'O',\n  'O',\n  'O',\n  'O',\n  'O',\n  'O',\n  'O',\n  'O',\n  'O',\n  'O',\n  'O',\n  'O',\n  'O',\n  'O',\n  'O',\n  'O',\n  'O',\n  'O',\n  'O'],\n ['O',\n  'O',\n  'O',\n  'O',\n  'O',\n  'O',\n  'O',\n  'O',\n  'O',\n  'O',\n  'O',\n  'O',\n  'O',\n  'O',\n  'O',\n  'O',\n  'O',\n  'O',\n  'O',\n  'O',\n  'O',\n  'O',\n  'O',\n  'O',\n  'O',\n  'O',\n  'O',\n  'O',\n  'O',\n  'O',\n  'O',\n  'O',\n  'O',\n  'O',\n  'O',\n  'O',\n  'O',\n  'O',\n  'O',\n  'O',\n  'O',\n  'O',\n  'O',\n  'O',\n  'O',\n  'O',\n  'O',\n  'O',\n  'O',\n  'O',\n  'O',\n  'O',\n  'O',\n  'O',\n  'O',\n  'O',\n  'O',\n  'O',\n  'O',\n  'O',\n  'O',\n  'O',\n  'O',\n  'O',\n  'O',\n  'O',\n  'O',\n  'O',\n  'O',\n  'O',\n  'O',\n  'O',\n  'O',\n  'O',\n  'O',\n  'O',\n  'O',\n  'O',\n  'O',\n  'O',\n  'O',\n  'O',\n  'O',\n  'O',\n  'O',\n  'O',\n  'O',\n  'O',\n  'O',\n  'O',\n  'O',\n  'O',\n  'O',\n  'O',\n  'O',\n  'O',\n  'O',\n  'O',\n  'O',\n  'O',\n  'O',\n  'I-IDIOM',\n  'I-IDIOM',\n  'I-IDIOM',\n  'I-IDIOM',\n  'I-IDIOM',\n  'I-IDIOM',\n  'O',\n  'O',\n  'O',\n  'O',\n  'O',\n  'O',\n  'O',\n  'O',\n  'O',\n  'O',\n  'O',\n  'O',\n  'O',\n  'O',\n  'O',\n  'O',\n  'O',\n  'O',\n  'O',\n  'O',\n  'O',\n  'O',\n  'O',\n  'O',\n  'O',\n  'O',\n  'O',\n  'O',\n  'O',\n  'O',\n  'O',\n  'O',\n  'O',\n  'O',\n  'O',\n  'O',\n  'O',\n  'O',\n  'O',\n  'O',\n  'O',\n  'O',\n  'O',\n  'O',\n  'O',\n  'O',\n  'O',\n  'O',\n  'O',\n  'O',\n  'O'],\n ['O',\n  'O',\n  'O',\n  'O',\n  'O',\n  'I-IDIOM',\n  'I-IDIOM',\n  'I-IDIOM',\n  'O',\n  'O',\n  'O',\n  'O',\n  'O',\n  'O',\n  'O',\n  'O',\n  'O',\n  'O',\n  'O',\n  'O',\n  'O',\n  'O',\n  'O',\n  'O',\n  'O',\n  'O',\n  'O',\n  'O'],\n ['O',\n  'O',\n  'O',\n  'O',\n  'O',\n  'O',\n  'O',\n  'I-IDIOM',\n  'I-IDIOM',\n  'I-IDIOM',\n  'O',\n  'O',\n  'O',\n  'O',\n  'O',\n  'O',\n  'O',\n  'O',\n  'O',\n  'O',\n  'O',\n  'O',\n  'O',\n  'O',\n  'O',\n  'O',\n  'O',\n  'O'],\n ['O',\n  'O',\n  'O',\n  'O',\n  'O',\n  'O',\n  'O',\n  'O',\n  'I-IDIOM',\n  'I-IDIOM',\n  'I-IDIOM',\n  'O',\n  'O',\n  'O',\n  'O',\n  'O',\n  'O'],\n ['O',\n  'O',\n  'O',\n  'O',\n  'O',\n  'O',\n  'O',\n  'O',\n  'O',\n  'O',\n  'I-IDIOM',\n  'I-IDIOM',\n  'I-IDIOM',\n  'O',\n  'O',\n  'O',\n  'O',\n  'O',\n  'O',\n  'O',\n  'O',\n  'O',\n  'O',\n  'O',\n  'O'],\n ['O',\n  'O',\n  'O',\n  'O',\n  'O',\n  'O',\n  'O',\n  'O',\n  'O',\n  'O',\n  'O',\n  'O',\n  'O',\n  'O',\n  'O',\n  'O',\n  'O',\n  'O',\n  'O',\n  'O',\n  'O',\n  'O',\n  'O',\n  'I-IDIOM',\n  'I-IDIOM',\n  'O',\n  'O',\n  'O',\n  'O',\n  'O'],\n ['O',\n  'O',\n  'O',\n  'O',\n  'O',\n  'O',\n  'O',\n  'O',\n  'O',\n  'O',\n  'O',\n  'O',\n  'O',\n  'O',\n  'O',\n  'O',\n  'O',\n  'O',\n  'O',\n  'O',\n  'O',\n  'O',\n  'O',\n  'O',\n  'O',\n  'I-IDIOM',\n  'I-IDIOM',\n  'I-IDIOM',\n  'O',\n  'O',\n  'O',\n  'O',\n  'O',\n  'O',\n  'O',\n  'O',\n  'O',\n  'O'],\n ['O',\n  'O',\n  'O',\n  'O',\n  'O',\n  'O',\n  'O',\n  'O',\n  'O',\n  'O',\n  'O',\n  'O',\n  'O',\n  'O',\n  'O',\n  'O',\n  'O',\n  'O',\n  'O',\n  'O',\n  'O',\n  'O',\n  'O',\n  'O',\n  'O',\n  'O',\n  'O',\n  'O',\n  'O',\n  'O',\n  'O',\n  'O',\n  'O',\n  'O',\n  'O',\n  'O',\n  'O',\n  'O',\n  'O',\n  'O',\n  'O',\n  'O',\n  'O',\n  'O',\n  'O',\n  'O',\n  'O',\n  'O',\n  'O',\n  'O',\n  'O',\n  'O',\n  'O',\n  'O',\n  'O',\n  'O',\n  'O',\n  'I-IDIOM',\n  'I-IDIOM',\n  'I-IDIOM',\n  'O',\n  'O',\n  'O',\n  'O',\n  'O',\n  'O',\n  'O',\n  'O',\n  'O',\n  'O',\n  'O',\n  'O',\n  'O',\n  'O',\n  'O',\n  'O',\n  'O',\n  'O',\n  'O',\n  'O',\n  'O',\n  'O',\n  'O',\n  'O',\n  'O',\n  'O',\n  'O',\n  'O',\n  'O',\n  'O',\n  'O',\n  'O',\n  'O',\n  'O',\n  'O',\n  'O',\n  'O',\n  'O'],\n ['O', 'O', 'O', 'I-IDIOM', 'I-IDIOM', 'O'],\n ['O',\n  'O',\n  'O',\n  'O',\n  'O',\n  'O',\n  'O',\n  'O',\n  'O',\n  'O',\n  'O',\n  'O',\n  'I-IDIOM',\n  'I-IDIOM',\n  'I-IDIOM',\n  'O'],\n ['O',\n  'O',\n  'O',\n  'O',\n  'O',\n  'O',\n  'O',\n  'O',\n  'O',\n  'O',\n  'O',\n  'O',\n  'O',\n  'O',\n  'O',\n  'O',\n  'O',\n  'O',\n  'O',\n  'I-IDIOM',\n  'I-IDIOM',\n  'I-IDIOM',\n  'O',\n  'O',\n  'O',\n  'O'],\n ['O',\n  'O',\n  'O',\n  'O',\n  'O',\n  'O',\n  'O',\n  'O',\n  'O',\n  'O',\n  'O',\n  'O',\n  'O',\n  'O',\n  'O',\n  'O',\n  'O',\n  'O',\n  'O',\n  'O',\n  'O',\n  'O',\n  'O',\n  'O',\n  'O',\n  'O',\n  'O',\n  'O',\n  'O',\n  'O',\n  'I-IDIOM',\n  'I-IDIOM',\n  'O'],\n ['O',\n  'O',\n  'O',\n  'O',\n  'O',\n  'O',\n  'O',\n  'O',\n  'O',\n  'O',\n  'O',\n  'O',\n  'O',\n  'O',\n  'O',\n  'O',\n  'O',\n  'O',\n  'O',\n  'I-IDIOM',\n  'I-IDIOM',\n  'I-IDIOM',\n  'I-IDIOM',\n  'O',\n  'O',\n  'O',\n  'O',\n  'O',\n  'O',\n  'O',\n  'O',\n  'O',\n  'O',\n  'O',\n  'O',\n  'O',\n  'O',\n  'O',\n  'O',\n  'O'],\n ['O',\n  'O',\n  'O',\n  'O',\n  'O',\n  'O',\n  'O',\n  'O',\n  'O',\n  'O',\n  'O',\n  'O',\n  'I-IDIOM',\n  'I-IDIOM',\n  'I-IDIOM',\n  'I-IDIOM',\n  'I-IDIOM',\n  'O'],\n ['O', 'O', 'O', 'I-IDIOM', 'I-IDIOM', 'I-IDIOM', 'O'],\n ['O',\n  'O',\n  'O',\n  'O',\n  'O',\n  'O',\n  'O',\n  'O',\n  'O',\n  'I-IDIOM',\n  'I-IDIOM',\n  'I-IDIOM',\n  'O',\n  'O',\n  'O',\n  'O',\n  'O',\n  'O',\n  'O',\n  'O',\n  'O',\n  'O',\n  'O',\n  'O',\n  'O',\n  'O',\n  'O',\n  'O',\n  'O',\n  'O',\n  'O',\n  'O',\n  'O',\n  'O',\n  'O',\n  'O',\n  'O',\n  'O',\n  'O',\n  'O',\n  'O',\n  'O',\n  'O',\n  'O',\n  'O',\n  'O',\n  'O',\n  'O',\n  'O',\n  'O',\n  'O'],\n ['O',\n  'O',\n  'I-IDIOM',\n  'I-IDIOM',\n  'I-IDIOM',\n  'O',\n  'O',\n  'O',\n  'O',\n  'O',\n  'O',\n  'O',\n  'O',\n  'O',\n  'O',\n  'O',\n  'O',\n  'O',\n  'O',\n  'O',\n  'O',\n  'O',\n  'O',\n  'O',\n  'O',\n  'O',\n  'O',\n  'O',\n  'O',\n  'O',\n  'O',\n  'O',\n  'O',\n  'O',\n  'O',\n  'O',\n  'O',\n  'O',\n  'O',\n  'O',\n  'O',\n  'O',\n  'O',\n  'O',\n  'O',\n  'O',\n  'O',\n  'O',\n  'O',\n  'O',\n  'O',\n  'O',\n  'O',\n  'O',\n  'O',\n  'O',\n  'O',\n  'O',\n  'O',\n  'O',\n  'O',\n  'O',\n  'O',\n  'O',\n  'O',\n  'O',\n  'O',\n  'O',\n  'O',\n  'O',\n  'O',\n  'O',\n  'O',\n  'O',\n  'O',\n  'O',\n  'O',\n  'O',\n  'O',\n  'O',\n  'O',\n  'O',\n  'O'],\n ['O',\n  'O',\n  'O',\n  'O',\n  'O',\n  'O',\n  'O',\n  'O',\n  'O',\n  'O',\n  'O',\n  'O',\n  'O',\n  'O',\n  'O',\n  'O',\n  'O',\n  'O',\n  'O',\n  'O',\n  'O',\n  'O',\n  'O',\n  'O',\n  'O',\n  'O',\n  'O',\n  'O',\n  'O',\n  'O',\n  'O',\n  'O',\n  'O',\n  'O',\n  'O',\n  'O',\n  'I-IDIOM',\n  'I-IDIOM',\n  'I-IDIOM',\n  'O',\n  'O',\n  'O',\n  'O'],\n ['O',\n  'O',\n  'O',\n  'O',\n  'O',\n  'O',\n  'O',\n  'O',\n  'O',\n  'O',\n  'O',\n  'O',\n  'O',\n  'O',\n  'O',\n  'I-IDIOM',\n  'I-IDIOM',\n  'I-IDIOM',\n  'O',\n  'O',\n  'O',\n  'O',\n  'O',\n  'O',\n  'O'],\n ['O',\n  'O',\n  'O',\n  'O',\n  'O',\n  'O',\n  'O',\n  'O',\n  'O',\n  'O',\n  'O',\n  'O',\n  'O',\n  'O',\n  'O',\n  'O',\n  'O',\n  'O',\n  'O',\n  'O',\n  'O',\n  'O',\n  'O',\n  'I-IDIOM',\n  'I-IDIOM',\n  'O',\n  'O',\n  'O',\n  'O',\n  'O',\n  'O',\n  'O',\n  'O',\n  'O',\n  'O',\n  'O',\n  'O',\n  'O',\n  'O',\n  'O',\n  'O',\n  'O',\n  'O',\n  'O',\n  'O',\n  'O',\n  'O',\n  'O',\n  'O',\n  'O'],\n ['O',\n  'O',\n  'O',\n  'O',\n  'I-IDIOM',\n  'I-IDIOM',\n  'O',\n  'O',\n  'O',\n  'O',\n  'O',\n  'O',\n  'O',\n  'O',\n  'O',\n  'O',\n  'O',\n  'O',\n  'O',\n  'O',\n  'O'],\n ['O',\n  'O',\n  'O',\n  'O',\n  'O',\n  'O',\n  'O',\n  'O',\n  'O',\n  'O',\n  'O',\n  'I-IDIOM',\n  'I-IDIOM',\n  'I-IDIOM',\n  'O',\n  'O',\n  'O'],\n ['O',\n  'O',\n  'O',\n  'O',\n  'O',\n  'O',\n  'O',\n  'I-IDIOM',\n  'I-IDIOM',\n  'I-IDIOM',\n  'I-IDIOM',\n  'O',\n  'O',\n  'O',\n  'O',\n  'O',\n  'O',\n  'O',\n  'O',\n  'O',\n  'O',\n  'O',\n  'O',\n  'O',\n  'O',\n  'O',\n  'O',\n  'O',\n  'O',\n  'O',\n  'O',\n  'O',\n  'O',\n  'O',\n  'O',\n  'O',\n  'O',\n  'O',\n  'O',\n  'O',\n  'O'],\n ['O',\n  'O',\n  'O',\n  'O',\n  'O',\n  'I-IDIOM',\n  'I-IDIOM',\n  'O',\n  'O',\n  'O',\n  'O',\n  'O',\n  'O',\n  'O',\n  'O',\n  'O',\n  'O',\n  'O',\n  'O',\n  'O',\n  'O',\n  'O'],\n ['O',\n  'O',\n  'O',\n  'O',\n  'O',\n  'O',\n  'O',\n  'O',\n  'O',\n  'O',\n  'O',\n  'O',\n  'O',\n  'O',\n  'O',\n  'O',\n  'O',\n  'I-IDIOM',\n  'I-IDIOM',\n  'I-IDIOM',\n  'O'],\n ['O',\n  'O',\n  'O',\n  'O',\n  'O',\n  'O',\n  'O',\n  'O',\n  'O',\n  'O',\n  'O',\n  'O',\n  'O',\n  'O',\n  'O',\n  'O',\n  'O',\n  'O',\n  'O',\n  'O',\n  'O',\n  'I-IDIOM',\n  'I-IDIOM',\n  'I-IDIOM',\n  'O',\n  'O',\n  'O',\n  'O'],\n ['O',\n  'O',\n  'O',\n  'O',\n  'O',\n  'O',\n  'O',\n  'O',\n  'O',\n  'O',\n  'O',\n  'O',\n  'O',\n  'I-IDIOM',\n  'I-IDIOM',\n  'I-IDIOM'],\n ['O',\n  'O',\n  'O',\n  'O',\n  'O',\n  'O',\n  'I-IDIOM',\n  'I-IDIOM',\n  'I-IDIOM',\n  'O',\n  'O',\n  'O',\n  'O',\n  'O',\n  'O',\n  'O',\n  'O',\n  'O',\n  'O',\n  'O',\n  'O',\n  'O',\n  'O',\n  'O',\n  'O',\n  'O',\n  'O',\n  'O',\n  'O',\n  'O',\n  'O',\n  'O',\n  'O',\n  'O',\n  'O',\n  'O',\n  'O',\n  'O',\n  'O',\n  'O',\n  'O',\n  'O',\n  'O',\n  'O',\n  'O',\n  'O',\n  'O',\n  'O',\n  'O',\n  'O',\n  'O',\n  'O',\n  'O',\n  'O'],\n ['O',\n  'O',\n  'O',\n  'O',\n  'O',\n  'O',\n  'O',\n  'O',\n  'O',\n  'O',\n  'O',\n  'O',\n  'O',\n  'O',\n  'O',\n  'O',\n  'O',\n  'O',\n  'O',\n  'O',\n  'O',\n  'O',\n  'O',\n  'O',\n  'O',\n  'O',\n  'O',\n  'I-IDIOM',\n  'I-IDIOM',\n  'I-IDIOM',\n  'O',\n  'O',\n  'O',\n  'O',\n  'O',\n  'O',\n  'O',\n  'O',\n  'O',\n  'O',\n  'O',\n  'O',\n  'O',\n  'O',\n  'O',\n  'O'],\n ['O',\n  'O',\n  'O',\n  'O',\n  'O',\n  'O',\n  'O',\n  'I-IDIOM',\n  'I-IDIOM',\n  'I-IDIOM',\n  'I-IDIOM',\n  'O'],\n ['O',\n  'O',\n  'O',\n  'O',\n  'O',\n  'O',\n  'O',\n  'O',\n  'O',\n  'O',\n  'O',\n  'O',\n  'O',\n  'O',\n  'O',\n  'O',\n  'O',\n  'I-IDIOM',\n  'I-IDIOM',\n  'O',\n  'O',\n  'O',\n  'O',\n  'O',\n  'O',\n  'O'],\n ['O', 'O', 'I-IDIOM', 'I-IDIOM', 'I-IDIOM', 'O', 'O', 'O', 'O', 'O', 'O'],\n ['O',\n  'O',\n  'O',\n  'O',\n  'O',\n  'O',\n  'O',\n  'O',\n  'O',\n  'O',\n  'O',\n  'O',\n  'O',\n  'I-IDIOM',\n  'I-IDIOM',\n  'I-IDIOM',\n  'O',\n  'O',\n  'O'],\n ['O',\n  'O',\n  'O',\n  'O',\n  'O',\n  'O',\n  'O',\n  'O',\n  'O',\n  'O',\n  'O',\n  'O',\n  'I-IDIOM',\n  'I-IDIOM',\n  'I-IDIOM',\n  'O',\n  'O',\n  'O',\n  'O',\n  'O',\n  'O',\n  'O',\n  'O',\n  'O',\n  'O',\n  'O',\n  'O',\n  'O',\n  'O',\n  'O',\n  'O',\n  'O',\n  'O',\n  'O',\n  'O',\n  'O',\n  'O',\n  'O',\n  'O',\n  'O',\n  'O',\n  'O',\n  'O',\n  'O',\n  'O',\n  'O',\n  'O',\n  'O',\n  'O',\n  'O',\n  'O',\n  'O',\n  'O',\n  'O'],\n ['O',\n  'O',\n  'O',\n  'O',\n  'O',\n  'O',\n  'O',\n  'I-IDIOM',\n  'I-IDIOM',\n  'I-IDIOM',\n  'O',\n  'O',\n  'O',\n  'O',\n  'O',\n  'O',\n  'O',\n  'O',\n  'O'],\n ['O',\n  'O',\n  'O',\n  'O',\n  'O',\n  'O',\n  'O',\n  'O',\n  'O',\n  'O',\n  'I-IDIOM',\n  'I-IDIOM',\n  'I-IDIOM',\n  'I-IDIOM',\n  'I-IDIOM',\n  'O'],\n ['O',\n  'O',\n  'O',\n  'O',\n  'O',\n  'O',\n  'O',\n  'O',\n  'O',\n  'O',\n  'O',\n  'O',\n  'O',\n  'O',\n  'O',\n  'O',\n  'O',\n  'O',\n  'O',\n  'O',\n  'O',\n  'I-IDIOM',\n  'I-IDIOM',\n  'I-IDIOM',\n  'I-IDIOM',\n  'I-IDIOM',\n  'O'],\n ['O',\n  'O',\n  'O',\n  'O',\n  'O',\n  'O',\n  'O',\n  'O',\n  'O',\n  'O',\n  'O',\n  'O',\n  'O',\n  'O',\n  'O',\n  'O',\n  'O',\n  'O',\n  'O',\n  'O',\n  'O',\n  'O',\n  'O',\n  'O',\n  'O',\n  'O',\n  'O',\n  'O',\n  'O',\n  'O',\n  'O',\n  'O',\n  'O',\n  'O',\n  'O',\n  'O',\n  'O',\n  'O',\n  'O',\n  'I-IDIOM',\n  'I-IDIOM',\n  'O'],\n ['O', 'O', 'O', 'O', 'O', 'I-IDIOM', 'I-IDIOM'],\n ['O',\n  'O',\n  'O',\n  'O',\n  'O',\n  'O',\n  'O',\n  'O',\n  'O',\n  'O',\n  'O',\n  'O',\n  'O',\n  'O',\n  'O',\n  'O',\n  'I-IDIOM',\n  'I-IDIOM',\n  'O'],\n ['O',\n  'O',\n  'O',\n  'O',\n  'O',\n  'O',\n  'O',\n  'O',\n  'O',\n  'O',\n  'O',\n  'O',\n  'O',\n  'O',\n  'O',\n  'O',\n  'O',\n  'O',\n  'O',\n  'O',\n  'O',\n  'I-IDIOM',\n  'I-IDIOM',\n  'O'],\n ['O', 'O', 'I-IDIOM', 'I-IDIOM', 'O', 'O', 'O'],\n ['O',\n  'O',\n  'O',\n  'O',\n  'O',\n  'O',\n  'O',\n  'O',\n  'O',\n  'O',\n  'O',\n  'O',\n  'O',\n  'O',\n  'O',\n  'I-IDIOM',\n  'I-IDIOM',\n  'I-IDIOM',\n  'O'],\n ['O',\n  'O',\n  'O',\n  'I-IDIOM',\n  'I-IDIOM',\n  'I-IDIOM',\n  'O',\n  'O',\n  'O',\n  'O',\n  'O',\n  'O',\n  'O',\n  'O',\n  'O',\n  'O'],\n ['O',\n  'O',\n  'O',\n  'O',\n  'O',\n  'O',\n  'O',\n  'O',\n  'O',\n  'O',\n  'O',\n  'O',\n  'O',\n  'I-IDIOM',\n  'I-IDIOM',\n  'I-IDIOM',\n  'O'],\n ['O',\n  'O',\n  'O',\n  'O',\n  'O',\n  'O',\n  'O',\n  'O',\n  'O',\n  'O',\n  'O',\n  'I-IDIOM',\n  'I-IDIOM',\n  'I-IDIOM',\n  'O'],\n ['O',\n  'O',\n  'O',\n  'O',\n  'O',\n  'O',\n  'O',\n  'O',\n  'O',\n  'O',\n  'O',\n  'O',\n  'O',\n  'O',\n  'O',\n  'O',\n  'O',\n  'O',\n  'O',\n  'O',\n  'O',\n  'O',\n  'O',\n  'O',\n  'O',\n  'O',\n  'O',\n  'O',\n  'O',\n  'O',\n  'O',\n  'O',\n  'O',\n  'O',\n  'O',\n  'O',\n  'O',\n  'O',\n  'O',\n  'O',\n  'O',\n  'O',\n  'O',\n  'O',\n  'O',\n  'O',\n  'O',\n  'O',\n  'I-IDIOM',\n  'I-IDIOM',\n  'I-IDIOM',\n  'O'],\n ['O',\n  'O',\n  'O',\n  'O',\n  'O',\n  'O',\n  'I-IDIOM',\n  'I-IDIOM',\n  'I-IDIOM',\n  'O',\n  'O',\n  'O',\n  'O',\n  'O',\n  'O',\n  'O',\n  'O',\n  'O',\n  'O'],\n ['O',\n  'O',\n  'O',\n  'O',\n  'O',\n  'O',\n  'O',\n  'O',\n  'O',\n  'O',\n  'O',\n  'O',\n  'O',\n  'O',\n  'O',\n  'O',\n  'O',\n  'O',\n  'O',\n  'O',\n  'O',\n  'O',\n  'O',\n  'O',\n  'O',\n  'O',\n  'O',\n  'O',\n  'O',\n  'O',\n  'O',\n  'I-IDIOM',\n  'I-IDIOM',\n  'I-IDIOM',\n  'O',\n  'O',\n  'O',\n  'O',\n  'O',\n  'O',\n  'O',\n  'O',\n  'O',\n  'O',\n  'O',\n  'O',\n  'O',\n  'O',\n  'O',\n  'O',\n  'O',\n  'O',\n  'O',\n  'O',\n  'O',\n  'O',\n  'O',\n  'O',\n  'O',\n  'O',\n  'O',\n  'O',\n  'O',\n  'O',\n  'O',\n  'O',\n  'O',\n  'O',\n  'O',\n  'O',\n  'O',\n  'O',\n  'O',\n  'O',\n  'O',\n  'O',\n  'O',\n  'O',\n  'O',\n  'O',\n  'O',\n  'O',\n  'O',\n  'O',\n  'O',\n  'O',\n  'O',\n  'O',\n  'O',\n  'O',\n  'O',\n  'O',\n  'O',\n  'O',\n  'O',\n  'O',\n  'O',\n  'O',\n  'O',\n  'O',\n  'O'],\n ['I-IDIOM', 'I-IDIOM', 'I-IDIOM', 'O'],\n ['O',\n  'O',\n  'O',\n  'O',\n  'O',\n  'O',\n  'O',\n  'O',\n  'O',\n  'O',\n  'O',\n  'O',\n  'O',\n  'O',\n  'O',\n  'O',\n  'O',\n  'O',\n  'O',\n  'O',\n  'O',\n  'O',\n  'O',\n  'O',\n  'O',\n  'O',\n  'O',\n  'O',\n  'I-IDIOM',\n  'I-IDIOM',\n  'I-IDIOM',\n  'O',\n  'O',\n  'O',\n  'O',\n  'O'],\n ['O', 'O', 'O', 'O', 'O', 'O', 'O', 'I-IDIOM', 'I-IDIOM', 'I-IDIOM', 'O'],\n ['O', 'O', 'O', 'O', 'O', 'O', 'I-IDIOM', 'I-IDIOM', 'I-IDIOM', 'O', 'O'],\n ['O',\n  'O',\n  'O',\n  'O',\n  'O',\n  'O',\n  'O',\n  'O',\n  'O',\n  'O',\n  'O',\n  'O',\n  'O',\n  'O',\n  'O',\n  'O',\n  'O',\n  'O',\n  'O',\n  'O',\n  'O',\n  'O',\n  'O',\n  'O',\n  'O',\n  'O',\n  'O',\n  'I-IDIOM',\n  'I-IDIOM',\n  'I-IDIOM',\n  'I-IDIOM',\n  'O',\n  'O',\n  'O',\n  'O',\n  'O',\n  'O',\n  'O',\n  'O',\n  'O',\n  'O',\n  'O',\n  'O',\n  'O',\n  'O',\n  'O',\n  'O',\n  'O',\n  'O',\n  'O',\n  'O',\n  'O',\n  'O',\n  'O',\n  'O',\n  'O',\n  'O',\n  'O',\n  'O',\n  'O',\n  'O',\n  'O'],\n ['O',\n  'O',\n  'O',\n  'O',\n  'O',\n  'O',\n  'O',\n  'O',\n  'O',\n  'O',\n  'O',\n  'O',\n  'O',\n  'O',\n  'O',\n  'O',\n  'O',\n  'I-IDIOM',\n  'I-IDIOM',\n  'I-IDIOM',\n  'I-IDIOM',\n  'I-IDIOM',\n  'O',\n  'O',\n  'O',\n  'O',\n  'O',\n  'O',\n  'O',\n  'O',\n  'O',\n  'O',\n  'O',\n  'O',\n  'O'],\n ['O', 'O', 'O', 'O', 'O', 'I-IDIOM', 'I-IDIOM', 'I-IDIOM', 'O', 'O'],\n ['O',\n  'O',\n  'O',\n  'O',\n  'O',\n  'I-IDIOM',\n  'I-IDIOM',\n  'O',\n  'O',\n  'O',\n  'O',\n  'O',\n  'O',\n  'O'],\n ['O',\n  'O',\n  'O',\n  'O',\n  'O',\n  'O',\n  'O',\n  'O',\n  'O',\n  'O',\n  'O',\n  'O',\n  'O',\n  'O',\n  'O',\n  'I-IDIOM',\n  'I-IDIOM',\n  'O',\n  'O',\n  'O'],\n ['O',\n  'O',\n  'O',\n  'O',\n  'O',\n  'O',\n  'I-IDIOM',\n  'I-IDIOM',\n  'I-IDIOM',\n  'O',\n  'O',\n  'O',\n  'O',\n  'O',\n  'O',\n  'O',\n  'O',\n  'O',\n  'O',\n  'O',\n  'O',\n  'O',\n  'O',\n  'O',\n  'O',\n  'O',\n  'O',\n  'O',\n  'O',\n  'O'],\n ['O',\n  'O',\n  'O',\n  'O',\n  'I-IDIOM',\n  'I-IDIOM',\n  'O',\n  'O',\n  'O',\n  'O',\n  'O',\n  'O',\n  'O',\n  'O',\n  'O',\n  'O',\n  'O',\n  'O',\n  'O',\n  'O',\n  'O',\n  'O',\n  'O',\n  'O',\n  'O',\n  'O'],\n ['O',\n  'O',\n  'O',\n  'O',\n  'O',\n  'O',\n  'O',\n  'O',\n  'O',\n  'O',\n  'O',\n  'O',\n  'O',\n  'O',\n  'O',\n  'O',\n  'O',\n  'O',\n  'O',\n  'O',\n  'O',\n  'O',\n  'O',\n  'I-IDIOM',\n  'I-IDIOM',\n  'I-IDIOM',\n  'O'],\n ['O', 'O', 'I-IDIOM', 'I-IDIOM', 'I-IDIOM', 'O', 'O', 'O', 'O'],\n ['O',\n  'O',\n  'O',\n  'O',\n  'O',\n  'O',\n  'O',\n  'O',\n  'O',\n  'O',\n  'O',\n  'O',\n  'O',\n  'O',\n  'O',\n  'O',\n  'O',\n  'O',\n  'O',\n  'O',\n  'O',\n  'O',\n  'O',\n  'O',\n  'O',\n  'O',\n  'O',\n  'O',\n  'O',\n  'O',\n  'O',\n  'O',\n  'O',\n  'O',\n  'O',\n  'O',\n  'O',\n  'O',\n  'O',\n  'O',\n  'O',\n  'O',\n  'I-IDIOM',\n  'I-IDIOM',\n  'I-IDIOM',\n  'O',\n  'O',\n  'O',\n  'O',\n  'O',\n  'O',\n  'O',\n  'O',\n  'O',\n  'O',\n  'O',\n  'O'],\n ['O',\n  'O',\n  'O',\n  'O',\n  'O',\n  'O',\n  'O',\n  'O',\n  'O',\n  'O',\n  'O',\n  'O',\n  'O',\n  'O',\n  'O',\n  'O',\n  'I-IDIOM',\n  'I-IDIOM',\n  'I-IDIOM',\n  'O',\n  'O',\n  'O',\n  'O',\n  'O'],\n ['O',\n  'O',\n  'O',\n  'O',\n  'O',\n  'O',\n  'O',\n  'O',\n  'O',\n  'O',\n  'O',\n  'O',\n  'O',\n  'O',\n  'O',\n  'O',\n  'O',\n  'O',\n  'O',\n  'O',\n  'O',\n  'O',\n  'O',\n  'O',\n  'O',\n  'O',\n  'O',\n  'O',\n  'O',\n  'O',\n  'O',\n  'O',\n  'O',\n  'O',\n  'O',\n  'O',\n  'O',\n  'O',\n  'O',\n  'O',\n  'O',\n  'O',\n  'O',\n  'O',\n  'O',\n  'O',\n  'O',\n  'O',\n  'O',\n  'O',\n  'O',\n  'O',\n  'I-IDIOM',\n  'I-IDIOM',\n  'I-IDIOM',\n  'O',\n  'O',\n  'O'],\n ['O',\n  'O',\n  'O',\n  'O',\n  'I-IDIOM',\n  'I-IDIOM',\n  'O',\n  'O',\n  'O',\n  'O',\n  'O',\n  'O',\n  'O',\n  'O',\n  'O',\n  'O',\n  'O',\n  'O',\n  'O',\n  'O',\n  'O',\n  'O'],\n ['O',\n  'O',\n  'O',\n  'O',\n  'O',\n  'O',\n  'O',\n  'O',\n  'O',\n  'O',\n  'O',\n  'O',\n  'O',\n  'O',\n  'O',\n  'O',\n  'O',\n  'I-IDIOM',\n  'I-IDIOM',\n  'I-IDIOM',\n  'O',\n  'O'],\n ['O',\n  'O',\n  'O',\n  'O',\n  'O',\n  'O',\n  'O',\n  'I-IDIOM',\n  'I-IDIOM',\n  'I-IDIOM',\n  'O',\n  'O',\n  'O',\n  'O',\n  'O',\n  'O',\n  'O',\n  'O',\n  'O',\n  'O',\n  'O',\n  'O',\n  'O',\n  'O',\n  'O',\n  'O',\n  'O',\n  'O',\n  'O'],\n ['O',\n  'O',\n  'O',\n  'O',\n  'O',\n  'O',\n  'O',\n  'O',\n  'O',\n  'O',\n  'O',\n  'O',\n  'O',\n  'O',\n  'O',\n  'O',\n  'O',\n  'I-IDIOM',\n  'I-IDIOM',\n  'I-IDIOM',\n  'O'],\n ['O', 'O', 'O', 'O', 'O', 'O', 'O', 'O', 'O', 'O', 'I-IDIOM', 'I-IDIOM', 'O'],\n ['O',\n  'O',\n  'O',\n  'O',\n  'O',\n  'O',\n  'O',\n  'O',\n  'O',\n  'O',\n  'O',\n  'O',\n  'O',\n  'O',\n  'O',\n  'O',\n  'O',\n  'O',\n  'O',\n  'O',\n  'O',\n  'O',\n  'O',\n  'O',\n  'O',\n  'O',\n  'O',\n  'O',\n  'I-IDIOM',\n  'I-IDIOM',\n  'I-IDIOM',\n  'O'],\n ['O',\n  'O',\n  'O',\n  'O',\n  'O',\n  'O',\n  'O',\n  'I-IDIOM',\n  'I-IDIOM',\n  'I-IDIOM',\n  'I-IDIOM',\n  'O'],\n ['O',\n  'O',\n  'I-IDIOM',\n  'I-IDIOM',\n  'I-IDIOM',\n  'I-IDIOM',\n  'I-IDIOM',\n  'O',\n  'O',\n  'O',\n  'O',\n  'O',\n  'O',\n  'O',\n  'O',\n  'O',\n  'O',\n  'O',\n  'O',\n  'O',\n  'O',\n  'O',\n  'O',\n  'O',\n  'O',\n  'O',\n  'O',\n  'O',\n  'O',\n  'O',\n  'O',\n  'O',\n  'O',\n  'O',\n  'O',\n  'O',\n  'O',\n  'O',\n  'O',\n  'O',\n  'O',\n  'O'],\n ['O',\n  'O',\n  'O',\n  'O',\n  'O',\n  'O',\n  'O',\n  'O',\n  'O',\n  'I-IDIOM',\n  'I-IDIOM',\n  'I-IDIOM',\n  'I-IDIOM',\n  'I-IDIOM',\n  'O',\n  'O',\n  'O'],\n ['O',\n  'O',\n  'O',\n  'O',\n  'O',\n  'O',\n  'O',\n  'O',\n  'O',\n  'O',\n  'O',\n  'O',\n  'O',\n  'O',\n  'O',\n  'O',\n  'O',\n  'O',\n  'O',\n  'O',\n  'O',\n  'I-IDIOM',\n  'I-IDIOM',\n  'I-IDIOM',\n  'O',\n  'O',\n  'O',\n  'O',\n  'O',\n  'O',\n  'O'],\n ['O',\n  'O',\n  'O',\n  'O',\n  'O',\n  'O',\n  'O',\n  'O',\n  'O',\n  'O',\n  'O',\n  'O',\n  'O',\n  'O',\n  'O',\n  'O',\n  'O',\n  'O',\n  'O',\n  'O',\n  'O',\n  'O',\n  'O',\n  'O',\n  'O',\n  'O',\n  'O',\n  'O',\n  'O',\n  'O',\n  'O',\n  'O',\n  'O',\n  'O',\n  'O',\n  'O',\n  'O',\n  'O',\n  'O',\n  'I-IDIOM',\n  'I-IDIOM',\n  'O',\n  'O',\n  'O',\n  'O',\n  'O'],\n ['O',\n  'O',\n  'O',\n  'O',\n  'O',\n  'O',\n  'O',\n  'O',\n  'O',\n  'O',\n  'O',\n  'I-IDIOM',\n  'I-IDIOM',\n  'O',\n  'O',\n  'O',\n  'O',\n  'O',\n  'O',\n  'O',\n  'O',\n  'O',\n  'O'],\n ['O',\n  'O',\n  'O',\n  'O',\n  'O',\n  'O',\n  'O',\n  'O',\n  'O',\n  'O',\n  'O',\n  'O',\n  'O',\n  'O',\n  'O',\n  'O',\n  'O',\n  'O',\n  'O',\n  'I-IDIOM',\n  'I-IDIOM',\n  'I-IDIOM',\n  'O',\n  'O',\n  'O',\n  'O',\n  'O',\n  'O'],\n ['O',\n  'O',\n  'O',\n  'O',\n  'O',\n  'O',\n  'O',\n  'O',\n  'O',\n  'O',\n  'O',\n  'O',\n  'O',\n  'O',\n  'O',\n  'O',\n  'I-IDIOM',\n  'I-IDIOM',\n  'I-IDIOM',\n  'O'],\n ['O', 'O', 'O', 'O', 'I-IDIOM', 'I-IDIOM', 'I-IDIOM', 'O', 'O', 'O', 'O'],\n ['O',\n  'O',\n  'O',\n  'O',\n  'O',\n  'O',\n  'O',\n  'O',\n  'O',\n  'O',\n  'I-IDIOM',\n  'I-IDIOM',\n  'O',\n  'O',\n  'O',\n  'O',\n  'O',\n  'O',\n  'O',\n  'O',\n  'O',\n  'O',\n  'O',\n  'O',\n  'O',\n  'O',\n  'O',\n  'O',\n  'O'],\n ['O',\n  'O',\n  'O',\n  'O',\n  'I-IDIOM',\n  'I-IDIOM',\n  'I-IDIOM',\n  'O',\n  'O',\n  'O',\n  'O',\n  'O'],\n ['O',\n  'O',\n  'O',\n  'O',\n  'O',\n  'O',\n  'O',\n  'O',\n  'O',\n  'I-IDIOM',\n  'I-IDIOM',\n  'O',\n  'O',\n  'O',\n  'O',\n  'O',\n  'O',\n  'O',\n  'O',\n  'O',\n  'O',\n  'O',\n  'O',\n  'O',\n  'O',\n  'O',\n  'O',\n  'O',\n  'O',\n  'O',\n  'O',\n  'O',\n  'O',\n  'O',\n  'O',\n  'O',\n  'O',\n  'O',\n  'O',\n  'O',\n  'O',\n  'O'],\n ['O',\n  'O',\n  'O',\n  'O',\n  'O',\n  'O',\n  'O',\n  'O',\n  'O',\n  'O',\n  'O',\n  'O',\n  'O',\n  'O',\n  'O',\n  'O',\n  'O',\n  'O',\n  'O',\n  'O',\n  'O',\n  'O',\n  'O',\n  'O',\n  'O',\n  'O',\n  'O',\n  'O',\n  'I-IDIOM',\n  'I-IDIOM',\n  'I-IDIOM',\n  'I-IDIOM',\n  'I-IDIOM',\n  'O'],\n ['O',\n  'O',\n  'O',\n  'O',\n  'O',\n  'O',\n  'O',\n  'O',\n  'O',\n  'O',\n  'O',\n  'O',\n  'O',\n  'I-IDIOM',\n  'I-IDIOM',\n  'I-IDIOM',\n  'O'],\n ['O',\n  'O',\n  'O',\n  'O',\n  'O',\n  'O',\n  'O',\n  'O',\n  'I-IDIOM',\n  'I-IDIOM',\n  'O',\n  'O',\n  'O',\n  'O',\n  'O',\n  'O',\n  'O',\n  'O',\n  'O',\n  'O',\n  'O',\n  'O',\n  'O',\n  'O',\n  'O',\n  'O',\n  'O',\n  'O',\n  'O',\n  'O',\n  'O',\n  'O',\n  'O',\n  'O',\n  'O',\n  'O',\n  'O',\n  'O',\n  'O',\n  'O'],\n ['O',\n  'O',\n  'O',\n  'O',\n  'O',\n  'O',\n  'O',\n  'O',\n  'O',\n  'O',\n  'O',\n  'I-IDIOM',\n  'I-IDIOM',\n  'I-IDIOM',\n  'O'],\n ['O',\n  'O',\n  'O',\n  'O',\n  'O',\n  'O',\n  'I-IDIOM',\n  'I-IDIOM',\n  'I-IDIOM',\n  'I-IDIOM',\n  'O',\n  'O',\n  'O',\n  'O',\n  'O',\n  'O',\n  'O',\n  'O',\n  'O',\n  'O',\n  'O',\n  'O',\n  'O',\n  'O',\n  'O',\n  'O',\n  'O',\n  'O',\n  'O',\n  'O',\n  'O',\n  'O',\n  'O',\n  'O',\n  'O',\n  'O',\n  'O',\n  'O',\n  'O',\n  'O',\n  'O',\n  'O'],\n ['O',\n  'O',\n  'O',\n  'O',\n  'O',\n  'O',\n  'O',\n  'O',\n  'O',\n  'O',\n  'O',\n  'O',\n  'O',\n  'I-IDIOM',\n  'I-IDIOM',\n  'O'],\n ['O', 'O', 'O', 'I-IDIOM', 'I-IDIOM', 'I-IDIOM', 'O', 'O'],\n ['O',\n  'O',\n  'O',\n  'O',\n  'O',\n  'I-IDIOM',\n  'I-IDIOM',\n  'O',\n  'O',\n  'O',\n  'O',\n  'O',\n  'O',\n  'O',\n  'O',\n  'O',\n  'O',\n  'O'],\n ['O',\n  'O',\n  'O',\n  'O',\n  'O',\n  'O',\n  'O',\n  'O',\n  'O',\n  'I-IDIOM',\n  'I-IDIOM',\n  'I-IDIOM',\n  'O',\n  'O',\n  'O',\n  'O',\n  'O',\n  'O',\n  'O',\n  'O',\n  'O',\n  'O'],\n ['O',\n  'O',\n  'O',\n  'O',\n  'O',\n  'O',\n  'O',\n  'O',\n  'I-IDIOM',\n  'I-IDIOM',\n  'O',\n  'O',\n  'O',\n  'O',\n  'O',\n  'O',\n  'O',\n  'O',\n  'O',\n  'O',\n  'O',\n  'O',\n  'O',\n  'O',\n  'O',\n  'O',\n  'O'],\n ['O',\n  'O',\n  'O',\n  'O',\n  'O',\n  'O',\n  'O',\n  'O',\n  'O',\n  'O',\n  'O',\n  'O',\n  'O',\n  'O',\n  'O',\n  'I-IDIOM',\n  'I-IDIOM',\n  'O'],\n ['O',\n  'O',\n  'O',\n  'O',\n  'O',\n  'O',\n  'O',\n  'O',\n  'O',\n  'O',\n  'O',\n  'O',\n  'O',\n  'O',\n  'I-IDIOM',\n  'I-IDIOM',\n  'O',\n  'O',\n  'O'],\n ['O',\n  'O',\n  'I-IDIOM',\n  'I-IDIOM',\n  'I-IDIOM',\n  'I-IDIOM',\n  'O',\n  'O',\n  'O',\n  'O',\n  'O',\n  'O',\n  'O',\n  'O',\n  'O'],\n ['O',\n  'O',\n  'O',\n  'O',\n  'O',\n  'O',\n  'O',\n  'O',\n  'O',\n  'O',\n  'O',\n  'O',\n  'O',\n  'O',\n  'O',\n  'O',\n  'O',\n  'O',\n  'O',\n  'O',\n  'O',\n  'O',\n  'O',\n  'O',\n  'O',\n  'O',\n  'O',\n  'O',\n  'O',\n  'O',\n  'O',\n  'O',\n  'O',\n  'O',\n  'O',\n  'O',\n  'O',\n  'O',\n  'O',\n  'O',\n  'O',\n  'O',\n  'O',\n  'O',\n  'O',\n  'O',\n  'O',\n  'O',\n  'O',\n  'O',\n  'O',\n  'O',\n  'O',\n  'O',\n  'O',\n  'O',\n  'O',\n  'O',\n  'O',\n  'O',\n  'O',\n  'O',\n  'O',\n  'O',\n  'O',\n  'O',\n  'O',\n  'O',\n  'O',\n  'O',\n  'O',\n  'O',\n  'O',\n  'O',\n  'I-IDIOM',\n  'I-IDIOM',\n  'I-IDIOM',\n  'O',\n  'O',\n  'O',\n  'O',\n  'O'],\n ['O',\n  'O',\n  'O',\n  'O',\n  'O',\n  'O',\n  'O',\n  'O',\n  'O',\n  'O',\n  'O',\n  'O',\n  'O',\n  'O',\n  'O',\n  'O',\n  'O',\n  'O',\n  'O',\n  'O',\n  'O',\n  'O',\n  'O',\n  'O',\n  'O',\n  'O',\n  'O',\n  'O',\n  'O',\n  'O',\n  'O',\n  'O',\n  'O',\n  'I-IDIOM',\n  'I-IDIOM',\n  'I-IDIOM',\n  'O',\n  'O',\n  'O',\n  'O',\n  'O',\n  'O',\n  'O',\n  'O',\n  'O',\n  'O',\n  'O',\n  'O',\n  'O',\n  'O',\n  'O',\n  'O',\n  'O',\n  'O'],\n ['O',\n  'O',\n  'O',\n  'O',\n  'O',\n  'O',\n  'O',\n  'O',\n  'O',\n  'O',\n  'O',\n  'O',\n  'O',\n  'O',\n  'O',\n  'O',\n  'I-IDIOM',\n  'I-IDIOM',\n  'I-IDIOM',\n  'O'],\n ['O',\n  'O',\n  'O',\n  'O',\n  'O',\n  'O',\n  'O',\n  'O',\n  'O',\n  'O',\n  'O',\n  'O',\n  'O',\n  'O',\n  'O',\n  'O',\n  'O',\n  'O',\n  'O',\n  'O',\n  'O',\n  'O',\n  'O',\n  'O',\n  'O'],\n ['O',\n  'O',\n  'O',\n  'O',\n  'O',\n  'O',\n  'O',\n  'I-IDIOM',\n  'I-IDIOM',\n  'I-IDIOM',\n  'O',\n  'O',\n  'O',\n  'O',\n  'O',\n  'O',\n  'O',\n  'O',\n  'O',\n  'O',\n  'O',\n  'O',\n  'O',\n  'O',\n  'O',\n  'O',\n  'O',\n  'O',\n  'O',\n  'O',\n  'O',\n  'O'],\n ['O',\n  'O',\n  'O',\n  'O',\n  'O',\n  'O',\n  'O',\n  'O',\n  'O',\n  'O',\n  'O',\n  'O',\n  'O',\n  'O',\n  'I-IDIOM',\n  'I-IDIOM',\n  'O',\n  'O',\n  'O',\n  'O',\n  'O',\n  'O',\n  'O',\n  'O',\n  'O',\n  'O',\n  'O',\n  'O',\n  'O',\n  'O',\n  'O',\n  'O',\n  'O',\n  'O',\n  'O'],\n ['I-IDIOM', 'I-IDIOM', 'O', 'O', 'O'],\n ['O',\n  'O',\n  'O',\n  'O',\n  'O',\n  'O',\n  'O',\n  'O',\n  'O',\n  'O',\n  'O',\n  'O',\n  'O',\n  'O',\n  'O',\n  'O',\n  'O',\n  'O',\n  'O',\n  'O',\n  'O',\n  'O',\n  'O',\n  'O',\n  'O',\n  'O',\n  'O',\n  'O',\n  'O',\n  'O',\n  'I-IDIOM',\n  'I-IDIOM',\n  'I-IDIOM',\n  'O',\n  'O',\n  'O',\n  'O',\n  'O',\n  'O',\n  'O'],\n ['O', 'O', 'I-IDIOM', 'I-IDIOM', 'O', 'O', 'O'],\n ['O', 'O', 'O', 'O', 'O', 'O', 'O', 'O', 'O', 'O', 'I-IDIOM', 'I-IDIOM', 'O'],\n ['O',\n  'O',\n  'O',\n  'O',\n  'O',\n  'O',\n  'O',\n  'O',\n  'O',\n  'O',\n  'O',\n  'O',\n  'O',\n  'O',\n  'I-IDIOM',\n  'I-IDIOM',\n  'O',\n  'O',\n  'O',\n  'O',\n  'O',\n  'O',\n  'O',\n  'O',\n  'O',\n  'O',\n  'O',\n  'O',\n  'O',\n  'O',\n  'O',\n  'O',\n  'O',\n  'O',\n  'O',\n  'O',\n  'O',\n  'O',\n  'O',\n  'O',\n  'O',\n  'O',\n  'O',\n  'O',\n  'O',\n  'O'],\n ['O',\n  'O',\n  'O',\n  'O',\n  'O',\n  'O',\n  'O',\n  'O',\n  'O',\n  'O',\n  'O',\n  'O',\n  'O',\n  'O',\n  'O',\n  'O',\n  'O',\n  'O',\n  'O',\n  'O',\n  'O',\n  'O',\n  'O',\n  'O',\n  'O',\n  'O',\n  'O',\n  'O',\n  'O',\n  'O',\n  'O',\n  'O',\n  'O',\n  'O',\n  'O',\n  'O',\n  'O',\n  'O',\n  'O',\n  'O',\n  'O',\n  'O',\n  'O',\n  'O',\n  'O',\n  'O',\n  'I-IDIOM',\n  'I-IDIOM',\n  'O',\n  'O',\n  'O',\n  'O',\n  'O',\n  'O',\n  'O',\n  'O',\n  'O',\n  'O',\n  'O',\n  'O',\n  'O',\n  'O',\n  'O'],\n ['O',\n  'O',\n  'O',\n  'O',\n  'O',\n  'I-IDIOM',\n  'I-IDIOM',\n  'I-IDIOM',\n  'O',\n  'O',\n  'O',\n  'O',\n  'O',\n  'O',\n  'O',\n  'O',\n  'O',\n  'O',\n  'O',\n  'O',\n  'O',\n  'O',\n  'O',\n  'O'],\n ['O',\n  'O',\n  'O',\n  'O',\n  'O',\n  'O',\n  'O',\n  'O',\n  'I-IDIOM',\n  'I-IDIOM',\n  'O',\n  'O',\n  'O',\n  'O',\n  'O',\n  'O',\n  'O',\n  'O',\n  'O',\n  'O',\n  'O',\n  'O',\n  'O',\n  'O',\n  'O'],\n ['O',\n  'O',\n  'O',\n  'O',\n  'O',\n  'O',\n  'I-IDIOM',\n  'I-IDIOM',\n  'I-IDIOM',\n  'O',\n  'O',\n  'O',\n  'O',\n  'O',\n  'O',\n  'O',\n  'O',\n  'O',\n  'O',\n  'O'],\n ['O',\n  'O',\n  'O',\n  'O',\n  'O',\n  'O',\n  'O',\n  'O',\n  'O',\n  'O',\n  'O',\n  'O',\n  'O',\n  'O',\n  'O',\n  'O',\n  'O',\n  'O',\n  'O',\n  'O',\n  'O',\n  'O',\n  'O',\n  'O',\n  'O',\n  'O',\n  'O',\n  'I-IDIOM',\n  'I-IDIOM',\n  'I-IDIOM',\n  'O',\n  'O',\n  'O',\n  'O',\n  'O',\n  'O',\n  'O',\n  'O',\n  'O',\n  'O',\n  'O',\n  'O',\n  'O',\n  'O',\n  'O',\n  'O'],\n ['O',\n  'O',\n  'O',\n  'O',\n  'O',\n  'O',\n  'O',\n  'O',\n  'O',\n  'O',\n  'O',\n  'O',\n  'O',\n  'O',\n  'O',\n  'O',\n  'O',\n  'O',\n  'O',\n  'O',\n  'O',\n  'O',\n  'I-IDIOM',\n  'I-IDIOM',\n  'I-IDIOM',\n  'O'],\n ['O', 'O', 'O', 'O', 'O', 'I-IDIOM', 'I-IDIOM', 'I-IDIOM', 'O'],\n ['O',\n  'O',\n  'O',\n  'O',\n  'O',\n  'O',\n  'O',\n  'O',\n  'O',\n  'O',\n  'O',\n  'O',\n  'I-IDIOM',\n  'I-IDIOM',\n  'I-IDIOM',\n  'O',\n  'O',\n  'O',\n  'O'],\n ['O',\n  'O',\n  'O',\n  'O',\n  'O',\n  'O',\n  'O',\n  'O',\n  'O',\n  'I-IDIOM',\n  'I-IDIOM',\n  'O',\n  'O',\n  'O',\n  'O',\n  'O',\n  'O',\n  'O',\n  'O',\n  'O',\n  'O',\n  'O'],\n ['O',\n  'O',\n  'O',\n  'O',\n  'O',\n  'O',\n  'O',\n  'O',\n  'O',\n  'O',\n  'O',\n  'O',\n  'O',\n  'O',\n  'O',\n  'O',\n  'O',\n  'O',\n  'O',\n  'O',\n  'O',\n  'O',\n  'O',\n  'O',\n  'O',\n  'O',\n  'O',\n  'O',\n  'O',\n  'O',\n  'O',\n  'O',\n  'O',\n  'O',\n  'O',\n  'O',\n  'O',\n  'O',\n  'O',\n  'O',\n  'O',\n  'O',\n  'O',\n  'O',\n  'O',\n  'O',\n  'O',\n  'O',\n  'O',\n  'O',\n  'O',\n  'O',\n  'O',\n  'O',\n  'O',\n  'O',\n  'O',\n  'O',\n  'O',\n  'O',\n  'O',\n  'O',\n  'O',\n  'O',\n  'O',\n  'O',\n  'O',\n  'O',\n  'O',\n  'O',\n  'O',\n  'O',\n  'O',\n  'O',\n  'O',\n  'O',\n  'I-IDIOM',\n  'I-IDIOM',\n  'I-IDIOM',\n  'O',\n  'O',\n  'O',\n  'O',\n  'O'],\n ['O',\n  'O',\n  'O',\n  'O',\n  'O',\n  'O',\n  'O',\n  'O',\n  'O',\n  'O',\n  'O',\n  'O',\n  'O',\n  'O',\n  'I-IDIOM',\n  'I-IDIOM',\n  'I-IDIOM',\n  'O'],\n ['O',\n  'O',\n  'O',\n  'O',\n  'O',\n  'O',\n  'O',\n  'O',\n  'O',\n  'O',\n  'O',\n  'O',\n  'O',\n  'O',\n  'O',\n  'O',\n  'O',\n  'O',\n  'O',\n  'O',\n  'O',\n  'O',\n  'O',\n  'O',\n  'O',\n  'O',\n  'O',\n  'O',\n  'O',\n  'O',\n  'O',\n  'I-IDIOM',\n  'I-IDIOM',\n  'I-IDIOM',\n  'O'],\n ['O',\n  'O',\n  'O',\n  'O',\n  'O',\n  'O',\n  'O',\n  'O',\n  'O',\n  'O',\n  'O',\n  'O',\n  'O',\n  'O',\n  'O',\n  'I-IDIOM',\n  'I-IDIOM',\n  'I-IDIOM',\n  'O',\n  'O',\n  'O',\n  'O',\n  'O',\n  'O',\n  'O',\n  'O',\n  'O',\n  'O',\n  'O',\n  'O',\n  'O',\n  'O',\n  'O',\n  'O'],\n ['O',\n  'O',\n  'O',\n  'O',\n  'O',\n  'O',\n  'O',\n  'O',\n  'O',\n  'O',\n  'O',\n  'O',\n  'O',\n  'O',\n  'O',\n  'O',\n  'O',\n  'O',\n  'O',\n  'O',\n  'O',\n  'I-IDIOM',\n  'I-IDIOM',\n  'O',\n  'O',\n  'O',\n  'O',\n  'O',\n  'O',\n  'O',\n  'O',\n  'O',\n  'O',\n  'O',\n  'O',\n  'O',\n  'O'],\n ['O',\n  'O',\n  'O',\n  'O',\n  'O',\n  'O',\n  'O',\n  'O',\n  'O',\n  'O',\n  'O',\n  'O',\n  'O',\n  'O',\n  'O',\n  'I-IDIOM',\n  'I-IDIOM',\n  'I-IDIOM',\n  'I-IDIOM',\n  'O',\n  'O',\n  'O',\n  'O',\n  'O',\n  'O',\n  'O',\n  'O',\n  'O',\n  'O',\n  'O',\n  'O',\n  'O',\n  'O',\n  'O',\n  'O',\n  'O'],\n ['O',\n  'O',\n  'O',\n  'O',\n  'O',\n  'I-IDIOM',\n  'I-IDIOM',\n  'I-IDIOM',\n  'O',\n  'O',\n  'O',\n  'O'],\n ['O', 'O', 'O', 'O', 'I-IDIOM', 'I-IDIOM', 'I-IDIOM'],\n ['O',\n  'O',\n  'O',\n  'O',\n  'O',\n  'O',\n  'I-IDIOM',\n  'I-IDIOM',\n  'I-IDIOM',\n  'O',\n  'O',\n  'O',\n  'O',\n  'O',\n  'O'],\n ['O',\n  'O',\n  'O',\n  'O',\n  'O',\n  'O',\n  'O',\n  'O',\n  'O',\n  'O',\n  'O',\n  'O',\n  'O',\n  'O',\n  'O',\n  'O',\n  'O',\n  'O',\n  'O',\n  'O',\n  'I-IDIOM',\n  'I-IDIOM',\n  'I-IDIOM',\n  'I-IDIOM',\n  'I-IDIOM',\n  'O',\n  'O',\n  'O',\n  'O',\n  'O',\n  'O',\n  'O',\n  'O',\n  'O',\n  'O',\n  'O',\n  'O',\n  'O',\n  'O',\n  'O',\n  'O',\n  'O',\n  'O',\n  'O',\n  'O'],\n ['O',\n  'I-IDIOM',\n  'I-IDIOM',\n  'O',\n  'O',\n  'O',\n  'O',\n  'O',\n  'O',\n  'O',\n  'O',\n  'O',\n  'O',\n  'O',\n  'O'],\n ['O',\n  'O',\n  'O',\n  'O',\n  'O',\n  'O',\n  'O',\n  'O',\n  'O',\n  'O',\n  'O',\n  'O',\n  'O',\n  'O',\n  'O',\n  'O',\n  'I-IDIOM',\n  'I-IDIOM',\n  'I-IDIOM',\n  'I-IDIOM',\n  'O',\n  'O',\n  'O',\n  'O',\n  'O',\n  'O'],\n ['O',\n  'O',\n  'O',\n  'O',\n  'O',\n  'O',\n  'O',\n  'O',\n  'O',\n  'O',\n  'O',\n  'O',\n  'O',\n  'I-IDIOM',\n  'I-IDIOM',\n  'I-IDIOM',\n  'O',\n  'O',\n  'O',\n  'O',\n  'O',\n  'O'],\n ['O', 'O', 'O', 'O', 'I-IDIOM', 'I-IDIOM', 'I-IDIOM', 'O'],\n ['O',\n  'O',\n  'O',\n  'O',\n  'O',\n  'O',\n  'O',\n  'O',\n  'O',\n  'O',\n  'O',\n  'O',\n  'O',\n  'O',\n  'O',\n  'O',\n  'O',\n  'O',\n  'O',\n  'O',\n  'O',\n  'O',\n  'O',\n  'O',\n  'O',\n  'I-IDIOM',\n  'I-IDIOM',\n  'I-IDIOM',\n  'O',\n  'O',\n  'O',\n  'O',\n  'O',\n  'O',\n  'O',\n  'O'],\n ['O',\n  'O',\n  'O',\n  'O',\n  'O',\n  'O',\n  'O',\n  'O',\n  'O',\n  'O',\n  'O',\n  'O',\n  'O',\n  'O',\n  'I-IDIOM',\n  'I-IDIOM',\n  'O',\n  'O',\n  'O',\n  'O',\n  'O',\n  'O',\n  'O',\n  'O',\n  'O',\n  'O'],\n ['O',\n  'O',\n  'O',\n  'O',\n  'O',\n  'O',\n  'O',\n  'O',\n  'O',\n  'O',\n  'O',\n  'O',\n  'O',\n  'O',\n  'O',\n  'O',\n  'O',\n  'O',\n  'O',\n  'O',\n  'O',\n  'O',\n  'O',\n  'I-IDIOM',\n  'I-IDIOM',\n  'O',\n  'O',\n  'O',\n  'O',\n  'O',\n  'O',\n  'O',\n  'O',\n  'O',\n  'O',\n  'O',\n  'O',\n  'O',\n  'O',\n  'O',\n  'O'],\n ['O', 'O', 'I-IDIOM', 'I-IDIOM', 'I-IDIOM', 'O', 'O', 'O', 'O'],\n ['O',\n  'O',\n  'O',\n  'O',\n  'O',\n  'O',\n  'O',\n  'O',\n  'O',\n  'O',\n  'O',\n  'O',\n  'O',\n  'I-IDIOM',\n  'I-IDIOM',\n  'I-IDIOM',\n  'O',\n  'O',\n  'O',\n  'O',\n  'O',\n  'O'],\n ['O',\n  'O',\n  'O',\n  'I-IDIOM',\n  'I-IDIOM',\n  'I-IDIOM',\n  'O',\n  'O',\n  'O',\n  'O',\n  'O',\n  'O',\n  'O',\n  'O',\n  'O',\n  'O',\n  'O',\n  'O',\n  'O',\n  'O',\n  'O',\n  'O',\n  'O',\n  'O',\n  'O',\n  'O',\n  'O',\n  'O',\n  'O',\n  'O',\n  'O',\n  'O',\n  'O',\n  'O',\n  'O',\n  'O',\n  'O',\n  'O',\n  'O',\n  'O'],\n ['O', 'O', 'O', 'O', 'I-IDIOM', 'I-IDIOM', 'I-IDIOM', 'O'],\n ['O',\n  'O',\n  'O',\n  'I-IDIOM',\n  'I-IDIOM',\n  'I-IDIOM',\n  'I-IDIOM',\n  'I-IDIOM',\n  'O',\n  'O',\n  'O',\n  'O',\n  'O',\n  'O',\n  'O',\n  'O',\n  'O',\n  'O',\n  'O',\n  'O',\n  'O',\n  'O',\n  'O',\n  'O',\n  'O',\n  'O',\n  'O',\n  'O',\n  'O',\n  'O',\n  'O',\n  'O',\n  'O',\n  'O',\n  'O',\n  'O',\n  'O'],\n ['O',\n  'I-IDIOM',\n  'I-IDIOM',\n  'O',\n  'O',\n  'O',\n  'O',\n  'O',\n  'O',\n  'O',\n  'O',\n  'O',\n  'O',\n  'O',\n  'O',\n  'O',\n  'O',\n  'O',\n  'O',\n  'O',\n  'O',\n  'O',\n  'O',\n  'O',\n  'O',\n  'O',\n  'O',\n  'O',\n  'O',\n  'O',\n  'O',\n  'O',\n  'O',\n  'O',\n  'O',\n  'O',\n  'O',\n  'O',\n  'O',\n  'O',\n  'O',\n  'O',\n  'O',\n  'O',\n  'O',\n  'O',\n  'O',\n  'O',\n  'O',\n  'O',\n  'O',\n  'O',\n  'O',\n  'O'],\n ['O',\n  'O',\n  'O',\n  'O',\n  'O',\n  'O',\n  'O',\n  'O',\n  'O',\n  'I-IDIOM',\n  'I-IDIOM',\n  'I-IDIOM',\n  'O',\n  'O',\n  'O',\n  'O',\n  'O',\n  'O',\n  'O',\n  'O',\n  'O',\n  'O',\n  'O',\n  'O',\n  'O',\n  'O',\n  'O',\n  'O',\n  'O'],\n ['O', 'O', 'O', 'O', 'I-IDIOM', 'I-IDIOM', 'I-IDIOM', 'O'],\n ['O',\n  'O',\n  'O',\n  'O',\n  'O',\n  'O',\n  'O',\n  'O',\n  'O',\n  'O',\n  'O',\n  'O',\n  'O',\n  'O',\n  'O',\n  'O',\n  'O',\n  'O',\n  'O',\n  'O',\n  'I-IDIOM',\n  'I-IDIOM',\n  'O',\n  'O',\n  'O',\n  'O',\n  'O'],\n ['O',\n  'O',\n  'O',\n  'O',\n  'O',\n  'O',\n  'O',\n  'O',\n  'O',\n  'O',\n  'O',\n  'O',\n  'O',\n  'O',\n  'O',\n  'O',\n  'O',\n  'O',\n  'O',\n  'O',\n  'O',\n  'O',\n  'O',\n  'O',\n  'O',\n  'O',\n  'O',\n  'O',\n  'O',\n  'O',\n  'I-IDIOM',\n  'I-IDIOM',\n  'I-IDIOM',\n  'O',\n  'O',\n  'O',\n  'O',\n  'O',\n  'O',\n  'O',\n  'O'],\n ['O', 'O', 'O', 'O', 'O', 'I-IDIOM', 'I-IDIOM', 'I-IDIOM', 'O'],\n ['O', 'O', 'O', 'O', 'I-IDIOM', 'I-IDIOM', 'I-IDIOM', 'O', 'O', 'O', 'O'],\n ['O',\n  'O',\n  'O',\n  'O',\n  'O',\n  'O',\n  'O',\n  'O',\n  'O',\n  'O',\n  'O',\n  'O',\n  'O',\n  'O',\n  'O',\n  'O',\n  'O',\n  'O',\n  'O',\n  'O',\n  'O',\n  'O',\n  'O',\n  'O',\n  'O',\n  'O',\n  'O',\n  'I-IDIOM',\n  'I-IDIOM',\n  'I-IDIOM',\n  'O',\n  'O',\n  'O',\n  'O',\n  'O',\n  'O',\n  'O',\n  'O'],\n ['O',\n  'O',\n  'O',\n  'O',\n  'O',\n  'I-IDIOM',\n  'I-IDIOM',\n  'I-IDIOM',\n  'I-IDIOM',\n  'O',\n  'O'],\n ['O',\n  'O',\n  'O',\n  'O',\n  'O',\n  'O',\n  'O',\n  'O',\n  'O',\n  'O',\n  'O',\n  'O',\n  'O',\n  'O',\n  'O',\n  'I-IDIOM',\n  'I-IDIOM',\n  'I-IDIOM',\n  'I-IDIOM',\n  'I-IDIOM',\n  'I-IDIOM',\n  'O',\n  'O',\n  'O',\n  'O',\n  'O',\n  'O',\n  'O'],\n ['O',\n  'O',\n  'O',\n  'O',\n  'O',\n  'O',\n  'O',\n  'O',\n  'O',\n  'O',\n  'O',\n  'O',\n  'O',\n  'I-IDIOM',\n  'I-IDIOM',\n  'I-IDIOM',\n  'O',\n  'O',\n  'O',\n  'O',\n  'O',\n  'O',\n  'O',\n  'O'],\n ['O',\n  'O',\n  'O',\n  'O',\n  'O',\n  'O',\n  'O',\n  'O',\n  'O',\n  'O',\n  'I-IDIOM',\n  'I-IDIOM',\n  'I-IDIOM',\n  'O',\n  'O'],\n ['O',\n  'O',\n  'O',\n  'O',\n  'O',\n  'O',\n  'O',\n  'O',\n  'O',\n  'O',\n  'O',\n  'O',\n  'O',\n  'O',\n  'O',\n  'I-IDIOM',\n  'I-IDIOM',\n  'I-IDIOM',\n  'O',\n  'O',\n  'O',\n  'O',\n  'O',\n  'O',\n  'O',\n  'O',\n  'O',\n  'O',\n  'O',\n  'O',\n  'O'],\n ['O',\n  'O',\n  'O',\n  'I-IDIOM',\n  'I-IDIOM',\n  'O',\n  'O',\n  'O',\n  'O',\n  'O',\n  'O',\n  'O',\n  'O',\n  'O',\n  'O',\n  'O',\n  'O',\n  'O',\n  'O',\n  'O',\n  'O',\n  'O',\n  'O',\n  'O'],\n ['O',\n  'O',\n  'O',\n  'O',\n  'O',\n  'O',\n  'O',\n  'O',\n  'O',\n  'O',\n  'O',\n  'O',\n  'O',\n  'O',\n  'O',\n  'I-IDIOM',\n  'I-IDIOM',\n  'I-IDIOM',\n  'O',\n  'O',\n  'O',\n  'O',\n  'O',\n  'O',\n  'O',\n  'O',\n  'O',\n  'O',\n  'O',\n  'O',\n  'O',\n  'O',\n  'O',\n  'O',\n  'O',\n  'O',\n  'O'],\n ['O',\n  'O',\n  'O',\n  'O',\n  'O',\n  'O',\n  'O',\n  'O',\n  'O',\n  'O',\n  'O',\n  'O',\n  'O',\n  'O',\n  'O',\n  'O',\n  'O',\n  'O',\n  'O',\n  'O',\n  'O',\n  'O',\n  'O',\n  'O',\n  'O',\n  'I-IDIOM',\n  'I-IDIOM',\n  'I-IDIOM',\n  'O',\n  'O',\n  'O',\n  'O',\n  'O',\n  'O',\n  'O',\n  'O',\n  'O'],\n ['O',\n  'O',\n  'O',\n  'O',\n  'O',\n  'O',\n  'O',\n  'O',\n  'O',\n  'O',\n  'O',\n  'O',\n  'O',\n  'O',\n  'O',\n  'O',\n  'O',\n  'O',\n  'O',\n  'O',\n  'O',\n  'O',\n  'O',\n  'O',\n  'O',\n  'O',\n  'O',\n  'O',\n  'O',\n  'O',\n  'O',\n  'O',\n  'O',\n  'O',\n  'O',\n  'O',\n  'I-IDIOM',\n  'I-IDIOM',\n  'I-IDIOM',\n  'O',\n  'O',\n  'O',\n  'O',\n  'O',\n  'O',\n  'O',\n  'O',\n  'O',\n  'O',\n  'O',\n  'O',\n  'O',\n  'O',\n  'O',\n  'O',\n  'O'],\n ['O',\n  'O',\n  'O',\n  'O',\n  'O',\n  'O',\n  'O',\n  'O',\n  'O',\n  'O',\n  'O',\n  'O',\n  'O',\n  'O',\n  'O',\n  'O',\n  'O',\n  'O',\n  'O',\n  'O',\n  'O',\n  'O',\n  'O',\n  'O',\n  'O',\n  'I-IDIOM',\n  'I-IDIOM',\n  'I-IDIOM',\n  'O',\n  'O',\n  'O',\n  'O',\n  'O',\n  'O',\n  'O',\n  'O',\n  'O',\n  'O',\n  'O',\n  'O'],\n ['O',\n  'O',\n  'O',\n  'O',\n  'O',\n  'O',\n  'O',\n  'O',\n  'O',\n  'O',\n  'O',\n  'O',\n  'O',\n  'O',\n  'O',\n  'O',\n  'O',\n  'O',\n  'O',\n  'O',\n  'O',\n  'I-IDIOM',\n  'I-IDIOM',\n  'I-IDIOM',\n  'O'],\n ['O',\n  'O',\n  'O',\n  'I-IDIOM',\n  'I-IDIOM',\n  'I-IDIOM',\n  'I-IDIOM',\n  'O',\n  'O',\n  'O',\n  'O',\n  'O',\n  'O',\n  'O',\n  'O',\n  'O',\n  'O',\n  'O',\n  'O',\n  'O',\n  'O',\n  'O',\n  'O',\n  'O',\n  'O',\n  'O',\n  'O',\n  'O'],\n ['O',\n  'O',\n  'O',\n  'O',\n  'O',\n  'O',\n  'O',\n  'O',\n  'O',\n  'O',\n  'O',\n  'O',\n  'O',\n  'O',\n  'O',\n  'O',\n  'O',\n  'O',\n  'O',\n  'O',\n  'I-IDIOM',\n  'I-IDIOM',\n  'I-IDIOM',\n  'O'],\n ['O',\n  'O',\n  'O',\n  'O',\n  'O',\n  'O',\n  'I-IDIOM',\n  'I-IDIOM',\n  'I-IDIOM',\n  'O',\n  'O',\n  'O',\n  'O',\n  'O',\n  'O',\n  'O',\n  'O',\n  'O',\n  'O',\n  'O',\n  'O',\n  'O',\n  'O',\n  'O',\n  'O',\n  'O',\n  'O',\n  'O',\n  'O',\n  'O',\n  'O',\n  'O',\n  'O',\n  'O',\n  'O',\n  'O',\n  'O',\n  'O',\n  'O',\n  'O',\n  'O'],\n ['O', 'O', 'O', 'O', 'I-IDIOM', 'I-IDIOM', 'I-IDIOM', 'I-IDIOM', 'O'],\n ['O',\n  'O',\n  'O',\n  'O',\n  'O',\n  'O',\n  'O',\n  'O',\n  'O',\n  'O',\n  'O',\n  'O',\n  'O',\n  'O',\n  'I-IDIOM',\n  'I-IDIOM',\n  'I-IDIOM',\n  'I-IDIOM',\n  'I-IDIOM',\n  'O',\n  'O',\n  'O'],\n ['O',\n  'O',\n  'O',\n  'O',\n  'O',\n  'O',\n  'O',\n  'O',\n  'O',\n  'O',\n  'O',\n  'O',\n  'O',\n  'O',\n  'O',\n  'O',\n  'O',\n  'O',\n  'O',\n  'O',\n  'O',\n  'O',\n  'O',\n  'I-IDIOM',\n  'I-IDIOM',\n  'I-IDIOM',\n  'O',\n  'O',\n  'O',\n  'O',\n  'O',\n  'O',\n  'O'],\n ['O',\n  'O',\n  'O',\n  'O',\n  'O',\n  'O',\n  'O',\n  'O',\n  'O',\n  'O',\n  'O',\n  'O',\n  'O',\n  'O',\n  'O',\n  'O',\n  'O',\n  'O',\n  'O',\n  'O',\n  'O',\n  'O',\n  'O',\n  'O',\n  'O',\n  'O',\n  'I-IDIOM',\n  'I-IDIOM',\n  'I-IDIOM',\n  'O'],\n ['O',\n  'O',\n  'O',\n  'O',\n  'O',\n  'O',\n  'O',\n  'O',\n  'O',\n  'O',\n  'O',\n  'O',\n  'O',\n  'O',\n  'O',\n  'O',\n  'O',\n  'O',\n  'O',\n  'O',\n  'O',\n  'O',\n  'I-IDIOM',\n  'I-IDIOM',\n  'I-IDIOM',\n  'I-IDIOM',\n  'O',\n  'O',\n  'O',\n  'O'],\n ['O', 'O', 'O', 'O', 'O', 'O', 'O', 'O'],\n ['O',\n  'O',\n  'O',\n  'O',\n  'O',\n  'O',\n  'O',\n  'O',\n  'O',\n  'O',\n  'O',\n  'O',\n  'O',\n  'O',\n  'O',\n  'O',\n  'O',\n  'I-IDIOM',\n  'I-IDIOM',\n  'O',\n  'O',\n  'O',\n  'O',\n  'O'],\n ['O',\n  'O',\n  'O',\n  'O',\n  'O',\n  'O',\n  'O',\n  'O',\n  'O',\n  'O',\n  'O',\n  'O',\n  'O',\n  'O',\n  'O',\n  'O',\n  'O',\n  'O',\n  'O',\n  'I-IDIOM',\n  'I-IDIOM',\n  'I-IDIOM',\n  'O',\n  'O',\n  'O',\n  'O',\n  'O',\n  'O',\n  'O',\n  'O',\n  'O',\n  'O',\n  'O'],\n ['O', 'I-IDIOM', 'I-IDIOM'],\n ['O',\n  'O',\n  'O',\n  'O',\n  'O',\n  'O',\n  'O',\n  'O',\n  'O',\n  'O',\n  'O',\n  'O',\n  'O',\n  'O',\n  'O',\n  'O',\n  'O',\n  'O',\n  'O',\n  'O',\n  'O',\n  'O',\n  'O',\n  'O',\n  'O',\n  'O',\n  'O',\n  'O',\n  'O',\n  'O',\n  'O',\n  'O',\n  'O',\n  'O',\n  'I-IDIOM',\n  'I-IDIOM'],\n ['O',\n  'O',\n  'O',\n  'O',\n  'O',\n  'O',\n  'O',\n  'O',\n  'O',\n  'O',\n  'O',\n  'O',\n  'I-IDIOM',\n  'I-IDIOM',\n  'O',\n  'O',\n  'O',\n  'O',\n  'O',\n  'O',\n  'O',\n  'O',\n  'O',\n  'O',\n  'O',\n  'O',\n  'O',\n  'O',\n  'O',\n  'O',\n  'O'],\n ['O', 'O', 'I-IDIOM', 'I-IDIOM', 'O', 'O', 'O', 'O', 'O', 'O', 'O', 'O', 'O'],\n ['O',\n  'O',\n  'O',\n  'O',\n  'O',\n  'O',\n  'O',\n  'O',\n  'O',\n  'O',\n  'O',\n  'O',\n  'O',\n  'O',\n  'O',\n  'O',\n  'O',\n  'O',\n  'I-IDIOM',\n  'I-IDIOM',\n  'O',\n  'O',\n  'O',\n  'O',\n  'O',\n  'O',\n  'O',\n  'O',\n  'O',\n  'O',\n  'O',\n  'O',\n  'O'],\n ['O',\n  'O',\n  'O',\n  'O',\n  'O',\n  'O',\n  'O',\n  'O',\n  'O',\n  'O',\n  'O',\n  'O',\n  'I-IDIOM',\n  'I-IDIOM',\n  'I-IDIOM',\n  'O',\n  'O',\n  'O',\n  'O',\n  'O',\n  'O',\n  'O',\n  'O',\n  'O',\n  'O',\n  'O',\n  'O',\n  'O',\n  'O',\n  'O'],\n ['O', 'O', 'O', 'O', 'O', 'O', 'I-IDIOM', 'I-IDIOM', 'I-IDIOM', 'O'],\n ['O', 'O', 'O', 'O', 'O', 'O', 'O', 'I-IDIOM', 'I-IDIOM', 'O'],\n ['O', 'O', 'O', 'O', 'O', 'O', 'O', 'I-IDIOM', 'I-IDIOM', 'O'],\n ['O',\n  'O',\n  'O',\n  'O',\n  'O',\n  'O',\n  'O',\n  'O',\n  'O',\n  'O',\n  'O',\n  'O',\n  'O',\n  'O',\n  'O',\n  'O',\n  'O',\n  'O',\n  'O',\n  'O',\n  'O',\n  'O',\n  'O',\n  'O',\n  'O',\n  'I-IDIOM',\n  'I-IDIOM',\n  'I-IDIOM',\n  'O',\n  'O',\n  'O',\n  'O',\n  'O',\n  'O',\n  'O',\n  'O',\n  'O',\n  'O',\n  'O',\n  'O',\n  'O'],\n ['O', 'O', 'O', 'O', 'O', 'O', 'O', 'I-IDIOM', 'I-IDIOM', 'I-IDIOM', 'O'],\n ['O',\n  'O',\n  'O',\n  'O',\n  'O',\n  'O',\n  'O',\n  'O',\n  'O',\n  'O',\n  'O',\n  'O',\n  'O',\n  'O',\n  'O',\n  'O',\n  'I-IDIOM',\n  'I-IDIOM',\n  'I-IDIOM',\n  'O',\n  'O',\n  'O',\n  'O',\n  'O',\n  'O',\n  'O'],\n ['O',\n  'O',\n  'O',\n  'O',\n  'O',\n  'O',\n  'O',\n  'O',\n  'I-IDIOM',\n  'I-IDIOM',\n  'I-IDIOM',\n  'O'],\n ['O', 'O', 'O', 'O', 'O', 'I-IDIOM', 'I-IDIOM', 'I-IDIOM', 'O'],\n ['O',\n  'O',\n  'O',\n  'O',\n  'I-IDIOM',\n  'I-IDIOM',\n  'I-IDIOM',\n  'I-IDIOM',\n  'O',\n  'O',\n  'O'],\n ['O',\n  'O',\n  'O',\n  'O',\n  'O',\n  'O',\n  'O',\n  'O',\n  'O',\n  'O',\n  'O',\n  'O',\n  'O',\n  'O',\n  'O',\n  'O',\n  'O',\n  'O',\n  'O',\n  'O',\n  'O',\n  'O',\n  'O',\n  'O',\n  'I-IDIOM',\n  'I-IDIOM',\n  'I-IDIOM',\n  'O',\n  'O',\n  'O'],\n ['O',\n  'O',\n  'O',\n  'O',\n  'O',\n  'O',\n  'O',\n  'O',\n  'O',\n  'O',\n  'O',\n  'O',\n  'O',\n  'O',\n  'O',\n  'O',\n  'O',\n  'O',\n  'O',\n  'I-IDIOM',\n  'I-IDIOM',\n  'I-IDIOM',\n  'I-IDIOM',\n  'I-IDIOM',\n  'O',\n  'O',\n  'O',\n  'O',\n  'O',\n  'O',\n  'O',\n  'O',\n  'O',\n  'O',\n  'O',\n  'O',\n  'O',\n  'O',\n  'O',\n  'O',\n  'O',\n  'O',\n  'O',\n  'O',\n  'O',\n  'O',\n  'O'],\n ['O',\n  'O',\n  'O',\n  'O',\n  'O',\n  'O',\n  'O',\n  'O',\n  'O',\n  'O',\n  'O',\n  'O',\n  'O',\n  'O',\n  'O',\n  'O',\n  'O',\n  'O',\n  'O',\n  'O',\n  'O',\n  'O',\n  'O',\n  'I-IDIOM',\n  'I-IDIOM',\n  'I-IDIOM',\n  'I-IDIOM',\n  'O',\n  'O',\n  'O',\n  'O'],\n ['O',\n  'O',\n  'O',\n  'I-IDIOM',\n  'I-IDIOM',\n  'O',\n  'O',\n  'O',\n  'O',\n  'O',\n  'O',\n  'O',\n  'O',\n  'O',\n  'O',\n  'O',\n  'O',\n  'O',\n  'O',\n  'O',\n  'O',\n  'O',\n  'O',\n  'O',\n  'O',\n  'O',\n  'O',\n  'O',\n  'O',\n  'O',\n  'O',\n  'O',\n  'O',\n  'O',\n  'O',\n  'O',\n  'O',\n  'O',\n  'O',\n  'O',\n  'O',\n  'O',\n  'O',\n  'O',\n  'O',\n  'O',\n  'O',\n  'O'],\n ['O',\n  'O',\n  'O',\n  'O',\n  'O',\n  'O',\n  'O',\n  'O',\n  'O',\n  'O',\n  'O',\n  'O',\n  'O',\n  'O',\n  'O',\n  'O',\n  'O',\n  'O',\n  'O',\n  'I-IDIOM',\n  'I-IDIOM',\n  'O',\n  'O',\n  'O',\n  'O'],\n ['O',\n  'O',\n  'O',\n  'O',\n  'O',\n  'O',\n  'O',\n  'O',\n  'O',\n  'O',\n  'O',\n  'O',\n  'O',\n  'O',\n  'O',\n  'I-IDIOM',\n  'I-IDIOM',\n  'I-IDIOM'],\n ['O', 'O', 'O', 'O', 'O', 'O', 'O', 'O', 'O', 'O', 'O', 'O'],\n ['O',\n  'O',\n  'O',\n  'O',\n  'O',\n  'O',\n  'O',\n  'O',\n  'O',\n  'O',\n  'O',\n  'O',\n  'O',\n  'O',\n  'O',\n  'O',\n  'O',\n  'O',\n  'O',\n  'O',\n  'O',\n  'O',\n  'O',\n  'O',\n  'O',\n  'O',\n  'O',\n  'O',\n  'I-IDIOM',\n  'I-IDIOM',\n  'O',\n  'O',\n  'O',\n  'O'],\n ['O',\n  'O',\n  'O',\n  'O',\n  'O',\n  'O',\n  'O',\n  'O',\n  'O',\n  'O',\n  'O',\n  'I-IDIOM',\n  'I-IDIOM',\n  'I-IDIOM',\n  'O',\n  'O',\n  'O',\n  'O',\n  'O',\n  'O',\n  'O',\n  'O',\n  'O'],\n ['O',\n  'O',\n  'O',\n  'O',\n  'O',\n  'O',\n  'O',\n  'O',\n  'O',\n  'O',\n  'O',\n  'I-IDIOM',\n  'I-IDIOM',\n  'I-IDIOM',\n  'O',\n  'O',\n  'O',\n  'O',\n  'O',\n  'O',\n  'O',\n  'O',\n  'O',\n  'O',\n  'O',\n  'O',\n  'O',\n  'O',\n  'O',\n  'O',\n  'O',\n  'O',\n  'O',\n  'O',\n  'O',\n  'O',\n  'O'],\n ['O',\n  'O',\n  'O',\n  'O',\n  'O',\n  'O',\n  'O',\n  'O',\n  'O',\n  'O',\n  'O',\n  'O',\n  'O',\n  'I-IDIOM',\n  'I-IDIOM',\n  'O'],\n ['O',\n  'O',\n  'O',\n  'O',\n  'O',\n  'O',\n  'O',\n  'O',\n  'O',\n  'O',\n  'O',\n  'O',\n  'O',\n  'O',\n  'O',\n  'O',\n  'O',\n  'O',\n  'O',\n  'I-IDIOM',\n  'I-IDIOM',\n  'I-IDIOM',\n  'O',\n  'O',\n  'O',\n  'O',\n  'O',\n  'O'],\n ['O',\n  'O',\n  'O',\n  'O',\n  'O',\n  'O',\n  'O',\n  'O',\n  'O',\n  'O',\n  'O',\n  'O',\n  'O',\n  'O',\n  'O',\n  'O',\n  'O',\n  'O',\n  'O',\n  'O',\n  'O',\n  'O',\n  'O',\n  'O',\n  'O',\n  'O',\n  'O',\n  'O',\n  'O',\n  'O',\n  'O',\n  'I-IDIOM',\n  'I-IDIOM',\n  'I-IDIOM',\n  'O',\n  'O',\n  'O',\n  'O',\n  'O',\n  'O',\n  'O',\n  'O',\n  'O',\n  'O',\n  'O'],\n ['O',\n  'O',\n  'O',\n  'O',\n  'O',\n  'O',\n  'O',\n  'O',\n  'O',\n  'O',\n  'O',\n  'O',\n  'O',\n  'O',\n  'O',\n  'O',\n  'O',\n  'O',\n  'O',\n  'O',\n  'O',\n  'O',\n  'O',\n  'O',\n  'O',\n  'O',\n  'O',\n  'O',\n  'O',\n  'O',\n  'O',\n  'O',\n  'O',\n  'O',\n  'O',\n  'O',\n  'O',\n  'O',\n  'I-IDIOM',\n  'I-IDIOM',\n  'I-IDIOM',\n  'I-IDIOM',\n  'O',\n  'O',\n  'O',\n  'O',\n  'O',\n  'O',\n  'O',\n  'O',\n  'O',\n  'O',\n  'O',\n  'O',\n  'O',\n  'O'],\n ['O',\n  'O',\n  'I-IDIOM',\n  'I-IDIOM',\n  'I-IDIOM',\n  'O',\n  'O',\n  'O',\n  'O',\n  'O',\n  'O',\n  'O'],\n ['O', 'I-IDIOM', 'I-IDIOM', 'O', 'O', 'O', 'O', 'O', 'O'],\n ['O', 'O', 'O', 'O', 'O', 'O', 'I-IDIOM', 'I-IDIOM', 'I-IDIOM', 'O'],\n ['O',\n  'O',\n  'O',\n  'O',\n  'O',\n  'I-IDIOM',\n  'I-IDIOM',\n  'I-IDIOM',\n  'O',\n  'O',\n  'O',\n  'O',\n  'O',\n  'O',\n  'O',\n  'O',\n  'O',\n  'O',\n  'O',\n  'O',\n  'O',\n  'O'],\n ['O',\n  'O',\n  'O',\n  'O',\n  'O',\n  'O',\n  'O',\n  'O',\n  'O',\n  'O',\n  'O',\n  'O',\n  'O',\n  'O',\n  'O',\n  'O',\n  'O',\n  'O',\n  'O',\n  'O',\n  'O',\n  'I-IDIOM',\n  'I-IDIOM',\n  'I-IDIOM',\n  'O',\n  'O',\n  'O',\n  'O',\n  'O',\n  'O',\n  'O',\n  'O',\n  'O',\n  'O',\n  'O',\n  'O',\n  'O',\n  'O',\n  'O',\n  'O',\n  'O',\n  'O',\n  'O'],\n ['O',\n  'O',\n  'O',\n  'O',\n  'O',\n  'O',\n  'O',\n  'O',\n  'O',\n  'O',\n  'O',\n  'O',\n  'O',\n  'O',\n  'O',\n  'O',\n  'O',\n  'O',\n  'O',\n  'O',\n  'O',\n  'O',\n  'O',\n  'O',\n  'O',\n  'O',\n  'O',\n  'O',\n  'O',\n  'O',\n  'O',\n  'O',\n  'I-IDIOM',\n  'I-IDIOM',\n  'O',\n  'O',\n  'O',\n  'O',\n  'O',\n  'O',\n  'O',\n  'O',\n  'O',\n  'O',\n  'O',\n  'O',\n  'O'],\n ['O',\n  'O',\n  'O',\n  'O',\n  'O',\n  'O',\n  'O',\n  'O',\n  'O',\n  'O',\n  'O',\n  'O',\n  'O',\n  'O',\n  'O',\n  'O',\n  'O',\n  'O',\n  'O',\n  'O',\n  'O',\n  'O',\n  'O',\n  'O',\n  'O',\n  'O',\n  'O',\n  'O',\n  'O',\n  'O',\n  'O',\n  'O',\n  'O',\n  'O',\n  'O',\n  'O',\n  'O',\n  'O',\n  'O',\n  'O',\n  'O',\n  'O',\n  'O',\n  'O',\n  'O',\n  'O',\n  'O',\n  'O',\n  'O',\n  'O',\n  'O',\n  'O',\n  'O',\n  'O',\n  'O',\n  'O',\n  'O',\n  'O',\n  'O',\n  'O',\n  'O',\n  'O',\n  'O',\n  'O',\n  'O',\n  'O',\n  'O',\n  'O',\n  'O',\n  'O',\n  'O',\n  'O',\n  'O',\n  'O',\n  'O',\n  'O',\n  'O',\n  'O',\n  'O',\n  'O',\n  'O',\n  'O',\n  'O',\n  'O',\n  'O',\n  'O',\n  'O',\n  'O',\n  'O',\n  'O',\n  'O',\n  'O',\n  'O',\n  'O',\n  'O',\n  'O',\n  'O',\n  'O',\n  'O',\n  'O',\n  'O',\n  'O',\n  'O',\n  'O',\n  'O',\n  'O',\n  'O',\n  'O',\n  'O',\n  'I-IDIOM',\n  'I-IDIOM',\n  'I-IDIOM',\n  'O',\n  'O',\n  'O',\n  'O',\n  'O',\n  'O',\n  'O',\n  'O',\n  'O',\n  'O',\n  'O',\n  'O',\n  'O',\n  'O',\n  'O',\n  'O',\n  'O',\n  'O',\n  'O',\n  'O',\n  'O',\n  'O',\n  'O',\n  'O',\n  'O',\n  'O',\n  'O',\n  'O',\n  'O',\n  'O',\n  'O',\n  'O',\n  'O',\n  'O',\n  'O',\n  'O',\n  'O',\n  'O',\n  'O',\n  'O',\n  'O',\n  'O',\n  'O',\n  'O',\n  'O',\n  'O',\n  'O',\n  'O',\n  'O',\n  'O',\n  'O',\n  'O',\n  'O',\n  'O',\n  'O',\n  'O'],\n ['O',\n  'O',\n  'O',\n  'O',\n  'O',\n  'O',\n  'O',\n  'O',\n  'O',\n  'O',\n  'O',\n  'O',\n  'O',\n  'O',\n  'O',\n  'O',\n  'O',\n  'O',\n  'O',\n  'O',\n  'O',\n  'O',\n  'O',\n  'O',\n  'O',\n  'I-IDIOM',\n  'I-IDIOM',\n  'I-IDIOM',\n  'O',\n  'O',\n  'O',\n  'O',\n  'O'],\n ['O',\n  'O',\n  'O',\n  'O',\n  'O',\n  'O',\n  'O',\n  'O',\n  'O',\n  'O',\n  'O',\n  'O',\n  'O',\n  'I-IDIOM',\n  'I-IDIOM',\n  'I-IDIOM',\n  'O',\n  'O',\n  'O',\n  'O',\n  'O',\n  'O'],\n ['O',\n  'O',\n  'O',\n  'O',\n  'O',\n  'O',\n  'O',\n  'O',\n  'O',\n  'I-IDIOM',\n  'I-IDIOM',\n  'I-IDIOM',\n  'O',\n  'O',\n  'O',\n  'O',\n  'O',\n  'O',\n  'O',\n  'O',\n  'O',\n  'O',\n  'O',\n  'O',\n  'O',\n  'O'],\n ['O',\n  'O',\n  'O',\n  'O',\n  'I-IDIOM',\n  'I-IDIOM',\n  'I-IDIOM',\n  'O',\n  'O',\n  'O',\n  'O',\n  'O',\n  'O',\n  'O',\n  'O',\n  'O',\n  'O'],\n ['O',\n  'O',\n  'O',\n  'O',\n  'O',\n  'O',\n  'O',\n  'O',\n  'O',\n  'O',\n  'O',\n  'O',\n  'O',\n  'I-IDIOM',\n  'I-IDIOM',\n  'I-IDIOM',\n  'O',\n  'O',\n  'O',\n  'O',\n  'O',\n  'O',\n  'O',\n  'O',\n  'O',\n  'O',\n  'O',\n  'O',\n  'O',\n  'O',\n  'O'],\n ['O',\n  'O',\n  'O',\n  'O',\n  'O',\n  'O',\n  'O',\n  'O',\n  'O',\n  'O',\n  'O',\n  'O',\n  'O',\n  'O',\n  'O',\n  'O',\n  'O',\n  'O',\n  'O',\n  'O',\n  'O',\n  'O',\n  'O',\n  'O',\n  'O',\n  'O',\n  'O',\n  'O',\n  'O',\n  'O',\n  'O',\n  'O',\n  'O',\n  'O',\n  'O',\n  'I-IDIOM',\n  'I-IDIOM',\n  'O',\n  'O',\n  'O'],\n ['O',\n  'O',\n  'O',\n  'O',\n  'O',\n  'O',\n  'O',\n  'O',\n  'O',\n  'I-IDIOM',\n  'I-IDIOM',\n  'I-IDIOM'],\n ['O',\n  'O',\n  'O',\n  'O',\n  'O',\n  'O',\n  'I-IDIOM',\n  'I-IDIOM',\n  'I-IDIOM',\n  'I-IDIOM',\n  'O',\n  'O',\n  'O',\n  'O',\n  'O'],\n ['O',\n  'O',\n  'O',\n  'O',\n  'O',\n  'O',\n  'O',\n  'O',\n  'O',\n  'O',\n  'O',\n  'O',\n  'O',\n  'O',\n  'O',\n  'O',\n  'O',\n  'O',\n  'O',\n  'O',\n  'O',\n  'O',\n  'O',\n  'O',\n  'O',\n  'O',\n  'O',\n  'O',\n  'I-IDIOM',\n  'I-IDIOM',\n  'I-IDIOM',\n  'I-IDIOM',\n  'O',\n  'O',\n  'O',\n  'O',\n  'O',\n  'O',\n  'O',\n  'O',\n  'O',\n  'O',\n  'O',\n  'O'],\n ['O',\n  'O',\n  'O',\n  'O',\n  'O',\n  'I-IDIOM',\n  'I-IDIOM',\n  'I-IDIOM',\n  'O',\n  'O',\n  'O',\n  'O',\n  'O',\n  'O',\n  'O',\n  'O',\n  'O',\n  'O',\n  'O',\n  'O',\n  'O',\n  'O',\n  'O',\n  'O',\n  'O',\n  'O',\n  'O',\n  'O',\n  'O',\n  'O',\n  'O',\n  'O'],\n ['O',\n  'O',\n  'O',\n  'O',\n  'O',\n  'O',\n  'O',\n  'O',\n  'O',\n  'O',\n  'O',\n  'O',\n  'O',\n  'O',\n  'I-IDIOM',\n  'I-IDIOM',\n  'O',\n  'O',\n  'O',\n  'O',\n  'O'],\n ['O',\n  'O',\n  'O',\n  'O',\n  'O',\n  'O',\n  'O',\n  'O',\n  'O',\n  'O',\n  'O',\n  'O',\n  'O',\n  'O',\n  'O',\n  'O',\n  'O',\n  'O',\n  'O',\n  'O',\n  'O',\n  'O',\n  'O',\n  'O',\n  'O',\n  'O',\n  'O',\n  'O',\n  'I-IDIOM',\n  'I-IDIOM',\n  'I-IDIOM',\n  'I-IDIOM',\n  'O',\n  'O',\n  'O'],\n ['O',\n  'I-IDIOM',\n  'I-IDIOM',\n  'O',\n  'O',\n  'O',\n  'O',\n  'O',\n  'O',\n  'O',\n  'O',\n  'O',\n  'O',\n  'O',\n  'O',\n  'O',\n  'O',\n  'O',\n  'O',\n  'O',\n  'O',\n  'O'],\n ['O',\n  'O',\n  'O',\n  'O',\n  'O',\n  'O',\n  'O',\n  'O',\n  'O',\n  'O',\n  'O',\n  'O',\n  'O',\n  'O',\n  'O',\n  'O',\n  'O',\n  'I-IDIOM',\n  'I-IDIOM',\n  'I-IDIOM',\n  'I-IDIOM',\n  'O',\n  'O',\n  'O',\n  'O',\n  'O'],\n ['O',\n  'O',\n  'O',\n  'O',\n  'O',\n  'O',\n  'O',\n  'O',\n  'O',\n  'O',\n  'O',\n  'O',\n  'O',\n  'O',\n  'O',\n  'I-IDIOM',\n  'I-IDIOM',\n  'I-IDIOM',\n  'I-IDIOM',\n  'O'],\n ['O',\n  'O',\n  'O',\n  'O',\n  'O',\n  'O',\n  'O',\n  'O',\n  'O',\n  'O',\n  'O',\n  'O',\n  'O',\n  'O',\n  'O',\n  'O',\n  'O',\n  'O',\n  'O',\n  'O',\n  'O',\n  'O',\n  'O',\n  'O',\n  'O',\n  'O',\n  'O',\n  'I-IDIOM',\n  'I-IDIOM',\n  'I-IDIOM',\n  'O'],\n ['O',\n  'O',\n  'O',\n  'O',\n  'O',\n  'O',\n  'O',\n  'O',\n  'O',\n  'O',\n  'O',\n  'I-IDIOM',\n  'I-IDIOM',\n  'O'],\n ['O',\n  'O',\n  'O',\n  'O',\n  'O',\n  'O',\n  'O',\n  'O',\n  'O',\n  'O',\n  'O',\n  'O',\n  'O',\n  'O',\n  'O',\n  'O',\n  'O',\n  'O',\n  'O',\n  'O',\n  'O',\n  'O',\n  'O',\n  'O',\n  'O',\n  'O',\n  'O',\n  'O',\n  'O',\n  'O',\n  'O'],\n ['O', 'O', 'O', 'I-IDIOM', 'I-IDIOM', 'O'],\n ['O',\n  'O',\n  'O',\n  'O',\n  'O',\n  'O',\n  'O',\n  'O',\n  'O',\n  'O',\n  'O',\n  'O',\n  'O',\n  'I-IDIOM',\n  'I-IDIOM',\n  'I-IDIOM',\n  'I-IDIOM',\n  'I-IDIOM',\n  'I-IDIOM',\n  'O'],\n ['O',\n  'O',\n  'O',\n  'O',\n  'O',\n  'O',\n  'O',\n  'O',\n  'O',\n  'O',\n  'O',\n  'O',\n  'O',\n  'O',\n  'O',\n  'O',\n  'O',\n  'I-IDIOM',\n  'I-IDIOM',\n  'O',\n  'O',\n  'O',\n  'O',\n  'O',\n  'O',\n  'O',\n  'O',\n  'O'],\n ['O',\n  'O',\n  'O',\n  'O',\n  'I-IDIOM',\n  'I-IDIOM',\n  'I-IDIOM',\n  'O',\n  'O',\n  'O',\n  'O',\n  'O',\n  'O'],\n ['O',\n  'O',\n  'O',\n  'O',\n  'O',\n  'O',\n  'O',\n  'O',\n  'O',\n  'O',\n  'O',\n  'O',\n  'O',\n  'O',\n  'O',\n  'O',\n  'O',\n  'O',\n  'O',\n  'O',\n  'O',\n  'O',\n  'O',\n  'O',\n  'O',\n  'O',\n  'O',\n  'O',\n  'O',\n  'O',\n  'I-IDIOM',\n  'I-IDIOM',\n  'I-IDIOM',\n  'O',\n  'O',\n  'O'],\n ['O',\n  'O',\n  'O',\n  'O',\n  'O',\n  'O',\n  'O',\n  'O',\n  'O',\n  'O',\n  'O',\n  'O',\n  'O',\n  'O',\n  'O',\n  'O',\n  'O',\n  'O',\n  'O',\n  'O',\n  'O',\n  'O',\n  'O',\n  'O',\n  'O',\n  'O',\n  'O',\n  'O',\n  'O',\n  'O',\n  'O',\n  'O',\n  'O',\n  'O',\n  'O',\n  'O',\n  'I-IDIOM',\n  'I-IDIOM',\n  'I-IDIOM',\n  'O'],\n ['O',\n  'O',\n  'O',\n  'O',\n  'O',\n  'O',\n  'O',\n  'I-IDIOM',\n  'I-IDIOM',\n  'I-IDIOM',\n  'I-IDIOM',\n  'I-IDIOM',\n  'O',\n  'O',\n  'O',\n  'O',\n  'O',\n  'O',\n  'O',\n  'O',\n  'O',\n  'O',\n  'O',\n  'O',\n  'O',\n  'O',\n  'O',\n  'O',\n  'O',\n  'O',\n  'O',\n  'O',\n  'O',\n  'O',\n  'O',\n  'O',\n  'O',\n  'O',\n  'O',\n  'O',\n  'O',\n  'O',\n  'O'],\n ['I-IDIOM', 'I-IDIOM'],\n ['O',\n  'O',\n  'O',\n  'O',\n  'O',\n  'I-IDIOM',\n  'I-IDIOM',\n  'I-IDIOM',\n  'O',\n  'O',\n  'O',\n  'O',\n  'O'],\n ['O',\n  'O',\n  'O',\n  'O',\n  'O',\n  'O',\n  'O',\n  'O',\n  'O',\n  'O',\n  'O',\n  'O',\n  'O',\n  'O',\n  'O',\n  'O',\n  'O',\n  'O',\n  'O',\n  'O',\n  'I-IDIOM',\n  'I-IDIOM',\n  'I-IDIOM',\n  'O'],\n ['O', 'I-IDIOM', 'I-IDIOM', 'O', 'O', 'O', 'O', 'O', 'O', 'O', 'O', 'O', 'O'],\n ['O',\n  'O',\n  'O',\n  'O',\n  'O',\n  'O',\n  'O',\n  'O',\n  'O',\n  'I-IDIOM',\n  'I-IDIOM',\n  'I-IDIOM',\n  'I-IDIOM',\n  'O',\n  'O',\n  'O',\n  'O',\n  'O',\n  'O'],\n ['O',\n  'O',\n  'O',\n  'O',\n  'O',\n  'O',\n  'O',\n  'O',\n  'O',\n  'O',\n  'O',\n  'O',\n  'O',\n  'O',\n  'O',\n  'O',\n  'O',\n  'O',\n  'O',\n  'I-IDIOM',\n  'I-IDIOM',\n  'I-IDIOM',\n  'O',\n  'O',\n  'O',\n  'O',\n  'O'],\n ['O',\n  'O',\n  'O',\n  'O',\n  'O',\n  'O',\n  'O',\n  'O',\n  'O',\n  'O',\n  'O',\n  'O',\n  'O',\n  'O',\n  'O',\n  'O',\n  'O',\n  'O',\n  'O',\n  'O',\n  'O',\n  'O',\n  'I-IDIOM',\n  'I-IDIOM',\n  'O',\n  'O',\n  'O',\n  'O'],\n ['O',\n  'O',\n  'O',\n  'O',\n  'O',\n  'O',\n  'O',\n  'O',\n  'O',\n  'O',\n  'O',\n  'O',\n  'O',\n  'O',\n  'O',\n  'O',\n  'O',\n  'O',\n  'O',\n  'O',\n  'O',\n  'I-IDIOM',\n  'I-IDIOM',\n  'O'],\n ['O',\n  'O',\n  'O',\n  'O',\n  'O',\n  'O',\n  'O',\n  'O',\n  'I-IDIOM',\n  'I-IDIOM',\n  'I-IDIOM',\n  'I-IDIOM',\n  'O'],\n ['O',\n  'O',\n  'O',\n  'O',\n  'O',\n  'O',\n  'O',\n  'O',\n  'O',\n  'I-IDIOM',\n  'I-IDIOM',\n  'I-IDIOM',\n  'O',\n  'O',\n  'O',\n  'O',\n  'O',\n  'O',\n  'O',\n  'O',\n  'O'],\n ['O',\n  'O',\n  'O',\n  'O',\n  'O',\n  'O',\n  'O',\n  'O',\n  'O',\n  'O',\n  'O',\n  'O',\n  'I-IDIOM',\n  'I-IDIOM',\n  'I-IDIOM',\n  'I-IDIOM',\n  'O',\n  'O',\n  'O',\n  'O',\n  'O',\n  'O',\n  'O',\n  'O',\n  'O',\n  'O',\n  'O',\n  'O',\n  'O',\n  'O'],\n ['O',\n  'O',\n  'O',\n  'O',\n  'O',\n  'O',\n  'O',\n  'O',\n  'O',\n  'O',\n  'I-IDIOM',\n  'I-IDIOM',\n  'O',\n  'O'],\n ['O',\n  'O',\n  'O',\n  'O',\n  'O',\n  'O',\n  'O',\n  'O',\n  'O',\n  'O',\n  'O',\n  'O',\n  'O',\n  'O',\n  'O',\n  'O',\n  'O',\n  'I-IDIOM',\n  'I-IDIOM',\n  'I-IDIOM',\n  'O',\n  'O',\n  'O',\n  'O',\n  'O',\n  'O'],\n ['O',\n  'O',\n  'O',\n  'O',\n  'O',\n  'O',\n  'O',\n  'O',\n  'O',\n  'O',\n  'O',\n  'I-IDIOM',\n  'I-IDIOM',\n  'O'],\n ['O',\n  'O',\n  'O',\n  'I-IDIOM',\n  'I-IDIOM',\n  'I-IDIOM',\n  'O',\n  'O',\n  'O',\n  'O',\n  'O',\n  'O',\n  'O',\n  'O',\n  'O',\n  'O',\n  'O'],\n ['O',\n  'O',\n  'O',\n  'O',\n  'O',\n  'O',\n  'O',\n  'I-IDIOM',\n  'I-IDIOM',\n  'I-IDIOM',\n  'O',\n  'O',\n  'O',\n  'O',\n  'O',\n  'O',\n  'O',\n  'O',\n  'O',\n  'O',\n  'O',\n  'O',\n  'O',\n  'O',\n  'O',\n  'O',\n  'O',\n  'O',\n  'O',\n  'O'],\n ['O',\n  'O',\n  'O',\n  'O',\n  'I-IDIOM',\n  'I-IDIOM',\n  'I-IDIOM',\n  'O',\n  'O',\n  'O',\n  'O',\n  'O',\n  'O',\n  'O',\n  'O',\n  'O',\n  'O',\n  'O',\n  'O'],\n ['O',\n  'O',\n  'O',\n  'O',\n  'O',\n  'O',\n  'O',\n  'O',\n  'O',\n  'O',\n  'O',\n  'O',\n  'I-IDIOM',\n  'I-IDIOM',\n  'I-IDIOM',\n  'O'],\n ['O',\n  'O',\n  'O',\n  'O',\n  'O',\n  'O',\n  'O',\n  'O',\n  'O',\n  'O',\n  'O',\n  'O',\n  'O',\n  'I-IDIOM',\n  'I-IDIOM',\n  'I-IDIOM',\n  'O',\n  'O',\n  'O',\n  'O',\n  'O',\n  'O',\n  'O',\n  'O',\n  'O',\n  'O',\n  'O',\n  'O',\n  'O',\n  'O',\n  'O',\n  'O',\n  'O',\n  'O',\n  'O',\n  'O',\n  'O',\n  'O',\n  'O',\n  'O'],\n ['O',\n  'O',\n  'O',\n  'I-IDIOM',\n  'I-IDIOM',\n  'I-IDIOM',\n  'O',\n  'O',\n  'O',\n  'O',\n  'O',\n  'O',\n  'O',\n  'O',\n  'O',\n  'O',\n  'O',\n  'O',\n  'O',\n  'O',\n  'O',\n  'O'],\n ['O',\n  'O',\n  'O',\n  'O',\n  'O',\n  'O',\n  'O',\n  'I-IDIOM',\n  'I-IDIOM',\n  'I-IDIOM',\n  'O',\n  'O',\n  'O',\n  'O',\n  'O',\n  'O',\n  'O'],\n ['O',\n  'O',\n  'O',\n  'O',\n  'O',\n  'O',\n  'O',\n  'O',\n  'O',\n  'O',\n  'I-IDIOM',\n  'I-IDIOM',\n  'I-IDIOM',\n  'O',\n  'O',\n  'O',\n  'O',\n  'O',\n  'O',\n  'O',\n  'O',\n  'O',\n  'O',\n  'O'],\n ['O',\n  'O',\n  'O',\n  'O',\n  'O',\n  'O',\n  'O',\n  'I-IDIOM',\n  'I-IDIOM',\n  'I-IDIOM',\n  'O',\n  'O',\n  'O',\n  'O',\n  'O',\n  'O'],\n ['O',\n  'O',\n  'O',\n  'O',\n  'O',\n  'O',\n  'O',\n  'O',\n  'O',\n  'O',\n  'O',\n  'O',\n  'O',\n  'I-IDIOM',\n  'I-IDIOM',\n  'O',\n  'O',\n  'O',\n  'O',\n  'O',\n  'O',\n  'O',\n  'O',\n  'O',\n  'O',\n  'O',\n  'O',\n  'O',\n  'O',\n  'O',\n  'O',\n  'O',\n  'O',\n  'O'],\n ['O',\n  'O',\n  'O',\n  'O',\n  'O',\n  'O',\n  'O',\n  'O',\n  'O',\n  'O',\n  'O',\n  'O',\n  'O',\n  'O',\n  'O',\n  'O',\n  'O',\n  'O',\n  'O',\n  'O',\n  'O',\n  'I-IDIOM',\n  'I-IDIOM',\n  'I-IDIOM',\n  'O',\n  'O'],\n ['O', 'O', 'I-IDIOM', 'I-IDIOM', 'I-IDIOM', 'O', 'O', 'O', 'O'],\n ['O',\n  'O',\n  'O',\n  'O',\n  'O',\n  'O',\n  'O',\n  'O',\n  'O',\n  'O',\n  'O',\n  'O',\n  'O',\n  'O',\n  'O',\n  'O',\n  'O',\n  'O',\n  'O',\n  'I-IDIOM',\n  'I-IDIOM',\n  'I-IDIOM',\n  'O',\n  'O',\n  'O',\n  'O',\n  'O',\n  'O',\n  'O',\n  'O',\n  'O',\n  'O',\n  'O'],\n ['O',\n  'O',\n  'O',\n  'O',\n  'O',\n  'O',\n  'O',\n  'O',\n  'I-IDIOM',\n  'I-IDIOM',\n  'O',\n  'O',\n  'O',\n  'O',\n  'O',\n  'O',\n  'O',\n  'O',\n  'O',\n  'O',\n  'O',\n  'O',\n  'O',\n  'O',\n  'O',\n  'O',\n  'O',\n  'O',\n  'O',\n  'O',\n  'O',\n  'O'],\n ['O', 'O', 'O', 'O', 'O', 'O', 'O', 'O', 'O', 'O', 'O', 'O', 'O'],\n ['O',\n  'O',\n  'O',\n  'O',\n  'O',\n  'O',\n  'O',\n  'O',\n  'O',\n  'O',\n  'O',\n  'O',\n  'O',\n  'O',\n  'O',\n  'O',\n  'O',\n  'I-IDIOM',\n  'I-IDIOM',\n  'O',\n  'O',\n  'O',\n  'O',\n  'O',\n  'O',\n  'O',\n  'O',\n  'O',\n  'O',\n  'O',\n  'O'],\n ['I-IDIOM',\n  'I-IDIOM',\n  'I-IDIOM',\n  'I-IDIOM',\n  'O',\n  'O',\n  'O',\n  'O',\n  'O',\n  'O',\n  'O',\n  'O',\n  'O',\n  'O',\n  'O',\n  'O',\n  'O'],\n ['O',\n  'O',\n  'O',\n  'O',\n  'O',\n  'O',\n  'O',\n  'O',\n  'O',\n  'O',\n  'O',\n  'O',\n  'O',\n  'O',\n  'O',\n  'O',\n  'O',\n  'O',\n  'O',\n  'O',\n  'O',\n  'O',\n  'O',\n  'O',\n  'O',\n  'O',\n  'O',\n  'O',\n  'O',\n  'O',\n  'O',\n  'O',\n  'O',\n  'O',\n  'O',\n  'O',\n  'O',\n  'O',\n  'I-IDIOM',\n  'I-IDIOM',\n  'O',\n  'O',\n  'O',\n  'O',\n  'O',\n  'O',\n  'O'],\n ['O',\n  'O',\n  'O',\n  'O',\n  'O',\n  'O',\n  'O',\n  'O',\n  'O',\n  'O',\n  'O',\n  'O',\n  'O',\n  'O',\n  'O',\n  'O',\n  'O',\n  'O',\n  'O',\n  'O',\n  'O',\n  'O',\n  'O',\n  'I-IDIOM',\n  'I-IDIOM',\n  'I-IDIOM',\n  'I-IDIOM',\n  'O',\n  'O',\n  'O',\n  'O',\n  'O'],\n ['O', 'O', 'O', 'O', 'O', 'I-IDIOM', 'I-IDIOM', 'I-IDIOM', 'O'],\n ['O',\n  'O',\n  'O',\n  'O',\n  'O',\n  'O',\n  'O',\n  'O',\n  'O',\n  'I-IDIOM',\n  'I-IDIOM',\n  'O',\n  'O',\n  'O',\n  'O'],\n ['O',\n  'O',\n  'O',\n  'O',\n  'O',\n  'O',\n  'O',\n  'O',\n  'O',\n  'O',\n  'O',\n  'O',\n  'O',\n  'I-IDIOM',\n  'I-IDIOM',\n  'O',\n  'O',\n  'O',\n  'O',\n  'O',\n  'O',\n  'O',\n  'O',\n  'O',\n  'O',\n  'O',\n  'O'],\n ['O',\n  'O',\n  'O',\n  'O',\n  'O',\n  'O',\n  'O',\n  'O',\n  'O',\n  'O',\n  'O',\n  'O',\n  'O',\n  'O',\n  'O',\n  'O',\n  'O',\n  'O',\n  'O',\n  'O',\n  'I-IDIOM',\n  'I-IDIOM',\n  'I-IDIOM',\n  'I-IDIOM',\n  'O',\n  'O',\n  'O',\n  'O',\n  'O',\n  'O',\n  'O',\n  'O',\n  'O',\n  'O',\n  'O',\n  'O',\n  'O',\n  'O'],\n ['O',\n  'O',\n  'O',\n  'O',\n  'O',\n  'O',\n  'O',\n  'O',\n  'O',\n  'O',\n  'O',\n  'O',\n  'O',\n  'I-IDIOM',\n  'I-IDIOM',\n  'O',\n  'O',\n  'O',\n  'O',\n  'O',\n  'O',\n  'O',\n  'O',\n  'O',\n  'O',\n  'O',\n  'O',\n  'O'],\n ['O',\n  'O',\n  'O',\n  'O',\n  'O',\n  'O',\n  'O',\n  'O',\n  'O',\n  'O',\n  'O',\n  'O',\n  'O',\n  'O',\n  'O',\n  'O',\n  'O',\n  'O',\n  'O',\n  'O',\n  'O',\n  'O',\n  'O',\n  'O',\n  'O',\n  'O',\n  'O',\n  'O',\n  'O',\n  'O',\n  'O',\n  'O',\n  'O',\n  'O',\n  'O',\n  'O',\n  'O',\n  'O',\n  'O',\n  'O',\n  'O',\n  'O',\n  'O',\n  'O',\n  'O',\n  'O',\n  'O',\n  'O',\n  'O',\n  'O',\n  'O',\n  'O',\n  'O',\n  'O',\n  'O',\n  'O',\n  'O',\n  'O',\n  'O',\n  'O',\n  'O',\n  'O',\n  'O',\n  'O',\n  'O',\n  'O',\n  'O',\n  'O',\n  'O',\n  'O',\n  'O',\n  'O',\n  'O',\n  'O',\n  'O',\n  'O',\n  'O',\n  'O',\n  'O',\n  'I-IDIOM',\n  'I-IDIOM',\n  'O',\n  'O',\n  'O',\n  'O',\n  'O',\n  'O',\n  'O',\n  'O',\n  'O',\n  'O',\n  'O',\n  'O'],\n ['O',\n  'O',\n  'O',\n  'O',\n  'O',\n  'O',\n  'O',\n  'O',\n  'O',\n  'O',\n  'O',\n  'O',\n  'O',\n  'O',\n  'O',\n  'I-IDIOM',\n  'I-IDIOM',\n  'I-IDIOM',\n  'O',\n  'O',\n  'O',\n  'O',\n  'O',\n  'O',\n  'O',\n  'O',\n  'O',\n  'O',\n  'O',\n  'O',\n  'O',\n  'O',\n  'O',\n  'O',\n  'O',\n  'O',\n  'O',\n  'O',\n  'O',\n  'O',\n  'O',\n  'O',\n  'O',\n  'O',\n  'O',\n  'O',\n  'O',\n  'O',\n  'O',\n  'O',\n  'O',\n  'O',\n  'O',\n  'O',\n  'O',\n  'O',\n  'O',\n  'O',\n  'O',\n  'O',\n  'O',\n  'O',\n  'O',\n  'O'],\n ['O',\n  'O',\n  'O',\n  'O',\n  'O',\n  'O',\n  'O',\n  'O',\n  'O',\n  'O',\n  'O',\n  'O',\n  'O',\n  'I-IDIOM',\n  'I-IDIOM',\n  'I-IDIOM',\n  'I-IDIOM',\n  'I-IDIOM',\n  'O'],\n ['O',\n  'O',\n  'O',\n  'O',\n  'O',\n  'O',\n  'O',\n  'O',\n  'O',\n  'O',\n  'O',\n  'O',\n  'O',\n  'O',\n  'O',\n  'I-IDIOM',\n  'I-IDIOM',\n  'O',\n  'O',\n  'O',\n  'O',\n  'O',\n  'O',\n  'O',\n  'O',\n  'O',\n  'O',\n  'O',\n  'O',\n  'O',\n  'O',\n  'O',\n  'O',\n  'O',\n  'O',\n  'O',\n  'O',\n  'O',\n  'O',\n  'O',\n  'O',\n  'O',\n  'O',\n  'O',\n  'O',\n  'O',\n  'O',\n  'O',\n  'O',\n  'O',\n  'O',\n  'O',\n  'O',\n  'O',\n  'O',\n  'O',\n  'O',\n  'O'],\n ['O',\n  'O',\n  'O',\n  'O',\n  'O',\n  'O',\n  'O',\n  'O',\n  'O',\n  'O',\n  'O',\n  'O',\n  'O',\n  'O',\n  'O',\n  'O',\n  'O',\n  'I-IDIOM',\n  'I-IDIOM',\n  'O',\n  'O',\n  'O',\n  'O',\n  'O',\n  'O',\n  'O',\n  'O',\n  'O',\n  'O',\n  'O',\n  'O',\n  'O',\n  'O',\n  'O',\n  'O',\n  'O',\n  'O',\n  'O',\n  'O',\n  'O',\n  'O',\n  'O',\n  'O',\n  'O',\n  'O',\n  'O',\n  'O',\n  'O',\n  'O',\n  'O',\n  'O',\n  'O',\n  'O',\n  'O',\n  'O',\n  'O',\n  'O',\n  'O',\n  'O',\n  'O',\n  'O'],\n ['O',\n  'O',\n  'O',\n  'O',\n  'O',\n  'O',\n  'O',\n  'O',\n  'O',\n  'O',\n  'O',\n  'O',\n  'O',\n  'O',\n  'O',\n  'I-IDIOM',\n  'I-IDIOM',\n  'I-IDIOM',\n  'I-IDIOM',\n  'O',\n  'O',\n  'O'],\n ['O',\n  'O',\n  'O',\n  'O',\n  'O',\n  'O',\n  'O',\n  'O',\n  'O',\n  'O',\n  'O',\n  'O',\n  'O',\n  'O',\n  'O',\n  'O',\n  'O',\n  'O',\n  'O',\n  'O',\n  'I-IDIOM',\n  'I-IDIOM',\n  'I-IDIOM',\n  'I-IDIOM',\n  'I-IDIOM',\n  'O',\n  'O',\n  'O',\n  'O',\n  'O',\n  'O',\n  'O',\n  'O',\n  'O',\n  'O',\n  'O',\n  'O',\n  'O',\n  'O',\n  'O',\n  'O',\n  'O'],\n ['O',\n  'O',\n  'O',\n  'O',\n  'O',\n  'O',\n  'O',\n  'O',\n  'O',\n  'O',\n  'O',\n  'O',\n  'O',\n  'O',\n  'O',\n  'O',\n  'O',\n  'O',\n  'O',\n  'O',\n  'O',\n  'O',\n  'O',\n  'O',\n  'O',\n  'O',\n  'O',\n  'I-IDIOM',\n  'I-IDIOM',\n  'I-IDIOM',\n  'O',\n  'O',\n  'O',\n  'O',\n  'O'],\n ['O',\n  'O',\n  'O',\n  'O',\n  'O',\n  'O',\n  'O',\n  'O',\n  'O',\n  'I-IDIOM',\n  'I-IDIOM',\n  'I-IDIOM',\n  'O',\n  'O',\n  'O',\n  'O',\n  'O',\n  'O',\n  'O',\n  'O',\n  'O',\n  'O',\n  'O',\n  'O',\n  'O',\n  'O',\n  'O',\n  'O',\n  'O',\n  'O',\n  'O'],\n ['O',\n  'O',\n  'O',\n  'O',\n  'O',\n  'O',\n  'I-IDIOM',\n  'I-IDIOM',\n  'I-IDIOM',\n  'O',\n  'O',\n  'O',\n  'O',\n  'O',\n  'O',\n  'O',\n  'O',\n  'O',\n  'O',\n  'O',\n  'O',\n  'O',\n  'O',\n  'O',\n  'O',\n  'O',\n  'O',\n  'O',\n  'O',\n  'O'],\n ['O',\n  'O',\n  'O',\n  'O',\n  'O',\n  'O',\n  'O',\n  'O',\n  'O',\n  'O',\n  'O',\n  'O',\n  'O',\n  'O',\n  'O',\n  'O',\n  'O',\n  'O',\n  'O',\n  'I-IDIOM',\n  'I-IDIOM',\n  'I-IDIOM',\n  'O'],\n ['O',\n  'O',\n  'O',\n  'O',\n  'O',\n  'O',\n  'O',\n  'O',\n  'O',\n  'O',\n  'O',\n  'O',\n  'O',\n  'O',\n  'O',\n  'O',\n  'O',\n  'O',\n  'I-IDIOM',\n  'I-IDIOM',\n  'O',\n  'O',\n  'O',\n  'O',\n  'O',\n  'O',\n  'O',\n  'O',\n  'O',\n  'O',\n  'O',\n  'O',\n  'O',\n  'O',\n  'O'],\n ['O',\n  'O',\n  'O',\n  'O',\n  'O',\n  'O',\n  'O',\n  'O',\n  'O',\n  'O',\n  'O',\n  'O',\n  'O',\n  'O',\n  'O',\n  'O',\n  'O',\n  'O',\n  'O',\n  'O',\n  'O',\n  'O',\n  'O',\n  'O',\n  'O',\n  'O',\n  'I-IDIOM',\n  'I-IDIOM',\n  'O',\n  'O',\n  'O',\n  'O',\n  'O',\n  'O',\n  'O',\n  'O',\n  'O',\n  'O',\n  'O',\n  'O',\n  'O',\n  'O',\n  'O',\n  'O'],\n ['O',\n  'O',\n  'O',\n  'O',\n  'O',\n  'O',\n  'O',\n  'O',\n  'O',\n  'O',\n  'O',\n  'O',\n  'O',\n  'I-IDIOM',\n  'I-IDIOM',\n  'I-IDIOM',\n  'O'],\n ['O',\n  'O',\n  'O',\n  'O',\n  'O',\n  'O',\n  'O',\n  'O',\n  'O',\n  'O',\n  'O',\n  'O',\n  'O',\n  'O',\n  'O',\n  'O',\n  'O',\n  'O',\n  'O',\n  'O',\n  'O',\n  'O',\n  'I-IDIOM',\n  'I-IDIOM',\n  'O'],\n ['O',\n  'O',\n  'O',\n  'O',\n  'O',\n  'O',\n  'I-IDIOM',\n  'I-IDIOM',\n  'I-IDIOM',\n  'O',\n  'O',\n  'O',\n  'O',\n  'O',\n  'O',\n  'O',\n  'O',\n  'O',\n  'O',\n  'O',\n  'O',\n  'O',\n  'O',\n  'O',\n  'O',\n  'O',\n  'O',\n  'O',\n  'O',\n  'O',\n  'O',\n  'O',\n  'O',\n  'O',\n  'O',\n  'O',\n  'O',\n  'O',\n  'O',\n  'O',\n  'O',\n  'O',\n  'O',\n  'O',\n  'O',\n  'O',\n  'O',\n  'O',\n  'O',\n  'O',\n  'O',\n  'O',\n  'O',\n  'O',\n  'O'],\n ['O',\n  'O',\n  'O',\n  'O',\n  'O',\n  'O',\n  'O',\n  'O',\n  'O',\n  'O',\n  'O',\n  'O',\n  'O',\n  'O',\n  'O',\n  'I-IDIOM',\n  'I-IDIOM',\n  'I-IDIOM',\n  'O',\n  'O',\n  'O',\n  'O',\n  'O',\n  'O',\n  'O',\n  'O',\n  'O',\n  'O',\n  'O',\n  'O',\n  'O',\n  'O'],\n ['O',\n  'O',\n  'O',\n  'O',\n  'O',\n  'O',\n  'O',\n  'O',\n  'O',\n  'I-IDIOM',\n  'I-IDIOM',\n  'I-IDIOM',\n  'O',\n  'O',\n  'O',\n  'O',\n  'O'],\n ['O', 'O', 'O', 'O', 'O', 'O', 'O', 'I-IDIOM', 'I-IDIOM', 'I-IDIOM', 'O'],\n ['O',\n  'O',\n  'O',\n  'O',\n  'O',\n  'O',\n  'I-IDIOM',\n  'I-IDIOM',\n  'I-IDIOM',\n  'O',\n  'O',\n  'O',\n  'O',\n  'O',\n  'O',\n  'O',\n  'O'],\n ['I-IDIOM',\n  'I-IDIOM',\n  'O',\n  'O',\n  'O',\n  'O',\n  'O',\n  'O',\n  'O',\n  'O',\n  'O',\n  'O',\n  'O',\n  'O',\n  'O',\n  'O',\n  'O',\n  'O',\n  'O',\n  'O',\n  'O',\n  'O',\n  'O',\n  'O',\n  'O',\n  'O',\n  'O'],\n ['O',\n  'O',\n  'O',\n  'O',\n  'O',\n  'O',\n  'O',\n  'O',\n  'O',\n  'O',\n  'O',\n  'O',\n  'O',\n  'O',\n  'O',\n  'O',\n  'O',\n  'I-IDIOM',\n  'I-IDIOM',\n  'I-IDIOM',\n  'O'],\n ['O',\n  'O',\n  'O',\n  'O',\n  'O',\n  'O',\n  'O',\n  'O',\n  'O',\n  'O',\n  'O',\n  'O',\n  'O',\n  'I-IDIOM',\n  'I-IDIOM',\n  'I-IDIOM',\n  'O',\n  'O',\n  'O',\n  'O',\n  'O',\n  'O',\n  'O',\n  'O',\n  'O',\n  'O',\n  'O',\n  'O',\n  'O',\n  'O',\n  'O',\n  'O',\n  'O',\n  'O'],\n ['O',\n  'O',\n  'O',\n  'O',\n  'O',\n  'O',\n  'O',\n  'O',\n  'O',\n  'O',\n  'O',\n  'O',\n  'O',\n  'O',\n  'O',\n  'O',\n  'O',\n  'O',\n  'O',\n  'O',\n  'O',\n  'O',\n  'O',\n  'O',\n  'O',\n  'O',\n  'O',\n  'O',\n  'O',\n  'O',\n  'O',\n  'O',\n  'O',\n  'O',\n  'I-IDIOM',\n  'I-IDIOM',\n  'I-IDIOM',\n  'I-IDIOM',\n  'O'],\n ['O',\n  'O',\n  'O',\n  'O',\n  'O',\n  'O',\n  'O',\n  'O',\n  'O',\n  'O',\n  'O',\n  'O',\n  'O',\n  'O',\n  'O',\n  'O',\n  'O',\n  'O',\n  'O',\n  'O',\n  'O',\n  'O',\n  'O',\n  'O',\n  'O',\n  'O',\n  'O',\n  'O',\n  'O',\n  'O',\n  'O',\n  'I-IDIOM',\n  'I-IDIOM',\n  'I-IDIOM',\n  'O',\n  'O',\n  'O',\n  'O',\n  'O',\n  'O',\n  'O',\n  'O',\n  'O',\n  'O',\n  'O',\n  'O',\n  'O'],\n ['O',\n  'O',\n  'O',\n  'O',\n  'O',\n  'O',\n  'O',\n  'O',\n  'O',\n  'O',\n  'O',\n  'I-IDIOM',\n  'I-IDIOM',\n  'I-IDIOM',\n  'I-IDIOM',\n  'O'],\n ['O',\n  'O',\n  'O',\n  'O',\n  'O',\n  'O',\n  'O',\n  'O',\n  'O',\n  'O',\n  'O',\n  'O',\n  'O',\n  'O',\n  'O',\n  'O',\n  'O',\n  'I-IDIOM',\n  'I-IDIOM',\n  'I-IDIOM',\n  'O',\n  'O',\n  'O',\n  'O',\n  'O',\n  'O'],\n ['O', 'O', 'O', 'O', 'O', 'O', 'I-IDIOM', 'I-IDIOM', 'O', 'O', 'O', 'O', 'O'],\n ['O',\n  'O',\n  'O',\n  'O',\n  'O',\n  'O',\n  'O',\n  'O',\n  'O',\n  'O',\n  'O',\n  'O',\n  'O',\n  'O',\n  'O',\n  'O',\n  'O',\n  'O',\n  'O',\n  'O',\n  'O',\n  'O',\n  'O',\n  'O',\n  'O',\n  'O',\n  'O',\n  'O',\n  'O',\n  'O',\n  'O',\n  'O',\n  'O',\n  'I-IDIOM',\n  'I-IDIOM',\n  'I-IDIOM',\n  'O'],\n ['O',\n  'O',\n  'O',\n  'O',\n  'O',\n  'O',\n  'O',\n  'O',\n  'O',\n  'O',\n  'O',\n  'O',\n  'O',\n  'O',\n  'O',\n  'O',\n  'O',\n  'O',\n  'O',\n  'O',\n  'O',\n  'O',\n  'I-IDIOM',\n  'I-IDIOM',\n  'I-IDIOM',\n  'O',\n  'O',\n  'O',\n  'O'],\n ['O',\n  'O',\n  'O',\n  'O',\n  'O',\n  'O',\n  'O',\n  'O',\n  'O',\n  'O',\n  'O',\n  'O',\n  'O',\n  'O',\n  'O',\n  'O',\n  'O',\n  'O',\n  'O',\n  'O',\n  'O',\n  'O',\n  'O',\n  'O',\n  'I-IDIOM',\n  'I-IDIOM',\n  'I-IDIOM',\n  'I-IDIOM',\n  'I-IDIOM',\n  'O',\n  'O',\n  'O',\n  'O',\n  'O',\n  'O',\n  'O',\n  'O',\n  'O',\n  'O',\n  'O',\n  'O',\n  'O',\n  'O',\n  'O',\n  'O'],\n ['O',\n  'O',\n  'O',\n  'O',\n  'O',\n  'O',\n  'O',\n  'O',\n  'O',\n  'O',\n  'O',\n  'O',\n  'O',\n  'O',\n  'O',\n  'O',\n  'I-IDIOM',\n  'I-IDIOM',\n  'I-IDIOM',\n  'O',\n  'O',\n  'O',\n  'O',\n  'O',\n  'O',\n  'O',\n  'O',\n  'O',\n  'O',\n  'O',\n  'O',\n  'O'],\n ['O',\n  'O',\n  'O',\n  'O',\n  'I-IDIOM',\n  'I-IDIOM',\n  'I-IDIOM',\n  'I-IDIOM',\n  'O',\n  'O',\n  'O',\n  'O',\n  'O',\n  'O',\n  'O',\n  'O'],\n ['O', 'O', 'O', 'I-IDIOM', 'I-IDIOM', 'O', 'O', 'O'],\n ['O',\n  'O',\n  'O',\n  'O',\n  'O',\n  'O',\n  'O',\n  'O',\n  'O',\n  'O',\n  'O',\n  'I-IDIOM',\n  'I-IDIOM',\n  'I-IDIOM',\n  'O',\n  'O',\n  'O',\n  'O',\n  'O',\n  'O',\n  'O'],\n ['O',\n  'O',\n  'O',\n  'O',\n  'O',\n  'O',\n  'O',\n  'O',\n  'O',\n  'O',\n  'O',\n  'O',\n  'O',\n  'O',\n  'O',\n  'O',\n  'O',\n  'O',\n  'O',\n  'O',\n  'I-IDIOM',\n  'I-IDIOM',\n  'I-IDIOM',\n  'I-IDIOM',\n  'I-IDIOM',\n  'O'],\n ['O',\n  'O',\n  'O',\n  'O',\n  'O',\n  'O',\n  'O',\n  'O',\n  'O',\n  'O',\n  'O',\n  'O',\n  'O',\n  'O',\n  'O',\n  'O',\n  'O',\n  'O',\n  'O',\n  'O',\n  'O',\n  'O',\n  'O',\n  'O',\n  'O',\n  'O',\n  'O',\n  'O',\n  'I-IDIOM',\n  'I-IDIOM',\n  'I-IDIOM',\n  'O'],\n ['O',\n  'O',\n  'O',\n  'O',\n  'O',\n  'O',\n  'I-IDIOM',\n  'I-IDIOM',\n  'I-IDIOM',\n  'O',\n  'O',\n  'O',\n  'O',\n  'O',\n  'O',\n  'O',\n  'O',\n  'O',\n  'O',\n  'O',\n  'O'],\n ['O',\n  'O',\n  'O',\n  'O',\n  'O',\n  'O',\n  'O',\n  'O',\n  'O',\n  'O',\n  'I-IDIOM',\n  'I-IDIOM',\n  'I-IDIOM',\n  'O'],\n ['O',\n  'O',\n  'O',\n  'O',\n  'O',\n  'O',\n  'O',\n  'O',\n  'O',\n  'O',\n  'O',\n  'O',\n  'O',\n  'O',\n  'O',\n  'O',\n  'O',\n  'O',\n  'I-IDIOM',\n  'I-IDIOM',\n  'I-IDIOM',\n  'O',\n  'O',\n  'O',\n  'O',\n  'O'],\n ['O',\n  'O',\n  'O',\n  'O',\n  'O',\n  'O',\n  'O',\n  'O',\n  'O',\n  'O',\n  'I-IDIOM',\n  'I-IDIOM',\n  'I-IDIOM',\n  'O'],\n ['O',\n  'O',\n  'O',\n  'O',\n  'O',\n  'O',\n  'O',\n  'O',\n  'I-IDIOM',\n  'I-IDIOM',\n  'O',\n  'O',\n  'O',\n  'O',\n  'O',\n  'O',\n  'O',\n  'O',\n  'O',\n  'O',\n  'O',\n  'O',\n  'O',\n  'O',\n  'O'],\n ['O',\n  'O',\n  'O',\n  'O',\n  'O',\n  'O',\n  'O',\n  'O',\n  'O',\n  'O',\n  'O',\n  'O',\n  'O',\n  'O',\n  'O',\n  'O',\n  'O',\n  'O',\n  'I-IDIOM',\n  'I-IDIOM',\n  'O',\n  'O',\n  'O',\n  'O',\n  'O',\n  'O',\n  'O',\n  'O',\n  'O',\n  'O',\n  'O',\n  'O',\n  'O',\n  'O',\n  'O',\n  'O',\n  'O',\n  'O',\n  'O',\n  'O'],\n ['O',\n  'O',\n  'O',\n  'O',\n  'O',\n  'O',\n  'O',\n  'O',\n  'O',\n  'O',\n  'O',\n  'O',\n  'O',\n  'O',\n  'I-IDIOM',\n  'I-IDIOM',\n  'I-IDIOM',\n  'O',\n  'O',\n  'O',\n  'O',\n  'O',\n  'O',\n  'O',\n  'O',\n  'O',\n  'O'],\n ['I-IDIOM',\n  'I-IDIOM',\n  'O',\n  'O',\n  'O',\n  'O',\n  'O',\n  'O',\n  'O',\n  'O',\n  'O',\n  'O',\n  'O',\n  'O',\n  'O',\n  'O',\n  'O',\n  'O',\n  'O',\n  'O',\n  'O',\n  'O',\n  'O',\n  'O',\n  'O',\n  'O',\n  'O',\n  'O',\n  'O',\n  'O',\n  'O',\n  'O'],\n ['O', 'O', 'O', 'O', 'O', 'O', 'I-IDIOM', 'I-IDIOM', 'I-IDIOM', 'O', 'O'],\n ['O',\n  'O',\n  'O',\n  'O',\n  'O',\n  'O',\n  'O',\n  'O',\n  'O',\n  'O',\n  'O',\n  'O',\n  'O',\n  'O',\n  'O',\n  'O',\n  'O',\n  'O',\n  'O',\n  'O',\n  'O',\n  'O',\n  'O',\n  'O',\n  'O',\n  'O',\n  'O',\n  'O',\n  'O',\n  'O',\n  'O',\n  'O',\n  'O',\n  'O',\n  'O',\n  'O',\n  'I-IDIOM',\n  'I-IDIOM',\n  'I-IDIOM',\n  'O',\n  'O',\n  'O',\n  'O',\n  'O',\n  'O',\n  'O',\n  'O',\n  'O',\n  'O',\n  'O',\n  'O',\n  'O',\n  'O',\n  'O',\n  'O',\n  'O',\n  'O',\n  'O',\n  'O',\n  'O',\n  'O',\n  'O',\n  'O',\n  'O'],\n ['O',\n  'O',\n  'O',\n  'O',\n  'O',\n  'O',\n  'O',\n  'O',\n  'O',\n  'O',\n  'O',\n  'O',\n  'O',\n  'O',\n  'O',\n  'O',\n  'O',\n  'O',\n  'O',\n  'I-IDIOM',\n  'I-IDIOM',\n  'I-IDIOM',\n  'I-IDIOM',\n  'O',\n  'O',\n  'O',\n  'O',\n  'O',\n  'O'],\n ['O',\n  'O',\n  'O',\n  'O',\n  'O',\n  'O',\n  'O',\n  'O',\n  'O',\n  'O',\n  'I-IDIOM',\n  'I-IDIOM',\n  'I-IDIOM',\n  'O',\n  'O'],\n ['O',\n  'O',\n  'O',\n  'O',\n  'O',\n  'O',\n  'O',\n  'O',\n  'O',\n  'O',\n  'O',\n  'O',\n  'O',\n  'O',\n  'O',\n  'O',\n  'O',\n  'O',\n  'O',\n  'O',\n  'O',\n  'O',\n  'O',\n  'O',\n  'O',\n  'O',\n  'O',\n  'O',\n  'O',\n  'O',\n  'O',\n  'O',\n  'O',\n  'O',\n  'O',\n  'O',\n  'O',\n  'O',\n  'O',\n  'O',\n  'O',\n  'O',\n  'O',\n  'O',\n  'O',\n  'O',\n  'O',\n  'O',\n  'O',\n  'O',\n  'O',\n  'O',\n  'O',\n  'O',\n  'O',\n  'O',\n  'O',\n  'O',\n  'O',\n  'O',\n  'O',\n  'O',\n  'O',\n  'O',\n  'O',\n  'O',\n  'O',\n  'O',\n  'O',\n  'O',\n  'I-IDIOM',\n  'I-IDIOM',\n  'I-IDIOM',\n  'O',\n  'O',\n  'O',\n  'O',\n  'O'],\n ['O',\n  'O',\n  'O',\n  'O',\n  'O',\n  'O',\n  'O',\n  'O',\n  'O',\n  'O',\n  'O',\n  'O',\n  'O',\n  'I-IDIOM',\n  'I-IDIOM',\n  'I-IDIOM',\n  'O',\n  'O',\n  'O',\n  'O',\n  'O'],\n ['O',\n  'O',\n  'O',\n  'O',\n  'O',\n  'O',\n  'O',\n  'I-IDIOM',\n  'I-IDIOM',\n  'I-IDIOM',\n  'I-IDIOM',\n  'O',\n  'O',\n  'O',\n  'O',\n  'O',\n  'O',\n  'O',\n  'O',\n  'O',\n  'O',\n  'O',\n  'O',\n  'O',\n  'O',\n  'O',\n  'O'],\n ['O',\n  'O',\n  'O',\n  'O',\n  'O',\n  'O',\n  'O',\n  'O',\n  'O',\n  'O',\n  'O',\n  'O',\n  'O',\n  'O',\n  'O',\n  'O',\n  'O',\n  'O',\n  'O',\n  'O',\n  'O',\n  'O',\n  'O',\n  'O',\n  'O',\n  'O',\n  'O',\n  'O',\n  'O',\n  'O',\n  'O',\n  'O',\n  'O',\n  'O',\n  'O',\n  'O',\n  'O',\n  'O',\n  'O',\n  'O',\n  'O',\n  'O',\n  'O',\n  'O',\n  'O',\n  'O',\n  'I-IDIOM',\n  'I-IDIOM',\n  'O',\n  'O',\n  'O',\n  'O',\n  'O',\n  'O',\n  'O',\n  'O',\n  'O',\n  'O',\n  'O',\n  'O',\n  'O',\n  'O',\n  'O',\n  'O',\n  'O',\n  'O'],\n ['O',\n  'O',\n  'O',\n  'O',\n  'O',\n  'O',\n  'O',\n  'O',\n  'I-IDIOM',\n  'I-IDIOM',\n  'I-IDIOM',\n  'O',\n  'O',\n  'O',\n  'O',\n  'O',\n  'O',\n  'O',\n  'O',\n  'O',\n  'O',\n  'O',\n  'O',\n  'O',\n  'O',\n  'O',\n  'O',\n  'O',\n  'O',\n  'O',\n  'O',\n  'O',\n  'O',\n  'O'],\n ['O', 'O', 'I-IDIOM', 'I-IDIOM', 'I-IDIOM', 'O'],\n ['O',\n  'O',\n  'O',\n  'O',\n  'O',\n  'O',\n  'O',\n  'I-IDIOM',\n  'I-IDIOM',\n  'I-IDIOM',\n  'O',\n  'O'],\n ['O',\n  'O',\n  'O',\n  'O',\n  'O',\n  'O',\n  'O',\n  'O',\n  'O',\n  'O',\n  'O',\n  'O',\n  'O',\n  'O',\n  'O',\n  'O',\n  'O',\n  'O',\n  'O',\n  'O',\n  'O',\n  'O',\n  'O',\n  'O',\n  'O',\n  'O',\n  'O',\n  'O',\n  'O',\n  'O',\n  'O',\n  'O',\n  'O',\n  'I-IDIOM',\n  'I-IDIOM',\n  'O',\n  'O',\n  'O',\n  'O',\n  'O',\n  'O',\n  'O',\n  'O',\n  'O'],\n ['O',\n  'O',\n  'O',\n  'O',\n  'O',\n  'I-IDIOM',\n  'I-IDIOM',\n  'I-IDIOM',\n  'O',\n  'O',\n  'O',\n  'O',\n  'O',\n  'O',\n  'O'],\n ['O', 'O', 'O', 'O', 'I-IDIOM', 'I-IDIOM', 'I-IDIOM', 'O', 'O', 'O', 'O'],\n ['I-IDIOM', 'I-IDIOM', 'I-IDIOM'],\n ['O',\n  'O',\n  'O',\n  'O',\n  'O',\n  'O',\n  'O',\n  'O',\n  'O',\n  'O',\n  'O',\n  'O',\n  'O',\n  'O',\n  'O',\n  'O',\n  'O',\n  'O',\n  'O',\n  'O',\n  'I-IDIOM',\n  'I-IDIOM',\n  'O',\n  'O',\n  'O',\n  'O',\n  'O',\n  'O',\n  'O',\n  'O',\n  'O',\n  'O',\n  'O',\n  'O',\n  'O',\n  'O',\n  'O',\n  'O',\n  'O',\n  'O',\n  'O',\n  'O',\n  'O',\n  'O',\n  'O',\n  'O',\n  'O',\n  'O',\n  'O',\n  'O',\n  'O',\n  'O',\n  'O',\n  'O',\n  'O',\n  'O',\n  'O',\n  'O',\n  'O',\n  'O',\n  'O'],\n ['O',\n  'O',\n  'O',\n  'O',\n  'O',\n  'O',\n  'O',\n  'O',\n  'O',\n  'O',\n  'O',\n  'O',\n  'O',\n  'O',\n  'O',\n  'O',\n  'O',\n  'O',\n  'I-IDIOM',\n  'I-IDIOM',\n  'O',\n  'O',\n  'O',\n  'O',\n  'O',\n  'O',\n  'O',\n  'O',\n  'O',\n  'O',\n  'O',\n  'O',\n  'O',\n  'O',\n  'O'],\n ['O',\n  'O',\n  'O',\n  'O',\n  'O',\n  'O',\n  'O',\n  'O',\n  'O',\n  'O',\n  'O',\n  'O',\n  'O',\n  'I-IDIOM',\n  'I-IDIOM',\n  'I-IDIOM',\n  'O'],\n ['O',\n  'O',\n  'O',\n  'O',\n  'O',\n  'O',\n  'O',\n  'O',\n  'O',\n  'O',\n  'O',\n  'O',\n  'I-IDIOM',\n  'I-IDIOM',\n  'O',\n  'O',\n  'O',\n  'O',\n  'O',\n  'O',\n  'O',\n  'O',\n  'O',\n  'O',\n  'O',\n  'O',\n  'O',\n  'O',\n  'O',\n  'O',\n  'O',\n  'O',\n  'O',\n  'O',\n  'O',\n  'O',\n  'O',\n  'O',\n  'O',\n  'O'],\n ['O', 'O', 'O', 'O', 'I-IDIOM', 'I-IDIOM', 'O'],\n ['O', 'O', 'O', 'O', 'O', 'I-IDIOM', 'I-IDIOM', 'I-IDIOM', 'O'],\n ['O',\n  'O',\n  'O',\n  'O',\n  'O',\n  'I-IDIOM',\n  'I-IDIOM',\n  'I-IDIOM',\n  'O',\n  'O',\n  'O',\n  'O',\n  'O',\n  'O',\n  'O',\n  'O',\n  'O',\n  'O',\n  'O',\n  'O',\n  'O',\n  'O',\n  'O',\n  'O',\n  'O',\n  'O',\n  'O',\n  'O',\n  'O',\n  'O',\n  'O',\n  'O',\n  'O',\n  'O',\n  'O',\n  'O',\n  'O',\n  'O',\n  'O',\n  'O',\n  'O',\n  'O',\n  'O',\n  'O'],\n ['O',\n  'O',\n  'O',\n  'O',\n  'O',\n  'O',\n  'O',\n  'O',\n  'O',\n  'O',\n  'O',\n  'O',\n  'O',\n  'O',\n  'I-IDIOM',\n  'I-IDIOM',\n  'I-IDIOM',\n  'O',\n  'O',\n  'O',\n  'O'],\n ['O',\n  'O',\n  'O',\n  'O',\n  'O',\n  'O',\n  'O',\n  'O',\n  'O',\n  'O',\n  'O',\n  'O',\n  'O',\n  'O',\n  'O',\n  'O',\n  'I-IDIOM',\n  'I-IDIOM',\n  'I-IDIOM',\n  'I-IDIOM',\n  'O',\n  'O',\n  'O',\n  'O',\n  'O',\n  'O',\n  'O',\n  'O',\n  'O',\n  'O',\n  'O',\n  'O',\n  'O',\n  'O',\n  'O',\n  'O'],\n ['O',\n  'O',\n  'O',\n  'O',\n  'O',\n  'O',\n  'O',\n  'O',\n  'O',\n  'O',\n  'O',\n  'I-IDIOM',\n  'I-IDIOM',\n  'I-IDIOM',\n  'O'],\n ['O',\n  'O',\n  'O',\n  'O',\n  'O',\n  'O',\n  'O',\n  'O',\n  'O',\n  'O',\n  'O',\n  'O',\n  'O',\n  'O',\n  'O',\n  'O',\n  'O',\n  'O',\n  'O',\n  'O',\n  'O',\n  'I-IDIOM',\n  'I-IDIOM',\n  'I-IDIOM',\n  'O'],\n ['O',\n  'O',\n  'O',\n  'O',\n  'O',\n  'O',\n  'O',\n  'O',\n  'O',\n  'I-IDIOM',\n  'I-IDIOM',\n  'I-IDIOM',\n  'O',\n  'O',\n  'O',\n  'O',\n  'O',\n  'O',\n  'O',\n  'O',\n  'O',\n  'O'],\n ['O',\n  'O',\n  'O',\n  'O',\n  'O',\n  'O',\n  'O',\n  'O',\n  'O',\n  'O',\n  'O',\n  'O',\n  'O',\n  'O',\n  'O',\n  'O',\n  'O',\n  'O',\n  'O',\n  'O',\n  'O',\n  'O',\n  'O',\n  'O',\n  'O',\n  'O',\n  'O',\n  'O',\n  'O',\n  'O',\n  'O',\n  'O',\n  'O',\n  'I-IDIOM',\n  'I-IDIOM',\n  'O',\n  'O',\n  'O',\n  'O',\n  'O',\n  'O',\n  'O'],\n ['O',\n  'O',\n  'O',\n  'O',\n  'O',\n  'O',\n  'O',\n  'O',\n  'O',\n  'O',\n  'O',\n  'O',\n  'O',\n  'O',\n  'O',\n  'O',\n  'O',\n  'O',\n  'O',\n  'O',\n  'O',\n  'O',\n  'O',\n  'O',\n  'O',\n  'O',\n  'O',\n  'O',\n  'O',\n  'O',\n  'O',\n  'O',\n  'O',\n  'O',\n  'O',\n  'O',\n  'O',\n  'O',\n  'O',\n  'O',\n  'I-IDIOM',\n  'I-IDIOM',\n  'I-IDIOM',\n  'I-IDIOM',\n  'O',\n  'O',\n  'O',\n  'O',\n  'O',\n  'O',\n  'O',\n  'O',\n  'O',\n  'O',\n  'O',\n  'O',\n  'O',\n  'O',\n  'O',\n  'O',\n  'O',\n  'O',\n  'O',\n  'O',\n  'O',\n  'O',\n  'O',\n  'O',\n  'O'],\n ['O',\n  'O',\n  'O',\n  'O',\n  'O',\n  'O',\n  'O',\n  'O',\n  'O',\n  'O',\n  'O',\n  'O',\n  'O',\n  'O',\n  'O',\n  'O',\n  'O',\n  'O',\n  'I-IDIOM',\n  'I-IDIOM',\n  'I-IDIOM',\n  'O',\n  'O',\n  'O',\n  'O',\n  'O',\n  'O',\n  'O',\n  'O'],\n ['O',\n  'O',\n  'O',\n  'O',\n  'O',\n  'O',\n  'O',\n  'O',\n  'O',\n  'O',\n  'O',\n  'O',\n  'O',\n  'O',\n  'O',\n  'O',\n  'O',\n  'O',\n  'O',\n  'O',\n  'O',\n  'O',\n  'O',\n  'O',\n  'O',\n  'O',\n  'O',\n  'O',\n  'O',\n  'O',\n  'O',\n  'O',\n  'O',\n  'O',\n  'I-IDIOM',\n  'I-IDIOM',\n  'I-IDIOM',\n  'O',\n  'O',\n  'O',\n  'O',\n  'O'],\n ['O',\n  'O',\n  'O',\n  'O',\n  'O',\n  'O',\n  'O',\n  'O',\n  'I-IDIOM',\n  'I-IDIOM',\n  'O',\n  'O',\n  'O',\n  'O',\n  'O',\n  'O',\n  'O',\n  'O',\n  'O',\n  'O',\n  'O',\n  'O',\n  'O',\n  'O',\n  'O',\n  'O',\n  'O',\n  'O',\n  'O',\n  'O',\n  'O',\n  'O',\n  'O',\n  'O',\n  'O',\n  'O',\n  'O',\n  'O',\n  'O',\n  'O',\n  'O',\n  'O',\n  'O',\n  'O',\n  'O',\n  'O',\n  'O',\n  'O',\n  'O',\n  'O',\n  'O',\n  'O',\n  'O',\n  'O',\n  'O',\n  'O',\n  'O',\n  'O',\n  'O',\n  'O',\n  'O',\n  'O',\n  'O',\n  'O',\n  'O',\n  'O',\n  'O',\n  'O',\n  'O',\n  'O',\n  'O',\n  'O',\n  'O',\n  'O',\n  'O',\n  'O',\n  'O',\n  'O',\n  'O',\n  'O',\n  'O',\n  'O',\n  'O',\n  'O',\n  'O',\n  'O',\n  'O',\n  'O',\n  'O',\n  'O',\n  'O',\n  'O',\n  'O',\n  'O',\n  'O',\n  'O',\n  'O',\n  'O',\n  'O',\n  'O',\n  'O'],\n ['O',\n  'O',\n  'O',\n  'O',\n  'O',\n  'O',\n  'O',\n  'O',\n  'O',\n  'O',\n  'O',\n  'O',\n  'O',\n  'O',\n  'O',\n  'O',\n  'O',\n  'O',\n  'O',\n  'O',\n  'O',\n  'O',\n  'O',\n  'O',\n  'O',\n  'O',\n  'O',\n  'I-IDIOM',\n  'I-IDIOM',\n  'I-IDIOM',\n  'O',\n  'O',\n  'O',\n  'O',\n  'O'],\n ['O',\n  'O',\n  'O',\n  'O',\n  'O',\n  'O',\n  'O',\n  'O',\n  'O',\n  'O',\n  'O',\n  'O',\n  'O',\n  'O',\n  'O',\n  'O',\n  'O',\n  'O',\n  'O',\n  'O',\n  'O',\n  'I-IDIOM',\n  'I-IDIOM',\n  'O',\n  'O',\n  'O',\n  'O',\n  'O',\n  'O',\n  'O',\n  'O'],\n ['O',\n  'O',\n  'O',\n  'O',\n  'O',\n  'O',\n  'O',\n  'O',\n  'O',\n  'O',\n  'O',\n  'O',\n  'O',\n  'O',\n  'O',\n  'O',\n  'O',\n  'O',\n  'O',\n  'O',\n  'O',\n  'O',\n  'O',\n  'O',\n  'O',\n  'O',\n  'O',\n  'O',\n  'O',\n  'O',\n  'O',\n  'O',\n  'O',\n  'O',\n  'O',\n  'O',\n  'O',\n  'O',\n  'O',\n  'O',\n  'O',\n  'O',\n  'O',\n  'O',\n  'O',\n  'O',\n  'I-IDIOM',\n  'I-IDIOM',\n  'O',\n  'O',\n  'O',\n  'O',\n  'O',\n  'O',\n  'O',\n  'O',\n  'O',\n  'O'],\n ['O', 'O', 'O', 'O', 'O', 'O', 'I-IDIOM', 'I-IDIOM', 'I-IDIOM', 'O'],\n ['O', 'O', 'O', 'I-IDIOM', 'I-IDIOM', 'I-IDIOM', 'O', 'O', 'O', 'O'],\n ['O',\n  'O',\n  'O',\n  'O',\n  'O',\n  'O',\n  'O',\n  'O',\n  'O',\n  'O',\n  'I-IDIOM',\n  'I-IDIOM',\n  'O',\n  'O',\n  'O',\n  'O'],\n ['O',\n  'O',\n  'O',\n  'O',\n  'O',\n  'O',\n  'O',\n  'O',\n  'O',\n  'O',\n  'O',\n  'O',\n  'I-IDIOM',\n  'I-IDIOM',\n  'I-IDIOM',\n  'O',\n  'O',\n  'O',\n  'O',\n  'O',\n  'O',\n  'O',\n  'O'],\n ['O',\n  'O',\n  'O',\n  'O',\n  'O',\n  'O',\n  'O',\n  'O',\n  'O',\n  'O',\n  'O',\n  'O',\n  'O',\n  'O',\n  'O',\n  'I-IDIOM',\n  'I-IDIOM',\n  'I-IDIOM',\n  'O',\n  'O',\n  'O',\n  'O',\n  'O'],\n ['O',\n  'O',\n  'O',\n  'O',\n  'O',\n  'O',\n  'O',\n  'O',\n  'O',\n  'I-IDIOM',\n  'I-IDIOM',\n  'I-IDIOM',\n  'O',\n  'O',\n  'O',\n  'O',\n  'O',\n  'O',\n  'O',\n  'O',\n  'O',\n  'O',\n  'O',\n  'O',\n  'O',\n  'O',\n  'O',\n  'O',\n  'O',\n  'O',\n  'O',\n  'O',\n  'O',\n  'O',\n  'O',\n  'O',\n  'O',\n  'O',\n  'O',\n  'O',\n  'O',\n  'O',\n  'O'],\n ['O',\n  'O',\n  'O',\n  'I-IDIOM',\n  'I-IDIOM',\n  'I-IDIOM',\n  'O',\n  'O',\n  'O',\n  'O',\n  'O',\n  'O',\n  'O'],\n ['O',\n  'O',\n  'O',\n  'O',\n  'O',\n  'O',\n  'O',\n  'O',\n  'O',\n  'O',\n  'O',\n  'O',\n  'O',\n  'O',\n  'O',\n  'O',\n  'O',\n  'O',\n  'O',\n  'O',\n  'O',\n  'O',\n  'O',\n  'O',\n  'O',\n  'O',\n  'O',\n  'I-IDIOM',\n  'I-IDIOM',\n  'I-IDIOM',\n  'O',\n  'O',\n  'O',\n  'O',\n  'O',\n  'O',\n  'O',\n  'O',\n  'O',\n  'O',\n  'O',\n  'O'],\n ['O',\n  'O',\n  'O',\n  'O',\n  'O',\n  'O',\n  'O',\n  'O',\n  'O',\n  'O',\n  'O',\n  'O',\n  'O',\n  'O',\n  'O',\n  'O',\n  'O',\n  'O',\n  'O',\n  'O',\n  'O',\n  'O',\n  'O',\n  'O',\n  'O',\n  'O',\n  'O',\n  'O',\n  'O',\n  'O',\n  'O',\n  'O',\n  'I-IDIOM',\n  'I-IDIOM',\n  'O',\n  'O',\n  'O',\n  'O',\n  'O',\n  'O',\n  'O',\n  'O'],\n ['O',\n  'O',\n  'O',\n  'O',\n  'O',\n  'O',\n  'O',\n  'I-IDIOM',\n  'I-IDIOM',\n  'O',\n  'O',\n  'O',\n  'O',\n  'O',\n  'O',\n  'O',\n  'O',\n  'O',\n  'O',\n  'O',\n  'O',\n  'O',\n  'O',\n  'O',\n  'O',\n  'O',\n  'O',\n  'O',\n  'O',\n  'O',\n  'O',\n  'O',\n  'O',\n  'O'],\n ['O',\n  'O',\n  'O',\n  'O',\n  'O',\n  'O',\n  'O',\n  'O',\n  'I-IDIOM',\n  'I-IDIOM',\n  'I-IDIOM',\n  'O',\n  'O',\n  'O',\n  'O',\n  'O',\n  'O'],\n ['I-IDIOM',\n  'I-IDIOM',\n  'I-IDIOM',\n  'O',\n  'O',\n  'O',\n  'O',\n  'O',\n  'O',\n  'O',\n  'O',\n  'O',\n  'O',\n  'O',\n  'O'],\n ['O',\n  'O',\n  'O',\n  'O',\n  'O',\n  'O',\n  'O',\n  'O',\n  'O',\n  'O',\n  'O',\n  'O',\n  'O',\n  'O',\n  'O',\n  'O',\n  'O',\n  'O',\n  'I-IDIOM',\n  'I-IDIOM',\n  'I-IDIOM',\n  'O',\n  'O',\n  'O',\n  'O',\n  'O',\n  'O',\n  'O'],\n ['O',\n  'O',\n  'O',\n  'O',\n  'O',\n  'O',\n  'O',\n  'O',\n  'O',\n  'O',\n  'O',\n  'O',\n  'O',\n  'O',\n  'O',\n  'O',\n  'I-IDIOM',\n  'I-IDIOM',\n  'I-IDIOM',\n  'O',\n  'O',\n  'O',\n  'O',\n  'O',\n  'O',\n  'O',\n  'O',\n  'O',\n  'O',\n  'O',\n  'O',\n  'O',\n  'O',\n  'O'],\n ['O',\n  'O',\n  'O',\n  'O',\n  'O',\n  'O',\n  'O',\n  'O',\n  'O',\n  'O',\n  'O',\n  'O',\n  'O',\n  'O',\n  'O',\n  'O',\n  'O',\n  'O',\n  'O',\n  'O',\n  'O',\n  'O',\n  'O',\n  'O',\n  'O',\n  'O',\n  'O',\n  'O',\n  'O',\n  'O',\n  'O',\n  'O',\n  'O',\n  'O',\n  'I-IDIOM',\n  'I-IDIOM',\n  'I-IDIOM',\n  'O',\n  'O',\n  'O',\n  'O',\n  'O',\n  'O',\n  'O',\n  'O',\n  'O'],\n ['O',\n  'O',\n  'O',\n  'O',\n  'O',\n  'O',\n  'O',\n  'O',\n  'O',\n  'O',\n  'O',\n  'O',\n  'I-IDIOM',\n  'I-IDIOM',\n  'I-IDIOM',\n  'O',\n  'O',\n  'O',\n  'O',\n  'O',\n  'O',\n  'O',\n  'O',\n  'O',\n  'O',\n  'O',\n  'O',\n  'O',\n  'O',\n  'O',\n  'O',\n  'O',\n  'O',\n  'O',\n  'O',\n  'O',\n  'O',\n  'O',\n  'O',\n  'O'],\n ['O',\n  'O',\n  'O',\n  'O',\n  'O',\n  'O',\n  'O',\n  'O',\n  'O',\n  'O',\n  'O',\n  'O',\n  'O',\n  'O',\n  'O',\n  'O',\n  'O',\n  'O',\n  'O',\n  'O',\n  'O',\n  'O',\n  'O',\n  'O',\n  'I-IDIOM',\n  'I-IDIOM',\n  'I-IDIOM',\n  'I-IDIOM',\n  'O',\n  'O',\n  'O'],\n ['O',\n  'O',\n  'O',\n  'O',\n  'O',\n  'O',\n  'O',\n  'O',\n  'O',\n  'O',\n  'O',\n  'O',\n  'O',\n  'O',\n  'O',\n  'O',\n  'O',\n  'O',\n  'O',\n  'O',\n  'O',\n  'O',\n  'O',\n  'O',\n  'O',\n  'O',\n  'O',\n  'O',\n  'O',\n  'O',\n  'O',\n  'O',\n  'O',\n  'O',\n  'O',\n  'O',\n  'O',\n  'O',\n  'O',\n  'O',\n  'O',\n  'O',\n  'O',\n  'O',\n  'I-IDIOM',\n  'I-IDIOM',\n  'O',\n  'O',\n  'O',\n  'O',\n  'O',\n  'O',\n  'O',\n  'O'],\n ['O',\n  'O',\n  'O',\n  'O',\n  'O',\n  'O',\n  'O',\n  'O',\n  'O',\n  'O',\n  'O',\n  'O',\n  'O',\n  'O',\n  'O',\n  'O',\n  'O',\n  'O',\n  'I-IDIOM',\n  'I-IDIOM',\n  'I-IDIOM',\n  'I-IDIOM',\n  'O',\n  'O',\n  'O',\n  'O',\n  'O',\n  'O',\n  'O',\n  'O',\n  'O',\n  'O',\n  'O',\n  'O'],\n ['O',\n  'O',\n  'O',\n  'O',\n  'O',\n  'O',\n  'O',\n  'O',\n  'O',\n  'O',\n  'I-IDIOM',\n  'I-IDIOM',\n  'I-IDIOM',\n  'O'],\n ['O',\n  'O',\n  'O',\n  'O',\n  'O',\n  'O',\n  'O',\n  'O',\n  'O',\n  'I-IDIOM',\n  'I-IDIOM',\n  'I-IDIOM',\n  'O'],\n ['O', 'O', 'O', 'O', 'O', 'I-IDIOM', 'I-IDIOM', 'I-IDIOM', 'O'],\n ['O',\n  'I-IDIOM',\n  'I-IDIOM',\n  'I-IDIOM',\n  'O',\n  'O',\n  'O',\n  'O',\n  'O',\n  'O',\n  'O',\n  'O',\n  'O',\n  'O'],\n ['O',\n  'O',\n  'O',\n  'O',\n  'O',\n  'O',\n  'I-IDIOM',\n  'I-IDIOM',\n  'I-IDIOM',\n  'O',\n  'O',\n  'O',\n  'O',\n  'O',\n  'O',\n  'O',\n  'O',\n  'O',\n  'O',\n  'O',\n  'O',\n  'O',\n  'O',\n  'O',\n  'O',\n  'O',\n  'O',\n  'O',\n  'O'],\n ['O', 'O', 'O', 'O', 'O', 'I-IDIOM', 'I-IDIOM', 'I-IDIOM', 'O'],\n ['O', 'O', 'O', 'O', 'O', 'O', 'I-IDIOM', 'I-IDIOM'],\n ['O',\n  'O',\n  'O',\n  'O',\n  'O',\n  'O',\n  'O',\n  'O',\n  'O',\n  'O',\n  'O',\n  'O',\n  'O',\n  'O',\n  'O',\n  'O',\n  'O',\n  'O',\n  'O',\n  'O',\n  'O',\n  'O',\n  'O',\n  'O',\n  'O',\n  'O',\n  'O',\n  'O',\n  'O',\n  'O',\n  'I-IDIOM',\n  'I-IDIOM',\n  'O',\n  'O',\n  'O',\n  'O',\n  'O',\n  'O',\n  'O',\n  'O',\n  'O',\n  'O',\n  'O',\n  'O',\n  'O'],\n ['O',\n  'O',\n  'I-IDIOM',\n  'I-IDIOM',\n  'I-IDIOM',\n  'I-IDIOM',\n  'O',\n  'O',\n  'O',\n  'O',\n  'O',\n  'O',\n  'O',\n  'O',\n  'O',\n  'O',\n  'O',\n  'O',\n  'O',\n  'O',\n  'O',\n  'O',\n  'O',\n  'O',\n  'O',\n  'O',\n  'O',\n  'O',\n  'O',\n  'O',\n  'O',\n  'O',\n  'O',\n  'O',\n  'O'],\n ['O',\n  'O',\n  'O',\n  'O',\n  'O',\n  'I-IDIOM',\n  'I-IDIOM',\n  'O',\n  'O',\n  'O',\n  'O',\n  'O',\n  'O',\n  'O',\n  'O',\n  'O',\n  'O'],\n ['O',\n  'O',\n  'O',\n  'O',\n  'I-IDIOM',\n  'I-IDIOM',\n  'O',\n  'O',\n  'O',\n  'O',\n  'O',\n  'O',\n  'O',\n  'O',\n  'O',\n  'O',\n  'O',\n  'O',\n  'O',\n  'O',\n  'O',\n  'O',\n  'O',\n  'O',\n  'O',\n  'O',\n  'O',\n  'O',\n  'O',\n  'O',\n  'O',\n  'O',\n  'O',\n  'O',\n  'O',\n  'O',\n  'O',\n  'O',\n  'O',\n  'O',\n  'O',\n  'O',\n  'O',\n  'O',\n  'O',\n  'O',\n  'O',\n  'O',\n  'O',\n  'O',\n  'O',\n  'O',\n  'O',\n  'O',\n  'O',\n  'O',\n  'O',\n  'O',\n  'O',\n  'O',\n  'O',\n  'O',\n  'O',\n  'O',\n  'O',\n  'O',\n  'O',\n  'O',\n  'O',\n  'O',\n  'O',\n  'O',\n  'O',\n  'O',\n  'O',\n  'O',\n  'O',\n  'O',\n  'O',\n  'O',\n  'O',\n  'O',\n  'O',\n  'O',\n  'O',\n  'O',\n  'O',\n  'O',\n  'O',\n  'O',\n  'O',\n  'O',\n  'O',\n  'O',\n  'O',\n  'O'],\n ['O', 'O', 'O', 'O', 'I-IDIOM', 'I-IDIOM', 'I-IDIOM'],\n ['O', 'O', 'O', 'O', 'O', 'O', 'I-IDIOM', 'I-IDIOM', 'I-IDIOM', 'O'],\n ['O',\n  'O',\n  'O',\n  'I-IDIOM',\n  'I-IDIOM',\n  'O',\n  'O',\n  'O',\n  'O',\n  'O',\n  'O',\n  'O',\n  'O',\n  'O'],\n ['O',\n  'O',\n  'O',\n  'O',\n  'I-IDIOM',\n  'I-IDIOM',\n  'I-IDIOM',\n  'O',\n  'O',\n  'O',\n  'O',\n  'O',\n  'O',\n  'O',\n  'O',\n  'O',\n  'O',\n  'O',\n  'O',\n  'O',\n  'O',\n  'O',\n  'O',\n  'O',\n  'O',\n  'O'],\n ['O',\n  'O',\n  'O',\n  'I-IDIOM',\n  'I-IDIOM',\n  'I-IDIOM',\n  'O',\n  'O',\n  'O',\n  'O',\n  'O',\n  'O',\n  'O',\n  'O',\n  'O',\n  'O',\n  'O'],\n ['O',\n  'O',\n  'O',\n  'I-IDIOM',\n  'I-IDIOM',\n  'I-IDIOM',\n  'O',\n  'O',\n  'O',\n  'O',\n  'O',\n  'O',\n  'O',\n  'O',\n  'O',\n  'O',\n  'O',\n  'O',\n  'O',\n  'O',\n  'O',\n  'O',\n  'O'],\n ['O', 'O', 'O', 'I-IDIOM', 'I-IDIOM', 'I-IDIOM', 'O', 'O', 'O', 'O'],\n ['O',\n  'O',\n  'O',\n  'O',\n  'O',\n  'O',\n  'O',\n  'O',\n  'O',\n  'O',\n  'O',\n  'O',\n  'O',\n  'O',\n  'O',\n  'O',\n  'O',\n  'O',\n  'O',\n  'O',\n  'O',\n  'O',\n  'O',\n  'O',\n  'O',\n  'O',\n  'I-IDIOM',\n  'I-IDIOM',\n  'I-IDIOM',\n  'O'],\n ['O',\n  'O',\n  'O',\n  'O',\n  'O',\n  'O',\n  'O',\n  'O',\n  'O',\n  'O',\n  'O',\n  'I-IDIOM',\n  'I-IDIOM',\n  'I-IDIOM',\n  'O',\n  'O',\n  'O',\n  'O',\n  'O',\n  'O',\n  'O',\n  'O',\n  'O',\n  'O',\n  'O',\n  'O',\n  'O'],\n ['O',\n  'O',\n  'O',\n  'O',\n  'O',\n  'O',\n  'O',\n  'O',\n  'O',\n  'O',\n  'O',\n  'O',\n  'O',\n  'O',\n  'O',\n  'I-IDIOM',\n  'I-IDIOM',\n  'I-IDIOM',\n  'O'],\n ['O',\n  'O',\n  'O',\n  'O',\n  'O',\n  'O',\n  'O',\n  'O',\n  'O',\n  'O',\n  'O',\n  'O',\n  'O',\n  'O',\n  'O',\n  'O',\n  'O',\n  'O',\n  'O',\n  'O',\n  'O',\n  'O',\n  'O',\n  'I-IDIOM',\n  'I-IDIOM',\n  'I-IDIOM',\n  'I-IDIOM',\n  'O',\n  'O',\n  'O',\n  'O',\n  'O',\n  'O',\n  'O'],\n ['O', 'I-IDIOM', 'I-IDIOM', 'I-IDIOM', 'O'],\n ['O',\n  'O',\n  'O',\n  'O',\n  'O',\n  'O',\n  'O',\n  'O',\n  'O',\n  'O',\n  'O',\n  'O',\n  'O',\n  'O',\n  'O',\n  'I-IDIOM',\n  'I-IDIOM',\n  'I-IDIOM',\n  'O',\n  'O'],\n ['O',\n  'O',\n  'O',\n  'O',\n  'I-IDIOM',\n  'I-IDIOM',\n  'I-IDIOM',\n  'O',\n  'O',\n  'O',\n  'O',\n  'O',\n  'O',\n  'O',\n  'O',\n  'O',\n  'O',\n  'O',\n  'O',\n  'O',\n  'O'],\n ['O',\n  'O',\n  'O',\n  'O',\n  'O',\n  'O',\n  'O',\n  'O',\n  'O',\n  'O',\n  'O',\n  'O',\n  'O',\n  'O',\n  'O',\n  'O',\n  'O',\n  'O',\n  'I-IDIOM',\n  'I-IDIOM',\n  'I-IDIOM',\n  'O'],\n ['O',\n  'O',\n  'I-IDIOM',\n  'I-IDIOM',\n  'O',\n  'O',\n  'O',\n  'O',\n  'O',\n  'O',\n  'O',\n  'O',\n  'O',\n  'O',\n  'O',\n  'O',\n  'O'],\n ['O',\n  'O',\n  'O',\n  'O',\n  'O',\n  'O',\n  'O',\n  'O',\n  'I-IDIOM',\n  'I-IDIOM',\n  'I-IDIOM',\n  'I-IDIOM',\n  'I-IDIOM',\n  'O',\n  'O'],\n ['O',\n  'O',\n  'O',\n  'O',\n  'I-IDIOM',\n  'I-IDIOM',\n  'I-IDIOM',\n  'O',\n  'O',\n  'O',\n  'O',\n  'O',\n  'O',\n  'O',\n  'O',\n  'O',\n  'O',\n  'O',\n  'O',\n  'O',\n  'O',\n  'O',\n  'O',\n  'O',\n  'O',\n  'O',\n  'O',\n  'O',\n  'O',\n  'O',\n  'O',\n  'O',\n  'O',\n  'O',\n  'O',\n  'O'],\n ['O',\n  'O',\n  'O',\n  'O',\n  'O',\n  'O',\n  'O',\n  'O',\n  'O',\n  'O',\n  'O',\n  'O',\n  'O',\n  'I-IDIOM',\n  'I-IDIOM',\n  'I-IDIOM',\n  'O',\n  'O',\n  'O',\n  'O',\n  'O',\n  'O',\n  'O',\n  'O',\n  'O',\n  'O',\n  'O'],\n ['O',\n  'O',\n  'O',\n  'O',\n  'O',\n  'O',\n  'O',\n  'O',\n  'O',\n  'O',\n  'O',\n  'I-IDIOM',\n  'I-IDIOM',\n  'O',\n  'O',\n  'O'],\n ['O',\n  'O',\n  'O',\n  'O',\n  'O',\n  'O',\n  'O',\n  'O',\n  'O',\n  'O',\n  'I-IDIOM',\n  'I-IDIOM',\n  'I-IDIOM',\n  'O',\n  'O',\n  'O'],\n ['O', 'O', 'I-IDIOM', 'I-IDIOM', 'I-IDIOM', 'O', 'O', 'O', 'O', 'O'],\n ['O',\n  'O',\n  'O',\n  'O',\n  'O',\n  'O',\n  'O',\n  'O',\n  'O',\n  'O',\n  'O',\n  'O',\n  'O',\n  'O',\n  'O',\n  'O',\n  'O',\n  'O',\n  'I-IDIOM',\n  'I-IDIOM',\n  'I-IDIOM',\n  'O'],\n ['O',\n  'O',\n  'O',\n  'O',\n  'O',\n  'O',\n  'O',\n  'O',\n  'O',\n  'O',\n  'O',\n  'O',\n  'O',\n  'O',\n  'O',\n  'I-IDIOM',\n  'I-IDIOM',\n  'O',\n  'O',\n  'O',\n  'O',\n  'O',\n  'O',\n  'O',\n  'O',\n  'O',\n  'O',\n  'O',\n  'O',\n  'O',\n  'O',\n  'O'],\n ['O',\n  'O',\n  'O',\n  'O',\n  'O',\n  'O',\n  'O',\n  'O',\n  'O',\n  'O',\n  'O',\n  'O',\n  'O',\n  'O',\n  'O',\n  'O',\n  'O',\n  'O',\n  'O',\n  'O',\n  'O',\n  'O',\n  'O',\n  'O',\n  'O',\n  'O',\n  'O',\n  'I-IDIOM',\n  'I-IDIOM',\n  'I-IDIOM',\n  'O'],\n ['O',\n  'O',\n  'O',\n  'O',\n  'O',\n  'O',\n  'O',\n  'O',\n  'O',\n  'O',\n  'I-IDIOM',\n  'I-IDIOM',\n  'I-IDIOM',\n  'I-IDIOM',\n  'I-IDIOM',\n  'O',\n  'O',\n  'O',\n  'O',\n  'O',\n  'O'],\n ['O',\n  'O',\n  'O',\n  'O',\n  'O',\n  'O',\n  'O',\n  'O',\n  'O',\n  'O',\n  'O',\n  'O',\n  'O',\n  'O',\n  'O',\n  'O',\n  'O',\n  'O',\n  'O',\n  'O',\n  'O',\n  'I-IDIOM',\n  'I-IDIOM',\n  'O',\n  'O',\n  'O',\n  'O',\n  'O',\n  'O',\n  'O',\n  'O',\n  'O',\n  'O',\n  'O',\n  'O'],\n ['O',\n  'O',\n  'O',\n  'O',\n  'O',\n  'O',\n  'O',\n  'O',\n  'O',\n  'O',\n  'O',\n  'O',\n  'O',\n  'O',\n  'O',\n  'O',\n  'O',\n  'O',\n  'O',\n  'O',\n  'O',\n  'O',\n  'O',\n  'O',\n  'O',\n  'O',\n  'I-IDIOM',\n  'I-IDIOM',\n  'I-IDIOM',\n  'O',\n  'O',\n  'O',\n  'O',\n  'O',\n  'O',\n  'O'],\n ['O', 'O', 'I-IDIOM', 'I-IDIOM', 'I-IDIOM', 'O', 'O', 'O', 'O'],\n ['O',\n  'O',\n  'O',\n  'O',\n  'O',\n  'O',\n  'O',\n  'O',\n  'O',\n  'O',\n  'O',\n  'O',\n  'O',\n  'O',\n  'O',\n  'O',\n  'O',\n  'O',\n  'O',\n  'O',\n  'I-IDIOM',\n  'I-IDIOM',\n  'I-IDIOM',\n  'O',\n  'O',\n  'O',\n  'O',\n  'O',\n  'O',\n  'O',\n  'O',\n  'O',\n  'O',\n  'O',\n  'O',\n  'O',\n  'O',\n  'O',\n  'O',\n  'O',\n  'O',\n  'O',\n  'O'],\n ['O',\n  'O',\n  'O',\n  'O',\n  'O',\n  'O',\n  'O',\n  'O',\n  'O',\n  'O',\n  'O',\n  'O',\n  'O',\n  'O',\n  'O',\n  'O',\n  'O',\n  'O',\n  'O',\n  'O',\n  'O',\n  'O',\n  'O',\n  'O',\n  'I-IDIOM',\n  'I-IDIOM',\n  'I-IDIOM',\n  'I-IDIOM',\n  'O',\n  'O',\n  'O',\n  'O',\n  'O',\n  'O',\n  'O',\n  'O',\n  'O'],\n ['O',\n  'O',\n  'O',\n  'O',\n  'O',\n  'O',\n  'O',\n  'O',\n  'O',\n  'O',\n  'O',\n  'O',\n  'O',\n  'O',\n  'O',\n  'O',\n  'O',\n  'O',\n  'O',\n  'O',\n  'O',\n  'O',\n  'O',\n  'O',\n  'O',\n  'O',\n  'O',\n  'O',\n  'O',\n  'I-IDIOM',\n  'I-IDIOM',\n  'I-IDIOM',\n  'O'],\n ['O',\n  'O',\n  'O',\n  'O',\n  'O',\n  'O',\n  'O',\n  'O',\n  'O',\n  'O',\n  'O',\n  'O',\n  'I-IDIOM',\n  'I-IDIOM',\n  'I-IDIOM',\n  'I-IDIOM',\n  'O'],\n ['O',\n  'O',\n  'O',\n  'O',\n  'O',\n  'O',\n  'O',\n  'O',\n  'O',\n  'O',\n  'O',\n  'I-IDIOM',\n  'I-IDIOM',\n  'I-IDIOM',\n  'O'],\n ['O',\n  'O',\n  'O',\n  'O',\n  'O',\n  'O',\n  'O',\n  'O',\n  'O',\n  'O',\n  'O',\n  'O',\n  'O',\n  'O',\n  'O',\n  'I-IDIOM',\n  'I-IDIOM',\n  'O'],\n ['O',\n  'O',\n  'O',\n  'O',\n  'O',\n  'I-IDIOM',\n  'I-IDIOM',\n  'I-IDIOM',\n  'I-IDIOM',\n  'O',\n  'O',\n  'O',\n  'O',\n  'O',\n  'O',\n  'O',\n  'O',\n  'O',\n  'O',\n  'O',\n  'O',\n  'O',\n  'O',\n  'O',\n  'O',\n  'O',\n  'O',\n  'O',\n  'O',\n  'O'],\n ['O',\n  'O',\n  'O',\n  'O',\n  'O',\n  'O',\n  'O',\n  'O',\n  'O',\n  'O',\n  'O',\n  'O',\n  'O',\n  'O',\n  'O',\n  'I-IDIOM',\n  'I-IDIOM',\n  'I-IDIOM',\n  'O',\n  'O',\n  'O',\n  'O',\n  'O',\n  'O',\n  'O',\n  'O',\n  'O',\n  'O',\n  'O',\n  'O',\n  'O',\n  'O',\n  'O',\n  'O'],\n ['O', 'I-IDIOM', 'I-IDIOM', 'O'],\n ['O',\n  'O',\n  'O',\n  'O',\n  'O',\n  'O',\n  'O',\n  'O',\n  'O',\n  'O',\n  'O',\n  'O',\n  'O',\n  'O',\n  'O',\n  'O',\n  'O',\n  'O',\n  'O',\n  'O',\n  'O',\n  'O',\n  'O',\n  'O',\n  'O',\n  'O',\n  'O',\n  'I-IDIOM',\n  'I-IDIOM',\n  'I-IDIOM',\n  'I-IDIOM',\n  'I-IDIOM',\n  'O',\n  'O',\n  'O',\n  'O',\n  'O',\n  'O',\n  'O',\n  'O',\n  'O',\n  'O',\n  'O'],\n ['O',\n  'O',\n  'O',\n  'O',\n  'O',\n  'O',\n  'O',\n  'O',\n  'O',\n  'O',\n  'O',\n  'O',\n  'O',\n  'O',\n  'O',\n  'O',\n  'O',\n  'O',\n  'I-IDIOM',\n  'I-IDIOM',\n  'I-IDIOM',\n  'O',\n  'O',\n  'O',\n  'O',\n  'O'],\n ['O',\n  'O',\n  'O',\n  'O',\n  'O',\n  'O',\n  'O',\n  'O',\n  'O',\n  'O',\n  'I-IDIOM',\n  'I-IDIOM',\n  'I-IDIOM',\n  'O',\n  'O',\n  'O',\n  'O',\n  'O'],\n ['O',\n  'O',\n  'O',\n  'O',\n  'O',\n  'O',\n  'O',\n  'O',\n  'O',\n  'O',\n  'I-IDIOM',\n  'I-IDIOM',\n  'O',\n  'O',\n  'O',\n  'O'],\n ['O',\n  'O',\n  'O',\n  'O',\n  'O',\n  'O',\n  'O',\n  'O',\n  'O',\n  'O',\n  'O',\n  'O',\n  'O',\n  'O',\n  'O',\n  'O',\n  'O',\n  'O',\n  'O',\n  'O',\n  'I-IDIOM',\n  'I-IDIOM',\n  'O',\n  'O',\n  'O',\n  'O',\n  'O',\n  'O',\n  'O',\n  'O',\n  'O',\n  'O',\n  'O',\n  'O',\n  'O',\n  'O',\n  'O',\n  'O',\n  'O'],\n ['O', 'O', 'O', 'O', 'O', 'I-IDIOM', 'I-IDIOM'],\n ['O',\n  'O',\n  'O',\n  'O',\n  'O',\n  'O',\n  'O',\n  'O',\n  'O',\n  'O',\n  'O',\n  'O',\n  'O',\n  'O',\n  'O',\n  'O',\n  'O',\n  'I-IDIOM',\n  'I-IDIOM',\n  'I-IDIOM',\n  'O',\n  'O',\n  'O',\n  'O',\n  'O',\n  'O',\n  'O',\n  'O',\n  'O',\n  'O',\n  'O',\n  'O',\n  'O',\n  'O',\n  'O',\n  'O',\n  'O',\n  'O',\n  'O',\n  'O',\n  'O',\n  'O',\n  'O',\n  'O',\n  'O',\n  'O',\n  'O',\n  'O',\n  'O',\n  'O',\n  'O',\n  'O',\n  'O',\n  'O',\n  'O',\n  'O',\n  'O'],\n ['O',\n  'O',\n  'O',\n  'O',\n  'O',\n  'I-IDIOM',\n  'I-IDIOM',\n  'I-IDIOM',\n  'O',\n  'O',\n  'O',\n  'O',\n  'O',\n  'O',\n  'O',\n  'O',\n  'O',\n  'O',\n  'O'],\n ['O',\n  'O',\n  'O',\n  'O',\n  'O',\n  'O',\n  'O',\n  'O',\n  'O',\n  'I-IDIOM',\n  'I-IDIOM',\n  'I-IDIOM',\n  'I-IDIOM',\n  'O'],\n ['O',\n  'O',\n  'O',\n  'O',\n  'O',\n  'O',\n  'O',\n  'O',\n  'I-IDIOM',\n  'I-IDIOM',\n  'I-IDIOM',\n  'O'],\n ['O',\n  'O',\n  'O',\n  'O',\n  'O',\n  'O',\n  'O',\n  'O',\n  'O',\n  'O',\n  'O',\n  'O',\n  'O',\n  'O',\n  'O',\n  'O',\n  'O',\n  'O',\n  'O',\n  'O',\n  'O',\n  'O',\n  'O',\n  'O',\n  'O',\n  'O',\n  'O',\n  'O',\n  'O',\n  'O',\n  'O',\n  'O',\n  'O',\n  'O',\n  'O',\n  'O',\n  'O',\n  'O',\n  'O',\n  'O',\n  'O',\n  'O',\n  'O',\n  'O',\n  'O',\n  'O',\n  'O',\n  'O',\n  'O',\n  'O',\n  'O',\n  'O',\n  'O',\n  'O',\n  'O',\n  'O',\n  'O',\n  'O',\n  'I-IDIOM',\n  'I-IDIOM',\n  'I-IDIOM',\n  'O',\n  'O'],\n ['O',\n  'O',\n  'O',\n  'O',\n  'O',\n  'O',\n  'O',\n  'O',\n  'O',\n  'O',\n  'O',\n  'O',\n  'O',\n  'O',\n  'O',\n  'O',\n  'O',\n  'O',\n  'O',\n  'O',\n  'O',\n  'O',\n  'O',\n  'O',\n  'O',\n  'O',\n  'O',\n  'O',\n  'O',\n  'I-IDIOM',\n  'I-IDIOM',\n  'I-IDIOM',\n  'O',\n  'O'],\n ['O',\n  'O',\n  'O',\n  'O',\n  'O',\n  'O',\n  'O',\n  'O',\n  'O',\n  'O',\n  'O',\n  'O',\n  'O',\n  'O',\n  'O',\n  'O',\n  'O',\n  'I-IDIOM',\n  'I-IDIOM',\n  'I-IDIOM',\n  'I-IDIOM',\n  'I-IDIOM',\n  'O',\n  'O',\n  'O',\n  'O',\n  'O',\n  'O',\n  'O',\n  'O',\n  'O',\n  'O',\n  'O',\n  'O',\n  'O',\n  'O',\n  'O',\n  'O',\n  'O',\n  'O',\n  'O',\n  'O',\n  'O',\n  'O',\n  'O',\n  'O',\n  'O',\n  'O',\n  'O'],\n ['O',\n  'O',\n  'O',\n  'O',\n  'O',\n  'O',\n  'O',\n  'O',\n  'O',\n  'O',\n  'O',\n  'O',\n  'I-IDIOM',\n  'I-IDIOM',\n  'I-IDIOM',\n  'O',\n  'O',\n  'O',\n  'O',\n  'O',\n  'O',\n  'O',\n  'O',\n  'O',\n  'O',\n  'O',\n  'O',\n  'O'],\n ['O',\n  'O',\n  'O',\n  'O',\n  'O',\n  'O',\n  'O',\n  'O',\n  'O',\n  'O',\n  'O',\n  'O',\n  'O',\n  'O',\n  'O',\n  'O',\n  'O',\n  'I-IDIOM',\n  'I-IDIOM',\n  'I-IDIOM',\n  'O'],\n ['O',\n  'O',\n  'O',\n  'O',\n  'O',\n  'O',\n  'O',\n  'O',\n  'O',\n  'O',\n  'O',\n  'O',\n  'O',\n  'O',\n  'O',\n  'I-IDIOM',\n  'I-IDIOM',\n  'I-IDIOM',\n  'O',\n  'O',\n  'O'],\n ['O',\n  'O',\n  'O',\n  'O',\n  'I-IDIOM',\n  'I-IDIOM',\n  'I-IDIOM',\n  'O',\n  'O',\n  'O',\n  'O',\n  'O',\n  'O',\n  'O',\n  'O',\n  'O',\n  'O',\n  'O',\n  'O',\n  'O',\n  'O',\n  'O',\n  'O',\n  'O',\n  'O'],\n ['O',\n  'O',\n  'O',\n  'O',\n  'O',\n  'O',\n  'I-IDIOM',\n  'I-IDIOM',\n  'O',\n  'O',\n  'O',\n  'O',\n  'O',\n  'O',\n  'O',\n  'O',\n  'O',\n  'O',\n  'O',\n  'O',\n  'O',\n  'O',\n  'O'],\n ['O',\n  'O',\n  'O',\n  'O',\n  'O',\n  'O',\n  'O',\n  'O',\n  'I-IDIOM',\n  'I-IDIOM',\n  'I-IDIOM',\n  'I-IDIOM',\n  'O',\n  'O',\n  'O',\n  'O',\n  'O',\n  'O',\n  'O',\n  'O',\n  'O',\n  'O',\n  'O',\n  'O',\n  'O',\n  'O',\n  'O',\n  'O',\n  'O',\n  'O',\n  'O',\n  'O',\n  'O',\n  'O',\n  'O',\n  'O',\n  'O',\n  'O',\n  'O',\n  'O',\n  'O',\n  'O',\n  'O',\n  'O'],\n ['O',\n  'O',\n  'O',\n  'O',\n  'O',\n  'O',\n  'O',\n  'O',\n  'O',\n  'O',\n  'O',\n  'O',\n  'O',\n  'O',\n  'O',\n  'O',\n  'O',\n  'O',\n  'O',\n  'O',\n  'O',\n  'O',\n  'O',\n  'O',\n  'O',\n  'O',\n  'O',\n  'O',\n  'O',\n  'O',\n  'O',\n  'I-IDIOM',\n  'I-IDIOM',\n  'I-IDIOM',\n  'I-IDIOM',\n  'O',\n  'O',\n  'O',\n  'O',\n  'O',\n  'O',\n  'O'],\n ['O',\n  'O',\n  'O',\n  'O',\n  'O',\n  'O',\n  'O',\n  'O',\n  'O',\n  'O',\n  'O',\n  'O',\n  'O',\n  'O',\n  'O',\n  'O',\n  'O',\n  'O',\n  'O',\n  'I-IDIOM',\n  'I-IDIOM',\n  'I-IDIOM',\n  'O',\n  'O'],\n ['O', 'O', 'O', 'O', 'I-IDIOM', 'I-IDIOM', 'O'],\n ['O',\n  'O',\n  'O',\n  'O',\n  'O',\n  'O',\n  'O',\n  'O',\n  'O',\n  'O',\n  'O',\n  'O',\n  'O',\n  'O',\n  'O',\n  'O',\n  'O',\n  'I-IDIOM',\n  'I-IDIOM',\n  'I-IDIOM',\n  'O',\n  'O',\n  'O',\n  'O',\n  'O',\n  'O',\n  'O'],\n ['O',\n  'O',\n  'O',\n  'O',\n  'O',\n  'O',\n  'O',\n  'O',\n  'O',\n  'O',\n  'O',\n  'O',\n  'O',\n  'O',\n  'O',\n  'O',\n  'O',\n  'O',\n  'O',\n  'O',\n  'I-IDIOM',\n  'I-IDIOM',\n  'I-IDIOM',\n  'O',\n  'O',\n  'O',\n  'O',\n  'O'],\n ['O',\n  'O',\n  'O',\n  'O',\n  'O',\n  'O',\n  'O',\n  'O',\n  'O',\n  'O',\n  'O',\n  'O',\n  'O',\n  'O',\n  'O',\n  'O',\n  'O',\n  'O',\n  'O',\n  'O',\n  'O',\n  'O',\n  'O',\n  'O',\n  'O',\n  'O',\n  'O',\n  'O',\n  'O',\n  'O',\n  'O',\n  'O',\n  'O',\n  'O',\n  'I-IDIOM',\n  'I-IDIOM',\n  'O',\n  'O',\n  'O',\n  'O',\n  'O',\n  'O',\n  'O',\n  'O',\n  'O',\n  'O',\n  'O',\n  'O',\n  'O',\n  'O',\n  'O',\n  'O',\n  'O',\n  'O',\n  'O',\n  'O',\n  'O',\n  'O',\n  'O',\n  'O',\n  'O',\n  'O',\n  'O',\n  'O',\n  'O',\n  'O',\n  'O',\n  'O',\n  'O',\n  'O',\n  'O',\n  'O',\n  'O',\n  'O',\n  'O',\n  'O',\n  'O',\n  'O',\n  'O',\n  'O',\n  'O',\n  'O',\n  'O',\n  'O',\n  'O',\n  'O',\n  'O',\n  'O',\n  'O',\n  'O',\n  'O',\n  'O',\n  'O',\n  'O',\n  'O',\n  'O',\n  'O',\n  'O',\n  'O',\n  'O',\n  'O',\n  'O',\n  'O',\n  'O',\n  'O',\n  'O',\n  'O',\n  'O',\n  'O',\n  'O',\n  'O',\n  'O',\n  'O',\n  'O',\n  'O',\n  'O',\n  'O',\n  'O',\n  'O',\n  'O',\n  'O',\n  'O',\n  'O',\n  'O',\n  'O',\n  'O',\n  'O',\n  'O',\n  'O',\n  'O'],\n ['O',\n  'O',\n  'O',\n  'O',\n  'O',\n  'O',\n  'O',\n  'O',\n  'I-IDIOM',\n  'I-IDIOM',\n  'O',\n  'O',\n  'O',\n  'O',\n  'O',\n  'O',\n  'O'],\n ['O',\n  'O',\n  'O',\n  'O',\n  'O',\n  'O',\n  'O',\n  'O',\n  'O',\n  'I-IDIOM',\n  'I-IDIOM',\n  'I-IDIOM',\n  'O',\n  'O',\n  'O',\n  'O',\n  'O',\n  'O',\n  'O'],\n ['O', 'O', 'I-IDIOM', 'I-IDIOM', 'I-IDIOM', 'I-IDIOM', 'O', 'O'],\n ['O',\n  'O',\n  'O',\n  'O',\n  'O',\n  'O',\n  'O',\n  'O',\n  'O',\n  'O',\n  'O',\n  'O',\n  'O',\n  'O',\n  'O',\n  'O',\n  'O',\n  'O',\n  'O',\n  'O',\n  'O',\n  'O',\n  'O',\n  'O',\n  'I-IDIOM',\n  'I-IDIOM',\n  'O'],\n ['O',\n  'O',\n  'O',\n  'O',\n  'O',\n  'O',\n  'O',\n  'O',\n  'O',\n  'O',\n  'O',\n  'O',\n  'O',\n  'O',\n  'O',\n  'O',\n  'O',\n  'O',\n  'O',\n  'O',\n  'O',\n  'O',\n  'O',\n  'O',\n  'O',\n  'O',\n  'O',\n  'O',\n  'O',\n  'O',\n  'O',\n  'O',\n  'O',\n  'O',\n  'O',\n  'O',\n  'O',\n  'O',\n  'O',\n  'O',\n  'O',\n  'O',\n  'O',\n  'O',\n  'O',\n  'O',\n  'O',\n  'O',\n  'O',\n  'O',\n  'O',\n  'O',\n  'O',\n  'O',\n  'O',\n  'O',\n  'O',\n  'O',\n  'O',\n  'O',\n  'O',\n  'O',\n  'O',\n  'O',\n  'O',\n  'O',\n  'O',\n  'O',\n  'O',\n  'O',\n  'O',\n  'O',\n  'O',\n  'O',\n  'I-IDIOM',\n  'I-IDIOM',\n  'O',\n  'O',\n  'O',\n  'O',\n  'O',\n  'O',\n  'O'],\n ['O',\n  'O',\n  'O',\n  'O',\n  'O',\n  'O',\n  'O',\n  'O',\n  'O',\n  'O',\n  'O',\n  'O',\n  'O',\n  'O',\n  'O',\n  'O',\n  'O',\n  'O',\n  'O',\n  'O',\n  'I-IDIOM',\n  'I-IDIOM',\n  'I-IDIOM',\n  'O',\n  'O',\n  'O',\n  'O',\n  'O',\n  'O',\n  'O',\n  'O',\n  'O',\n  'O',\n  'O',\n  'O',\n  'O',\n  'O'],\n ['O',\n  'O',\n  'O',\n  'O',\n  'O',\n  'O',\n  'O',\n  'O',\n  'O',\n  'O',\n  'O',\n  'O',\n  'O',\n  'O',\n  'O',\n  'O',\n  'O',\n  'O',\n  'I-IDIOM',\n  'I-IDIOM',\n  'I-IDIOM',\n  'O'],\n ['O',\n  'O',\n  'O',\n  'O',\n  'O',\n  'I-IDIOM',\n  'I-IDIOM',\n  'I-IDIOM',\n  'O',\n  'O',\n  'O',\n  'O',\n  'O',\n  'O',\n  'O',\n  'O',\n  'O',\n  'O',\n  'O',\n  'O',\n  'O',\n  'O',\n  'O',\n  'O',\n  'O',\n  'O'],\n ['O',\n  'O',\n  'O',\n  'O',\n  'O',\n  'O',\n  'O',\n  'O',\n  'O',\n  'O',\n  'O',\n  'O',\n  'O',\n  'O',\n  'O',\n  'O',\n  'O',\n  'O',\n  'O',\n  'O',\n  'O',\n  'O',\n  'O',\n  'O',\n  'O',\n  'O',\n  'O',\n  'O',\n  'O',\n  'O',\n  'O',\n  'O',\n  'O',\n  'I-IDIOM',\n  'I-IDIOM',\n  'I-IDIOM',\n  'O',\n  'O'],\n ['O',\n  'O',\n  'O',\n  'O',\n  'O',\n  'O',\n  'O',\n  'O',\n  'O',\n  'O',\n  'O',\n  'O',\n  'O',\n  'O',\n  'O',\n  'O',\n  'O',\n  'O',\n  'O',\n  'O',\n  'O',\n  'I-IDIOM',\n  'I-IDIOM',\n  'I-IDIOM',\n  'I-IDIOM',\n  'I-IDIOM',\n  'I-IDIOM',\n  'O',\n  'O',\n  'O',\n  'O',\n  'O',\n  'O',\n  'O',\n  'O'],\n ['O',\n  'O',\n  'O',\n  'O',\n  'O',\n  'O',\n  'O',\n  'O',\n  'O',\n  'O',\n  'O',\n  'O',\n  'O',\n  'O',\n  'O',\n  'O',\n  'O',\n  'O',\n  'O',\n  'O',\n  'O',\n  'O',\n  'O',\n  'O',\n  'O',\n  'O',\n  'O',\n  'O',\n  'I-IDIOM',\n  'I-IDIOM',\n  'I-IDIOM',\n  'O'],\n ['O',\n  'O',\n  'O',\n  'O',\n  'O',\n  'O',\n  'O',\n  'O',\n  'O',\n  'O',\n  'O',\n  'I-IDIOM',\n  'I-IDIOM',\n  'O',\n  'O'],\n ['O',\n  'O',\n  'O',\n  'O',\n  'O',\n  'O',\n  'O',\n  'O',\n  'O',\n  'O',\n  'O',\n  'O',\n  'O',\n  'O',\n  'O',\n  'O',\n  'O',\n  'O',\n  'O',\n  'O',\n  'O',\n  'O',\n  'O',\n  'O',\n  'O',\n  'O',\n  'I-IDIOM',\n  'I-IDIOM',\n  'I-IDIOM',\n  'O',\n  'O'],\n ['O',\n  'O',\n  'O',\n  'O',\n  'O',\n  'O',\n  'O',\n  'O',\n  'O',\n  'O',\n  'O',\n  'O',\n  'O',\n  'O',\n  'O',\n  'O',\n  'O',\n  'O',\n  'O',\n  'O',\n  'O',\n  'O',\n  'O',\n  'O',\n  'O',\n  'O',\n  'O',\n  'O',\n  'O',\n  'O',\n  'O',\n  'O',\n  'O',\n  'O',\n  'O',\n  'O',\n  'O',\n  'O',\n  'O',\n  'O',\n  'O',\n  'O',\n  'O',\n  'O',\n  'O',\n  'O',\n  'O',\n  'O',\n  'O',\n  'I-IDIOM',\n  'I-IDIOM',\n  'I-IDIOM',\n  'O',\n  'O'],\n ['O',\n  'I-IDIOM',\n  'I-IDIOM',\n  'O',\n  'O',\n  'O',\n  'O',\n  'O',\n  'O',\n  'O',\n  'O',\n  'O',\n  'O',\n  'O',\n  'O',\n  'O',\n  'O',\n  'O',\n  'O',\n  'O',\n  'O',\n  'O',\n  'O',\n  'O',\n  'O',\n  'O',\n  'O',\n  'O',\n  'O',\n  'O',\n  'O',\n  'O',\n  'O',\n  'O',\n  'O',\n  'O',\n  'O',\n  'O'],\n ['O',\n  'O',\n  'I-IDIOM',\n  'I-IDIOM',\n  'I-IDIOM',\n  'O',\n  'O',\n  'O',\n  'O',\n  'O',\n  'O',\n  'O',\n  'O',\n  'O',\n  'O',\n  'O',\n  'O',\n  'O',\n  'O',\n  'O',\n  'O',\n  'O',\n  'O',\n  'O',\n  'O',\n  'O',\n  'O',\n  'O',\n  'O'],\n ['O',\n  'O',\n  'O',\n  'O',\n  'O',\n  'O',\n  'O',\n  'O',\n  'O',\n  'O',\n  'O',\n  'O',\n  'O',\n  'O',\n  'O',\n  'O',\n  'O',\n  'O',\n  'I-IDIOM',\n  'I-IDIOM',\n  'O'],\n ['O',\n  'O',\n  'O',\n  'O',\n  'O',\n  'O',\n  'O',\n  'O',\n  'O',\n  'O',\n  'O',\n  'O',\n  'O',\n  'O',\n  'O',\n  'O',\n  'O',\n  'O',\n  'O',\n  'O',\n  'O',\n  'O',\n  'O',\n  'O',\n  'O',\n  'O',\n  'O',\n  'O',\n  'O',\n  'O',\n  'O',\n  'O',\n  'O',\n  'O',\n  'O',\n  'O',\n  'I-IDIOM',\n  'I-IDIOM',\n  'I-IDIOM',\n  'O',\n  'O'],\n ['O',\n  'O',\n  'O',\n  'O',\n  'O',\n  'O',\n  'O',\n  'O',\n  'O',\n  'O',\n  'O',\n  'I-IDIOM',\n  'I-IDIOM',\n  'I-IDIOM',\n  'O'],\n ['O',\n  'O',\n  'O',\n  'O',\n  'O',\n  'O',\n  'O',\n  'I-IDIOM',\n  'I-IDIOM',\n  'O',\n  'O',\n  'O',\n  'O',\n  'O',\n  'O',\n  'O'],\n ['O', 'O', 'O', 'O', 'O', 'O', 'I-IDIOM', 'I-IDIOM', 'O', 'O', 'O', 'O'],\n ['O',\n  'O',\n  'O',\n  'O',\n  'O',\n  'O',\n  'O',\n  'O',\n  'O',\n  'O',\n  'O',\n  'O',\n  'O',\n  'O',\n  'O',\n  'O',\n  'O',\n  'O',\n  'I-IDIOM',\n  'I-IDIOM',\n  'O',\n  'O',\n  'O',\n  'O',\n  'O',\n  'O',\n  'O',\n  'O',\n  'O',\n  'O',\n  'O',\n  'O',\n  'O',\n  'O',\n  'O',\n  'O',\n  'O',\n  'O',\n  'O',\n  'O',\n  'O',\n  'O',\n  'O',\n  'O',\n  'O',\n  'O',\n  'O',\n  'O',\n  'O',\n  'O',\n  'O',\n  'O',\n  'O',\n  'O',\n  'O',\n  'O',\n  'O',\n  'O',\n  'O',\n  'O',\n  'O',\n  'O',\n  'O',\n  'O',\n  'O'],\n ['I-IDIOM', 'I-IDIOM', 'I-IDIOM', 'I-IDIOM', 'I-IDIOM'],\n ['O', 'O', 'O', 'I-IDIOM', 'I-IDIOM', 'I-IDIOM', 'O', 'O'],\n ['O',\n  'O',\n  'O',\n  'O',\n  'O',\n  'O',\n  'O',\n  'O',\n  'O',\n  'O',\n  'O',\n  'O',\n  'O',\n  'O',\n  'O',\n  'O',\n  'O',\n  'O',\n  'O',\n  'O',\n  'I-IDIOM',\n  'I-IDIOM',\n  'I-IDIOM',\n  'O',\n  'O',\n  'O'],\n ['O',\n  'O',\n  'O',\n  'O',\n  'I-IDIOM',\n  'I-IDIOM',\n  'I-IDIOM',\n  'O',\n  'O',\n  'O',\n  'O',\n  'O',\n  'O',\n  'O',\n  'O',\n  'O',\n  'O',\n  'O',\n  'O',\n  'O',\n  'O',\n  'O',\n  'O',\n  'O',\n  'O',\n  'O',\n  'O',\n  'O',\n  'O'],\n ['O',\n  'O',\n  'O',\n  'O',\n  'O',\n  'O',\n  'O',\n  'O',\n  'O',\n  'O',\n  'O',\n  'O',\n  'O',\n  'O',\n  'O',\n  'O',\n  'O',\n  'O',\n  'O',\n  'O',\n  'O',\n  'O',\n  'O',\n  'O',\n  'O',\n  'O',\n  'O',\n  'I-IDIOM',\n  'I-IDIOM',\n  'I-IDIOM',\n  'O',\n  'O',\n  'O',\n  'O',\n  'O',\n  'O',\n  'O',\n  'O',\n  'O',\n  'O',\n  'O',\n  'O',\n  'O',\n  'O',\n  'O',\n  'O'],\n ['O', 'I-IDIOM', 'I-IDIOM'],\n ['O',\n  'O',\n  'O',\n  'O',\n  'O',\n  'O',\n  'O',\n  'O',\n  'O',\n  'O',\n  'O',\n  'O',\n  'O',\n  'O',\n  'O',\n  'O',\n  'O',\n  'O',\n  'O',\n  'O',\n  'O',\n  'O',\n  'O',\n  'O',\n  'O',\n  'I-IDIOM',\n  'I-IDIOM',\n  'O',\n  'O',\n  'O',\n  'O',\n  'O',\n  'O',\n  'O',\n  'O'],\n ['O',\n  'O',\n  'O',\n  'O',\n  'O',\n  'O',\n  'O',\n  'O',\n  'O',\n  'O',\n  'O',\n  'O',\n  'O',\n  'O',\n  'O',\n  'O',\n  'O',\n  'O'],\n ['O',\n  'O',\n  'O',\n  'O',\n  'O',\n  'O',\n  'O',\n  'O',\n  'O',\n  'I-IDIOM',\n  'I-IDIOM',\n  'I-IDIOM',\n  'O'],\n ['O',\n  'O',\n  'O',\n  'O',\n  'O',\n  'O',\n  'O',\n  'O',\n  'O',\n  'O',\n  'O',\n  'O',\n  'O',\n  'O',\n  'O',\n  'O',\n  'O',\n  'O',\n  'O',\n  'O',\n  'O',\n  'O',\n  'O',\n  'O',\n  'O',\n  'O',\n  'O',\n  'O',\n  'O',\n  'O',\n  'O',\n  'O',\n  'O',\n  'O',\n  'O',\n  'O',\n  'O',\n  'O',\n  'I-IDIOM',\n  'I-IDIOM',\n  'I-IDIOM',\n  'I-IDIOM',\n  'O'],\n ['O', 'O', 'O', 'I-IDIOM', 'I-IDIOM', 'O', 'O', 'O', 'O'],\n ['O',\n  'O',\n  'O',\n  'O',\n  'O',\n  'O',\n  'O',\n  'O',\n  'O',\n  'O',\n  'O',\n  'O',\n  'O',\n  'O',\n  'O',\n  'O',\n  'O',\n  'O',\n  'O',\n  'O',\n  'O',\n  'O',\n  'O',\n  'O',\n  'O',\n  'I-IDIOM',\n  'I-IDIOM',\n  'O',\n  'O',\n  'O',\n  'O',\n  'O',\n  'O',\n  'O',\n  'O',\n  'O',\n  'O',\n  'O',\n  'O',\n  'O',\n  'O'],\n ['I-IDIOM', 'I-IDIOM', 'I-IDIOM'],\n ['O',\n  'O',\n  'O',\n  'O',\n  'O',\n  'O',\n  'O',\n  'O',\n  'O',\n  'O',\n  'O',\n  'O',\n  'O',\n  'O',\n  'I-IDIOM',\n  'I-IDIOM',\n  'O',\n  'O',\n  'O'],\n ['O',\n  'O',\n  'O',\n  'O',\n  'O',\n  'O',\n  'O',\n  'O',\n  'O',\n  'O',\n  'O',\n  'O',\n  'O',\n  'O',\n  'O',\n  'O',\n  'O',\n  'O',\n  'O',\n  'O',\n  'O',\n  'O',\n  'I-IDIOM',\n  'I-IDIOM',\n  'O',\n  'O',\n  'O'],\n ['O',\n  'O',\n  'O',\n  'O',\n  'O',\n  'O',\n  'O',\n  'O',\n  'O',\n  'O',\n  'O',\n  'O',\n  'O',\n  'O',\n  'O',\n  'O',\n  'O',\n  'O',\n  'I-IDIOM',\n  'I-IDIOM',\n  'O',\n  'O',\n  'O',\n  'O',\n  'O',\n  'O',\n  'O',\n  'O',\n  'O',\n  'O',\n  'O'],\n ['O',\n  'O',\n  'O',\n  'O',\n  'O',\n  'O',\n  'O',\n  'O',\n  'I-IDIOM',\n  'I-IDIOM',\n  'O',\n  'O',\n  'O',\n  'O',\n  'O',\n  'O',\n  'O',\n  'O',\n  'O',\n  'O',\n  'O',\n  'O',\n  'O',\n  'O',\n  'O',\n  'O',\n  'O',\n  'O'],\n ['O',\n  'O',\n  'O',\n  'O',\n  'O',\n  'O',\n  'O',\n  'O',\n  'O',\n  'O',\n  'O',\n  'O',\n  'O',\n  'O',\n  'O',\n  'O',\n  'O',\n  'I-IDIOM',\n  'I-IDIOM',\n  'O',\n  'O',\n  'O',\n  'O',\n  'O',\n  'O',\n  'O',\n  'O',\n  'O',\n  'O',\n  'O',\n  'O',\n  'O',\n  'O',\n  'O',\n  'O',\n  'O',\n  'O',\n  'O',\n  'O',\n  'O',\n  'O',\n  'O'],\n ['O',\n  'O',\n  'O',\n  'O',\n  'O',\n  'O',\n  'O',\n  'O',\n  'O',\n  'O',\n  'O',\n  'O',\n  'O',\n  'I-IDIOM',\n  'I-IDIOM',\n  'O',\n  'O',\n  'O',\n  'O',\n  'O',\n  'O',\n  'O',\n  'O',\n  'O',\n  'O',\n  'O',\n  'O',\n  'O',\n  'O',\n  'O',\n  'O',\n  'O',\n  'O',\n  'O',\n  'O',\n  'O',\n  'O',\n  'O',\n  'O',\n  'O',\n  'O',\n  'O',\n  'O',\n  'O',\n  'O',\n  'O',\n  'O',\n  'O',\n  'O',\n  'O',\n  'O',\n  'O',\n  'O',\n  'O',\n  'O',\n  'O',\n  'O',\n  'O',\n  'O',\n  'O',\n  'O',\n  'O',\n  'O',\n  'O',\n  'O',\n  'O',\n  'O',\n  'O',\n  'O',\n  'O',\n  'O',\n  'O',\n  'O',\n  'O',\n  'O',\n  'O',\n  'O',\n  'O',\n  'O',\n  'O',\n  'O',\n  'O',\n  'O',\n  'O',\n  'O',\n  'O',\n  'O',\n  'O',\n  'O',\n  'O',\n  'O',\n  'O',\n  'O',\n  'O',\n  'O',\n  'O',\n  'O',\n  'O',\n  'O',\n  'O',\n  'O',\n  'O',\n  'O',\n  'O'],\n ['O',\n  'O',\n  'O',\n  'O',\n  'O',\n  'O',\n  'O',\n  'I-IDIOM',\n  'I-IDIOM',\n  'O',\n  'O',\n  'O',\n  'O',\n  'O',\n  'O',\n  'O',\n  'O',\n  'O',\n  'O',\n  'O',\n  'O',\n  'O',\n  'O'],\n ['O', 'O', 'O', 'O', 'O', 'O', 'I-IDIOM', 'I-IDIOM', 'O'],\n ['O',\n  'I-IDIOM',\n  'I-IDIOM',\n  'I-IDIOM',\n  'I-IDIOM',\n  'O',\n  'O',\n  'O',\n  'O',\n  'O',\n  'O',\n  'O',\n  'O',\n  'O',\n  'O',\n  'O',\n  'O',\n  'O',\n  'O',\n  'O',\n  'O',\n  'O',\n  'O',\n  'O',\n  'O',\n  'O',\n  'O',\n  'O',\n  'O',\n  'O',\n  'O'],\n ['O',\n  'O',\n  'O',\n  'O',\n  'O',\n  'O',\n  'O',\n  'O',\n  'O',\n  'O',\n  'O',\n  'O',\n  'O',\n  'O',\n  'O',\n  'O',\n  'O',\n  'O',\n  'O',\n  'I-IDIOM',\n  'I-IDIOM',\n  'I-IDIOM',\n  'O',\n  'O',\n  'O',\n  'O',\n  'O',\n  'O',\n  'O',\n  'O',\n  'O',\n  'O',\n  'O',\n  'O',\n  'O',\n  'O',\n  'O',\n  'O',\n  'O',\n  'O',\n  'O',\n  'O'],\n ['O',\n  'O',\n  'O',\n  'O',\n  'O',\n  'I-IDIOM',\n  'I-IDIOM',\n  'O',\n  'O',\n  'O',\n  'O',\n  'O',\n  'O',\n  'O',\n  'O',\n  'O',\n  'O',\n  'O',\n  'O',\n  'O',\n  'O',\n  'O',\n  'O',\n  'O',\n  'O',\n  'O',\n  'O',\n  'O'],\n ['O',\n  'O',\n  'O',\n  'O',\n  'O',\n  'I-IDIOM',\n  'I-IDIOM',\n  'O',\n  'O',\n  'O',\n  'O',\n  'O',\n  'O',\n  'O',\n  'O',\n  'O',\n  'O'],\n ['O',\n  'O',\n  'O',\n  'O',\n  'O',\n  'O',\n  'O',\n  'O',\n  'O',\n  'O',\n  'O',\n  'O',\n  'O',\n  'O',\n  'O',\n  'O',\n  'O',\n  'O',\n  'I-IDIOM',\n  'I-IDIOM',\n  'I-IDIOM',\n  'I-IDIOM',\n  'O'],\n ['O',\n  'O',\n  'O',\n  'O',\n  'O',\n  'O',\n  'O',\n  'O',\n  'O',\n  'O',\n  'O',\n  'O',\n  'O',\n  'O',\n  'O',\n  'O',\n  'O',\n  'O',\n  'O',\n  'O',\n  'O',\n  'O',\n  'O',\n  'I-IDIOM',\n  'I-IDIOM',\n  'I-IDIOM',\n  'O',\n  'O'],\n ['O',\n  'O',\n  'O',\n  'O',\n  'O',\n  'O',\n  'O',\n  'O',\n  'O',\n  'O',\n  'O',\n  'O',\n  'O',\n  'O',\n  'O',\n  'O',\n  'O',\n  'O',\n  'O',\n  'O',\n  'I-IDIOM',\n  'I-IDIOM',\n  'I-IDIOM',\n  'O',\n  'O',\n  'O'],\n ['O',\n  'O',\n  'O',\n  'O',\n  'O',\n  'O',\n  'O',\n  'O',\n  'O',\n  'O',\n  'O',\n  'O',\n  'O',\n  'O',\n  'O',\n  'O',\n  'O',\n  'O',\n  'O',\n  'O',\n  'O',\n  'O',\n  'O',\n  'I-IDIOM',\n  'I-IDIOM',\n  'I-IDIOM',\n  'I-IDIOM',\n  'O'],\n ['O',\n  'O',\n  'O',\n  'O',\n  'O',\n  'O',\n  'O',\n  'O',\n  'O',\n  'O',\n  'O',\n  'O',\n  'O',\n  'O',\n  'O',\n  'O',\n  'O',\n  'O',\n  'O',\n  'I-IDIOM',\n  'I-IDIOM',\n  'I-IDIOM',\n  'O'],\n ['O',\n  'O',\n  'O',\n  'O',\n  'O',\n  'O',\n  'O',\n  'O',\n  'O',\n  'O',\n  'O',\n  'O',\n  'O',\n  'O',\n  'O',\n  'O',\n  'O',\n  'I-IDIOM',\n  'I-IDIOM',\n  'I-IDIOM',\n  'O'],\n ['O',\n  'O',\n  'O',\n  'O',\n  'O',\n  'O',\n  'O',\n  'I-IDIOM',\n  'I-IDIOM',\n  'O',\n  'O',\n  'O',\n  'O',\n  'O',\n  'O',\n  'O',\n  'O',\n  'O',\n  'O',\n  'O',\n  'O',\n  'O',\n  'O',\n  'O',\n  'O',\n  'O',\n  'O',\n  'O',\n  'O',\n  'O',\n  'O',\n  'O',\n  'O',\n  'O',\n  'O'],\n ['O',\n  'O',\n  'O',\n  'O',\n  'O',\n  'O',\n  'O',\n  'O',\n  'O',\n  'O',\n  'O',\n  'I-IDIOM',\n  'I-IDIOM',\n  'O',\n  'O',\n  'O',\n  'O',\n  'O',\n  'O',\n  'O',\n  'O',\n  'O',\n  'O',\n  'O',\n  'O',\n  'O',\n  'O',\n  'O',\n  'O',\n  'O'],\n ['O',\n  'O',\n  'O',\n  'O',\n  'O',\n  'O',\n  'O',\n  'O',\n  'O',\n  'O',\n  'O',\n  'O',\n  'O',\n  'O',\n  'O',\n  'O',\n  'O',\n  'O',\n  'O',\n  'O',\n  'O',\n  'O',\n  'I-IDIOM',\n  'I-IDIOM',\n  'I-IDIOM',\n  'O',\n  'O',\n  'O',\n  'O',\n  'O',\n  'O',\n  'O',\n  'O',\n  'O'],\n ['O',\n  'O',\n  'O',\n  'O',\n  'O',\n  'O',\n  'O',\n  'O',\n  'O',\n  'O',\n  'O',\n  'O',\n  'O',\n  'O',\n  'O',\n  'O',\n  'O',\n  'O',\n  'O',\n  'O',\n  'O',\n  'O',\n  'O',\n  'O',\n  'I-IDIOM',\n  'I-IDIOM',\n  'I-IDIOM',\n  'O'],\n ['O',\n  'O',\n  'O',\n  'O',\n  'O',\n  'O',\n  'O',\n  'O',\n  'O',\n  'O',\n  'O',\n  'O',\n  'O',\n  'O',\n  'I-IDIOM',\n  'I-IDIOM',\n  'I-IDIOM',\n  'I-IDIOM',\n  'I-IDIOM',\n  'O'],\n ['O',\n  'O',\n  'O',\n  'O',\n  'O',\n  'O',\n  'O',\n  'O',\n  'O',\n  'O',\n  'O',\n  'O',\n  'O',\n  'O',\n  'O',\n  'O',\n  'O',\n  'O',\n  'O',\n  'O',\n  'O',\n  'O',\n  'O',\n  'O',\n  'O',\n  'O',\n  'O',\n  'O',\n  'O',\n  'O',\n  'O',\n  'O',\n  'O',\n  'O',\n  'I-IDIOM',\n  'I-IDIOM',\n  'I-IDIOM',\n  'O',\n  'O'],\n ['O',\n  'O',\n  'O',\n  'O',\n  'O',\n  'O',\n  'O',\n  'O',\n  'O',\n  'O',\n  'O',\n  'O',\n  'O',\n  'I-IDIOM',\n  'I-IDIOM',\n  'I-IDIOM',\n  'O',\n  'O',\n  'O',\n  'O',\n  'O',\n  'O',\n  'O',\n  'O',\n  'O',\n  'O',\n  'O',\n  'O',\n  'O',\n  'O',\n  'O',\n  'O'],\n ['O',\n  'O',\n  'O',\n  'O',\n  'O',\n  'O',\n  'O',\n  'O',\n  'O',\n  'O',\n  'O',\n  'O',\n  'O',\n  'O',\n  'O',\n  'O',\n  'O',\n  'I-IDIOM',\n  'I-IDIOM',\n  'I-IDIOM',\n  'O',\n  'O',\n  'O',\n  'O',\n  'O',\n  'O',\n  'O',\n  'O',\n  'O',\n  'O',\n  'O'],\n ['O',\n  'O',\n  'O',\n  'O',\n  'O',\n  'O',\n  'O',\n  'O',\n  'I-IDIOM',\n  'I-IDIOM',\n  'O',\n  'O',\n  'O',\n  'O',\n  'O'],\n ['O',\n  'O',\n  'O',\n  'O',\n  'O',\n  'O',\n  'O',\n  'O',\n  'O',\n  'O',\n  'O',\n  'O',\n  'O',\n  'O',\n  'O',\n  'I-IDIOM',\n  'I-IDIOM',\n  'I-IDIOM',\n  'O',\n  'O',\n  'O',\n  'O',\n  'O',\n  'O',\n  'O',\n  'O',\n  'O',\n  'O',\n  'O',\n  'O',\n  'O',\n  'O',\n  'O',\n  'O',\n  'O',\n  'O',\n  'O',\n  'O',\n  'O',\n  'O',\n  'O',\n  'O',\n  'O',\n  'O',\n  'O',\n  'O',\n  'O',\n  'O'],\n ['O',\n  'O',\n  'O',\n  'O',\n  'O',\n  'O',\n  'O',\n  'O',\n  'O',\n  'O',\n  'O',\n  'O',\n  'O',\n  'O',\n  'O',\n  'O',\n  'O',\n  'O',\n  'O',\n  'O',\n  'O',\n  'O',\n  'O',\n  'O',\n  'O',\n  'O',\n  'O',\n  'O',\n  'O',\n  'O',\n  'O',\n  'O',\n  'O',\n  'O',\n  'O',\n  'O',\n  'O',\n  'O',\n  'O',\n  'O',\n  'O',\n  'I-IDIOM',\n  'I-IDIOM',\n  'I-IDIOM',\n  'O'],\n ['I-IDIOM', 'I-IDIOM', 'I-IDIOM', 'O', 'O', 'O'],\n ['O',\n  'O',\n  'O',\n  'O',\n  'O',\n  'O',\n  'O',\n  'O',\n  'O',\n  'O',\n  'O',\n  'O',\n  'O',\n  'O',\n  'O',\n  'O',\n  'O',\n  'O',\n  'O',\n  'O',\n  'O',\n  'O',\n  'O',\n  'O',\n  'O',\n  'O',\n  'O',\n  'O',\n  'I-IDIOM',\n  'I-IDIOM',\n  'I-IDIOM',\n  'I-IDIOM',\n  'O',\n  'O',\n  'O',\n  'O',\n  'O',\n  'O',\n  'O',\n  'O',\n  'O',\n  'O',\n  'O',\n  'O',\n  'O',\n  'O',\n  'O',\n  'O',\n  'O',\n  'O',\n  'O'],\n ['O',\n  'O',\n  'O',\n  'O',\n  'I-IDIOM',\n  'I-IDIOM',\n  'I-IDIOM',\n  'O',\n  'O',\n  'O',\n  'O',\n  'O',\n  'O',\n  'O',\n  'O',\n  'O',\n  'O',\n  'O',\n  'O',\n  'O',\n  'O',\n  'O',\n  'O',\n  'O'],\n ['O', 'O', 'O', 'O', 'I-IDIOM', 'I-IDIOM', 'I-IDIOM', 'O'],\n ['O',\n  'O',\n  'O',\n  'O',\n  'O',\n  'O',\n  'O',\n  'O',\n  'O',\n  'O',\n  'O',\n  'O',\n  'O',\n  'I-IDIOM',\n  'I-IDIOM',\n  'I-IDIOM',\n  'O',\n  'O',\n  'O',\n  'O',\n  'O',\n  'O',\n  'O',\n  'O',\n  'O'],\n ['O',\n  'O',\n  'O',\n  'O',\n  'O',\n  'O',\n  'O',\n  'O',\n  'O',\n  'O',\n  'O',\n  'O',\n  'O',\n  'O',\n  'I-IDIOM',\n  'I-IDIOM',\n  'O',\n  'O',\n  'O',\n  'O',\n  'O'],\n ['O',\n  'O',\n  'O',\n  'O',\n  'O',\n  'O',\n  'O',\n  'O',\n  'O',\n  'O',\n  'O',\n  'O',\n  'O',\n  'O',\n  'I-IDIOM',\n  'I-IDIOM',\n  'I-IDIOM',\n  'O',\n  'O',\n  'O',\n  'O'],\n ['O',\n  'O',\n  'I-IDIOM',\n  'I-IDIOM',\n  'O',\n  'O',\n  'O',\n  'O',\n  'O',\n  'O',\n  'O',\n  'O',\n  'O',\n  'O',\n  'O',\n  'O',\n  'O',\n  'O',\n  'O',\n  'O',\n  'O',\n  'O',\n  'O'],\n ['O',\n  'O',\n  'O',\n  'O',\n  'I-IDIOM',\n  'I-IDIOM',\n  'I-IDIOM',\n  'I-IDIOM',\n  'O',\n  'O',\n  'O',\n  'O',\n  'O'],\n ['O',\n  'O',\n  'O',\n  'O',\n  'O',\n  'I-IDIOM',\n  'I-IDIOM',\n  'I-IDIOM',\n  'O',\n  'O',\n  'O',\n  'O',\n  'O',\n  'O',\n  'O',\n  'O',\n  'O',\n  'O',\n  'O',\n  'O',\n  'O',\n  'O',\n  'O',\n  'O',\n  'O',\n  'O',\n  'O',\n  'O'],\n ['O',\n  'O',\n  'O',\n  'O',\n  'O',\n  'O',\n  'O',\n  'O',\n  'O',\n  'O',\n  'O',\n  'O',\n  'O',\n  'O',\n  'I-IDIOM',\n  'I-IDIOM',\n  'O',\n  'O',\n  'O',\n  'O',\n  'O',\n  'O',\n  'O',\n  'O',\n  'O',\n  'O',\n  'O',\n  'O',\n  'O',\n  'O',\n  'O'],\n ['O',\n  'O',\n  'O',\n  'O',\n  'O',\n  'O',\n  'O',\n  'O',\n  'O',\n  'O',\n  'O',\n  'O',\n  'O',\n  'O',\n  'O',\n  'O',\n  'O',\n  'O',\n  'O',\n  'O',\n  'I-IDIOM',\n  'I-IDIOM',\n  'I-IDIOM',\n  'O',\n  'O',\n  'O',\n  'O',\n  'O',\n  'O',\n  'O',\n  'O',\n  'O',\n  'O',\n  'O',\n  'O',\n  'O',\n  'O',\n  'O',\n  'O',\n  'O',\n  'O',\n  'O',\n  'O',\n  'O',\n  'O',\n  'O',\n  'O',\n  'O',\n  'O',\n  'O',\n  'O',\n  'O',\n  'O',\n  'O',\n  'O',\n  'O',\n  'O',\n  'O',\n  'O',\n  'O',\n  'O',\n  'O',\n  'O',\n  'O',\n  'O',\n  'O'],\n ['O',\n  'O',\n  'O',\n  'O',\n  'O',\n  'O',\n  'I-IDIOM',\n  'I-IDIOM',\n  'I-IDIOM',\n  'O',\n  'O',\n  'O',\n  'O',\n  'O',\n  'O',\n  'O',\n  'O',\n  'O',\n  'O',\n  'O',\n  'O',\n  'O'],\n ['O',\n  'O',\n  'O',\n  'O',\n  'O',\n  'O',\n  'O',\n  'O',\n  'O',\n  'O',\n  'O',\n  'I-IDIOM',\n  'I-IDIOM',\n  'O',\n  'O',\n  'O',\n  'O',\n  'O',\n  'O',\n  'O',\n  'O',\n  'O',\n  'O',\n  'O'],\n ['O',\n  'O',\n  'I-IDIOM',\n  'I-IDIOM',\n  'I-IDIOM',\n  'O',\n  'O',\n  'O',\n  'O',\n  'O',\n  'O',\n  'O',\n  'O'],\n ['O',\n  'O',\n  'O',\n  'I-IDIOM',\n  'I-IDIOM',\n  'I-IDIOM',\n  'O',\n  'O',\n  'O',\n  'O',\n  'O',\n  'O',\n  'O',\n  'O',\n  'O',\n  'O',\n  'O',\n  'O',\n  'O',\n  'O',\n  'O',\n  'O',\n  'O',\n  'O',\n  'O'],\n ['O',\n  'O',\n  'O',\n  'O',\n  'I-IDIOM',\n  'I-IDIOM',\n  'I-IDIOM',\n  'I-IDIOM',\n  'I-IDIOM',\n  'O',\n  'O',\n  'O',\n  'O',\n  'O',\n  'O',\n  'O',\n  'O',\n  'O',\n  'O',\n  'O',\n  'O',\n  'O',\n  'O'],\n ['O',\n  'O',\n  'O',\n  'O',\n  'O',\n  'O',\n  'O',\n  'O',\n  'O',\n  'O',\n  'O',\n  'O',\n  'I-IDIOM',\n  'I-IDIOM',\n  'I-IDIOM',\n  'O',\n  'O',\n  'O',\n  'O',\n  'O',\n  'O',\n  'O'],\n ['O',\n  'O',\n  'O',\n  'O',\n  'O',\n  'O',\n  'O',\n  'O',\n  'O',\n  'O',\n  'O',\n  'O',\n  'O',\n  'O',\n  'O',\n  'O',\n  'O',\n  'O',\n  'O',\n  'O',\n  'O',\n  'I-IDIOM',\n  'I-IDIOM',\n  'I-IDIOM',\n  'O'],\n ['O',\n  'O',\n  'O',\n  'O',\n  'O',\n  'O',\n  'O',\n  'O',\n  'I-IDIOM',\n  'I-IDIOM',\n  'I-IDIOM',\n  'I-IDIOM',\n  'O',\n  'O',\n  'O',\n  'O',\n  'O',\n  'O',\n  'O',\n  'O'],\n ['O',\n  'O',\n  'O',\n  'O',\n  'O',\n  'O',\n  'O',\n  'O',\n  'O',\n  'O',\n  'O',\n  'O',\n  'O',\n  'O',\n  'O',\n  'O',\n  'O',\n  'I-IDIOM',\n  'I-IDIOM',\n  'I-IDIOM',\n  'O',\n  'O',\n  'O',\n  'O',\n  'O',\n  'O',\n  'O',\n  'O',\n  'O',\n  'O',\n  'O',\n  'O',\n  'O',\n  'O',\n  'O',\n  'O',\n  'O',\n  'O',\n  'O',\n  'O'],\n ['O',\n  'O',\n  'O',\n  'O',\n  'O',\n  'O',\n  'O',\n  'O',\n  'O',\n  'O',\n  'I-IDIOM',\n  'I-IDIOM',\n  'I-IDIOM',\n  'O',\n  'O',\n  'O',\n  'O',\n  'O',\n  'O',\n  'O',\n  'O',\n  'O',\n  'O',\n  'O',\n  'O',\n  'O',\n  'O',\n  'O',\n  'O',\n  'O',\n  'O',\n  'O',\n  'O',\n  'O',\n  'O',\n  'O',\n  'O',\n  'O',\n  'O',\n  'O',\n  'O',\n  'O',\n  'O',\n  'O',\n  'O'],\n ['O',\n  'O',\n  'O',\n  'O',\n  'O',\n  'O',\n  'O',\n  'O',\n  'O',\n  'O',\n  'O',\n  'O',\n  'I-IDIOM',\n  'I-IDIOM',\n  'O',\n  'O',\n  'O',\n  'O',\n  'O',\n  'O',\n  'O',\n  'O',\n  'O',\n  'O',\n  'O',\n  'O',\n  'O',\n  'O'],\n ['O',\n  'O',\n  'O',\n  'O',\n  'O',\n  'O',\n  'O',\n  'O',\n  'O',\n  'O',\n  'O',\n  'O',\n  'O',\n  'O',\n  'O',\n  'O',\n  'O',\n  'O'],\n ['O',\n  'O',\n  'O',\n  'O',\n  'O',\n  'O',\n  'O',\n  'O',\n  'I-IDIOM',\n  'I-IDIOM',\n  'I-IDIOM',\n  'O',\n  'O',\n  'O',\n  'O',\n  'O',\n  'O',\n  'O',\n  'O',\n  'O',\n  'O',\n  'O',\n  'O',\n  'O',\n  'O',\n  'O',\n  'O'],\n ['O', 'O', 'I-IDIOM', 'I-IDIOM', 'I-IDIOM', 'O', 'O'],\n ['O', 'O', 'I-IDIOM', 'I-IDIOM', 'O', 'O', 'O', 'O', 'O', 'O', 'O'],\n ['O',\n  'O',\n  'O',\n  'O',\n  'O',\n  'O',\n  'O',\n  'O',\n  'O',\n  'O',\n  'O',\n  'O',\n  'O',\n  'O',\n  'O',\n  'I-IDIOM',\n  'I-IDIOM',\n  'I-IDIOM',\n  'O',\n  'O',\n  'O',\n  'O',\n  'O',\n  'O',\n  'O',\n  'O',\n  'O',\n  'O',\n  'O',\n  'O',\n  'O',\n  'O',\n  'O',\n  'O',\n  'O',\n  'O',\n  'O',\n  'O',\n  'O'],\n ['O',\n  'O',\n  'O',\n  'O',\n  'O',\n  'O',\n  'O',\n  'O',\n  'O',\n  'O',\n  'O',\n  'O',\n  'O',\n  'O',\n  'O',\n  'O',\n  'O',\n  'O',\n  'O',\n  'I-IDIOM',\n  'I-IDIOM',\n  'I-IDIOM',\n  'I-IDIOM',\n  'I-IDIOM',\n  'O',\n  'O',\n  'O',\n  'O',\n  'O',\n  'O',\n  'O'],\n ['O',\n  'O',\n  'O',\n  'O',\n  'O',\n  'O',\n  'I-IDIOM',\n  'I-IDIOM',\n  'I-IDIOM',\n  'O',\n  'O',\n  'O',\n  'O',\n  'O',\n  'O',\n  'O',\n  'O',\n  'O',\n  'O',\n  'O',\n  'O',\n  'O',\n  'O',\n  'O',\n  'O',\n  'O',\n  'O',\n  'O',\n  'O',\n  'O',\n  'O',\n  'O',\n  'O',\n  'O',\n  'O',\n  'O',\n  'O',\n  'O',\n  'O',\n  'O',\n  'O',\n  'O',\n  'O',\n  'O',\n  'O',\n  'O'],\n ['O',\n  'O',\n  'O',\n  'O',\n  'O',\n  'O',\n  'O',\n  'O',\n  'O',\n  'O',\n  'O',\n  'O',\n  'O',\n  'O',\n  'O',\n  'O',\n  'I-IDIOM',\n  'I-IDIOM',\n  'I-IDIOM',\n  'O',\n  'O'],\n ['O',\n  'O',\n  'O',\n  'O',\n  'O',\n  'O',\n  'O',\n  'O',\n  'O',\n  'O',\n  'I-IDIOM',\n  'I-IDIOM',\n  'O',\n  'O',\n  'O',\n  'O',\n  'O',\n  'O',\n  'O'],\n ['O', 'O', 'O', 'I-IDIOM', 'I-IDIOM', 'O'],\n ['O',\n  'O',\n  'O',\n  'O',\n  'O',\n  'O',\n  'O',\n  'O',\n  'O',\n  'I-IDIOM',\n  'I-IDIOM',\n  'I-IDIOM',\n  'I-IDIOM',\n  'I-IDIOM',\n  'O',\n  'O',\n  'O',\n  'O',\n  'O',\n  'O',\n  'O',\n  'O',\n  'O',\n  'O',\n  'O',\n  'O',\n  'O'],\n ['O',\n  'O',\n  'O',\n  'O',\n  'O',\n  'O',\n  'O',\n  'O',\n  'O',\n  'O',\n  'O',\n  'O',\n  'O',\n  'O',\n  'O',\n  'O',\n  'O',\n  'O',\n  'O',\n  'O',\n  'O',\n  'O',\n  'O',\n  'O',\n  'O',\n  'I-IDIOM',\n  'I-IDIOM',\n  'I-IDIOM',\n  'O'],\n ['O', 'O', 'O', 'O', 'I-IDIOM', 'I-IDIOM', 'O', 'O', 'O', 'O'],\n ['O',\n  'O',\n  'O',\n  'O',\n  'O',\n  'O',\n  'O',\n  'O',\n  'O',\n  'O',\n  'O',\n  'O',\n  'O',\n  'O',\n  'O',\n  'O',\n  'O',\n  'O',\n  'O',\n  'O',\n  'O',\n  'O',\n  'O',\n  'O',\n  'O',\n  'O',\n  'O',\n  'O',\n  'O',\n  'O',\n  'O',\n  'O',\n  'O',\n  'O',\n  'O',\n  'O',\n  'O',\n  'O',\n  'O',\n  'O',\n  'O',\n  'O',\n  'O',\n  'O',\n  'O',\n  'O',\n  'O',\n  'O',\n  'O',\n  'O',\n  'O',\n  'O',\n  'O',\n  'O',\n  'O',\n  'O',\n  'O',\n  'O',\n  'O',\n  'O',\n  'O',\n  'O',\n  'O',\n  'O',\n  'O',\n  'O',\n  'O',\n  'O',\n  'O',\n  'O',\n  'O',\n  'O',\n  'O',\n  'O',\n  'O',\n  'O',\n  'O',\n  'O',\n  'O',\n  'O',\n  'O',\n  'O',\n  'O',\n  'O',\n  'O',\n  'O',\n  'O',\n  'O',\n  'O',\n  'O',\n  'O',\n  'O',\n  'O',\n  'O',\n  'I-IDIOM',\n  'I-IDIOM',\n  'I-IDIOM',\n  'O',\n  'O',\n  'O',\n  'O',\n  'O',\n  'O',\n  'O',\n  'O',\n  'O',\n  'O',\n  'O',\n  'O',\n  'O',\n  'O',\n  'O',\n  'O',\n  'O',\n  'O',\n  'O',\n  'O',\n  'O',\n  'O',\n  'O',\n  'O',\n  'O',\n  'O',\n  'O',\n  'O',\n  'O',\n  'O',\n  'O',\n  'O',\n  'O',\n  'O',\n  'O',\n  'O',\n  'O',\n  'O',\n  'O',\n  'O',\n  'O',\n  'O',\n  'O',\n  'O',\n  'O',\n  'O'],\n ['O',\n  'O',\n  'I-IDIOM',\n  'I-IDIOM',\n  'O',\n  'O',\n  'O',\n  'O',\n  'O',\n  'O',\n  'O',\n  'O',\n  'O',\n  'O',\n  'O',\n  'O',\n  'O'],\n ['O',\n  'O',\n  'O',\n  'O',\n  'O',\n  'O',\n  'O',\n  'O',\n  'O',\n  'O',\n  'I-IDIOM',\n  'I-IDIOM',\n  'I-IDIOM',\n  'O',\n  'O',\n  'O',\n  'O',\n  'O',\n  'O',\n  'O',\n  'O',\n  'O',\n  'O'],\n ['O',\n  'O',\n  'O',\n  'O',\n  'O',\n  'O',\n  'O',\n  'O',\n  'O',\n  'O',\n  'I-IDIOM',\n  'I-IDIOM',\n  'O',\n  'O',\n  'O',\n  'O',\n  'O',\n  'O',\n  'O',\n  'O',\n  'O',\n  'O',\n  'O',\n  'O',\n  'O',\n  'O',\n  'O',\n  'O',\n  'O',\n  'O',\n  'O',\n  'O',\n  'O',\n  'O',\n  'O',\n  'O',\n  'O',\n  'O',\n  'O',\n  'O',\n  'O',\n  'O',\n  'O',\n  'O',\n  'O',\n  'O',\n  'O',\n  'O'],\n ['O',\n  'O',\n  'O',\n  'O',\n  'O',\n  'O',\n  'O',\n  'O',\n  'O',\n  'O',\n  'O',\n  'O',\n  'O',\n  'O',\n  'O',\n  'O',\n  'O',\n  'O',\n  'O',\n  'O',\n  'O',\n  'O',\n  'O',\n  'O',\n  'O',\n  'O',\n  'I-IDIOM',\n  'I-IDIOM',\n  'I-IDIOM',\n  'O'],\n ['O',\n  'I-IDIOM',\n  'I-IDIOM',\n  'O',\n  'O',\n  'O',\n  'O',\n  'O',\n  'O',\n  'O',\n  'O',\n  'O',\n  'O',\n  'O',\n  'O',\n  'O',\n  'O',\n  'O',\n  'O',\n  'O',\n  'O',\n  'O',\n  'O',\n  'O'],\n ['O',\n  'O',\n  'O',\n  'O',\n  'O',\n  'O',\n  'O',\n  'O',\n  'O',\n  'O',\n  'O',\n  'O',\n  'O',\n  'O',\n  'O',\n  'O',\n  'O',\n  'O',\n  'O',\n  'O',\n  'O',\n  'O',\n  'O',\n  'O',\n  'O',\n  'O',\n  'O',\n  'I-IDIOM',\n  'I-IDIOM',\n  'I-IDIOM',\n  'I-IDIOM',\n  'O',\n  'O',\n  'O',\n  'O',\n  'O',\n  'O',\n  'O',\n  'O',\n  'O',\n  'O',\n  'O',\n  'O',\n  'O',\n  'O',\n  'O',\n  'O',\n  'O',\n  'O',\n  'O',\n  'O',\n  'O',\n  'O',\n  'O',\n  'O',\n  'O',\n  'O',\n  'O',\n  'O',\n  'O',\n  'O',\n  'O',\n  'O',\n  'O',\n  'O',\n  'O',\n  'O',\n  'O',\n  'O',\n  'O',\n  'O',\n  'O',\n  'O',\n  'O',\n  'O',\n  'O'],\n ['O',\n  'O',\n  'O',\n  'O',\n  'O',\n  'O',\n  'O',\n  'I-IDIOM',\n  'I-IDIOM',\n  'I-IDIOM',\n  'I-IDIOM',\n  'O'],\n ['O',\n  'O',\n  'O',\n  'O',\n  'I-IDIOM',\n  'I-IDIOM',\n  'O',\n  'O',\n  'O',\n  'O',\n  'O',\n  'O',\n  'O',\n  'O',\n  'O',\n  'O',\n  'O',\n  'O',\n  'O',\n  'O',\n  'O',\n  'O',\n  'O',\n  'O',\n  'O',\n  'O',\n  'O',\n  'O',\n  'O'],\n ['O',\n  'O',\n  'O',\n  'O',\n  'O',\n  'O',\n  'O',\n  'O',\n  'O',\n  'O',\n  'O',\n  'O',\n  'O',\n  'O',\n  'O',\n  'O',\n  'O',\n  'O',\n  'O',\n  'O',\n  'O',\n  'O',\n  'O',\n  'O',\n  'O',\n  'O',\n  'O',\n  'O',\n  'O',\n  'O',\n  'O',\n  'O',\n  'O',\n  'O',\n  'O',\n  'O',\n  'O',\n  'O',\n  'O',\n  'O',\n  'I-IDIOM',\n  'I-IDIOM',\n  'O',\n  'O',\n  'O',\n  'O',\n  'O',\n  'O',\n  'O',\n  'O',\n  'O',\n  'O'],\n ['O',\n  'O',\n  'O',\n  'O',\n  'O',\n  'O',\n  'I-IDIOM',\n  'I-IDIOM',\n  'I-IDIOM',\n  'O',\n  'O',\n  'O',\n  'O',\n  'O',\n  'O',\n  'O',\n  'O',\n  'O',\n  'O',\n  'O'],\n ['O',\n  'O',\n  'O',\n  'O',\n  'O',\n  'O',\n  'O',\n  'O',\n  'O',\n  'O',\n  'O',\n  'O',\n  'O',\n  'O',\n  'O',\n  'O',\n  'I-IDIOM',\n  'I-IDIOM',\n  'I-IDIOM',\n  'O',\n  'O',\n  'O',\n  'O',\n  'O',\n  'O',\n  'O',\n  'O',\n  'O',\n  'O',\n  'O',\n  'O',\n  'O',\n  'O',\n  'O',\n  'O',\n  'O',\n  'O',\n  'O',\n  'O'],\n ['O',\n  'O',\n  'O',\n  'O',\n  'O',\n  'O',\n  'O',\n  'O',\n  'O',\n  'O',\n  'O',\n  'O',\n  'O',\n  'O',\n  'O',\n  'O',\n  'O',\n  'O',\n  'O',\n  'O',\n  'O',\n  'O',\n  'O',\n  'O',\n  'O'],\n ['O',\n  'O',\n  'O',\n  'O',\n  'I-IDIOM',\n  'I-IDIOM',\n  'I-IDIOM',\n  'O',\n  'O',\n  'O',\n  'O',\n  'O',\n  'O',\n  'O',\n  'O',\n  'O',\n  'O',\n  'O',\n  'O',\n  'O',\n  'O',\n  'O',\n  'O',\n  'O',\n  'O'],\n ['O', 'I-IDIOM', 'I-IDIOM', 'I-IDIOM', 'O', 'O', 'O', 'O', 'O', 'O', 'O'],\n ['O',\n  'O',\n  'O',\n  'O',\n  'O',\n  'O',\n  'O',\n  'O',\n  'O',\n  'O',\n  'O',\n  'O',\n  'O',\n  'O',\n  'O',\n  'O',\n  'O',\n  'O',\n  'O',\n  'O',\n  'O',\n  'O',\n  'O',\n  'O',\n  'I-IDIOM',\n  'I-IDIOM',\n  'I-IDIOM',\n  'I-IDIOM',\n  'O',\n  'O'],\n ['O',\n  'O',\n  'O',\n  'O',\n  'O',\n  'O',\n  'O',\n  'O',\n  'O',\n  'O',\n  'I-IDIOM',\n  'I-IDIOM',\n  'I-IDIOM',\n  'O',\n  'O',\n  'O',\n  'O',\n  'O',\n  'O',\n  'O',\n  'O'],\n ['O',\n  'O',\n  'O',\n  'O',\n  'O',\n  'O',\n  'O',\n  'O',\n  'O',\n  'O',\n  'O',\n  'O',\n  'O',\n  'I-IDIOM',\n  'I-IDIOM',\n  'I-IDIOM',\n  'O',\n  'O',\n  'O',\n  'O',\n  'O',\n  'O',\n  'O',\n  'O',\n  'O',\n  'O',\n  'O',\n  'O',\n  'O',\n  'O',\n  'O',\n  'O',\n  'O',\n  'O',\n  'O',\n  'O',\n  'O',\n  'O',\n  'O',\n  'O',\n  'O',\n  'O',\n  'O',\n  'O',\n  'O',\n  'O',\n  'O',\n  'O',\n  'O'],\n ['O',\n  'O',\n  'O',\n  'O',\n  'O',\n  'O',\n  'O',\n  'O',\n  'O',\n  'O',\n  'O',\n  'O',\n  'O',\n  'O',\n  'O',\n  'O',\n  'O',\n  'O',\n  'O',\n  'O',\n  'O',\n  'I-IDIOM',\n  'I-IDIOM',\n  'O',\n  'O'],\n ['O', 'I-IDIOM', 'I-IDIOM', 'O', 'O', 'O', 'O', 'O', 'O', 'O', 'O', 'O'],\n ['O',\n  'O',\n  'O',\n  'O',\n  'O',\n  'O',\n  'O',\n  'O',\n  'O',\n  'O',\n  'O',\n  'O',\n  'O',\n  'O',\n  'O',\n  'O',\n  'O',\n  'O',\n  'O',\n  'O',\n  'I-IDIOM',\n  'I-IDIOM',\n  'O'],\n ['O',\n  'O',\n  'O',\n  'O',\n  'O',\n  'I-IDIOM',\n  'I-IDIOM',\n  'I-IDIOM',\n  'O',\n  'O',\n  'O',\n  'O',\n  'O',\n  'O',\n  'O',\n  'O',\n  'O',\n  'O',\n  'O',\n  'O',\n  'O',\n  'O',\n  'O',\n  'O',\n  'O',\n  'O',\n  'O',\n  'O',\n  'O'],\n ['O',\n  'O',\n  'O',\n  'O',\n  'O',\n  'O',\n  'O',\n  'O',\n  'O',\n  'O',\n  'O',\n  'O',\n  'O',\n  'O',\n  'O',\n  'O',\n  'O',\n  'O',\n  'O',\n  'O',\n  'O',\n  'O',\n  'O',\n  'O',\n  'O',\n  'O',\n  'O',\n  'O',\n  'O',\n  'O',\n  'O',\n  'O',\n  'O',\n  'O',\n  'O',\n  'O',\n  'O',\n  'O',\n  'O',\n  'O',\n  'O',\n  'O',\n  'O',\n  'O',\n  'O',\n  'O',\n  'O',\n  'O',\n  'O',\n  'O',\n  'O',\n  'O',\n  'O',\n  'O',\n  'O',\n  'O',\n  'O',\n  'I-IDIOM',\n  'I-IDIOM',\n  'I-IDIOM',\n  'O'],\n ['O',\n  'O',\n  'O',\n  'O',\n  'O',\n  'O',\n  'O',\n  'O',\n  'O',\n  'O',\n  'O',\n  'O',\n  'O',\n  'O',\n  'O',\n  'O',\n  'O',\n  'O',\n  'O',\n  'O',\n  'O',\n  'O',\n  'O',\n  'O',\n  'O',\n  'O',\n  'O',\n  'O',\n  'O',\n  'O',\n  'O',\n  'O',\n  'O',\n  'O',\n  'O',\n  'O',\n  'O',\n  'O',\n  'O',\n  'O',\n  'I-IDIOM',\n  'I-IDIOM',\n  'O',\n  'O'],\n ['O',\n  'O',\n  'O',\n  'O',\n  'O',\n  'O',\n  'O',\n  'O',\n  'O',\n  'O',\n  'I-IDIOM',\n  'I-IDIOM',\n  'I-IDIOM',\n  'I-IDIOM',\n  'O',\n  'O',\n  'O',\n  'O',\n  'O',\n  'O',\n  'O'],\n ['O', 'O', 'O', 'O', 'I-IDIOM', 'I-IDIOM', 'I-IDIOM', 'O', 'O', 'O'],\n ['O',\n  'O',\n  'O',\n  'O',\n  'O',\n  'O',\n  'O',\n  'O',\n  'O',\n  'O',\n  'O',\n  'O',\n  'O',\n  'O',\n  'O',\n  'O',\n  'O',\n  'O',\n  'O',\n  'O',\n  'O',\n  'O',\n  'O',\n  'O',\n  'O',\n  'I-IDIOM',\n  'I-IDIOM',\n  'I-IDIOM',\n  'O',\n  'O',\n  'O',\n  'O',\n  'O',\n  'O',\n  'O',\n  'O',\n  'O',\n  'O',\n  'O',\n  'O',\n  'O'],\n ['O',\n  'O',\n  'I-IDIOM',\n  'I-IDIOM',\n  'I-IDIOM',\n  'O',\n  'O',\n  'O',\n  'O',\n  'O',\n  'O',\n  'O',\n  'O',\n  'O',\n  'O',\n  'O'],\n ['O',\n  'O',\n  'O',\n  'O',\n  'O',\n  'O',\n  'O',\n  'O',\n  'O',\n  'O',\n  'O',\n  'O',\n  'O',\n  'O',\n  'I-IDIOM',\n  'I-IDIOM',\n  'O',\n  'O',\n  'O',\n  'O',\n  'O',\n  'O',\n  'O',\n  'O',\n  'O',\n  'O'],\n ['O',\n  'O',\n  'O',\n  'O',\n  'O',\n  'O',\n  'O',\n  'O',\n  'O',\n  'O',\n  'O',\n  'O',\n  'O',\n  'O',\n  'O',\n  'O',\n  'O',\n  'O',\n  'O',\n  'O',\n  'O',\n  'O',\n  'O',\n  'O',\n  'O',\n  'O',\n  'I-IDIOM',\n  'I-IDIOM',\n  'I-IDIOM',\n  'O',\n  'O',\n  'O',\n  'O',\n  'O',\n  'O'],\n ['O',\n  'O',\n  'O',\n  'O',\n  'O',\n  'O',\n  'O',\n  'O',\n  'O',\n  'O',\n  'O',\n  'O',\n  'O',\n  'O',\n  'O',\n  'O',\n  'O',\n  'O',\n  'O',\n  'O',\n  'O',\n  'O',\n  'O',\n  'O',\n  'O',\n  'I-IDIOM',\n  'I-IDIOM',\n  'I-IDIOM',\n  'I-IDIOM',\n  'I-IDIOM',\n  'I-IDIOM',\n  'O',\n  'O'],\n ['O',\n  'O',\n  'O',\n  'O',\n  'O',\n  'O',\n  'O',\n  'O',\n  'O',\n  'O',\n  'O',\n  'O',\n  'O',\n  'O',\n  'O',\n  'O',\n  'O',\n  'O',\n  'O',\n  'O',\n  'O',\n  'O',\n  'I-IDIOM',\n  'I-IDIOM',\n  'I-IDIOM',\n  'O',\n  'O',\n  'O',\n  'O',\n  'O',\n  'O'],\n ['O',\n  'O',\n  'O',\n  'O',\n  'O',\n  'O',\n  'O',\n  'O',\n  'O',\n  'O',\n  'O',\n  'O',\n  'O',\n  'O',\n  'O',\n  'O',\n  'O',\n  'O',\n  'O',\n  'O',\n  'O',\n  'O',\n  'O',\n  'O',\n  'O',\n  'O',\n  'O',\n  'O',\n  'O',\n  'I-IDIOM',\n  'I-IDIOM',\n  'I-IDIOM',\n  'O',\n  'O',\n  'O',\n  'O',\n  'O',\n  'O',\n  'O',\n  'O'],\n ['O',\n  'O',\n  'O',\n  'O',\n  'O',\n  'O',\n  'O',\n  'O',\n  'O',\n  'O',\n  'O',\n  'O',\n  'O',\n  'O',\n  'O',\n  'O',\n  'O',\n  'O',\n  'I-IDIOM',\n  'I-IDIOM',\n  'I-IDIOM',\n  'O',\n  'O',\n  'O',\n  'O'],\n ['O',\n  'O',\n  'O',\n  'O',\n  'O',\n  'O',\n  'O',\n  'O',\n  'O',\n  'O',\n  'O',\n  'O',\n  'O',\n  'O',\n  'O',\n  'O',\n  'O',\n  'O',\n  'O',\n  'O',\n  'O',\n  'I-IDIOM',\n  'I-IDIOM',\n  'I-IDIOM',\n  'O',\n  'O',\n  'O',\n  'O',\n  'O',\n  'O',\n  'O',\n  'O',\n  'O',\n  'O',\n  'O',\n  'O',\n  'O',\n  'O',\n  'O',\n  'O',\n  'O',\n  'O'],\n ['O',\n  'O',\n  'O',\n  'O',\n  'O',\n  'O',\n  'O',\n  'O',\n  'O',\n  'O',\n  'O',\n  'I-IDIOM',\n  'I-IDIOM',\n  'I-IDIOM',\n  'I-IDIOM',\n  'I-IDIOM',\n  'I-IDIOM',\n  'O',\n  'O'],\n ['O',\n  'O',\n  'O',\n  'O',\n  'O',\n  'O',\n  'O',\n  'O',\n  'O',\n  'O',\n  'O',\n  'O',\n  'O',\n  'O',\n  'O',\n  'O',\n  'O',\n  'O',\n  'O',\n  'O',\n  'O',\n  'O',\n  'O',\n  'O',\n  'O',\n  'I-IDIOM',\n  'I-IDIOM',\n  'I-IDIOM',\n  'I-IDIOM',\n  'O',\n  'O',\n  'O',\n  'O',\n  'O',\n  'O',\n  'O',\n  'O',\n  'O',\n  'O',\n  'O',\n  'O',\n  'O',\n  'O',\n  'O',\n  'O',\n  'O',\n  'O',\n  'O',\n  'O',\n  'O',\n  'O',\n  'O',\n  'O',\n  'O',\n  'O',\n  'O',\n  'O',\n  'O',\n  'O',\n  'O',\n  'O'],\n ['O',\n  'O',\n  'O',\n  'O',\n  'O',\n  'O',\n  'O',\n  'O',\n  'O',\n  'O',\n  'O',\n  'O',\n  'O',\n  'O',\n  'O',\n  'O',\n  'O',\n  'O',\n  'O',\n  'O',\n  'O',\n  'O',\n  'O',\n  'O',\n  'O',\n  'O',\n  'I-IDIOM',\n  'I-IDIOM',\n  'I-IDIOM',\n  'O',\n  'O',\n  'O',\n  'O',\n  'O',\n  'O',\n  'O'],\n ['O',\n  'O',\n  'O',\n  'O',\n  'O',\n  'O',\n  'O',\n  'O',\n  'O',\n  'O',\n  'O',\n  'O',\n  'O',\n  'O',\n  'O',\n  'O',\n  'O',\n  'O',\n  'O',\n  'O',\n  'O',\n  'O',\n  'O',\n  'O',\n  'O',\n  'O',\n  'O',\n  'O',\n  'O',\n  'O',\n  'O',\n  'O',\n  'O',\n  'O',\n  'O',\n  'O',\n  'I-IDIOM',\n  'I-IDIOM',\n  'I-IDIOM',\n  'O',\n  'O',\n  'O',\n  'O'],\n ['O',\n  'O',\n  'O',\n  'O',\n  'O',\n  'O',\n  'O',\n  'O',\n  'O',\n  'I-IDIOM',\n  'I-IDIOM',\n  'O',\n  'O',\n  'O',\n  'O',\n  'O',\n  'O',\n  'O',\n  'O',\n  'O',\n  'O',\n  'O',\n  'O'],\n ['O',\n  'O',\n  'O',\n  'O',\n  'O',\n  'O',\n  'O',\n  'O',\n  'O',\n  'O',\n  'O',\n  'O',\n  'O',\n  'O',\n  'O',\n  'O',\n  'O',\n  'O',\n  'O',\n  'O',\n  'O',\n  'O',\n  'O',\n  'O',\n  'O',\n  'O',\n  'O',\n  'O',\n  'O',\n  'O',\n  'O',\n  'O',\n  'O',\n  'O',\n  'O',\n  'O',\n  'O',\n  'O',\n  'O',\n  'O',\n  'O',\n  'I-IDIOM',\n  'I-IDIOM',\n  'O'],\n ['O',\n  'O',\n  'O',\n  'O',\n  'O',\n  'O',\n  'I-IDIOM',\n  'I-IDIOM',\n  'O',\n  'O',\n  'O',\n  'O',\n  'O',\n  'O',\n  'O',\n  'O',\n  'O',\n  'O',\n  'O',\n  'O',\n  'O',\n  'O',\n  'O'],\n ['O',\n  'O',\n  'O',\n  'O',\n  'O',\n  'O',\n  'O',\n  'O',\n  'O',\n  'O',\n  'O',\n  'O',\n  'O',\n  'O',\n  'O',\n  'O',\n  'O',\n  'O',\n  'O',\n  'O',\n  'O',\n  'O',\n  'O',\n  'O',\n  'O',\n  'O',\n  'O',\n  'O',\n  'O'],\n ['O',\n  'O',\n  'O',\n  'O',\n  'O',\n  'O',\n  'O',\n  'O',\n  'O',\n  'O',\n  'O',\n  'O',\n  'O',\n  'O',\n  'O',\n  'O',\n  'O',\n  'O',\n  'O',\n  'O',\n  'I-IDIOM',\n  'I-IDIOM',\n  'I-IDIOM',\n  'I-IDIOM',\n  'O',\n  'O',\n  'O'],\n ['O',\n  'O',\n  'O',\n  'O',\n  'O',\n  'O',\n  'O',\n  'O',\n  'O',\n  'O',\n  'O',\n  'O',\n  'O',\n  'O',\n  'O',\n  'O',\n  'O',\n  'O',\n  'O',\n  'I-IDIOM',\n  'I-IDIOM',\n  'I-IDIOM',\n  'O',\n  'O'],\n ['O',\n  'O',\n  'O',\n  'O',\n  'O',\n  'O',\n  'O',\n  'O',\n  'O',\n  'O',\n  'O',\n  'O',\n  'O',\n  'O',\n  'O',\n  'O',\n  'O',\n  'I-IDIOM',\n  'I-IDIOM',\n  'O'],\n ['O', 'O', 'O', 'O', 'O', 'O', 'I-IDIOM', 'I-IDIOM', 'O', 'O', 'O', 'O', 'O'],\n ['O',\n  'O',\n  'O',\n  'O',\n  'O',\n  'O',\n  'O',\n  'O',\n  'O',\n  'O',\n  'O',\n  'O',\n  'I-IDIOM',\n  'I-IDIOM',\n  'I-IDIOM',\n  'O',\n  'O',\n  'O',\n  'O',\n  'O',\n  'O',\n  'O',\n  'O',\n  'O',\n  'O',\n  'O',\n  'O',\n  'O',\n  'O',\n  'O'],\n ['O',\n  'O',\n  'O',\n  'O',\n  'O',\n  'O',\n  'O',\n  'O',\n  'O',\n  'O',\n  'O',\n  'O',\n  'O',\n  'O',\n  'O',\n  'O',\n  'O',\n  'I-IDIOM',\n  'I-IDIOM',\n  'O',\n  'O',\n  'O',\n  'O',\n  'O',\n  'O',\n  'O',\n  'O',\n  'O',\n  'O',\n  'O',\n  'O',\n  'O',\n  'O',\n  'O',\n  'O',\n  'O',\n  'O',\n  'O'],\n ['O',\n  'O',\n  'O',\n  'O',\n  'O',\n  'O',\n  'O',\n  'O',\n  'O',\n  'O',\n  'O',\n  'O',\n  'O',\n  'O',\n  'O',\n  'O',\n  'O',\n  'O',\n  'O',\n  'O',\n  'O',\n  'O',\n  'O',\n  'O',\n  'O',\n  'O',\n  'O',\n  'O',\n  'O',\n  'O',\n  'O',\n  'O',\n  'O',\n  'O',\n  'O',\n  'O',\n  'O',\n  'O',\n  'O',\n  'O',\n  'O',\n  'O',\n  'O',\n  'O',\n  'O',\n  'O',\n  'O',\n  'O',\n  'O',\n  'O',\n  'O',\n  'O',\n  'O',\n  'O',\n  'O',\n  'I-IDIOM',\n  'I-IDIOM',\n  'I-IDIOM',\n  'O',\n  'O',\n  'O',\n  'O',\n  'O',\n  'O',\n  'O',\n  'O',\n  'O',\n  'O',\n  'O',\n  'O',\n  'O',\n  'O',\n  'O'],\n ['O',\n  'O',\n  'O',\n  'O',\n  'O',\n  'O',\n  'O',\n  'O',\n  'O',\n  'O',\n  'O',\n  'O',\n  'O',\n  'O',\n  'O',\n  'O',\n  'O',\n  'O',\n  'O',\n  'O',\n  'O',\n  'O',\n  'O',\n  'O',\n  'O',\n  'O',\n  'O',\n  'O',\n  'O',\n  'O',\n  'O',\n  'O',\n  'O',\n  'O',\n  'O',\n  'O',\n  'O',\n  'O',\n  'O',\n  'O',\n  'O',\n  'O',\n  'O',\n  'O',\n  'O',\n  'O',\n  'O',\n  'O',\n  'O',\n  'O',\n  'O',\n  'O',\n  'O',\n  'O',\n  'O',\n  'O',\n  'O',\n  'O',\n  'O',\n  'O',\n  'O',\n  'O',\n  'O',\n  'I-IDIOM',\n  'I-IDIOM',\n  'I-IDIOM',\n  'O',\n  'O',\n  'O',\n  'O',\n  'O',\n  'O',\n  'O'],\n ['O',\n  'O',\n  'I-IDIOM',\n  'I-IDIOM',\n  'O',\n  'O',\n  'O',\n  'O',\n  'O',\n  'O',\n  'O',\n  'O',\n  'O',\n  'O',\n  'O',\n  'O',\n  'O',\n  'O'],\n ['O',\n  'I-IDIOM',\n  'I-IDIOM',\n  'O',\n  'O',\n  'O',\n  'O',\n  'O',\n  'O',\n  'O',\n  'O',\n  'O',\n  'O',\n  'O',\n  'O',\n  'O',\n  'O',\n  'O',\n  'O',\n  'O'],\n ['O',\n  'O',\n  'O',\n  'O',\n  'O',\n  'O',\n  'O',\n  'O',\n  'O',\n  'O',\n  'O',\n  'O',\n  'O',\n  'O',\n  'O',\n  'O',\n  'O',\n  'O',\n  'O',\n  'I-IDIOM',\n  'I-IDIOM',\n  'I-IDIOM',\n  'O',\n  'O',\n  'O',\n  'O',\n  'O',\n  'O',\n  'O',\n  'O',\n  'O',\n  'O',\n  'O',\n  'O',\n  'O',\n  'O'],\n ['O',\n  'O',\n  'O',\n  'O',\n  'O',\n  'O',\n  'O',\n  'O',\n  'O',\n  'O',\n  'O',\n  'O',\n  'O',\n  'O',\n  'O',\n  'O',\n  'O',\n  'O',\n  'O',\n  'O',\n  'O',\n  'O',\n  'O',\n  'O',\n  'O',\n  'O',\n  'O',\n  'O',\n  'O',\n  'O',\n  'I-IDIOM',\n  'I-IDIOM',\n  'I-IDIOM',\n  'O'],\n ['O',\n  'O',\n  'O',\n  'O',\n  'O',\n  'O',\n  'O',\n  'O',\n  'O',\n  'O',\n  'O',\n  'O',\n  'O',\n  'O',\n  'O',\n  'O',\n  'O',\n  'O',\n  'O',\n  'O',\n  'O',\n  'O',\n  'O',\n  'O',\n  'O',\n  'O',\n  'O',\n  'O',\n  'O',\n  'O',\n  'O',\n  'O',\n  'O',\n  'O',\n  'O',\n  'O',\n  'O',\n  'O',\n  'O',\n  'O',\n  'O',\n  'O',\n  'O',\n  'O',\n  'O',\n  'O',\n  'O',\n  'O',\n  'O',\n  'O',\n  'O',\n  'O',\n  'O',\n  'O',\n  'O',\n  'O',\n  'O',\n  'O',\n  'O',\n  'O',\n  'O',\n  'O',\n  'O',\n  'O',\n  'O',\n  'O',\n  'O',\n  'O',\n  'O',\n  'O',\n  'O',\n  'O',\n  'O',\n  'O',\n  'O',\n  'O',\n  'O',\n  'O',\n  'O',\n  'O',\n  'O',\n  'O',\n  'O',\n  'O',\n  'O',\n  'O',\n  'O',\n  'O',\n  'O',\n  'O',\n  'O',\n  'O',\n  'O',\n  'O',\n  'O',\n  'O',\n  'O',\n  'O',\n  'O',\n  'O',\n  'O',\n  'O',\n  'O',\n  'O',\n  'O',\n  'O',\n  'O',\n  'O',\n  'O',\n  'O',\n  'O',\n  'O',\n  'O',\n  'O',\n  'O',\n  'O',\n  'O',\n  'O',\n  'O',\n  'O',\n  'O',\n  'O',\n  'O',\n  'O',\n  'O',\n  'O',\n  'O',\n  'O',\n  'O',\n  'O',\n  'O',\n  'O',\n  'O',\n  'O',\n  'O',\n  'O',\n  'O',\n  'O',\n  'O',\n  'O',\n  'O',\n  'O',\n  'I-IDIOM',\n  'I-IDIOM',\n  'I-IDIOM',\n  'I-IDIOM',\n  'I-IDIOM',\n  'O',\n  'O',\n  'O',\n  'O',\n  'O',\n  'O',\n  'O',\n  'O',\n  'O',\n  'O',\n  'O',\n  'O',\n  'O',\n  'O',\n  'O',\n  'O',\n  'O',\n  'O',\n  'O',\n  'O',\n  'O',\n  'O',\n  'O',\n  'O',\n  'O',\n  'O',\n  'O',\n  'O',\n  'O',\n  'O'],\n ['O',\n  'O',\n  'O',\n  'O',\n  'O',\n  'O',\n  'O',\n  'O',\n  'O',\n  'O',\n  'O',\n  'O',\n  'O',\n  'I-IDIOM',\n  'I-IDIOM',\n  'I-IDIOM',\n  'O'],\n ['O',\n  'O',\n  'O',\n  'O',\n  'O',\n  'O',\n  'O',\n  'O',\n  'O',\n  'O',\n  'O',\n  'O',\n  'O',\n  'O',\n  'O',\n  'O'],\n ['O',\n  'O',\n  'O',\n  'O',\n  'I-IDIOM',\n  'I-IDIOM',\n  'O',\n  'O',\n  'O',\n  'O',\n  'O',\n  'O',\n  'O',\n  'O',\n  'O',\n  'O',\n  'O',\n  'O',\n  'O',\n  'O',\n  'O',\n  'O'],\n ['O',\n  'O',\n  'O',\n  'O',\n  'O',\n  'O',\n  'O',\n  'O',\n  'O',\n  'O',\n  'O',\n  'O',\n  'O',\n  'O',\n  'O',\n  'O',\n  'O',\n  'O',\n  'O',\n  'O',\n  'O',\n  'O',\n  'O',\n  'O',\n  'O',\n  'O',\n  'O',\n  'O',\n  'O',\n  'O',\n  'O',\n  'O',\n  'O',\n  'O',\n  'O',\n  'O',\n  'I-IDIOM',\n  'I-IDIOM',\n  'I-IDIOM',\n  'I-IDIOM',\n  'O',\n  'O',\n  'O',\n  'O',\n  'O',\n  'O',\n  'O',\n  'O'],\n ['O',\n  'O',\n  'O',\n  'O',\n  'O',\n  'O',\n  'O',\n  'O',\n  'I-IDIOM',\n  'I-IDIOM',\n  'I-IDIOM',\n  'O',\n  'O',\n  'O',\n  'O',\n  'O',\n  'O',\n  'O',\n  'O',\n  'O'],\n ['O',\n  'O',\n  'O',\n  'O',\n  'O',\n  'I-IDIOM',\n  'I-IDIOM',\n  'O',\n  'O',\n  'O',\n  'O',\n  'O',\n  'O',\n  'O',\n  'O',\n  'O',\n  'O',\n  'O',\n  'O',\n  'O',\n  'O',\n  'O',\n  'O',\n  'O',\n  'O',\n  'O',\n  'O',\n  'O',\n  'O',\n  'O',\n  'O',\n  'O',\n  'O',\n  'O',\n  'O',\n  'O'],\n ['O',\n  'O',\n  'O',\n  'O',\n  'O',\n  'O',\n  'O',\n  'O',\n  'O',\n  'O',\n  'O',\n  'O',\n  'O',\n  'O',\n  'O',\n  'O',\n  'O',\n  'O',\n  'O',\n  'O',\n  'O',\n  'O',\n  'I-IDIOM',\n  'I-IDIOM',\n  'I-IDIOM',\n  'O'],\n ['O',\n  'O',\n  'O',\n  'O',\n  'O',\n  'O',\n  'O',\n  'O',\n  'O',\n  'O',\n  'O',\n  'O',\n  'O',\n  'I-IDIOM',\n  'I-IDIOM',\n  'I-IDIOM',\n  'O',\n  'O',\n  'O',\n  'O',\n  'O',\n  'O',\n  'O',\n  'O',\n  'O',\n  'O',\n  'O',\n  'O',\n  'O',\n  'O',\n  'O',\n  'O',\n  'O',\n  'O',\n  'O',\n  'O',\n  'O',\n  'O',\n  'O',\n  'O',\n  'O',\n  'O',\n  'O',\n  'O',\n  'O',\n  'O',\n  'O',\n  'O',\n  'O',\n  'O',\n  'O',\n  'O',\n  'O',\n  'O',\n  'O',\n  'O',\n  'O',\n  'O',\n  'O',\n  'O',\n  'O',\n  'O',\n  'O',\n  'O',\n  'O',\n  'O',\n  'O',\n  'O',\n  'O',\n  'O',\n  'O',\n  'O',\n  'O',\n  'O',\n  'O',\n  'O',\n  'O',\n  'O',\n  'O',\n  'O',\n  'O',\n  'O',\n  'O',\n  'O',\n  'O',\n  'O',\n  'O',\n  'O',\n  'O',\n  'O',\n  'O',\n  'O',\n  'O',\n  'O',\n  'O',\n  'O',\n  'O',\n  'O',\n  'O',\n  'O',\n  'O',\n  'O',\n  'O',\n  'O',\n  'O',\n  'O',\n  'O',\n  'O',\n  'O'],\n ['O',\n  'I-IDIOM',\n  'I-IDIOM',\n  'I-IDIOM',\n  'I-IDIOM',\n  'I-IDIOM',\n  'O',\n  'O',\n  'O',\n  'O',\n  'O',\n  'O',\n  'O'],\n ['O',\n  'O',\n  'O',\n  'O',\n  'O',\n  'O',\n  'O',\n  'O',\n  'I-IDIOM',\n  'I-IDIOM',\n  'I-IDIOM',\n  'O',\n  'O',\n  'O',\n  'O',\n  'O',\n  'O',\n  'O',\n  'O',\n  'O',\n  'O',\n  'O'],\n ['O',\n  'O',\n  'O',\n  'O',\n  'O',\n  'O',\n  'O',\n  'O',\n  'O',\n  'O',\n  'O',\n  'O',\n  'O',\n  'O',\n  'O',\n  'O',\n  'O',\n  'O',\n  'O',\n  'O',\n  'O',\n  'O',\n  'O',\n  'O',\n  'O',\n  'O',\n  'O',\n  'O',\n  'O',\n  'O',\n  'I-IDIOM',\n  'I-IDIOM',\n  'O'],\n ['O',\n  'O',\n  'O',\n  'O',\n  'O',\n  'O',\n  'O',\n  'O',\n  'O',\n  'O',\n  'O',\n  'O',\n  'O',\n  'O',\n  'O',\n  'O',\n  'O',\n  'O',\n  'O',\n  'O',\n  'O',\n  'O',\n  'O',\n  'O',\n  'O',\n  'O',\n  'O',\n  'O',\n  'O',\n  'O',\n  'O',\n  'O',\n  'O',\n  'O',\n  'O',\n  'I-IDIOM',\n  'I-IDIOM',\n  'I-IDIOM',\n  'I-IDIOM',\n  'O'],\n ['O',\n  'O',\n  'O',\n  'O',\n  'O',\n  'O',\n  'O',\n  'O',\n  'I-IDIOM',\n  'I-IDIOM',\n  'I-IDIOM',\n  'O',\n  'O',\n  'O',\n  'O',\n  'O',\n  'O',\n  'O',\n  'O',\n  'O'],\n ['O',\n  'O',\n  'O',\n  'O',\n  'O',\n  'O',\n  'O',\n  'O',\n  'O',\n  'O',\n  'O',\n  'O',\n  'O',\n  'O',\n  'O',\n  'O',\n  'O',\n  'O',\n  'O',\n  'O',\n  'O',\n  'O',\n  'O',\n  'O',\n  'O',\n  'O',\n  'O',\n  'O',\n  'O',\n  'O',\n  'O',\n  'O',\n  'O',\n  'O',\n  'O',\n  'O',\n  'O',\n  'O',\n  'O',\n  'O',\n  'I-IDIOM',\n  'I-IDIOM',\n  'I-IDIOM',\n  'O',\n  'O',\n  'O',\n  'O',\n  'O',\n  'O'],\n ['O', 'O', 'O', 'O', 'O', 'O', 'O', 'O', 'O', 'O', 'I-IDIOM', 'I-IDIOM', 'O'],\n ['O',\n  'O',\n  'O',\n  'O',\n  'O',\n  'O',\n  'O',\n  'O',\n  'O',\n  'O',\n  'O',\n  'O',\n  'O',\n  'O',\n  'O',\n  'O',\n  'O',\n  'O',\n  'O',\n  'O',\n  'I-IDIOM',\n  'I-IDIOM',\n  'I-IDIOM',\n  'O',\n  'O'],\n ['O',\n  'O',\n  'O',\n  'O',\n  'I-IDIOM',\n  'I-IDIOM',\n  'I-IDIOM',\n  'O',\n  'O',\n  'O',\n  'O',\n  'O',\n  'O',\n  'O',\n  'O',\n  'O',\n  'O',\n  'O',\n  'O',\n  'O',\n  'O',\n  'O',\n  'O',\n  'O'],\n ['O',\n  'O',\n  'O',\n  'O',\n  'O',\n  'O',\n  'O',\n  'O',\n  'O',\n  'O',\n  'O',\n  'O',\n  'O',\n  'O',\n  'O',\n  'O',\n  'O',\n  'I-IDIOM',\n  'I-IDIOM',\n  'I-IDIOM',\n  'O',\n  'O',\n  'O',\n  'O',\n  'O',\n  'O',\n  'O',\n  'O',\n  'O',\n  'O',\n  'O'],\n ['O',\n  'O',\n  'O',\n  'O',\n  'O',\n  'O',\n  'O',\n  'O',\n  'O',\n  'O',\n  'O',\n  'O',\n  'O',\n  'O',\n  'O',\n  'O',\n  'O',\n  'O',\n  'O',\n  'O',\n  'O',\n  'O',\n  'O',\n  'O',\n  'O',\n  'I-IDIOM',\n  'I-IDIOM',\n  'I-IDIOM',\n  'O'],\n ['O',\n  'O',\n  'O',\n  'O',\n  'O',\n  'O',\n  'O',\n  'O',\n  'O',\n  'O',\n  'O',\n  'O',\n  'O',\n  'O',\n  'O',\n  'O',\n  'O',\n  'O',\n  'O',\n  'O',\n  'O',\n  'O',\n  'O',\n  'O',\n  'O',\n  'O',\n  'O',\n  'O',\n  'O',\n  'O',\n  'I-IDIOM',\n  'I-IDIOM',\n  'O'],\n ['O',\n  'O',\n  'O',\n  'O',\n  'O',\n  'O',\n  'O',\n  'O',\n  'O',\n  'O',\n  'O',\n  'O',\n  'O',\n  'O',\n  'O',\n  'O',\n  'O',\n  'I-IDIOM',\n  'I-IDIOM',\n  'O',\n  'O'],\n ['O',\n  'O',\n  'O',\n  'O',\n  'O',\n  'O',\n  'O',\n  'O',\n  'O',\n  'I-IDIOM',\n  'I-IDIOM',\n  'O',\n  'O',\n  'O',\n  'O',\n  'O',\n  'O',\n  'O',\n  'O'],\n ['O',\n  'O',\n  'O',\n  'O',\n  'O',\n  'O',\n  'O',\n  'O',\n  'O',\n  'O',\n  'O',\n  'I-IDIOM',\n  'I-IDIOM',\n  'O',\n  'O',\n  'O',\n  'O',\n  'O',\n  'O',\n  'O'],\n ['O',\n  'O',\n  'O',\n  'O',\n  'O',\n  'O',\n  'O',\n  'I-IDIOM',\n  'I-IDIOM',\n  'I-IDIOM',\n  'O',\n  'O',\n  'O',\n  'O'],\n ['O', 'O', 'O', 'I-IDIOM', 'I-IDIOM', 'I-IDIOM', 'O'],\n ['O',\n  'O',\n  'O',\n  'O',\n  'O',\n  'O',\n  'O',\n  'O',\n  'O',\n  'O',\n  'O',\n  'O',\n  'O',\n  'O',\n  'O',\n  'O',\n  'O',\n  'O',\n  'O',\n  'O',\n  'O',\n  'O',\n  'I-IDIOM',\n  'I-IDIOM',\n  'I-IDIOM',\n  'O',\n  'O',\n  'O',\n  'O',\n  'O',\n  'O',\n  'O',\n  'O',\n  'O',\n  'O',\n  'O',\n  'O',\n  'O',\n  'O',\n  'O',\n  'O',\n  'O',\n  'O',\n  'O',\n  'O',\n  'O',\n  'O',\n  'O',\n  'O',\n  'O',\n  'O',\n  'O',\n  'O',\n  'O',\n  'O',\n  'O',\n  'O'],\n ['O',\n  'O',\n  'O',\n  'O',\n  'O',\n  'O',\n  'O',\n  'O',\n  'O',\n  'O',\n  'O',\n  'O',\n  'O',\n  'O',\n  'O',\n  'O',\n  'O',\n  'O',\n  'O',\n  'O',\n  'O',\n  'O',\n  'O',\n  'O',\n  'O',\n  'O',\n  'O',\n  'O',\n  'O',\n  'O',\n  'O',\n  'I-IDIOM',\n  'I-IDIOM',\n  'I-IDIOM',\n  'O'],\n ['O',\n  'O',\n  'O',\n  'O',\n  'O',\n  'O',\n  'O',\n  'O',\n  'O',\n  'O',\n  'O',\n  'O',\n  'O',\n  'O',\n  'O',\n  'O',\n  'O',\n  'O',\n  'I-IDIOM',\n  'I-IDIOM',\n  'I-IDIOM',\n  'O'],\n ['O',\n  'O',\n  'O',\n  'O',\n  'O',\n  'O',\n  'O',\n  'I-IDIOM',\n  'I-IDIOM',\n  'I-IDIOM',\n  'O',\n  'O',\n  'O',\n  'O',\n  'O',\n  'O',\n  'O',\n  'O',\n  'O',\n  'O',\n  'O',\n  'O',\n  'O',\n  'O',\n  'O',\n  'O',\n  'O',\n  'O',\n  'O',\n  'O',\n  'O',\n  'O',\n  'O'],\n ['I-IDIOM', 'I-IDIOM', 'I-IDIOM', 'I-IDIOM'],\n ['O',\n  'O',\n  'O',\n  'O',\n  'O',\n  'O',\n  'O',\n  'O',\n  'O',\n  'O',\n  'O',\n  'I-IDIOM',\n  'I-IDIOM',\n  'I-IDIOM',\n  'O',\n  'O',\n  'O',\n  'O',\n  'O',\n  'O',\n  'O',\n  'O',\n  'O'],\n ['O',\n  'O',\n  'O',\n  'O',\n  'O',\n  'O',\n  'O',\n  'O',\n  'O',\n  'O',\n  'O',\n  'O',\n  'O',\n  'O',\n  'I-IDIOM',\n  'I-IDIOM',\n  'I-IDIOM',\n  'O',\n  'O',\n  'O',\n  'O',\n  'O',\n  'O',\n  'O',\n  'O',\n  'O',\n  'O',\n  'O',\n  'O'],\n ['O',\n  'O',\n  'O',\n  'O',\n  'O',\n  'O',\n  'O',\n  'O',\n  'O',\n  'O',\n  'O',\n  'O',\n  'O',\n  'O',\n  'O',\n  'O',\n  'O',\n  'O',\n  'O',\n  'O',\n  'O',\n  'O',\n  'O',\n  'O',\n  'O',\n  'O',\n  'O',\n  'O',\n  'O',\n  'O',\n  'O',\n  'O',\n  'O',\n  'O',\n  'O',\n  'O',\n  'O',\n  'O',\n  'O',\n  'O',\n  'O',\n  'O',\n  'O',\n  'O',\n  'O',\n  'O',\n  'O',\n  'O',\n  'O',\n  'O',\n  'O',\n  'O',\n  'O',\n  'I-IDIOM',\n  'I-IDIOM',\n  'I-IDIOM',\n  'O',\n  'O',\n  'O',\n  'O',\n  'O',\n  'O',\n  'O',\n  'O',\n  'O',\n  'O',\n  'O',\n  'O',\n  'O',\n  'O',\n  'O',\n  'O'],\n ['O',\n  'O',\n  'O',\n  'O',\n  'O',\n  'O',\n  'O',\n  'O',\n  'O',\n  'O',\n  'I-IDIOM',\n  'I-IDIOM',\n  'I-IDIOM',\n  'I-IDIOM',\n  'O',\n  'O',\n  'O',\n  'O',\n  'O',\n  'O',\n  'O',\n  'O',\n  'O',\n  'O',\n  'O',\n  'O',\n  'O'],\n ['O',\n  'O',\n  'O',\n  'O',\n  'O',\n  'O',\n  'O',\n  'O',\n  'O',\n  'I-IDIOM',\n  'I-IDIOM',\n  'I-IDIOM',\n  'I-IDIOM',\n  'I-IDIOM',\n  'O',\n  'O',\n  'O',\n  'O',\n  'O',\n  'O',\n  'O',\n  'O',\n  'O',\n  'O',\n  'O',\n  'O',\n  'O',\n  'O',\n  'O',\n  'O',\n  'O',\n  'O',\n  'O',\n  'O',\n  'O',\n  'O',\n  'O',\n  'O',\n  'O',\n  'O',\n  'O'],\n ['O',\n  'O',\n  'O',\n  'O',\n  'O',\n  'O',\n  'O',\n  'O',\n  'O',\n  'O',\n  'O',\n  'O',\n  'O',\n  'O',\n  'O',\n  'O',\n  'O',\n  'O',\n  'O',\n  'O',\n  'O',\n  'O',\n  'O',\n  'O',\n  'O',\n  'O',\n  'O',\n  'O',\n  'O',\n  'O',\n  'O',\n  'O',\n  'O',\n  'I-IDIOM',\n  'I-IDIOM',\n  'O',\n  'O'],\n ['O',\n  'O',\n  'O',\n  'O',\n  'O',\n  'O',\n  'O',\n  'O',\n  'O',\n  'O',\n  'I-IDIOM',\n  'I-IDIOM',\n  'I-IDIOM',\n  'I-IDIOM',\n  'O'],\n ['O', 'I-IDIOM', 'I-IDIOM', 'O', 'O', 'O', 'O', 'O', 'O', 'O'],\n ['O',\n  'O',\n  'O',\n  'O',\n  'O',\n  'O',\n  'O',\n  'O',\n  'O',\n  'I-IDIOM',\n  'I-IDIOM',\n  'I-IDIOM',\n  'O',\n  'O',\n  'O',\n  'O',\n  'O',\n  'O',\n  'O',\n  'O',\n  'O',\n  'O',\n  'O',\n  'O',\n  'O',\n  'O',\n  'O',\n  'O'],\n ['O',\n  'O',\n  'O',\n  'O',\n  'I-IDIOM',\n  'I-IDIOM',\n  'O',\n  'O',\n  'O',\n  'O',\n  'O',\n  'O',\n  'O',\n  'O',\n  'O',\n  'O',\n  'O',\n  'O',\n  'O',\n  'O',\n  'O',\n  'O'],\n ['O',\n  'O',\n  'O',\n  'O',\n  'O',\n  'O',\n  'O',\n  'O',\n  'O',\n  'O',\n  'O',\n  'O',\n  'O',\n  'O',\n  'O',\n  'O',\n  'I-IDIOM',\n  'I-IDIOM',\n  'I-IDIOM',\n  'O',\n  'O',\n  'O',\n  'O',\n  'O',\n  'O',\n  'O',\n  'O',\n  'O',\n  'O',\n  'O',\n  'O',\n  'O',\n  'O',\n  'O',\n  'O',\n  'O',\n  'O',\n  'O',\n  'O',\n  'O',\n  'O',\n  'O',\n  'O',\n  'O',\n  'O'],\n ['O',\n  'O',\n  'O',\n  'O',\n  'O',\n  'O',\n  'O',\n  'O',\n  'O',\n  'O',\n  'O',\n  'O',\n  'O',\n  'O',\n  'O',\n  'O',\n  'I-IDIOM',\n  'I-IDIOM',\n  'I-IDIOM',\n  'O',\n  'O',\n  'O',\n  'O',\n  'O',\n  'O',\n  'O',\n  'O',\n  'O'],\n ['O',\n  'O',\n  'O',\n  'O',\n  'O',\n  'O',\n  'O',\n  'O',\n  'O',\n  'O',\n  'O',\n  'O',\n  'O',\n  'O',\n  'O',\n  'O',\n  'O',\n  'O',\n  'O',\n  'O',\n  'O',\n  'O',\n  'O',\n  'O',\n  'O',\n  'O',\n  'O',\n  'O',\n  'I-IDIOM',\n  'I-IDIOM',\n  'O'],\n ['O',\n  'O',\n  'I-IDIOM',\n  'I-IDIOM',\n  'I-IDIOM',\n  'I-IDIOM',\n  'O',\n  'O',\n  'O',\n  'O',\n  'O',\n  'O',\n  'O',\n  'O',\n  'O',\n  'O',\n  'O',\n  'O',\n  'O',\n  'O',\n  'O',\n  'O',\n  'O',\n  'O'],\n ['O', 'O', 'O', 'O', 'I-IDIOM', 'I-IDIOM', 'I-IDIOM'],\n ['O',\n  'O',\n  'O',\n  'O',\n  'O',\n  'O',\n  'O',\n  'O',\n  'O',\n  'O',\n  'O',\n  'O',\n  'I-IDIOM',\n  'I-IDIOM',\n  'O'],\n ['O', 'O', 'O', 'O', 'I-IDIOM', 'I-IDIOM', 'I-IDIOM', 'O'],\n ['I-IDIOM',\n  'I-IDIOM',\n  'O',\n  'O',\n  'O',\n  'O',\n  'O',\n  'O',\n  'O',\n  'O',\n  'O',\n  'O',\n  'O',\n  'O',\n  'O',\n  'O',\n  'O',\n  'O',\n  'O',\n  'O',\n  'O'],\n ['O',\n  'O',\n  'O',\n  'O',\n  'O',\n  'O',\n  'O',\n  'O',\n  'O',\n  'O',\n  'O',\n  'O',\n  'O',\n  'O',\n  'O',\n  'O',\n  'I-IDIOM',\n  'I-IDIOM',\n  'O',\n  'O',\n  'O',\n  'O',\n  'O',\n  'O',\n  'O',\n  'O',\n  'O',\n  'O',\n  'O',\n  'O',\n  'O',\n  'O',\n  'O',\n  'O'],\n ['O',\n  'O',\n  'O',\n  'O',\n  'O',\n  'O',\n  'O',\n  'O',\n  'O',\n  'O',\n  'O',\n  'O',\n  'O',\n  'O',\n  'O',\n  'O',\n  'O',\n  'O',\n  'O',\n  'O',\n  'O',\n  'O',\n  'O',\n  'O',\n  'O',\n  'O',\n  'O',\n  'O',\n  'O',\n  'O',\n  'O',\n  'O',\n  'O',\n  'O',\n  'O',\n  'O',\n  'O',\n  'O',\n  'O',\n  'O',\n  'O',\n  'I-IDIOM',\n  'I-IDIOM',\n  'I-IDIOM',\n  'O',\n  'O',\n  'O',\n  'O',\n  'O',\n  'O',\n  'O',\n  'O',\n  'O',\n  'O',\n  'O',\n  'O',\n  'O',\n  'O',\n  'O',\n  'O',\n  'O',\n  'O',\n  'O',\n  'O',\n  'O',\n  'O',\n  'O',\n  'O',\n  'O',\n  'O',\n  'O',\n  'O',\n  'O',\n  'O',\n  'O',\n  'O',\n  'O',\n  'O',\n  'O',\n  'O',\n  'O',\n  'O',\n  'O',\n  'O',\n  'O',\n  'O',\n  'O',\n  'O',\n  'O',\n  'O',\n  'O',\n  'O',\n  'O',\n  'O',\n  'O',\n  'O',\n  'O',\n  'O',\n  'O',\n  'O',\n  'O',\n  'O',\n  'O',\n  'O',\n  'O',\n  'O',\n  'O',\n  'O',\n  'O',\n  'O',\n  'O',\n  'O',\n  'O',\n  'O',\n  'O',\n  'O',\n  'O',\n  'O',\n  'O',\n  'O',\n  'O',\n  'O',\n  'O',\n  'O',\n  'O',\n  'O',\n  'O',\n  'O',\n  'O',\n  'O',\n  'O',\n  'O',\n  'O',\n  'O',\n  'O',\n  'O',\n  'O',\n  'O',\n  'O',\n  'O',\n  'O',\n  'O',\n  'O',\n  'O',\n  'O'],\n ['O', 'O', 'O', 'O', 'O', 'O', 'O', 'O', 'I-IDIOM', 'I-IDIOM', 'O'],\n ['O', 'O', 'I-IDIOM', 'I-IDIOM', 'I-IDIOM', 'O', 'O', 'O', 'O', 'O'],\n ['O',\n  'O',\n  'O',\n  'O',\n  'O',\n  'O',\n  'I-IDIOM',\n  'I-IDIOM',\n  'I-IDIOM',\n  'O',\n  'O',\n  'O',\n  'O',\n  'O',\n  'O'],\n ['O',\n  'O',\n  'O',\n  'O',\n  'O',\n  'O',\n  'O',\n  'O',\n  'O',\n  'O',\n  'O',\n  'O',\n  'O',\n  'O',\n  'O',\n  'O',\n  'O',\n  'I-IDIOM',\n  'I-IDIOM',\n  'O'],\n ['O', 'O', 'O', 'I-IDIOM', 'I-IDIOM', 'I-IDIOM', 'O'],\n ['O',\n  'O',\n  'O',\n  'O',\n  'O',\n  'O',\n  'O',\n  'O',\n  'O',\n  'O',\n  'O',\n  'O',\n  'I-IDIOM',\n  'I-IDIOM',\n  'I-IDIOM',\n  'I-IDIOM',\n  'O',\n  'O',\n  'O',\n  'O',\n  'O',\n  'O',\n  'O',\n  'O',\n  'O'],\n ['O',\n  'O',\n  'O',\n  'O',\n  'O',\n  'O',\n  'O',\n  'I-IDIOM',\n  'I-IDIOM',\n  'I-IDIOM',\n  'O',\n  'O',\n  'O',\n  'O',\n  'O',\n  'O',\n  'O',\n  'O',\n  'O',\n  'O',\n  'O'],\n ['O',\n  'O',\n  'O',\n  'O',\n  'O',\n  'O',\n  'O',\n  'O',\n  'O',\n  'O',\n  'I-IDIOM',\n  'I-IDIOM',\n  'O',\n  'O',\n  'O',\n  'O',\n  'O',\n  'O'],\n ['O',\n  'O',\n  'O',\n  'O',\n  'O',\n  'O',\n  'O',\n  'O',\n  'O',\n  'O',\n  'O',\n  'O',\n  'O',\n  'O',\n  'O',\n  'O',\n  'O',\n  'I-IDIOM',\n  'I-IDIOM',\n  'I-IDIOM',\n  'I-IDIOM',\n  'O',\n  'O',\n  'O',\n  'O',\n  'O',\n  'O',\n  'O'],\n ['O',\n  'O',\n  'O',\n  'O',\n  'O',\n  'O',\n  'O',\n  'O',\n  'O',\n  'O',\n  'O',\n  'O',\n  'O',\n  'O',\n  'O',\n  'O',\n  'O',\n  'O',\n  'O',\n  'O',\n  'O',\n  'O',\n  'O',\n  'O',\n  'O',\n  'O',\n  'O',\n  'O',\n  'O',\n  'I-IDIOM',\n  'I-IDIOM',\n  'I-IDIOM',\n  'I-IDIOM',\n  'O',\n  'O',\n  'O',\n  'O',\n  'O',\n  'O',\n  'O',\n  'O',\n  'O',\n  'O',\n  'O',\n  'O',\n  'O',\n  'O',\n  'O',\n  'O',\n  'O',\n  'O',\n  'O',\n  'O',\n  'O',\n  'O',\n  'O',\n  'O',\n  'O',\n  'O',\n  'O',\n  'O',\n  'O',\n  'O',\n  'O',\n  'O',\n  'O',\n  'O',\n  'O',\n  'O'],\n ['O',\n  'O',\n  'O',\n  'O',\n  'O',\n  'O',\n  'O',\n  'O',\n  'O',\n  'I-IDIOM',\n  'I-IDIOM',\n  'O',\n  'O',\n  'O',\n  'O',\n  'O',\n  'O',\n  'O',\n  'O',\n  'O',\n  'O',\n  'O',\n  'O',\n  'O',\n  'O',\n  'O',\n  'O',\n  'O'],\n ['O',\n  'O',\n  'O',\n  'O',\n  'O',\n  'O',\n  'O',\n  'O',\n  'O',\n  'O',\n  'O',\n  'O',\n  'O',\n  'O',\n  'O',\n  'O',\n  'O',\n  'O',\n  'O',\n  'O',\n  'O',\n  'O',\n  'O',\n  'O',\n  'O',\n  'O',\n  'O',\n  'I-IDIOM',\n  'I-IDIOM',\n  'I-IDIOM',\n  'O',\n  'O',\n  'O',\n  'O',\n  'O',\n  'O',\n  'O',\n  'O',\n  'O',\n  'O',\n  'O',\n  'O',\n  'O',\n  'O',\n  'O'],\n ['O',\n  'O',\n  'O',\n  'O',\n  'O',\n  'O',\n  'O',\n  'I-IDIOM',\n  'I-IDIOM',\n  'O',\n  'O',\n  'O',\n  'O',\n  'O',\n  'O',\n  'O',\n  'O',\n  'O',\n  'O',\n  'O',\n  'O',\n  'O',\n  'O',\n  'O',\n  'O',\n  'O',\n  'O',\n  'O'],\n ['O',\n  'O',\n  'O',\n  'O',\n  'O',\n  'O',\n  'O',\n  'O',\n  'O',\n  'O',\n  'I-IDIOM',\n  'I-IDIOM',\n  'I-IDIOM',\n  'O',\n  'O',\n  'O',\n  'O',\n  'O',\n  'O',\n  'O',\n  'O',\n  'O',\n  'O',\n  'O',\n  'O',\n  'O',\n  'O',\n  'O',\n  'O',\n  'O',\n  'O',\n  'O',\n  'O',\n  'O',\n  'O'],\n ['O',\n  'O',\n  'I-IDIOM',\n  'I-IDIOM',\n  'O',\n  'O',\n  'O',\n  'O',\n  'O',\n  'O',\n  'O',\n  'O',\n  'O',\n  'O',\n  'O',\n  'O',\n  'O',\n  'O',\n  'O',\n  'O',\n  'O',\n  'O',\n  'O',\n  'O',\n  'O',\n  'O',\n  'O',\n  'O',\n  'O',\n  'O',\n  'O',\n  'O',\n  'O'],\n ['O',\n  'O',\n  'O',\n  'O',\n  'O',\n  'O',\n  'O',\n  'O',\n  'O',\n  'O',\n  'O',\n  'O',\n  'O',\n  'O',\n  'O',\n  'O',\n  'O',\n  'O',\n  'O',\n  'O',\n  'O',\n  'O',\n  'O',\n  'O',\n  'O',\n  'O',\n  'O',\n  'O',\n  'O',\n  'O',\n  'O',\n  'O',\n  'O',\n  'O',\n  'O',\n  'O',\n  'O',\n  'O',\n  'O',\n  'I-IDIOM',\n  'I-IDIOM',\n  'I-IDIOM',\n  'O',\n  'O',\n  'O',\n  'O',\n  'O',\n  'O',\n  'O',\n  'O',\n  'O'],\n ['O',\n  'O',\n  'O',\n  'O',\n  'O',\n  'O',\n  'O',\n  'O',\n  'O',\n  'O',\n  'O',\n  'O',\n  'O',\n  'O',\n  'O',\n  'O',\n  'O',\n  'O',\n  'O',\n  'O',\n  'O',\n  'O',\n  'O',\n  'O',\n  'O',\n  'O',\n  'O',\n  'O',\n  'O',\n  'O',\n  'O',\n  'O',\n  'O',\n  'O',\n  'O',\n  'O',\n  'O',\n  'O',\n  'O',\n  'O',\n  'O',\n  'O',\n  'O',\n  'O',\n  'O',\n  'O',\n  'O',\n  'O',\n  'O',\n  'O',\n  'O',\n  'O',\n  'O',\n  'O',\n  'O',\n  'O',\n  'O',\n  'O',\n  'O',\n  'O',\n  'O',\n  'O',\n  'O',\n  'O',\n  'O',\n  'O',\n  'O',\n  'O',\n  'O',\n  'O',\n  'O',\n  'O',\n  'O',\n  'O',\n  'O',\n  'O',\n  'O',\n  'O',\n  'O',\n  'O',\n  'O',\n  'O',\n  'O',\n  'O',\n  'O',\n  'O',\n  'O',\n  'O',\n  'O',\n  'O',\n  'O',\n  'O',\n  'O',\n  'O',\n  'O',\n  'O',\n  'O',\n  'O',\n  'O',\n  'O',\n  'I-IDIOM',\n  'I-IDIOM',\n  'I-IDIOM',\n  'I-IDIOM',\n  'I-IDIOM',\n  'I-IDIOM',\n  'O',\n  'O'],\n ['O',\n  'O',\n  'O',\n  'O',\n  'O',\n  'O',\n  'O',\n  'O',\n  'O',\n  'O',\n  'O',\n  'O',\n  'O',\n  'O',\n  'O',\n  'O',\n  'O',\n  'O',\n  'O',\n  'O',\n  'O',\n  'O',\n  'O',\n  'O',\n  'O',\n  'O',\n  'O',\n  'O',\n  'O',\n  'O',\n  'O',\n  'O',\n  'O',\n  'O',\n  'O',\n  'O',\n  'O',\n  'O',\n  'I-IDIOM',\n  'I-IDIOM',\n  'I-IDIOM',\n  'O',\n  'O'],\n ['O',\n  'O',\n  'O',\n  'O',\n  'O',\n  'I-IDIOM',\n  'I-IDIOM',\n  'I-IDIOM',\n  'I-IDIOM',\n  'I-IDIOM',\n  'O',\n  'O',\n  'O',\n  'O',\n  'O',\n  'O',\n  'O',\n  'O',\n  'O',\n  'O',\n  'O',\n  'O',\n  'O',\n  'O',\n  'O',\n  'O',\n  'O',\n  'O',\n  'O'],\n ['O',\n  'O',\n  'O',\n  'I-IDIOM',\n  'I-IDIOM',\n  'I-IDIOM',\n  'O',\n  'O',\n  'O',\n  'O',\n  'O',\n  'O'],\n ['O',\n  'O',\n  'O',\n  'O',\n  'O',\n  'O',\n  'O',\n  'O',\n  'O',\n  'O',\n  'O',\n  'O',\n  'O',\n  'O',\n  'O',\n  'O',\n  'O',\n  'O',\n  'O',\n  'O',\n  'O',\n  'O',\n  'O',\n  'O',\n  'O',\n  'O',\n  'I-IDIOM',\n  'I-IDIOM',\n  'I-IDIOM',\n  'O'],\n ['O',\n  'O',\n  'O',\n  'O',\n  'O',\n  'O',\n  'O',\n  'O',\n  'O',\n  'O',\n  'O',\n  'O',\n  'O',\n  'O',\n  'O',\n  'O',\n  'O',\n  'O',\n  'O',\n  'O',\n  'O',\n  'O',\n  'O',\n  'O',\n  'O',\n  'O',\n  'O',\n  'O',\n  'O',\n  'O',\n  'O',\n  'O',\n  'O',\n  'O',\n  'I-IDIOM',\n  'I-IDIOM',\n  'I-IDIOM',\n  'O',\n  'O',\n  'O',\n  'O',\n  'O',\n  'O',\n  'O',\n  'O',\n  'O',\n  'O',\n  'O',\n  'O',\n  'O',\n  'O',\n  'O',\n  'O',\n  'O',\n  'O',\n  'O',\n  'O'],\n ['O',\n  'O',\n  'O',\n  'O',\n  'O',\n  'O',\n  'O',\n  'I-IDIOM',\n  'I-IDIOM',\n  'I-IDIOM',\n  'O',\n  'O'],\n ['O',\n  'O',\n  'O',\n  'O',\n  'O',\n  'O',\n  'O',\n  'O',\n  'O',\n  'O',\n  'O',\n  'O',\n  'O',\n  'O',\n  'O',\n  'O',\n  'O',\n  'O',\n  'O',\n  'O',\n  'O',\n  'O',\n  'O',\n  'O',\n  'O',\n  'O',\n  'O',\n  'O',\n  'O',\n  'O',\n  'I-IDIOM',\n  'I-IDIOM',\n  'I-IDIOM',\n  'O',\n  'O',\n  'O',\n  'O',\n  'O',\n  'O',\n  'O',\n  'O',\n  'O',\n  'O',\n  'O',\n  'O',\n  'O',\n  'O',\n  'O',\n  'O',\n  'O',\n  'O',\n  'O'],\n ['O',\n  'O',\n  'O',\n  'O',\n  'O',\n  'O',\n  'I-IDIOM',\n  'I-IDIOM',\n  'O',\n  'O',\n  'O',\n  'O',\n  'O',\n  'O',\n  'O',\n  'O',\n  'O',\n  'O',\n  'O',\n  'O',\n  'O',\n  'O',\n  'O',\n  'O',\n  'O',\n  'O',\n  'O',\n  'O',\n  'O',\n  'O',\n  'O',\n  'O',\n  'O',\n  'O',\n  'O',\n  'O',\n  'O',\n  'O',\n  'O',\n  'O',\n  'O',\n  'O',\n  'O',\n  'O',\n  'O',\n  'O',\n  'O',\n  'O',\n  'O',\n  'O',\n  'O',\n  'O',\n  'O',\n  'O',\n  'O'],\n ['O',\n  'O',\n  'O',\n  'O',\n  'O',\n  'O',\n  'O',\n  'O',\n  'O',\n  'O',\n  'O',\n  'O',\n  'O',\n  'O',\n  'O',\n  'O',\n  'O',\n  'O',\n  'O',\n  'O',\n  'O',\n  'O',\n  'O',\n  'O',\n  'O',\n  'O',\n  'O',\n  'O',\n  'O',\n  'O',\n  'O',\n  'O',\n  'O',\n  'O',\n  'O',\n  'O',\n  'O',\n  'O',\n  'O',\n  'O',\n  'O',\n  'O',\n  'O',\n  'O',\n  'O',\n  'O',\n  'O',\n  'O',\n  'O',\n  'O',\n  'O',\n  'O',\n  'O',\n  'O',\n  'I-IDIOM',\n  'I-IDIOM',\n  'I-IDIOM',\n  'O',\n  'O',\n  'O',\n  'O',\n  'O',\n  'O',\n  'O',\n  'O',\n  'O',\n  'O',\n  'O',\n  'O',\n  'O',\n  'O',\n  'O',\n  'O',\n  'O',\n  'O',\n  'O',\n  'O',\n  'O',\n  'O',\n  'O',\n  'O',\n  'O',\n  'O',\n  'O',\n  'O',\n  'O',\n  'O',\n  'O',\n  'O',\n  'O',\n  'O',\n  'O',\n  'O',\n  'O',\n  'O',\n  'O',\n  'O',\n  'O',\n  'O',\n  'O',\n  'O',\n  'O',\n  'O',\n  'O',\n  'O',\n  'O',\n  'O',\n  'O',\n  'O',\n  'O',\n  'O',\n  'O',\n  'O',\n  'O',\n  'O',\n  'O',\n  'O',\n  'O',\n  'O',\n  'O',\n  'O',\n  'O',\n  'O',\n  'O',\n  'O',\n  'O',\n  'O',\n  'O',\n  'O',\n  'O',\n  'O',\n  'O',\n  'O'],\n ['O',\n  'O',\n  'O',\n  'O',\n  'O',\n  'I-IDIOM',\n  'I-IDIOM',\n  'I-IDIOM',\n  'O',\n  'O',\n  'O',\n  'O',\n  'O',\n  'O',\n  'O',\n  'O',\n  'O',\n  'O',\n  'O',\n  'O',\n  'O',\n  'O'],\n ['O',\n  'O',\n  'O',\n  'O',\n  'O',\n  'O',\n  'O',\n  'O',\n  'O',\n  'O',\n  'O',\n  'O',\n  'O',\n  'O',\n  'O',\n  'O',\n  'O',\n  'O',\n  'O',\n  'O',\n  'I-IDIOM',\n  'I-IDIOM',\n  'O',\n  'O',\n  'O',\n  'O',\n  'O',\n  'O',\n  'O'],\n ['O',\n  'O',\n  'O',\n  'O',\n  'O',\n  'O',\n  'O',\n  'O',\n  'O',\n  'O',\n  'O',\n  'O',\n  'O',\n  'O',\n  'O',\n  'O',\n  'O',\n  'O',\n  'O',\n  'O',\n  'O',\n  'O',\n  'O',\n  'O',\n  'O',\n  'O',\n  'I-IDIOM',\n  'I-IDIOM',\n  'O',\n  'O',\n  'O',\n  'O',\n  'O',\n  'O',\n  'O',\n  'O',\n  'O',\n  'O',\n  'O',\n  'O',\n  'O',\n  'O'],\n ['O',\n  'O',\n  'O',\n  'O',\n  'O',\n  'O',\n  'O',\n  'O',\n  'O',\n  'O',\n  'O',\n  'I-IDIOM',\n  'I-IDIOM',\n  'I-IDIOM',\n  'I-IDIOM',\n  'O',\n  'O'],\n ['O',\n  'O',\n  'O',\n  'O',\n  'O',\n  'O',\n  'O',\n  'O',\n  'O',\n  'O',\n  'I-IDIOM',\n  'I-IDIOM',\n  'I-IDIOM',\n  'O',\n  'O',\n  'O'],\n ['O',\n  'O',\n  'O',\n  'O',\n  'O',\n  'O',\n  'O',\n  'O',\n  'O',\n  'O',\n  'O',\n  'I-IDIOM',\n  'I-IDIOM',\n  'I-IDIOM',\n  'O'],\n ['O',\n  'O',\n  'O',\n  'O',\n  'O',\n  'O',\n  'O',\n  'O',\n  'O',\n  'I-IDIOM',\n  'I-IDIOM',\n  'I-IDIOM',\n  'I-IDIOM',\n  'I-IDIOM',\n  'O',\n  'O',\n  'O',\n  'O'],\n ['O',\n  'O',\n  'O',\n  'O',\n  'O',\n  'O',\n  'O',\n  'O',\n  'O',\n  'O',\n  'O',\n  'O',\n  'O',\n  'O',\n  'O',\n  'O',\n  'O',\n  'O',\n  'O',\n  'O',\n  'O',\n  'O',\n  'O',\n  'I-IDIOM',\n  'I-IDIOM',\n  'I-IDIOM',\n  'O',\n  'O',\n  'O',\n  'O',\n  'O',\n  'O',\n  'O',\n  'O',\n  'O',\n  'O'],\n ['O',\n  'O',\n  'O',\n  'O',\n  'O',\n  'O',\n  'O',\n  'O',\n  'O',\n  'O',\n  'O',\n  'O',\n  'O',\n  'O',\n  'O',\n  'O',\n  'O',\n  'O',\n  'O',\n  'O',\n  'O',\n  'O',\n  'O',\n  'O',\n  'O',\n  'O',\n  'O',\n  'O',\n  'O',\n  'O',\n  'O',\n  'O',\n  'O',\n  'O',\n  'O',\n  'I-IDIOM',\n  'I-IDIOM',\n  'I-IDIOM',\n  'O',\n  'O',\n  'O',\n  'O',\n  'O'],\n ['O',\n  'O',\n  'O',\n  'O',\n  'I-IDIOM',\n  'I-IDIOM',\n  'I-IDIOM',\n  'O',\n  'O',\n  'O',\n  'O',\n  'O',\n  'O',\n  'O',\n  'O',\n  'O',\n  'O',\n  'O',\n  'O',\n  'O',\n  'O',\n  'O',\n  'O',\n  'O',\n  'O',\n  'O',\n  'O',\n  'O',\n  'O',\n  'O',\n  'O',\n  'O',\n  'O',\n  'O',\n  'O',\n  'O',\n  'O',\n  'O',\n  'O',\n  'O',\n  'O',\n  'O',\n  'O',\n  'O',\n  'O',\n  'O',\n  'O',\n  'O',\n  'O',\n  'O',\n  'O',\n  'O',\n  'O',\n  'O',\n  'O',\n  'O',\n  'O',\n  'O'],\n ['O',\n  'O',\n  'O',\n  'O',\n  'O',\n  'O',\n  'I-IDIOM',\n  'I-IDIOM',\n  'I-IDIOM',\n  'O',\n  'O',\n  'O',\n  'O',\n  'O',\n  'O',\n  'O',\n  'O',\n  'O',\n  'O',\n  'O',\n  'O',\n  'O',\n  'O',\n  'O',\n  'O',\n  'O'],\n ['O',\n  'O',\n  'O',\n  'O',\n  'O',\n  'O',\n  'O',\n  'I-IDIOM',\n  'I-IDIOM',\n  'O',\n  'O',\n  'O',\n  'O',\n  'O',\n  'O',\n  'O'],\n ['O',\n  'O',\n  'O',\n  'O',\n  'O',\n  'O',\n  'O',\n  'O',\n  'O',\n  'O',\n  'O',\n  'O',\n  'O',\n  'O',\n  'O',\n  'O',\n  'O',\n  'O',\n  'O',\n  'O',\n  'O',\n  'O',\n  'O',\n  'O',\n  'O',\n  'O',\n  'O',\n  'O',\n  'O',\n  'O',\n  'O',\n  'O',\n  'O',\n  'O',\n  'O',\n  'O',\n  'I-IDIOM',\n  'I-IDIOM',\n  'O',\n  'O',\n  'O',\n  'O',\n  'O',\n  'O',\n  'O',\n  'O',\n  'O',\n  'O',\n  'O',\n  'O',\n  'O',\n  'O',\n  'O',\n  'O',\n  'O',\n  'O',\n  'O',\n  'O'],\n ['O',\n  'O',\n  'I-IDIOM',\n  'I-IDIOM',\n  'I-IDIOM',\n  'O',\n  'O',\n  'O',\n  'O',\n  'O',\n  'O',\n  'O',\n  'O',\n  'O',\n  'O',\n  'O',\n  'O',\n  'O',\n  'O',\n  'O',\n  'O',\n  'O',\n  'O',\n  'O',\n  'O',\n  'O',\n  'O',\n  'O',\n  'O',\n  'O',\n  'O',\n  'O',\n  'O'],\n ['O',\n  'O',\n  'O',\n  'O',\n  'O',\n  'O',\n  'O',\n  'O',\n  'O',\n  'O',\n  'O',\n  'O',\n  'O',\n  'O',\n  'O',\n  'O',\n  'O',\n  'O',\n  'O',\n  'O',\n  'O',\n  'O',\n  'O',\n  'O',\n  'O',\n  'O',\n  'O',\n  'I-IDIOM',\n  'I-IDIOM',\n  'O',\n  'O',\n  'O',\n  'O'],\n ['O',\n  'O',\n  'O',\n  'O',\n  'O',\n  'O',\n  'O',\n  'I-IDIOM',\n  'I-IDIOM',\n  'I-IDIOM',\n  'O',\n  'O',\n  'O',\n  'O',\n  'O',\n  'O',\n  'O',\n  'O'],\n ['O', 'O', 'O', 'O', 'O', 'I-IDIOM', 'I-IDIOM', 'I-IDIOM', 'O', 'O', 'O'],\n ['O',\n  'O',\n  'O',\n  'O',\n  'O',\n  'O',\n  'O',\n  'I-IDIOM',\n  'I-IDIOM',\n  'I-IDIOM',\n  'O',\n  'O',\n  'O',\n  'O',\n  'O',\n  'O'],\n ['O',\n  'O',\n  'O',\n  'O',\n  'I-IDIOM',\n  'I-IDIOM',\n  'O',\n  'O',\n  'O',\n  'O',\n  'O',\n  'O',\n  'O',\n  'O',\n  'O',\n  'O',\n  'O',\n  'O',\n  'O',\n  'O',\n  'O',\n  'O',\n  'O',\n  'O',\n  'O',\n  'O',\n  'O'],\n ['O',\n  'O',\n  'O',\n  'O',\n  'O',\n  'O',\n  'O',\n  'O',\n  'O',\n  'O',\n  'O',\n  'O',\n  'O',\n  'O',\n  'O',\n  'I-IDIOM',\n  'I-IDIOM',\n  'I-IDIOM',\n  'I-IDIOM',\n  'I-IDIOM',\n  'O'],\n ['O',\n  'O',\n  'O',\n  'O',\n  'O',\n  'O',\n  'O',\n  'O',\n  'O',\n  'O',\n  'O',\n  'O',\n  'O',\n  'O',\n  'O',\n  'O',\n  'O',\n  'O',\n  'O',\n  'O',\n  'O',\n  'O',\n  'O',\n  'O',\n  'O',\n  'O'],\n ['O', 'O', 'I-IDIOM', 'I-IDIOM', 'I-IDIOM', 'O'],\n ['O',\n  'O',\n  'O',\n  'O',\n  'O',\n  'O',\n  'O',\n  'O',\n  'O',\n  'O',\n  'O',\n  'O',\n  'O',\n  'O',\n  'O',\n  'O',\n  'O',\n  'O',\n  'O',\n  'O',\n  'O',\n  'O',\n  'O',\n  'O',\n  'O',\n  'O',\n  'O',\n  'O',\n  'O',\n  'O',\n  'O',\n  'O',\n  'O',\n  'O',\n  'O',\n  'O',\n  'O',\n  'O',\n  'I-IDIOM',\n  'I-IDIOM',\n  'I-IDIOM',\n  'O'],\n ['O',\n  'O',\n  'O',\n  'O',\n  'O',\n  'O',\n  'O',\n  'O',\n  'O',\n  'O',\n  'O',\n  'O',\n  'O',\n  'O',\n  'O',\n  'O',\n  'O',\n  'O',\n  'O',\n  'O',\n  'O',\n  'O',\n  'O',\n  'O',\n  'I-IDIOM',\n  'I-IDIOM',\n  'O',\n  'O',\n  'O',\n  'O',\n  'O'],\n ['O', 'O', 'I-IDIOM', 'I-IDIOM', 'I-IDIOM', 'O', 'O', 'O'],\n ['O',\n  'O',\n  'O',\n  'O',\n  'I-IDIOM',\n  'I-IDIOM',\n  'I-IDIOM',\n  'O',\n  'O',\n  'O',\n  'O',\n  'O'],\n ['O', 'O', 'O', 'O', 'I-IDIOM', 'I-IDIOM', 'O'],\n ['O', 'O', 'O', 'O', 'I-IDIOM', 'I-IDIOM', 'O', 'O', 'O', 'O'],\n ['O', 'O', 'O', 'O', 'O', 'O', 'I-IDIOM', 'I-IDIOM', 'I-IDIOM', 'O'],\n ['O',\n  'O',\n  'O',\n  'O',\n  'O',\n  'O',\n  'O',\n  'O',\n  'O',\n  'O',\n  'O',\n  'I-IDIOM',\n  'I-IDIOM',\n  'I-IDIOM',\n  'I-IDIOM',\n  'O',\n  'O',\n  'O',\n  'O',\n  'O',\n  'O',\n  'O',\n  'O',\n  'O',\n  'O',\n  'O',\n  'O',\n  'O',\n  'O',\n  'O',\n  'O',\n  'O',\n  'O',\n  'O',\n  'O',\n  'O',\n  'O',\n  'O'],\n ['O',\n  'O',\n  'O',\n  'O',\n  'O',\n  'O',\n  'O',\n  'O',\n  'O',\n  'O',\n  'O',\n  'O',\n  'O',\n  'O',\n  'O',\n  'O',\n  'O',\n  'O',\n  'I-IDIOM',\n  'I-IDIOM',\n  'O',\n  'O',\n  'O',\n  'O',\n  'O',\n  'O',\n  'O',\n  'O',\n  'O',\n  'O',\n  'O',\n  'O',\n  'O',\n  'O'],\n ['O', 'I-IDIOM', 'I-IDIOM', 'O', 'O', 'O', 'O', 'O', 'O', 'O'],\n ['O',\n  'I-IDIOM',\n  'I-IDIOM',\n  'I-IDIOM',\n  'O',\n  'O',\n  'O',\n  'O',\n  'O',\n  'O',\n  'O',\n  'O',\n  'O',\n  'O',\n  'O',\n  'O',\n  'O',\n  'O',\n  'O',\n  'O',\n  'O',\n  'O',\n  'O',\n  'O',\n  'O',\n  'O',\n  'O',\n  'O',\n  'O',\n  'O',\n  'O',\n  'O',\n  'O',\n  'O',\n  'O',\n  'O',\n  'O',\n  'O',\n  'O',\n  'O',\n  'O',\n  'O',\n  'O',\n  'O',\n  'O',\n  'O',\n  'O',\n  'O',\n  'O',\n  'O',\n  'O',\n  'O'],\n ['O',\n  'O',\n  'I-IDIOM',\n  'I-IDIOM',\n  'I-IDIOM',\n  'O',\n  'O',\n  'O',\n  'O',\n  'O',\n  'O',\n  'O',\n  'O',\n  'O',\n  'O',\n  'O',\n  'O'],\n ['O', 'O', 'O', 'O', 'O', 'I-IDIOM', 'I-IDIOM', 'I-IDIOM', 'O'],\n ['O', 'O', 'O', 'O', 'O', 'O', 'I-IDIOM', 'I-IDIOM'],\n ['O',\n  'O',\n  'O',\n  'O',\n  'O',\n  'O',\n  'O',\n  'O',\n  'O',\n  'O',\n  'O',\n  'O',\n  'O',\n  'O',\n  'O',\n  'O',\n  'I-IDIOM',\n  'I-IDIOM',\n  'I-IDIOM',\n  'O',\n  'O',\n  'O',\n  'O',\n  'O',\n  'O',\n  'O',\n  'O',\n  'O',\n  'O',\n  'O',\n  'O',\n  'O',\n  'O',\n  'O',\n  'O',\n  'O',\n  'O',\n  'O',\n  'O',\n  'O',\n  'O',\n  'O',\n  'O',\n  'O',\n  'O',\n  'O',\n  'O',\n  'O',\n  'O',\n  'O',\n  'O',\n  'O',\n  'O',\n  'O',\n  'O',\n  'O',\n  'O',\n  'O',\n  'O',\n  'O',\n  'O',\n  'O',\n  'O',\n  'O',\n  'O',\n  'O',\n  'O',\n  'O',\n  'O',\n  'O',\n  'O',\n  'O',\n  'O',\n  'O',\n  'O',\n  'O',\n  'O',\n  'O',\n  'O',\n  'O',\n  'O',\n  'O',\n  'O',\n  'O',\n  'O',\n  'O',\n  'O',\n  'O',\n  'O',\n  'O',\n  'O',\n  'O',\n  'O',\n  'O',\n  'O',\n  'O',\n  'O',\n  'O',\n  'O',\n  'O',\n  'O',\n  'O',\n  'O',\n  'O',\n  'O',\n  'O',\n  'O',\n  'O'],\n ['O',\n  'O',\n  'O',\n  'O',\n  'O',\n  'O',\n  'O',\n  'O',\n  'O',\n  'O',\n  'O',\n  'O',\n  'O',\n  'O',\n  'O',\n  'I-IDIOM',\n  'I-IDIOM',\n  'I-IDIOM',\n  'O'],\n ['O',\n  'O',\n  'O',\n  'O',\n  'O',\n  'I-IDIOM',\n  'I-IDIOM',\n  'I-IDIOM',\n  'O',\n  'O',\n  'O',\n  'O'],\n ['O',\n  'O',\n  'O',\n  'O',\n  'O',\n  'O',\n  'O',\n  'O',\n  'O',\n  'O',\n  'O',\n  'O',\n  'O',\n  'O',\n  'O',\n  'O',\n  'O',\n  'O',\n  'O',\n  'O',\n  'O',\n  'O',\n  'O',\n  'O',\n  'O',\n  'O',\n  'O',\n  'O',\n  'O',\n  'O',\n  'O',\n  'O',\n  'O',\n  'O',\n  'O',\n  'O',\n  'O',\n  'O',\n  'O',\n  'O',\n  'O',\n  'O',\n  'O',\n  'O',\n  'O',\n  'O',\n  'O',\n  'O',\n  'O',\n  'O',\n  'O',\n  'O',\n  'O',\n  'O',\n  'O',\n  'O',\n  'O',\n  'O',\n  'O',\n  'O',\n  'O',\n  'O',\n  'O',\n  'O',\n  'O',\n  'O',\n  'I-IDIOM',\n  'I-IDIOM',\n  'I-IDIOM',\n  'I-IDIOM',\n  'I-IDIOM',\n  'I-IDIOM',\n  'O',\n  'O',\n  'O',\n  'O',\n  'O',\n  'O',\n  'O',\n  'O',\n  'O',\n  'O',\n  'O',\n  'O',\n  'O',\n  'O',\n  'O',\n  'O',\n  'O',\n  'O',\n  'O',\n  'O',\n  'O',\n  'O',\n  'O'],\n ['O',\n  'O',\n  'O',\n  'O',\n  'O',\n  'O',\n  'O',\n  'O',\n  'O',\n  'O',\n  'O',\n  'O',\n  'O',\n  'O',\n  'O',\n  'O',\n  'O',\n  'O',\n  'O',\n  'O',\n  'I-IDIOM',\n  'I-IDIOM',\n  'I-IDIOM',\n  'O',\n  'O',\n  'O',\n  'O',\n  'O',\n  'O',\n  'O'],\n ['O',\n  'O',\n  'O',\n  'O',\n  'O',\n  'O',\n  'O',\n  'O',\n  'O',\n  'O',\n  'O',\n  'O',\n  'O',\n  'O',\n  'O',\n  'I-IDIOM',\n  'I-IDIOM',\n  'I-IDIOM',\n  'I-IDIOM',\n  'I-IDIOM',\n  'O',\n  'O',\n  'O',\n  'O',\n  'O',\n  'O',\n  'O',\n  'O',\n  'O',\n  'O',\n  'O',\n  'O',\n  'O',\n  'O',\n  'O',\n  'O',\n  'O',\n  'O',\n  'O',\n  'O',\n  'O',\n  'O',\n  'O',\n  'O',\n  'O'],\n ['O',\n  'O',\n  'O',\n  'O',\n  'O',\n  'O',\n  'O',\n  'O',\n  'O',\n  'O',\n  'O',\n  'I-IDIOM',\n  'I-IDIOM',\n  'I-IDIOM',\n  'O',\n  'O',\n  'O',\n  'O',\n  'O',\n  'O',\n  'O'],\n ['O',\n  'O',\n  'I-IDIOM',\n  'I-IDIOM',\n  'I-IDIOM',\n  'O',\n  'O',\n  'O',\n  'O',\n  'O',\n  'O',\n  'O',\n  'O',\n  'O',\n  'O',\n  'O',\n  'O',\n  'O',\n  'O',\n  'O'],\n ['O', 'O', 'O', 'O', 'O', 'O', 'O', 'O', 'I-IDIOM', 'I-IDIOM', 'O'],\n ['O', 'O', 'I-IDIOM', 'I-IDIOM', 'I-IDIOM', 'I-IDIOM', 'I-IDIOM', 'O'],\n ['O', 'O', 'O', 'I-IDIOM', 'I-IDIOM', 'I-IDIOM', 'O', 'O'],\n ['O',\n  'O',\n  'O',\n  'O',\n  'O',\n  'O',\n  'O',\n  'O',\n  'O',\n  'O',\n  'O',\n  'O',\n  'O',\n  'O',\n  'O',\n  'O',\n  'O',\n  'O',\n  'O',\n  'O',\n  'O',\n  'O',\n  'O',\n  'O',\n  'O',\n  'O',\n  'O',\n  'O',\n  'O',\n  'O',\n  'O',\n  'O',\n  'O',\n  'O',\n  'O',\n  'O',\n  'O',\n  'O',\n  'O',\n  'O',\n  'O',\n  'O',\n  'O',\n  'I-IDIOM',\n  'I-IDIOM',\n  'I-IDIOM',\n  'I-IDIOM',\n  'O'],\n ['O', 'O', 'O', 'O', 'O', 'O', 'I-IDIOM', 'I-IDIOM', 'O', 'O', 'O', 'O'],\n ['O',\n  'O',\n  'O',\n  'O',\n  'O',\n  'O',\n  'O',\n  'O',\n  'O',\n  'I-IDIOM',\n  'I-IDIOM',\n  'I-IDIOM',\n  'O',\n  'O',\n  'O',\n  'O',\n  'O',\n  'O',\n  'O',\n  'O',\n  'O',\n  'O',\n  'O',\n  'O',\n  'O',\n  'O',\n  'O',\n  'O',\n  'O',\n  'O',\n  'O',\n  'O',\n  'O',\n  'O',\n  'O',\n  'O',\n  'O',\n  'O',\n  'O',\n  'O'],\n ['O',\n  'O',\n  'O',\n  'O',\n  'O',\n  'I-IDIOM',\n  'I-IDIOM',\n  'O',\n  'O',\n  'O',\n  'O',\n  'O',\n  'O',\n  'O',\n  'O',\n  'O',\n  'O',\n  'O',\n  'O',\n  'O',\n  'O',\n  'O',\n  'O',\n  'O',\n  'O',\n  'O',\n  'O'],\n ['O',\n  'O',\n  'O',\n  'O',\n  'O',\n  'O',\n  'O',\n  'O',\n  'O',\n  'I-IDIOM',\n  'I-IDIOM',\n  'I-IDIOM',\n  'O',\n  'O',\n  'O',\n  'O'],\n ['O',\n  'O',\n  'O',\n  'O',\n  'O',\n  'O',\n  'O',\n  'O',\n  'O',\n  'O',\n  'O',\n  'O',\n  'O',\n  'O',\n  'O',\n  'O',\n  'O',\n  'O',\n  'O',\n  'O',\n  'O',\n  'O',\n  'O',\n  'O',\n  'O',\n  'O',\n  'O',\n  'O',\n  'O',\n  'O',\n  'O',\n  'O',\n  'O',\n  'O',\n  'O',\n  'O',\n  'O',\n  'O',\n  'O',\n  'O',\n  'O',\n  'O',\n  'O',\n  'O',\n  'O',\n  'O',\n  'O',\n  'I-IDIOM',\n  'I-IDIOM',\n  'O'],\n ['O',\n  'O',\n  'O',\n  'O',\n  'O',\n  'O',\n  'O',\n  'O',\n  'O',\n  'O',\n  'O',\n  'O',\n  'O',\n  'O',\n  'O',\n  'O',\n  'O',\n  'O',\n  'O',\n  'O',\n  'O',\n  'O',\n  'O',\n  'O',\n  'O',\n  'I-IDIOM',\n  'I-IDIOM',\n  'O',\n  'O',\n  'O',\n  'O',\n  'O',\n  'O',\n  'O',\n  'O',\n  'O'],\n ['O',\n  'O',\n  'O',\n  'O',\n  'O',\n  'O',\n  'O',\n  'O',\n  'O',\n  'O',\n  'O',\n  'O',\n  'O',\n  'O',\n  'O',\n  'O',\n  'O',\n  'O',\n  'O',\n  'O',\n  'O',\n  'O',\n  'O',\n  'O',\n  'O',\n  'O',\n  'O',\n  'O',\n  'O',\n  'O',\n  'O',\n  'O',\n  'O',\n  'O',\n  'O',\n  'O',\n  'O',\n  'O',\n  'O',\n  'O',\n  'O',\n  'I-IDIOM',\n  'I-IDIOM',\n  'O'],\n ['O',\n  'O',\n  'O',\n  'O',\n  'O',\n  'I-IDIOM',\n  'I-IDIOM',\n  'O',\n  'O',\n  'O',\n  'O',\n  'O',\n  'O',\n  'O',\n  'O',\n  'O',\n  'O',\n  'O'],\n ['O',\n  'O',\n  'I-IDIOM',\n  'I-IDIOM',\n  'I-IDIOM',\n  'O',\n  'O',\n  'O',\n  'O',\n  'O',\n  'O',\n  'O',\n  'O',\n  'O',\n  'O',\n  'O',\n  'O',\n  'O',\n  'O',\n  'O',\n  'O',\n  'O',\n  'O',\n  'O',\n  'O',\n  'O',\n  'O',\n  'O',\n  'O',\n  'O',\n  'O',\n  'O',\n  'O',\n  'O',\n  'O',\n  'O',\n  'O',\n  'O',\n  'O',\n  'O',\n  'O',\n  'O',\n  'O',\n  'O',\n  'O',\n  'O',\n  'O',\n  'O',\n  'O',\n  'O',\n  'O',\n  'O',\n  'O',\n  'O'],\n ['O',\n  'O',\n  'O',\n  'O',\n  'O',\n  'O',\n  'O',\n  'O',\n  'O',\n  'O',\n  'I-IDIOM',\n  'I-IDIOM',\n  'I-IDIOM',\n  'O',\n  'O',\n  'O',\n  'O',\n  'O',\n  'O',\n  'O',\n  'O'],\n ['O', 'O', 'O', 'O', 'O', 'O', 'O', 'O', 'O'],\n ['O',\n  'O',\n  'O',\n  'I-IDIOM',\n  'I-IDIOM',\n  'I-IDIOM',\n  'I-IDIOM',\n  'O',\n  'O',\n  'O',\n  'O',\n  'O',\n  'O',\n  'O',\n  'O',\n  'O',\n  'O',\n  'O',\n  'O',\n  'O',\n  'O',\n  'O',\n  'O',\n  'O',\n  'O',\n  'O',\n  'O',\n  'O',\n  'O',\n  'O',\n  'O',\n  'O',\n  'O',\n  'O',\n  'O',\n  'O',\n  'O',\n  'O',\n  'O',\n  'O',\n  'O',\n  'O'],\n ['O',\n  'O',\n  'O',\n  'O',\n  'O',\n  'O',\n  'O',\n  'O',\n  'O',\n  'O',\n  'O',\n  'O',\n  'O',\n  'O',\n  'O',\n  'O',\n  'O',\n  'O',\n  'I-IDIOM',\n  'I-IDIOM',\n  'I-IDIOM',\n  'O'],\n ['O',\n  'O',\n  'O',\n  'O',\n  'O',\n  'O',\n  'O',\n  'O',\n  'O',\n  'O',\n  'O',\n  'O',\n  'O',\n  'O',\n  'O',\n  'O',\n  'O',\n  'O',\n  'O',\n  'O',\n  'O',\n  'O',\n  'I-IDIOM',\n  'I-IDIOM',\n  'I-IDIOM',\n  'O',\n  'O'],\n ['O',\n  'I-IDIOM',\n  'I-IDIOM',\n  'I-IDIOM',\n  'I-IDIOM',\n  'I-IDIOM',\n  'O',\n  'O',\n  'O',\n  'O'],\n ['O',\n  'O',\n  'O',\n  'O',\n  'O',\n  'O',\n  'O',\n  'O',\n  'O',\n  'O',\n  'O',\n  'O',\n  'O',\n  'O',\n  'O',\n  'I-IDIOM',\n  'I-IDIOM',\n  'O',\n  'O'],\n ['O',\n  'O',\n  'O',\n  'O',\n  'O',\n  'O',\n  'O',\n  'O',\n  'O',\n  'O',\n  'O',\n  'O',\n  'O',\n  'O',\n  'O',\n  'O',\n  'O',\n  'O',\n  'O',\n  'O',\n  'O',\n  'O',\n  'O',\n  'O',\n  'O',\n  'O',\n  'I-IDIOM',\n  'I-IDIOM',\n  'I-IDIOM',\n  'I-IDIOM',\n  'O',\n  'O',\n  'O',\n  'O',\n  'O',\n  'O',\n  'O'],\n ['O',\n  'O',\n  'O',\n  'I-IDIOM',\n  'I-IDIOM',\n  'I-IDIOM',\n  'I-IDIOM',\n  'I-IDIOM',\n  'O',\n  'O',\n  'O',\n  'O'],\n ['O',\n  'O',\n  'O',\n  'O',\n  'O',\n  'O',\n  'O',\n  'O',\n  'O',\n  'O',\n  'O',\n  'O',\n  'I-IDIOM',\n  'I-IDIOM',\n  'I-IDIOM',\n  'O',\n  'O',\n  'O',\n  'O',\n  'O',\n  'O',\n  'O',\n  'O',\n  'O'],\n ['O',\n  'O',\n  'O',\n  'O',\n  'O',\n  'O',\n  'O',\n  'O',\n  'O',\n  'O',\n  'O',\n  'O',\n  'O',\n  'O',\n  'O',\n  'O',\n  'O',\n  'O',\n  'O',\n  'O',\n  'O',\n  'O',\n  'O',\n  'O',\n  'O',\n  'O',\n  'O',\n  'O',\n  'O',\n  'O',\n  'O',\n  'O',\n  'O',\n  'O',\n  'O',\n  'I-IDIOM',\n  'I-IDIOM',\n  'O',\n  'O',\n  'O',\n  'O'],\n ['O',\n  'O',\n  'O',\n  'O',\n  'O',\n  'O',\n  'O',\n  'O',\n  'I-IDIOM',\n  'I-IDIOM',\n  'I-IDIOM',\n  'O',\n  'O',\n  'O',\n  'O',\n  'O',\n  'O',\n  'O'],\n ['O',\n  'O',\n  'O',\n  'O',\n  'O',\n  'I-IDIOM',\n  'I-IDIOM',\n  'O',\n  'O',\n  'O',\n  'O',\n  'O',\n  'O',\n  'O',\n  'O'],\n ['O', 'O', 'O', 'O', 'O', 'O', 'O', 'I-IDIOM', 'I-IDIOM', 'O'],\n ['O', 'O', 'I-IDIOM', 'I-IDIOM', 'I-IDIOM', 'I-IDIOM', 'O', 'O', 'O', 'O'],\n ['O',\n  'O',\n  'O',\n  'O',\n  'O',\n  'O',\n  'I-IDIOM',\n  'I-IDIOM',\n  'I-IDIOM',\n  'I-IDIOM',\n  'O',\n  'O',\n  'O',\n  'O',\n  'O',\n  'O',\n  'O',\n  'O',\n  'O',\n  'O',\n  'O',\n  'O',\n  'O',\n  'O',\n  'O',\n  'O',\n  'O',\n  'O',\n  'O',\n  'O',\n  'O',\n  'O',\n  'O',\n  'O',\n  'O',\n  'O',\n  'O'],\n ['O', 'O', 'O', 'O', 'O', 'O', 'I-IDIOM', 'I-IDIOM', 'O'],\n ['O',\n  'O',\n  'O',\n  'O',\n  'O',\n  'I-IDIOM',\n  'I-IDIOM',\n  'O',\n  'O',\n  'O',\n  'O',\n  'O',\n  'O',\n  'O',\n  'O',\n  'O',\n  'O',\n  'O',\n  'O',\n  'O',\n  'O',\n  'O',\n  'O',\n  'O',\n  'O',\n  'O',\n  'O',\n  'O',\n  'O',\n  'O',\n  'O',\n  'O',\n  'O',\n  'O',\n  'O',\n  'O',\n  'O'],\n ['O',\n  'O',\n  'O',\n  'O',\n  'O',\n  'O',\n  'O',\n  'O',\n  'O',\n  'O',\n  'O',\n  'O',\n  'O',\n  'O',\n  'O',\n  'O',\n  'O',\n  'O',\n  'O',\n  'O',\n  'I-IDIOM',\n  'I-IDIOM',\n  'O',\n  'O',\n  'O',\n  'O',\n  'O'],\n ['O',\n  'O',\n  'O',\n  'O',\n  'O',\n  'O',\n  'O',\n  'O',\n  'O',\n  'O',\n  'O',\n  'O',\n  'O',\n  'O',\n  'O',\n  'O',\n  'O',\n  'O',\n  'O',\n  'O',\n  'O',\n  'O',\n  'O',\n  'O',\n  'O',\n  'O',\n  'O',\n  'O',\n  'O',\n  'O',\n  'O',\n  'O',\n  'O',\n  'O',\n  'O',\n  'O',\n  'O',\n  'O',\n  'I-IDIOM',\n  'I-IDIOM',\n  'I-IDIOM',\n  'I-IDIOM',\n  'I-IDIOM',\n  'O',\n  'O',\n  'O',\n  'O',\n  'O',\n  'O',\n  'O',\n  'O',\n  'O',\n  'O',\n  'O'],\n ['O',\n  'O',\n  'O',\n  'O',\n  'O',\n  'O',\n  'O',\n  'O',\n  'O',\n  'I-IDIOM',\n  'I-IDIOM',\n  'O',\n  'O',\n  'O',\n  'O',\n  'O',\n  'O',\n  'O'],\n ['O',\n  'O',\n  'O',\n  'O',\n  'O',\n  'O',\n  'O',\n  'O',\n  'O',\n  'I-IDIOM',\n  'I-IDIOM',\n  'I-IDIOM',\n  'O'],\n ['O',\n  'O',\n  'O',\n  'O',\n  'O',\n  'O',\n  'O',\n  'O',\n  'O',\n  'O',\n  'O',\n  'O',\n  'O',\n  'O',\n  'O',\n  'O',\n  'O',\n  'I-IDIOM',\n  'I-IDIOM',\n  'O',\n  'O',\n  'O',\n  'O',\n  'O',\n  'O',\n  'O',\n  'O',\n  'O'],\n ['O',\n  'O',\n  'O',\n  'O',\n  'O',\n  'O',\n  'O',\n  'O',\n  'O',\n  'O',\n  'O',\n  'O',\n  'O',\n  'O',\n  'O',\n  'O',\n  'O',\n  'O',\n  'O',\n  'O',\n  'O',\n  'I-IDIOM',\n  'I-IDIOM',\n  'O',\n  'O',\n  'O',\n  'O',\n  'O',\n  'O',\n  'O'],\n ['O',\n  'O',\n  'O',\n  'O',\n  'O',\n  'O',\n  'O',\n  'O',\n  'O',\n  'O',\n  'I-IDIOM',\n  'I-IDIOM',\n  'I-IDIOM',\n  'O',\n  'O',\n  'O',\n  'O',\n  'O',\n  'O',\n  'O',\n  'O',\n  'O',\n  'O',\n  'O',\n  'O',\n  'O',\n  'O',\n  'O',\n  'O',\n  'O',\n  'O',\n  'O',\n  'O',\n  'O',\n  'O',\n  'O',\n  'O',\n  'O',\n  'O',\n  'O',\n  'O',\n  'O',\n  'O',\n  'O',\n  'O',\n  'O',\n  'O',\n  'O',\n  'O',\n  'O',\n  'O',\n  'O',\n  'O'],\n ['O',\n  'O',\n  'O',\n  'O',\n  'O',\n  'O',\n  'O',\n  'I-IDIOM',\n  'I-IDIOM',\n  'O',\n  'O',\n  'O',\n  'O',\n  'O',\n  'O',\n  'O',\n  'O',\n  'O',\n  'O',\n  'O',\n  'O',\n  'O',\n  'O',\n  'O',\n  'O',\n  'O',\n  'O',\n  'O'],\n ['O',\n  'O',\n  'O',\n  'O',\n  'O',\n  'O',\n  'O',\n  'O',\n  'O',\n  'O',\n  'O',\n  'O',\n  'O',\n  'O',\n  'I-IDIOM',\n  'I-IDIOM',\n  'I-IDIOM',\n  'I-IDIOM',\n  'O'],\n ['O',\n  'O',\n  'O',\n  'O',\n  'I-IDIOM',\n  'I-IDIOM',\n  'I-IDIOM',\n  'O',\n  'O',\n  'O',\n  'O',\n  'O',\n  'O',\n  'O',\n  'O',\n  'O',\n  'O'],\n ['I-IDIOM', 'I-IDIOM', 'O', 'O', 'O', 'O'],\n ['O', 'O', 'O', 'O', 'O', 'O', 'O', 'O', 'O', 'I-IDIOM', 'I-IDIOM', 'O'],\n ['O', 'O', 'O', 'O', 'O', 'I-IDIOM', 'I-IDIOM', 'O'],\n ['O',\n  'O',\n  'O',\n  'O',\n  'O',\n  'O',\n  'O',\n  'O',\n  'O',\n  'O',\n  'O',\n  'O',\n  'O',\n  'O',\n  'O',\n  'O',\n  'O'],\n ['O',\n  'O',\n  'O',\n  'O',\n  'O',\n  'O',\n  'O',\n  'O',\n  'O',\n  'O',\n  'I-IDIOM',\n  'I-IDIOM',\n  'O',\n  'O',\n  'O',\n  'O'],\n ['O',\n  'O',\n  'O',\n  'O',\n  'O',\n  'O',\n  'I-IDIOM',\n  'I-IDIOM',\n  'I-IDIOM',\n  'O',\n  'O',\n  'O',\n  'O',\n  'O',\n  'O',\n  'O',\n  'O',\n  'O',\n  'O',\n  'O',\n  'O',\n  'O',\n  'O',\n  'O',\n  'O',\n  'O'],\n ['O', 'O', 'O', 'O', 'I-IDIOM', 'I-IDIOM', 'I-IDIOM', 'O'],\n ['O', 'O', 'O', 'O', 'O', 'O', 'O', 'O', 'I-IDIOM', 'I-IDIOM', 'O', 'O', 'O'],\n ['O',\n  'O',\n  'O',\n  'O',\n  'O',\n  'O',\n  'O',\n  'O',\n  'O',\n  'I-IDIOM',\n  'I-IDIOM',\n  'I-IDIOM',\n  'O',\n  'O',\n  'O',\n  'O',\n  'O',\n  'O',\n  'O',\n  'O',\n  'O',\n  'O',\n  'O',\n  'O',\n  'O',\n  'O',\n  'O',\n  'O',\n  'O',\n  'O',\n  'O',\n  'O',\n  'O',\n  'O',\n  'O',\n  'O',\n  'O',\n  'O',\n  'O',\n  'O',\n  'O',\n  'O',\n  'O',\n  'O'],\n ['O',\n  'O',\n  'O',\n  'O',\n  'O',\n  'O',\n  'O',\n  'O',\n  'O',\n  'O',\n  'O',\n  'I-IDIOM',\n  'I-IDIOM',\n  'I-IDIOM',\n  'O',\n  'O',\n  'O',\n  'O',\n  'O',\n  'O',\n  'O',\n  'O',\n  'O',\n  'O',\n  'O',\n  'O',\n  'O',\n  'O',\n  'O',\n  'O',\n  'O',\n  'O',\n  'O',\n  'O',\n  'O',\n  'O',\n  'O'],\n ['O',\n  'O',\n  'O',\n  'I-IDIOM',\n  'I-IDIOM',\n  'I-IDIOM',\n  'O',\n  'O',\n  'O',\n  'O',\n  'O',\n  'O',\n  'O',\n  'O',\n  'O',\n  'O',\n  'O',\n  'O',\n  'O',\n  'O',\n  'O'],\n ['O',\n  'O',\n  'O',\n  'O',\n  'O',\n  'O',\n  'O',\n  'O',\n  'O',\n  'O',\n  'O',\n  'O',\n  'O',\n  'O',\n  'O',\n  'O',\n  'O',\n  'I-IDIOM',\n  'I-IDIOM',\n  'I-IDIOM',\n  'O',\n  'O',\n  'O',\n  'O',\n  'O',\n  'O',\n  'O',\n  'O',\n  'O',\n  'O',\n  'O',\n  'O'],\n ['O',\n  'O',\n  'O',\n  'O',\n  'O',\n  'O',\n  'O',\n  'O',\n  'O',\n  'O',\n  'O',\n  'O',\n  'O',\n  'I-IDIOM',\n  'I-IDIOM',\n  'I-IDIOM',\n  'O',\n  'O',\n  'O',\n  'O',\n  'O',\n  'O',\n  'O',\n  'O',\n  'O',\n  'O',\n  'O',\n  'O',\n  'O',\n  'O',\n  'O',\n  'O',\n  'O',\n  'O',\n  'O',\n  'O',\n  'O',\n  'O',\n  'O',\n  'O',\n  'O'],\n ['O',\n  'O',\n  'O',\n  'O',\n  'O',\n  'O',\n  'O',\n  'O',\n  'O',\n  'O',\n  'O',\n  'O',\n  'O',\n  'I-IDIOM',\n  'I-IDIOM',\n  'I-IDIOM',\n  'O',\n  'O',\n  'O',\n  'O',\n  'O',\n  'O',\n  'O',\n  'O',\n  'O'],\n ['O',\n  'O',\n  'O',\n  'O',\n  'O',\n  'O',\n  'O',\n  'O',\n  'O',\n  'O',\n  'O',\n  'O',\n  'O',\n  'O',\n  'I-IDIOM',\n  'I-IDIOM',\n  'I-IDIOM',\n  'O',\n  'O',\n  'O',\n  'O',\n  'O'],\n ['O',\n  'O',\n  'O',\n  'O',\n  'O',\n  'O',\n  'O',\n  'O',\n  'O',\n  'I-IDIOM',\n  'I-IDIOM',\n  'I-IDIOM',\n  'O'],\n ['O',\n  'O',\n  'O',\n  'O',\n  'O',\n  'O',\n  'O',\n  'O',\n  'O',\n  'O',\n  'I-IDIOM',\n  'I-IDIOM',\n  'I-IDIOM',\n  'O',\n  'O',\n  'O',\n  'O',\n  'O',\n  'O',\n  'O',\n  'O',\n  'O',\n  'O',\n  'O',\n  'O',\n  'O',\n  'O',\n  'O',\n  'O',\n  'O',\n  'O',\n  'O',\n  'O',\n  'O'],\n ['O',\n  'O',\n  'O',\n  'O',\n  'O',\n  'O',\n  'O',\n  'O',\n  'O',\n  'I-IDIOM',\n  'I-IDIOM',\n  'I-IDIOM',\n  'O',\n  'O',\n  'O',\n  'O',\n  'O'],\n ['O',\n  'O',\n  'O',\n  'O',\n  'O',\n  'O',\n  'O',\n  'O',\n  'O',\n  'O',\n  'O',\n  'O',\n  'I-IDIOM',\n  'I-IDIOM',\n  'I-IDIOM',\n  'O',\n  'O',\n  'O',\n  'O',\n  'O',\n  'O',\n  'O',\n  'O',\n  'O',\n  'O',\n  'O',\n  'O',\n  'O',\n  'O',\n  'O',\n  'O',\n  'O',\n  'O',\n  'O',\n  'O',\n  'O',\n  'O',\n  'O'],\n ['O',\n  'O',\n  'O',\n  'O',\n  'O',\n  'O',\n  'O',\n  'O',\n  'O',\n  'O',\n  'O',\n  'O',\n  'O',\n  'O',\n  'I-IDIOM',\n  'I-IDIOM',\n  'I-IDIOM',\n  'O',\n  'O',\n  'O',\n  'O',\n  'O',\n  'O',\n  'O',\n  'O',\n  'O',\n  'O',\n  'O',\n  'O',\n  'O',\n  'O'],\n ['O',\n  'O',\n  'O',\n  'O',\n  'O',\n  'O',\n  'O',\n  'O',\n  'O',\n  'O',\n  'O',\n  'O',\n  'I-IDIOM',\n  'I-IDIOM',\n  'O',\n  'O',\n  'O'],\n ['O',\n  'O',\n  'O',\n  'O',\n  'O',\n  'O',\n  'O',\n  'O',\n  'O',\n  'O',\n  'O',\n  'O',\n  'O',\n  'I-IDIOM',\n  'I-IDIOM',\n  'I-IDIOM',\n  'O'],\n ['O',\n  'O',\n  'O',\n  'O',\n  'O',\n  'O',\n  'O',\n  'O',\n  'O',\n  'O',\n  'O',\n  'O',\n  'O',\n  'O',\n  'O',\n  'O',\n  'O',\n  'O',\n  'O',\n  'O',\n  'O',\n  'O',\n  'O',\n  'O',\n  'O',\n  'I-IDIOM',\n  'I-IDIOM',\n  'O',\n  'O',\n  'O'],\n ['O', 'O', 'O', 'O', 'I-IDIOM', 'I-IDIOM', 'O', 'O', 'O', 'O', 'O', 'O'],\n ['O', 'O', 'O', 'O', 'O', 'I-IDIOM', 'I-IDIOM', 'O'],\n ['O',\n  'O',\n  'O',\n  'O',\n  'O',\n  'O',\n  'O',\n  'O',\n  'O',\n  'O',\n  'O',\n  'O',\n  'O',\n  'O',\n  'I-IDIOM',\n  'I-IDIOM',\n  'O',\n  'O',\n  'O',\n  'O',\n  'O',\n  'O',\n  'O',\n  'O',\n  'O',\n  'O',\n  'O',\n  'O',\n  'O',\n  'O',\n  'O'],\n ['O',\n  'I-IDIOM',\n  'I-IDIOM',\n  'I-IDIOM',\n  'O',\n  'O',\n  'O',\n  'O',\n  'O',\n  'O',\n  'O',\n  'O',\n  'O',\n  'O',\n  'O',\n  'O',\n  'O',\n  'O',\n  'O',\n  'O',\n  'O',\n  'O',\n  'O'],\n ['O',\n  'O',\n  'O',\n  'O',\n  'I-IDIOM',\n  'I-IDIOM',\n  'O',\n  'O',\n  'O',\n  'O',\n  'O',\n  'O',\n  'O',\n  'O',\n  'O',\n  'O',\n  'O',\n  'O',\n  'O',\n  'O',\n  'O',\n  'O',\n  'O',\n  'O',\n  'O',\n  'O',\n  'O',\n  'O',\n  'O'],\n ['O',\n  'O',\n  'O',\n  'O',\n  'O',\n  'O',\n  'O',\n  'I-IDIOM',\n  'I-IDIOM',\n  'I-IDIOM',\n  'I-IDIOM',\n  'I-IDIOM',\n  'O',\n  'O'],\n ['O',\n  'O',\n  'O',\n  'O',\n  'O',\n  'O',\n  'O',\n  'O',\n  'O',\n  'O',\n  'O',\n  'O',\n  'O',\n  'O',\n  'O',\n  'O',\n  'O',\n  'O',\n  'O',\n  'O',\n  'O',\n  'O',\n  'O',\n  'O',\n  'O',\n  'O',\n  'O',\n  'O',\n  'O',\n  'O',\n  'I-IDIOM',\n  'I-IDIOM',\n  'I-IDIOM',\n  'O',\n  'O',\n  'O',\n  'O',\n  'O'],\n ['O',\n  'O',\n  'O',\n  'O',\n  'O',\n  'O',\n  'O',\n  'O',\n  'O',\n  'O',\n  'O',\n  'O',\n  'O',\n  'O',\n  'I-IDIOM',\n  'I-IDIOM',\n  'I-IDIOM',\n  'O'],\n ['O',\n  'O',\n  'O',\n  'O',\n  'O',\n  'O',\n  'O',\n  'O',\n  'O',\n  'O',\n  'O',\n  'O',\n  'O',\n  'O',\n  'O',\n  'O',\n  'O',\n  'O',\n  'O',\n  'O',\n  'O',\n  'O',\n  'O',\n  'O',\n  'O',\n  'O',\n  'O',\n  'O',\n  'O',\n  'O',\n  'O',\n  'O',\n  'O',\n  'O',\n  'O',\n  'O',\n  'O',\n  'O',\n  'O',\n  'O',\n  'O',\n  'O',\n  'O',\n  'O',\n  'O',\n  'O',\n  'I-IDIOM',\n  'I-IDIOM',\n  'I-IDIOM',\n  'I-IDIOM',\n  'I-IDIOM',\n  'I-IDIOM',\n  'O',\n  'O',\n  'O',\n  'O',\n  'O',\n  'O',\n  'O',\n  'O',\n  'O',\n  'O',\n  'O',\n  'O',\n  'O',\n  'O'],\n ['O',\n  'O',\n  'O',\n  'O',\n  'O',\n  'O',\n  'O',\n  'O',\n  'O',\n  'O',\n  'O',\n  'I-IDIOM',\n  'I-IDIOM',\n  'I-IDIOM',\n  'O',\n  'O',\n  'O',\n  'O',\n  'O',\n  'O',\n  'O',\n  'O',\n  'O',\n  'O',\n  'O',\n  'O',\n  'O',\n  'O',\n  'O',\n  'O'],\n ['O',\n  'O',\n  'O',\n  'O',\n  'O',\n  'O',\n  'O',\n  'O',\n  'O',\n  'O',\n  'O',\n  'O',\n  'O',\n  'O',\n  'I-IDIOM',\n  'I-IDIOM',\n  'I-IDIOM',\n  'O'],\n ['O',\n  'O',\n  'O',\n  'O',\n  'O',\n  'O',\n  'O',\n  'O',\n  'O',\n  'O',\n  'O',\n  'O',\n  'O',\n  'O',\n  'O',\n  'O',\n  'I-IDIOM',\n  'I-IDIOM',\n  'I-IDIOM',\n  'O',\n  'O',\n  'O',\n  'O',\n  'O',\n  'O',\n  'O',\n  'O',\n  'O',\n  'O',\n  'O',\n  'O',\n  'O',\n  'O',\n  'O',\n  'O',\n  'O',\n  'O',\n  'O',\n  'O',\n  'O',\n  'O',\n  'O',\n  'O',\n  'O',\n  'O',\n  'O',\n  'O',\n  'O',\n  'O',\n  'O',\n  'O',\n  'O',\n  'O',\n  'O',\n  'O',\n  'O',\n  'O',\n  'O',\n  'O',\n  'O',\n  'O',\n  'O',\n  'O',\n  'O',\n  'O',\n  'O',\n  'O',\n  'O'],\n ['O',\n  'O',\n  'O',\n  'I-IDIOM',\n  'I-IDIOM',\n  'O',\n  'O',\n  'O',\n  'O',\n  'O',\n  'O',\n  'O',\n  'O',\n  'O',\n  'O'],\n ['O',\n  'O',\n  'O',\n  'O',\n  'O',\n  'O',\n  'O',\n  'O',\n  'O',\n  'O',\n  'O',\n  'I-IDIOM',\n  'I-IDIOM',\n  'I-IDIOM',\n  'O',\n  'O',\n  'O',\n  'O',\n  'O',\n  'O',\n  'O',\n  'O',\n  'O',\n  'O',\n  'O',\n  'O',\n  'O',\n  'O',\n  'O'],\n ['O',\n  'O',\n  'O',\n  'O',\n  'O',\n  'O',\n  'O',\n  'O',\n  'I-IDIOM',\n  'I-IDIOM',\n  'I-IDIOM',\n  'I-IDIOM',\n  'O',\n  'O',\n  'O'],\n ['O',\n  'O',\n  'O',\n  'O',\n  'O',\n  'O',\n  'O',\n  'O',\n  'O',\n  'O',\n  'O',\n  'O',\n  'O',\n  'O',\n  'O',\n  'O',\n  'O',\n  'O',\n  'O',\n  'O',\n  'I-IDIOM',\n  'I-IDIOM',\n  'I-IDIOM',\n  'O',\n  'O',\n  'O',\n  'O',\n  'O'],\n ['O',\n  'O',\n  'O',\n  'O',\n  'O',\n  'O',\n  'O',\n  'O',\n  'O',\n  'O',\n  'O',\n  'O',\n  'O',\n  'O',\n  'O',\n  'O',\n  'O',\n  'O',\n  'O',\n  'O',\n  'O',\n  'O',\n  'O',\n  'I-IDIOM',\n  'I-IDIOM',\n  'I-IDIOM',\n  'O',\n  'O',\n  'O',\n  'O',\n  'O',\n  'O',\n  'O',\n  'O',\n  'O',\n  'O',\n  'O',\n  'O',\n  'O',\n  'O',\n  'O',\n  'O',\n  'O',\n  'O',\n  'O',\n  'O',\n  'O',\n  'O',\n  'O',\n  'O',\n  'O',\n  'O',\n  'O',\n  'O'],\n ['O',\n  'O',\n  'O',\n  'O',\n  'O',\n  'O',\n  'O',\n  'O',\n  'O',\n  'O',\n  'O',\n  'O',\n  'O',\n  'O',\n  'I-IDIOM',\n  'I-IDIOM',\n  'O',\n  'O',\n  'O',\n  'O',\n  'O',\n  'O',\n  'O',\n  'O',\n  'O',\n  'O',\n  'O',\n  'O',\n  'O',\n  'O',\n  'O',\n  'O',\n  'O',\n  'O',\n  'O',\n  'O',\n  'O',\n  'O',\n  'O',\n  'O',\n  'O',\n  'O',\n  'O',\n  'O',\n  'O',\n  'O'],\n ['O',\n  'O',\n  'O',\n  'O',\n  'O',\n  'O',\n  'O',\n  'O',\n  'O',\n  'O',\n  'O',\n  'O',\n  'I-IDIOM',\n  'I-IDIOM',\n  'O'],\n ['O',\n  'O',\n  'O',\n  'I-IDIOM',\n  'I-IDIOM',\n  'I-IDIOM',\n  'I-IDIOM',\n  'O',\n  'O',\n  'O',\n  'O',\n  'O',\n  'O'],\n ['O',\n  'O',\n  'O',\n  'O',\n  'O',\n  'O',\n  'I-IDIOM',\n  'I-IDIOM',\n  'I-IDIOM',\n  'O',\n  'O',\n  'O',\n  'O',\n  'O',\n  'O'],\n ['O',\n  'O',\n  'O',\n  'O',\n  'O',\n  'O',\n  'O',\n  'O',\n  'O',\n  'O',\n  'O',\n  'O',\n  'O',\n  'O',\n  'O',\n  'O',\n  'I-IDIOM',\n  'I-IDIOM',\n  'I-IDIOM',\n  'O',\n  'O',\n  'O',\n  'O',\n  'O',\n  'O',\n  'O',\n  'O',\n  'O',\n  'O',\n  'O',\n  'O',\n  'O',\n  'O',\n  'O',\n  'O',\n  'O',\n  'O',\n  'O',\n  'O',\n  'O',\n  'O'],\n ['O',\n  'O',\n  'O',\n  'O',\n  'O',\n  'O',\n  'I-IDIOM',\n  'I-IDIOM',\n  'I-IDIOM',\n  'I-IDIOM',\n  'I-IDIOM',\n  'O',\n  'O',\n  'O',\n  'O',\n  'O',\n  'O',\n  'O',\n  'O',\n  'O',\n  'O',\n  'O',\n  'O',\n  'O',\n  'O',\n  'O',\n  'O',\n  'O',\n  'O',\n  'O',\n  'O',\n  'O',\n  'O',\n  'O'],\n ['O',\n  'O',\n  'O',\n  'O',\n  'O',\n  'I-IDIOM',\n  'I-IDIOM',\n  'I-IDIOM',\n  'O',\n  'O',\n  'O',\n  'O',\n  'O',\n  'O',\n  'O',\n  'O',\n  'O',\n  'O',\n  'O',\n  'O',\n  'O',\n  'O',\n  'O',\n  'O',\n  'O',\n  'O',\n  'O',\n  'O',\n  'O',\n  'O',\n  'O',\n  'O',\n  'O',\n  'O'],\n ['O',\n  'O',\n  'O',\n  'O',\n  'O',\n  'O',\n  'O',\n  'O',\n  'O',\n  'O',\n  'O',\n  'O',\n  'O',\n  'O',\n  'I-IDIOM',\n  'I-IDIOM',\n  'I-IDIOM',\n  'I-IDIOM',\n  'O'],\n ['O', 'O', 'O', 'O', 'O', 'O', 'I-IDIOM', 'I-IDIOM', 'O'],\n ['O', 'O', 'O', 'O', 'O', 'O', 'I-IDIOM', 'I-IDIOM', 'O'],\n ['O',\n  'O',\n  'O',\n  'O',\n  'O',\n  'O',\n  'O',\n  'I-IDIOM',\n  'I-IDIOM',\n  'I-IDIOM',\n  'O',\n  'O',\n  'O',\n  'O',\n  'O'],\n ['O',\n  'O',\n  'O',\n  'O',\n  'O',\n  'O',\n  'O',\n  'I-IDIOM',\n  'I-IDIOM',\n  'O',\n  'O',\n  'O',\n  'O',\n  'O',\n  'O',\n  'O',\n  'O',\n  'O',\n  'O',\n  'O'],\n ...]"
     },
     "execution_count": 15,
     "metadata": {},
     "output_type": "execute_result"
    }
   ],
   "source": [
    "X_train, X_test, y_train_tags, y_test_tags, y_train_labels, y_test_labels = train_test_split(\n",
    "    df['text'], tags, df['label'], test_size=0.2, random_state=42)\n",
    "\n",
    "def zero_out_tags(tags, labels):\n",
    "    \"\"\"Zeroes out tags for negative-labeled samples.\"\"\"\n",
    "    modified_tags = []\n",
    "    for tag_sequence, label in zip(tags, labels):\n",
    "        if label == 0:\n",
    "            # Replace tag sequence with a sequence of 'O's\n",
    "            modified_tags.append(['O'] * len(tag_sequence))\n",
    "        else:\n",
    "            modified_tags.append(tag_sequence)\n",
    "    return modified_tags\n",
    "\n",
    "# Modify the tags in training and test sets\n",
    "y_train_tags_modified = zero_out_tags(y_train_tags, y_train_labels)\n",
    "y_test_tags_modified = zero_out_tags(y_test_tags, y_test_labels)\n",
    "\n",
    "y_train_tags_modified"
   ],
   "metadata": {
    "collapsed": false,
    "ExecuteTime": {
     "end_time": "2023-12-11T01:06:22.618873Z",
     "start_time": "2023-12-11T01:06:22.500962Z"
    }
   }
  },
  {
   "cell_type": "code",
   "execution_count": 16,
   "outputs": [
    {
     "name": "stdout",
     "output_type": "stream",
     "text": [
      "Special characters found in the dataset: ['!', '\"', '$', '%', '&', \"'\", '(', ')', '*', '+', ',', '-', '.', '/', ':', ';', '=', '?', '[', ']', '_', '£', '¥', '¨', '°', '½', '¾', 'à', 'á', 'â', 'ä', 'å', 'æ', 'ç', 'è', 'é', 'ê', 'ë', 'í', 'ï', 'ñ', 'ò', 'ó', 'ô', 'ö', 'ø', 'ù', 'ü', 'ý', 'ā', 'ş', 'š', 'β', '–', '—', '‘', '’', '•', '…', '′', '″', '⅛']\n"
     ]
    }
   ],
   "source": [
    "# Set of standard characters\n",
    "standard_chars = set(string.ascii_letters + string.digits + string.whitespace)\n",
    "\n",
    "def find_special_chars(text):\n",
    "    \"\"\"Find special characters in a text.\"\"\"\n",
    "    return set(char for char in text if char not in standard_chars)\n",
    "\n",
    "# Apply the function to each text entry in the X_train DataFrame and accumulate the results\n",
    "special_chars = set()\n",
    "X_train.apply(lambda x: special_chars.update(find_special_chars(x)))\n",
    "\n",
    "print(\"Special characters found in the dataset:\", sorted(special_chars))"
   ],
   "metadata": {
    "collapsed": false,
    "ExecuteTime": {
     "end_time": "2023-12-11T01:06:23.781012Z",
     "start_time": "2023-12-11T01:06:23.722427Z"
    }
   }
  },
  {
   "cell_type": "code",
   "execution_count": 17,
   "outputs": [
    {
     "data": {
      "text/plain": "'\\t\\n#<>@\\\\^`{|}~'"
     },
     "execution_count": 17,
     "metadata": {},
     "output_type": "execute_result"
    }
   ],
   "source": [
    "# Default filters in Tokenizer, from https://www.tensorflow.org/api_docs/python/tf/keras/preprocessing/text/Tokenizer\n",
    "default_filters = '!\"#$%&()*+,-./:;<=>?@[\\\\]^_`{|}~\\t\\n'\n",
    "default_filters_set = set(list(default_filters))\n",
    "\n",
    "# Remove specific characters from the default filters\n",
    "custom_filters_set = default_filters_set - special_chars\n",
    "\n",
    "# Convert custom filters set to a string\n",
    "custom_filters = \"\".join(sorted(custom_filters_set))\n",
    "custom_filters"
   ],
   "metadata": {
    "collapsed": false,
    "ExecuteTime": {
     "end_time": "2023-12-11T01:06:24.446522Z",
     "start_time": "2023-12-11T01:06:24.424253Z"
    }
   }
  },
  {
   "cell_type": "code",
   "execution_count": 18,
   "outputs": [],
   "source": [
    "# Tokenize the words\n",
    "word_tokenizer = Tokenizer(lower=False, filters=custom_filters)\n",
    "word_tokenizer.fit_on_texts(X_train)\n",
    "X_train_tokens = tokenize_and_pad(X_train, word_tokenizer)\n",
    "X_test_tokens = tokenize_and_pad(X_test, word_tokenizer)\n",
    "\n",
    "# Tokenize the tags\n",
    "tag_tokenizer = Tokenizer(lower=False)\n",
    "tag_tokenizer.fit_on_texts(y_train_tags_modified)\n",
    "y_train_tokens = tokenize_and_pad(y_train_tags_modified, tag_tokenizer)\n",
    "y_test_tokens = tokenize_and_pad(y_test_tags_modified, tag_tokenizer)"
   ],
   "metadata": {
    "collapsed": false,
    "ExecuteTime": {
     "end_time": "2023-12-11T01:06:25.576722Z",
     "start_time": "2023-12-11T01:06:24.990746Z"
    }
   }
  },
  {
   "cell_type": "code",
   "execution_count": 19,
   "outputs": [
    {
     "name": "stdout",
     "output_type": "stream",
     "text": [
      "[ 72   2  95 112   3   0   0   0   0   0   0   0   0   0   0   0   0   0\n",
      "   0   0   0   0   0   0   0   0   0   0   0   0   0   0   0   0   0   0\n",
      "   0   0   0   0   0   0   0   0   0   0   0   0   0   0   0   0   0   0\n",
      "   0   0   0   0   0   0   0   0   0   0   0   0   0   0   0   0   0   0\n",
      "   0   0   0   0   0   0   0   0   0   0   0   0   0   0   0   0   0   0\n",
      "   0   0   0   0   0   0   0   0   0   0]\n",
      "['O', 'O', 'I-IDIOM', 'I-IDIOM', 'O']\n",
      "words                  [no, ,, never, mind, .]\n",
      "tags               [O, O, B-IDIOM, I-IDIOM, O]\n",
      "candidate                           never mind\n",
      "label                                        1\n",
      "sentence_length                              5\n",
      "text                         no , never mind .\n",
      "Name: 397, dtype: object\n"
     ]
    }
   ],
   "source": [
    "print(X_test_tokens[4])\n",
    "print(y_test_tags_modified[4])\n",
    "print(df.iloc[397])\n",
    "# We confirm that the special characters are now included as their own words in the dataset, as evidenced by the fact that X_test_tokens[4] has five non-zero tokens."
   ],
   "metadata": {
    "collapsed": false,
    "ExecuteTime": {
     "end_time": "2023-12-11T01:06:25.579968Z",
     "start_time": "2023-12-11T01:06:25.577480Z"
    }
   }
  },
  {
   "cell_type": "code",
   "execution_count": 20,
   "outputs": [
    {
     "name": "stdout",
     "output_type": "stream",
     "text": [
      "24822    0\n",
      "23681    0\n",
      "23205    0\n",
      "24436    0\n",
      "24006    0\n",
      "        ..\n",
      "23685    0\n",
      "24609    0\n",
      "23292    0\n",
      "22209    0\n",
      "24960    0\n",
      "Name: label, Length: 83, dtype: int64\n",
      "in addition , the system , when compressed , allows for a greater circulation of air around the foot , keeping it cool and dry .\n",
      "19\n",
      "['O', 'O', 'O', 'O', 'O', 'O', 'O', 'O', 'O', 'O', 'O', 'O', 'O', 'O', 'O', 'O', 'O', 'O', 'O', 'O', 'O', 'O', 'O', 'O', 'O', 'O']\n"
     ]
    }
   ],
   "source": [
    "# We look for the first sentence in the test set whose label is 0, and verify that it has been zeroed out succesfully.\n",
    "print(y_test_labels[y_test_labels == 0])\n",
    "print(X_test[24822])\n",
    "print([i for i, idx in enumerate(y_test_labels.index) if idx == 24822][0])\n",
    "print(y_test_tags_modified[19])"
   ],
   "metadata": {
    "collapsed": false,
    "ExecuteTime": {
     "end_time": "2023-12-11T01:06:26.143114Z",
     "start_time": "2023-12-11T01:06:26.122687Z"
    }
   }
  },
  {
   "cell_type": "code",
   "execution_count": 263,
   "outputs": [],
   "source": [
    "# Now, we create a new model and train it.\n",
    "\n",
    "# Model architecture\n",
    "input_tensor = Input(shape=(max_len,))\n",
    "model = Embedding(input_dim=len(word_tokenizer.word_index) + 1, output_dim=50, input_length=max_len)(input_tensor)\n",
    "model = Bidirectional(LSTM(units=100, return_sequences=True, recurrent_dropout=0.1))(model)\n",
    "model = TimeDistributed(Dense(50, activation=\"relu\"))(model)\n",
    "crf = CRF(len(tag_tokenizer.word_index) + 1)  # CRF layer\n",
    "out = crf(model)  # output\n",
    "\n",
    "model = ModelWithCRFLoss(Model(input_tensor, out))\n",
    "\n",
    "# Compile the model\n",
    "model.compile(optimizer=\"adam\")"
   ],
   "metadata": {
    "collapsed": false,
    "ExecuteTime": {
     "end_time": "2023-12-10T23:36:19.318043Z",
     "start_time": "2023-12-10T23:36:19.183493Z"
    }
   }
  },
  {
   "cell_type": "code",
   "execution_count": 264,
   "outputs": [
    {
     "data": {
      "text/plain": "array([[   29,    42,     4, ...,     0,     0,     0],\n       [    1, 11659,   301, ...,     0,     0,     0],\n       [   33,    65,    53, ...,     0,     0,     0],\n       ...,\n       [  133, 34136, 10867, ...,     0,     0,     0],\n       [   39,    71,    10, ...,   134,   136,    71],\n       [   18,    14,     7, ...,     0,     0,     0]], dtype=int32)"
     },
     "execution_count": 264,
     "metadata": {},
     "output_type": "execute_result"
    }
   ],
   "source": [
    "X_train_tokens"
   ],
   "metadata": {
    "collapsed": false,
    "ExecuteTime": {
     "end_time": "2023-12-10T23:36:22.207079Z",
     "start_time": "2023-12-10T23:36:22.200256Z"
    }
   }
  },
  {
   "cell_type": "code",
   "execution_count": 265,
   "outputs": [
    {
     "data": {
      "text/plain": "array([[1, 1, 1, ..., 0, 0, 0],\n       [1, 1, 1, ..., 0, 0, 0],\n       [1, 1, 1, ..., 0, 0, 0],\n       ...,\n       [1, 1, 1, ..., 0, 0, 0],\n       [1, 1, 1, ..., 1, 1, 1],\n       [1, 1, 2, ..., 0, 0, 0]], dtype=int32)"
     },
     "execution_count": 265,
     "metadata": {},
     "output_type": "execute_result"
    }
   ],
   "source": [
    "y_train_tokens"
   ],
   "metadata": {
    "collapsed": false,
    "ExecuteTime": {
     "end_time": "2023-12-10T23:36:23.476968Z",
     "start_time": "2023-12-10T23:36:23.467586Z"
    }
   }
  },
  {
   "cell_type": "code",
   "execution_count": 266,
   "outputs": [
    {
     "name": "stdout",
     "output_type": "stream",
     "text": [
      "Epoch 1/5\n",
      "564/564 [==============================] - 101s 174ms/step - loss: 6.7263 - accuracy: 0.9740 - val_loss_val: 2.1210 - val_val_accuracy: 0.9904\n",
      "Epoch 2/5\n",
      "564/564 [==============================] - 104s 184ms/step - loss: 1.4303 - accuracy: 0.9935 - val_loss_val: 1.3810 - val_val_accuracy: 0.9936\n",
      "Epoch 3/5\n",
      "564/564 [==============================] - 101s 178ms/step - loss: 0.7753 - accuracy: 0.9966 - val_loss_val: 1.2547 - val_val_accuracy: 0.9941\n",
      "Epoch 4/5\n",
      "564/564 [==============================] - 86s 152ms/step - loss: 0.4858 - accuracy: 0.9979 - val_loss_val: 1.1485 - val_val_accuracy: 0.9943\n",
      "Epoch 5/5\n",
      "564/564 [==============================] - 86s 153ms/step - loss: 0.3371 - accuracy: 0.9985 - val_loss_val: 1.1724 - val_val_accuracy: 0.9943\n"
     ]
    }
   ],
   "source": [
    "# Train the model\n",
    "history = model.fit(X_train_tokens, y_train_tokens, batch_size=32, epochs=5, validation_split=0.1, verbose=1)"
   ],
   "metadata": {
    "collapsed": false,
    "ExecuteTime": {
     "end_time": "2023-12-10T23:44:21.751517Z",
     "start_time": "2023-12-10T23:36:24.522758Z"
    }
   }
  },
  {
   "cell_type": "code",
   "execution_count": 267,
   "outputs": [
    {
     "name": "stdout",
     "output_type": "stream",
     "text": [
      "157/157 [==============================] - 4s 27ms/step\n"
     ]
    }
   ],
   "source": [
    "# Evaluate the model\n",
    "y_pred_tokens = model.predict(X_test_tokens)"
   ],
   "metadata": {
    "collapsed": false,
    "ExecuteTime": {
     "end_time": "2023-12-10T23:44:26.120280Z",
     "start_time": "2023-12-10T23:44:21.751707Z"
    }
   }
  },
  {
   "cell_type": "code",
   "execution_count": 268,
   "outputs": [
    {
     "data": {
      "text/plain": "array([[1, 1, 1, ..., 0, 0, 0],\n       [1, 1, 1, ..., 0, 0, 0],\n       [1, 1, 1, ..., 0, 0, 0],\n       ...,\n       [1, 1, 1, ..., 0, 0, 0],\n       [1, 1, 1, ..., 0, 0, 0],\n       [1, 2, 2, ..., 0, 0, 0]], dtype=int32)"
     },
     "execution_count": 268,
     "metadata": {},
     "output_type": "execute_result"
    }
   ],
   "source": [
    "y_test_tokens"
   ],
   "metadata": {
    "collapsed": false,
    "ExecuteTime": {
     "end_time": "2023-12-10T23:44:26.122984Z",
     "start_time": "2023-12-10T23:44:26.120801Z"
    }
   }
  },
  {
   "cell_type": "code",
   "execution_count": 269,
   "outputs": [
    {
     "data": {
      "text/plain": "array([[1, 1, 1, ..., 0, 0, 0],\n       [1, 1, 1, ..., 0, 0, 0],\n       [1, 1, 1, ..., 0, 0, 0],\n       ...,\n       [1, 1, 1, ..., 0, 0, 0],\n       [1, 1, 1, ..., 0, 0, 0],\n       [1, 2, 2, ..., 0, 0, 0]], dtype=int32)"
     },
     "execution_count": 269,
     "metadata": {},
     "output_type": "execute_result"
    }
   ],
   "source": [
    "y_pred_tokens"
   ],
   "metadata": {
    "collapsed": false,
    "ExecuteTime": {
     "end_time": "2023-12-10T23:44:26.126175Z",
     "start_time": "2023-12-10T23:44:26.124109Z"
    }
   }
  },
  {
   "cell_type": "code",
   "execution_count": 270,
   "outputs": [
    {
     "data": {
      "text/plain": "[(122, 98, '0'),\n (260, 99, '0'),\n (2019, 96, '0'),\n (3084, 28, '0'),\n (4580, 9, '0'),\n (4915, 99, '0')]"
     },
     "execution_count": 270,
     "metadata": {},
     "output_type": "execute_result"
    }
   ],
   "source": [
    "# We still see a few violations of the syntactic rules; that's fine.\n",
    "verify_sequences(y_pred_tokens)"
   ],
   "metadata": {
    "collapsed": false,
    "ExecuteTime": {
     "end_time": "2023-12-10T23:44:26.861309Z",
     "start_time": "2023-12-10T23:44:26.188766Z"
    }
   }
  },
  {
   "cell_type": "code",
   "execution_count": 271,
   "outputs": [
    {
     "name": "stdout",
     "output_type": "stream",
     "text": [
      "Sample 0 (label 1, idiom 'over the top'):\n",
      "- Predicted: guido took a mouthful of his whisky , his eyes scanning **her amusedly over** the top of his glass .\n",
      "- Actual: guido took a mouthful of his whisky , his eyes scanning her amusedly **over the top** of his glass .\n",
      "\n",
      "Sample 1 (label 1, idiom 'all the way'):\n",
      "- Predicted: it 's two days ' journey to london by horse , and will talked **all the way** .\n",
      "- Actual: it 's two days ' journey to london by horse , and will talked **all the way** .\n",
      "\n",
      "Sample 2 (label 1, idiom 'out of sight'):\n",
      "- Predicted: so , with ‘ fly away peter ’ you lift up your left hand and , as your fingers go **out of sight** behind your ears , you put away your index finger and bring out the second finger .\n",
      "- Actual: so , with ‘ fly away peter ’ you lift up your left hand and , as your fingers go **out of sight** behind your ears , you put away your index finger and bring out the second finger .\n",
      "\n",
      "Sample 3 (label 1, idiom 'on the rocks'):\n",
      "- Predicted: duane jackson ( jeff bridges ) has survived rocky adolescence and service in korea to earn big money in the 70s boom , but as anarene prepares for centennial celebrations , with a replica of ‘ old texasville ’ in the town square , he 's saddled with debts **of $12 million** , a marriage on the rocks and a tearaway elder son with a liking for older women .\n",
      "- Actual: duane jackson ( jeff bridges ) has survived rocky adolescence and service in korea to earn big money in the 70s boom , but as anarene prepares for centennial celebrations , with a replica of ‘ old texasville ’ in the town square , he 's saddled with debts of $12 million , a marriage **on the rocks** and a tearaway elder son with a liking for older women .\n",
      "\n",
      "Sample 4 (label 1, idiom 'never mind'):\n",
      "- Predicted: no , **never mind** .\n",
      "- Actual: no , **never mind** .\n",
      "\n",
      "Sample 5 (label 1, idiom 'against time'):\n",
      "- Predicted: the beam deflection is then fed to a recorder and a trace of stress **against time** is obtained .\n",
      "- Actual: the beam deflection is then fed to a recorder and a trace of stress **against time** is obtained .\n",
      "\n",
      "Sample 6 (label 1, idiom 'all the way'):\n",
      "- Predicted: the night goblins continued to harass the dwarf **column all the** way to the citadel , but thanks to their heavy armour and natural toughness there were few more casualties .\n",
      "- Actual: the night goblins continued to harass the dwarf column **all the way** to the citadel , but thanks to their heavy armour and natural toughness there were few more casualties .\n",
      "\n",
      "Sample 7 (label 1, idiom 'out of sight'):\n",
      "- Predicted: his coach had been parked **out of sight** while his white saddle horse had been tethered to a post at the roadside so that the passing soldiers would think their emperor was riding to war instead of being carried in upholstered comfort .\n",
      "- Actual: his coach had been parked **out of sight** while his white saddle horse had been tethered to a post at the roadside so that the passing soldiers would think their emperor was riding to war instead of being carried in upholstered comfort .\n",
      "\n",
      "Sample 8 (label 1, idiom 'behind bars'):\n",
      "- Predicted: because of this , people make the attractive and easy deduction that those **behind bars** constitute our most serious criminals .\n",
      "- Actual: because of this , people make the attractive and easy deduction that those **behind bars** constitute our most serious criminals .\n",
      "\n",
      "Sample 9 (label 1, idiom 'out of the blue'):\n",
      "- Predicted: ‘ ah , rodion romanovich , ’ he says completely out of the blue , ‘ what every man needs is air , air , air !\n",
      "- Actual: ‘ ah , rodion romanovich , ’ he says completely **out of the blue** , ‘ what every man needs is air , air , air !\n",
      "\n",
      "Sample 10 (label 1, idiom 'now and then'):\n",
      "- Predicted: a wee smack **now and then** , mind .\n",
      "- Actual: a wee smack **now and then** , mind .\n",
      "\n",
      "Sample 11 (label 1, idiom 'all the way'):\n",
      "- Predicted: gives , gives her the cramps **all the way** across here .\n",
      "- Actual: gives , gives her the cramps **all the way** across here .\n",
      "\n",
      "Sample 12 (label 1, idiom 'just in case'):\n",
      "- Predicted: going back to the railway station was for the moment out of the question , **just in case** i bumped into someone who recognized me .\n",
      "- Actual: going back to the railway station was for the moment out of the question , **just in case** i bumped into someone who recognized me .\n",
      "\n",
      "Sample 13 (label 1, idiom 'on the table'):\n",
      "- Predicted: he denied angrily that he had ever sought compensation of up to £1m ‘ although this has been a very expensive operation ’ , adding : ‘ i could have proceeded had i been totally selfish for there were several options **on the table** , financially very attractive . ’\n",
      "- Actual: he denied angrily that he had ever sought compensation of up to £1m ‘ although this has been a very expensive operation ’ , adding : ‘ i could have proceeded had i been totally selfish for there were several options **on the table** , financially very attractive . ’\n",
      "\n",
      "Sample 14 (label 1, idiom 'over the top'):\n",
      "- Predicted: but there 's times when we can go say from our middle third dink **over the top** for john durnin .\n",
      "- Actual: but there 's times when we can go say from our middle third dink **over the top** for john durnin .\n",
      "\n",
      "Sample 15 (label 1, idiom 'out of sight'):\n",
      "- Predicted: then there are the cupboards and drawers , both inside and out , top and bottom and all the shelves too — areas that are often **out of sight** and out of mind .\n",
      "- Actual: then there are the cupboards and drawers , both inside and out , top and bottom and all the shelves too — areas that are often **out of sight** and out of mind .\n",
      "\n",
      "Sample 16 (label 1, idiom 'out of sight'):\n",
      "- Predicted: he slumped inside the cockpit as far as he could , **out of sight** of the pounding high explosive , protected by old canvas against jagged shell-fragments ; and dimly recognized the familiar sensation of hot urine soaking down his right leg .\n",
      "- Actual: he slumped inside the cockpit as far as he could , **out of sight** of the pounding high explosive , protected by old canvas against jagged shell-fragments ; and dimly recognized the familiar sensation of hot urine soaking down his right leg .\n",
      "\n",
      "Sample 17 (label 1, idiom 'in the bag'):\n",
      "- Predicted: he reaches **in the bag** and starts to throw his bread upon the waters .\n",
      "- Actual: he reaches **in the bag** and starts to throw his bread upon the waters .\n",
      "\n",
      "Sample 18 (label 1, idiom 'on the table'):\n",
      "- Predicted: in washington , president clinton said that the option of lifting the un arms embargo was still **on the table** even though britain , russia and france rejected his earlier proposal to do so .\n",
      "- Actual: in washington , president clinton said that the option of lifting the un arms embargo was still **on the table** even though britain , russia and france rejected his earlier proposal to do so .\n",
      "\n",
      "Sample 19 (label 0, idiom 'keep [pron] cool'):\n",
      "- Predicted: in addition , the system , when compressed , allows for a greater circulation of air around the foot , **keeping it cool** and dry .\n",
      "- Actual: in addition , the system , when compressed , allows for a greater circulation of air around the foot , keeping it cool and dry .\n",
      "\n"
     ]
    }
   ],
   "source": [
    "for i in range(20):\n",
    "    print(f\"Sample {i} (label {X_test_expanded['label'][i]}, idiom '{X_test_expanded['candidate'][i]}'):\")\n",
    "    print(f\"- Predicted: {mark_idioms(X_test_expanded['words'][i], y_pred_tokens[i])}\")\n",
    "    print(f\"- Actual: {mark_idioms(X_test_expanded['words'][i], y_test_tokens[i])}\")\n",
    "    print()"
   ],
   "metadata": {
    "collapsed": false,
    "ExecuteTime": {
     "end_time": "2023-12-10T23:44:26.865122Z",
     "start_time": "2023-12-10T23:44:26.862634Z"
    }
   }
  },
  {
   "cell_type": "markdown",
   "source": [
    "The updated model seems to do a better job of tagging idioms at the correct location. For example, the previous model incorrectly marked the idiom as \"talked all the\" in sample 1, whereas this model correctly marked the idiom as \"all the way.\" This is an indication that the updated tokenization helped the model understand the data better. It's still not perfect, however. For example, the model still predicts sample 6 as \"column all the\" rather than \"all the way,\" which is the same mistake it made in the previous iteration."
   ],
   "metadata": {
    "collapsed": false
   }
  },
  {
   "cell_type": "code",
   "execution_count": 272,
   "outputs": [
    {
     "name": "stdout",
     "output_type": "stream",
     "text": [
      "Sample 19 (label 0, idiom 'keep [pron] cool'):\n",
      "- Predicted: in addition , the system , when compressed , allows for a greater circulation of air around the foot , **keeping it cool** and dry .\n",
      "- Actual: in addition , the system , when compressed , allows for a greater circulation of air around the foot , keeping it cool and dry .\n",
      "\n",
      "Sample 24 (label 0, idiom 'add fuel to [pron] fire'):\n",
      "- Predicted: anya leans forward and adds more coal to the fire .\n",
      "- Actual: anya leans forward and adds more coal to the fire .\n",
      "\n",
      "Sample 186 (label 0, idiom 'watch [pron] mouth'):\n",
      "- Predicted: he watched her mouth **fall open** like an idiot 's , while her hand let the brush clatter to the floor ; she fell sideways , whether in a real or assumed faint he did not know or care .\n",
      "- Actual: he watched her mouth fall open like an idiot 's , while her hand let the brush clatter to the floor ; she fell sideways , whether in a real or assumed faint he did not know or care .\n",
      "\n",
      "Sample 316 (label 0, idiom 'bite [pron] tongue'):\n",
      "- Predicted: symptoms of anxiety may be controlled with practice using only a mild sensation of pain such as that created by digging your fingernails lightly into the palm of your hands , or pinching your earlobe , or **gently biting your** tongue or cheek .\n",
      "- Actual: symptoms of anxiety may be controlled with practice using only a mild sensation of pain such as that created by digging your fingernails lightly into the palm of your hands , or pinching your earlobe , or gently biting your tongue or cheek .\n",
      "\n",
      "Sample 437 (label 0, idiom 'pitch in'):\n",
      "- Predicted: timpani **give the best** tone and most distinct pitch in the middle and upper half of their compass .\n",
      "- Actual: timpani give the best tone and most distinct pitch in the middle and upper half of their compass .\n",
      "\n",
      "Sample 472 (label 0, idiom 'bite [pron] lip'):\n",
      "- Predicted: ‘ i held it and it was **biting my lip** and kissing my face … ‘\n",
      "- Actual: ‘ i held it and it was biting my lip and kissing my face … ‘\n",
      "\n",
      "Sample 498 (label 0, idiom 'black out'):\n",
      "- Predicted: as the war proceeded , however , several started operating by night and with all the lights blacked out .\n",
      "- Actual: as the war proceeded , however , several started operating by night and with all the lights blacked out .\n",
      "\n",
      "Sample 567 (label 0, idiom 'keep [pron] cool'):\n",
      "- Predicted: if you love sports and the sun is very hot , wear a white t-shirt , when windsurfing or water-skiing both to reflect the glare and to keep you cooler .\n",
      "- Actual: if you love sports and the sun is very hot , wear a white t-shirt , when windsurfing or water-skiing both to reflect the glare and to keep you cooler .\n",
      "\n",
      "Sample 632 (label 0, idiom 'wet blanket'):\n",
      "- Predicted: most of all , the colonel was intrigued that the **wet blanket** had absorbed the energy of the pistol shots .\n",
      "- Actual: most of all , the colonel was intrigued that the wet blanket had absorbed the energy of the pistol shots .\n",
      "\n",
      "Sample 660 (label 0, idiom 'to pull [pron] trigger'):\n",
      "- Predicted: they 're teaching them to pull the trigger at the academy of marksmanship .\n",
      "- Actual: they 're teaching them to pull the trigger at the academy of marksmanship .\n",
      "\n",
      "Sample 666 (label 0, idiom 'shoot straight'):\n",
      "- Predicted: thursday afternoon cpc bookstall julian critchley mp the palace of varieties has shot straight into the best-seller list .\n",
      "- Actual: thursday afternoon cpc bookstall julian critchley mp the palace of varieties has shot straight into the best-seller list .\n",
      "\n",
      "Sample 671 (label 0, idiom 'ring [pron] bell'):\n",
      "- Predicted: natasha rang a small bell and , almost instantly , a maid entered through another door .\n",
      "- Actual: natasha rang a small bell and , almost instantly , a maid entered through another door .\n",
      "\n",
      "Sample 679 (label 0, idiom 'man in blue'):\n",
      "- Predicted: ‘ exactly , ’ asked **the man in blue** , ‘ who are you ? ’\n",
      "- Actual: ‘ exactly , ’ asked the man in blue , ‘ who are you ? ’\n",
      "\n",
      "Sample 712 (label 0, idiom 'go dutch'):\n",
      "- Predicted: civil engineer **goes dutch**\n",
      "- Actual: civil engineer goes dutch\n",
      "\n",
      "Sample 714 (label 0, idiom 'come from behind'):\n",
      "- Predicted: **wolves may** not howl here in the moonlight , as they did in the journal of jonathan harker , but i have no difficulty in seeing slains as he saw count dracula 's castle in bukovina , the tall black windows from which not a glimmer of light came , and the jagged battlements glimpsed when the moon came out from behind the fitful clouds .\n",
      "- Actual: wolves may not howl here in the moonlight , as they did in the journal of jonathan harker , but i have no difficulty in seeing slains as he saw count dracula 's castle in bukovina , the tall black windows from which not a glimmer of light came , and the jagged battlements glimpsed when the moon came out from behind the fitful clouds .\n",
      "\n",
      "Sample 785 (label 0, idiom 'pig out'):\n",
      "- Predicted: **christmas day** 1988 has been delightful if unremarkable and we snuggle down after pigging out on room service and a floor picnic of the remaining marks and spencer goodies .\n",
      "- Actual: christmas day 1988 has been delightful if unremarkable and we snuggle down after pigging out on room service and a floor picnic of the remaining marks and spencer goodies .\n",
      "\n",
      "Sample 1009 (label 0, idiom 'curl [pron] lip'):\n",
      "- Predicted: the latter was aptly named , so tart that the first gulp curled your lips back .\n",
      "- Actual: the latter was aptly named , so tart that the first gulp curled your lips back .\n",
      "\n",
      "Sample 1069 (label 0, idiom 'keep [pron] head above water'):\n",
      "- Predicted: **keeping your head above water** is half the secret in sport and young karen rake seems to be made of the right stuff .\n",
      "- Actual: keeping your head above water is half the secret in sport and young karen rake seems to be made of the right stuff .\n",
      "\n",
      "Sample 1158 (label 0, idiom 'behind [pron] back'):\n",
      "- Predicted: clasp fingers behind your back and lean forwards , pushing **your arms** up until they 're at right angles to your back .\n",
      "- Actual: clasp fingers behind your back and lean forwards , pushing your arms up until they 're at right angles to your back .\n",
      "\n",
      "Sample 1193 (label 0, idiom 'bring to [pron] table'):\n",
      "- Predicted: candles were **brought to the tables** and any mishaps in the food or service were blamed on the lack of power , which lasted for three hours .\n",
      "- Actual: candles were brought to the tables and any mishaps in the food or service were blamed on the lack of power , which lasted for three hours .\n",
      "\n"
     ]
    }
   ],
   "source": [
    "# Print the first 20 test samples with label 0\n",
    "for x in [x for x in zip(range(len(X_test_expanded)), X_test_expanded['label'], X_test_expanded['candidate'], X_test_expanded['words']) if x[1] == 0][:20]:\n",
    "    i = x[0]\n",
    "    print(f\"Sample {x[0]} (label {x[1]}, idiom '{x[2]}'):\")\n",
    "    print(f\"- Predicted: {mark_idioms(x[3], y_pred_tokens[i])}\")\n",
    "    print(f\"- Actual: {mark_idioms(x[3], y_test_tokens[i])}\")\n",
    "    print()"
   ],
   "metadata": {
    "collapsed": false,
    "ExecuteTime": {
     "end_time": "2023-12-10T23:44:26.870010Z",
     "start_time": "2023-12-10T23:44:26.867924Z"
    }
   }
  },
  {
   "cell_type": "markdown",
   "source": [
    "The model still struggles with classifying negative samples correctly. Sometimes it picks the literal usage of the candidate idiom phrase, sometimes it picks a phrase seemingly at random. It only answers correctly (by marking all the words as literal) in a small proportion of the samples, e.g. samples 24, 498, 567, 660, 666, 671. Again, as with the idiom classifier, some of the data is polluted by incorrect labeling, e.g. sample 785, which is labeled as a negative sample for the idiom \"pig out,\" but which is actually an idiomatic usage of the phrase."
   ],
   "metadata": {
    "collapsed": false
   }
  },
  {
   "cell_type": "code",
   "execution_count": 273,
   "outputs": [
    {
     "data": {
      "text/plain": "{1: 'O', 2: 'I-IDIOM'}"
     },
     "execution_count": 273,
     "metadata": {},
     "output_type": "execute_result"
    }
   ],
   "source": [
    "tag_tokenizer.index_word"
   ],
   "metadata": {
    "collapsed": false,
    "ExecuteTime": {
     "end_time": "2023-12-10T23:44:26.871623Z",
     "start_time": "2023-12-10T23:44:26.870034Z"
    }
   }
  },
  {
   "cell_type": "code",
   "execution_count": 27,
   "outputs": [],
   "source": [
    "# Flatten the arrays for analysis\n",
    "y_test_tokens_flat = y_test_tokens.flatten()"
   ],
   "metadata": {
    "collapsed": false,
    "ExecuteTime": {
     "end_time": "2023-12-11T01:33:45.457658Z",
     "start_time": "2023-12-11T01:33:45.432134Z"
    }
   }
  },
  {
   "cell_type": "code",
   "execution_count": 274,
   "outputs": [],
   "source": [
    "y_pred_tokens_flat = y_pred_tokens.flatten()"
   ],
   "metadata": {
    "collapsed": false,
    "ExecuteTime": {
     "end_time": "2023-12-10T23:44:26.874090Z",
     "start_time": "2023-12-10T23:44:26.872477Z"
    }
   }
  },
  {
   "cell_type": "code",
   "execution_count": 276,
   "outputs": [
    {
     "name": "stdout",
     "output_type": "stream",
     "text": [
      "              precision    recall  f1-score   support\n",
      "\n",
      "           0       0.99      1.00      0.99    358971\n",
      "           1       0.97      0.95      0.96    127119\n",
      "           2       0.79      0.77      0.78     14510\n",
      "\n",
      "    accuracy                           0.98    500600\n",
      "   macro avg       0.92      0.90      0.91    500600\n",
      "weighted avg       0.98      0.98      0.98    500600\n",
      "\n"
     ]
    }
   ],
   "source": [
    "# Calculate classification report\n",
    "# Baseline model\n",
    "report = classification_report(y_test_tokens_flat, y_pred_tokens_flat, labels=[0, 1, 2])\n",
    "print(report)"
   ],
   "metadata": {
    "collapsed": false,
    "ExecuteTime": {
     "end_time": "2023-12-10T23:48:12.009545Z",
     "start_time": "2023-12-10T23:48:11.718403Z"
    }
   }
  },
  {
   "cell_type": "code",
   "execution_count": 283,
   "outputs": [
    {
     "data": {
      "text/plain": "array([[[0., 1., 0.],\n        [0., 1., 0.],\n        [0., 1., 0.],\n        ...,\n        [1., 0., 0.],\n        [1., 0., 0.],\n        [1., 0., 0.]],\n\n       [[0., 1., 0.],\n        [0., 1., 0.],\n        [0., 1., 0.],\n        ...,\n        [1., 0., 0.],\n        [1., 0., 0.],\n        [1., 0., 0.]],\n\n       [[0., 1., 0.],\n        [0., 1., 0.],\n        [0., 1., 0.],\n        ...,\n        [1., 0., 0.],\n        [1., 0., 0.],\n        [1., 0., 0.]],\n\n       ...,\n\n       [[0., 1., 0.],\n        [0., 1., 0.],\n        [0., 1., 0.],\n        ...,\n        [1., 0., 0.],\n        [1., 0., 0.],\n        [1., 0., 0.]],\n\n       [[0., 1., 0.],\n        [0., 1., 0.],\n        [0., 1., 0.],\n        ...,\n        [0., 1., 0.],\n        [0., 1., 0.],\n        [0., 1., 0.]],\n\n       [[0., 1., 0.],\n        [0., 1., 0.],\n        [0., 0., 1.],\n        ...,\n        [1., 0., 0.],\n        [1., 0., 0.],\n        [1., 0., 0.]]], dtype=float32)"
     },
     "execution_count": 283,
     "metadata": {},
     "output_type": "execute_result"
    }
   ],
   "source": [
    "num_classes = 3\n",
    "y_train_onehot = to_categorical(y_train_tokens, num_classes=num_classes)\n",
    "y_train_onehot"
   ],
   "metadata": {
    "collapsed": false,
    "ExecuteTime": {
     "end_time": "2023-12-10T23:53:12.772461Z",
     "start_time": "2023-12-10T23:53:12.755150Z"
    }
   }
  },
  {
   "cell_type": "code",
   "execution_count": 277,
   "outputs": [],
   "source": [
    "# Now, we will conduct an ablation study. We will remove the CRF layer of the model and see how it performs in comparison to the base model.\n",
    "input_tensor = Input(shape=(max_len,))\n",
    "model_no_crf = Embedding(input_dim=len(word_tokenizer.word_index) + 1, output_dim=50, input_length=max_len)(input_tensor)\n",
    "model_no_crf = Bidirectional(LSTM(units=100, return_sequences=True, recurrent_dropout=0.1))(model_no_crf)\n",
    "out = TimeDistributed(Dense(len(tag_tokenizer.word_index) + 1, activation=\"softmax\"))(model_no_crf)  # Use softmax for multi-class classification\n",
    "\n",
    "model_no_crf = Model(input_tensor, out)\n",
    "model_no_crf.compile(optimizer=\"adam\", loss='categorical_crossentropy', metrics=['accuracy'])"
   ],
   "metadata": {
    "collapsed": false,
    "ExecuteTime": {
     "end_time": "2023-12-10T23:49:01.130855Z",
     "start_time": "2023-12-10T23:49:01.051753Z"
    }
   }
  },
  {
   "cell_type": "code",
   "execution_count": 290,
   "outputs": [],
   "source": [
    "tf.config.run_functions_eagerly(True)"
   ],
   "metadata": {
    "collapsed": false,
    "ExecuteTime": {
     "end_time": "2023-12-10T23:56:22.983109Z",
     "start_time": "2023-12-10T23:56:22.976535Z"
    }
   }
  },
  {
   "cell_type": "code",
   "execution_count": 291,
   "outputs": [
    {
     "name": "stdout",
     "output_type": "stream",
     "text": [
      "Epoch 1/5\n"
     ]
    },
    {
     "name": "stderr",
     "output_type": "stream",
     "text": [
      "/Users/aaron.pradhan/work/platform/.venv/lib/python3.11/site-packages/tensorflow/python/data/ops/structured_function.py:258: UserWarning: Even though the `tf.config.experimental_run_functions_eagerly` option is set, this option does not apply to tf.data functions. To force eager execution of tf.data functions, please use `tf.data.experimental.enable_debug_mode()`.\n",
      "  warnings.warn(\n"
     ]
    },
    {
     "name": "stdout",
     "output_type": "stream",
     "text": [
      "564/564 [==============================] - 353s 626ms/step - loss: 0.0679 - accuracy: 0.9789 - val_loss: 0.0269 - val_accuracy: 0.9901\n",
      "Epoch 2/5\n",
      "564/564 [==============================] - 350s 621ms/step - loss: 0.0185 - accuracy: 0.9933 - val_loss: 0.0169 - val_accuracy: 0.9939\n",
      "Epoch 3/5\n",
      "564/564 [==============================] - 347s 616ms/step - loss: 0.0105 - accuracy: 0.9963 - val_loss: 0.0147 - val_accuracy: 0.9948\n",
      "Epoch 4/5\n",
      "564/564 [==============================] - 355s 629ms/step - loss: 0.0071 - accuracy: 0.9976 - val_loss: 0.0156 - val_accuracy: 0.9948\n",
      "Epoch 5/5\n",
      "564/564 [==============================] - 340s 603ms/step - loss: 0.0053 - accuracy: 0.9982 - val_loss: 0.0168 - val_accuracy: 0.9947\n"
     ]
    }
   ],
   "source": [
    "history_no_crf = model_no_crf.fit(X_train_tokens, y_train_onehot, batch_size=32, epochs=5, validation_split=0.1, verbose=1)"
   ],
   "metadata": {
    "collapsed": false,
    "ExecuteTime": {
     "end_time": "2023-12-11T00:25:30.643344Z",
     "start_time": "2023-12-10T23:56:24.968873Z"
    }
   }
  },
  {
   "cell_type": "code",
   "execution_count": 292,
   "outputs": [
    {
     "name": "stderr",
     "output_type": "stream",
     "text": [
      "/Users/aaron.pradhan/work/platform/.venv/lib/python3.11/site-packages/tensorflow/python/data/ops/structured_function.py:258: UserWarning: Even though the `tf.config.experimental_run_functions_eagerly` option is set, this option does not apply to tf.data functions. To force eager execution of tf.data functions, please use `tf.data.experimental.enable_debug_mode()`.\n",
      "  warnings.warn(\n"
     ]
    },
    {
     "name": "stdout",
     "output_type": "stream",
     "text": [
      "157/157 [==============================] - 49s 309ms/step\n"
     ]
    }
   ],
   "source": [
    "# Evaluate the model\n",
    "y_pred_tokens_no_crf = model_no_crf.predict(X_test_tokens)"
   ],
   "metadata": {
    "collapsed": false,
    "ExecuteTime": {
     "end_time": "2023-12-11T00:36:36.733268Z",
     "start_time": "2023-12-11T00:35:48.063042Z"
    }
   }
  },
  {
   "cell_type": "code",
   "execution_count": 300,
   "outputs": [
    {
     "data": {
      "text/plain": "(5006, 100, 3)"
     },
     "execution_count": 300,
     "metadata": {},
     "output_type": "execute_result"
    }
   ],
   "source": [
    "y_pred_tokens_no_crf.shape"
   ],
   "metadata": {
    "collapsed": false,
    "ExecuteTime": {
     "end_time": "2023-12-11T00:41:22.175501Z",
     "start_time": "2023-12-11T00:41:22.149974Z"
    }
   }
  },
  {
   "cell_type": "code",
   "execution_count": 301,
   "outputs": [
    {
     "data": {
      "text/plain": "array([[[6.2271079e-06, 9.9988973e-01, 1.0400153e-04],\n        [2.3796447e-05, 9.9924767e-01, 7.2853558e-04],\n        [5.8179708e-06, 9.9975461e-01, 2.3949334e-04],\n        ...,\n        [1.0000000e+00, 3.8785464e-09, 3.3034014e-10],\n        [1.0000000e+00, 1.6595932e-08, 1.9528761e-09],\n        [9.9999988e-01, 1.5552871e-07, 2.6417029e-08]],\n\n       [[2.2026438e-06, 9.9996948e-01, 2.8369586e-05],\n        [6.4803118e-07, 9.9998629e-01, 1.3154496e-05],\n        [1.0325790e-06, 9.9997151e-01, 2.7469256e-05],\n        ...,\n        [1.0000000e+00, 3.8476879e-09, 3.3135106e-10],\n        [1.0000000e+00, 1.6469325e-08, 1.9586133e-09],\n        [9.9999988e-01, 1.5439169e-07, 2.6491907e-08]],\n\n       [[2.9308426e-06, 9.9981159e-01, 1.8548660e-04],\n        [4.1697118e-07, 9.9996924e-01, 3.0354286e-05],\n        [5.1394778e-07, 9.9995971e-01, 3.9766506e-05],\n        ...,\n        [1.0000000e+00, 4.3430202e-09, 3.1813252e-10],\n        [1.0000000e+00, 1.8509368e-08, 1.8832351e-09],\n        [9.9999988e-01, 1.7278421e-07, 2.5508186e-08]],\n\n       ...,\n\n       [[1.5078210e-06, 9.9998212e-01, 1.6330017e-05],\n        [4.1561526e-07, 9.9999464e-01, 5.0557610e-06],\n        [4.3525759e-07, 9.9999392e-01, 5.6186736e-06],\n        ...,\n        [1.0000000e+00, 4.0461328e-09, 3.2551409e-10],\n        [1.0000000e+00, 1.7283885e-08, 1.9253665e-09],\n        [9.9999988e-01, 1.6171347e-07, 2.6058514e-08]],\n\n       [[3.1364166e-06, 9.9992216e-01, 7.4736519e-05],\n        [1.3057540e-06, 9.9995136e-01, 4.7359117e-05],\n        [2.1075666e-06, 9.9985147e-01, 1.4637499e-04],\n        ...,\n        [1.0000000e+00, 4.4384625e-09, 3.1510697e-10],\n        [1.0000000e+00, 1.8907944e-08, 1.8662396e-09],\n        [9.9999988e-01, 1.7642344e-07, 2.5289653e-08]],\n\n       [[3.8761100e-05, 9.9760062e-01, 2.3606685e-03],\n        [1.1157152e-05, 1.6800590e-03, 9.9830878e-01],\n        [9.6159829e-06, 1.7751092e-03, 9.9821532e-01],\n        ...,\n        [1.0000000e+00, 3.7908321e-09, 3.3309236e-10],\n        [1.0000000e+00, 1.6235996e-08, 1.9685005e-09],\n        [9.9999988e-01, 1.5229463e-07, 2.6620258e-08]]], dtype=float32)"
     },
     "execution_count": 301,
     "metadata": {},
     "output_type": "execute_result"
    }
   ],
   "source": [
    "y_pred_tokens_no_crf"
   ],
   "metadata": {
    "collapsed": false,
    "ExecuteTime": {
     "end_time": "2023-12-11T00:41:25.329277Z",
     "start_time": "2023-12-11T00:41:25.321256Z"
    }
   }
  },
  {
   "cell_type": "code",
   "execution_count": 302,
   "outputs": [],
   "source": [
    "y_pred_class = np.argmax(y_pred_tokens_no_crf, axis=-1)"
   ],
   "metadata": {
    "collapsed": false,
    "ExecuteTime": {
     "end_time": "2023-12-11T00:43:15.587602Z",
     "start_time": "2023-12-11T00:43:15.575022Z"
    }
   }
  },
  {
   "cell_type": "code",
   "execution_count": 303,
   "outputs": [],
   "source": [
    "# Flatten the array for analysis\n",
    "y_pred_tokens_no_crf_flat = y_pred_class.flatten()"
   ],
   "metadata": {
    "collapsed": false,
    "ExecuteTime": {
     "end_time": "2023-12-11T00:43:26.050120Z",
     "start_time": "2023-12-11T00:43:26.042890Z"
    }
   }
  },
  {
   "cell_type": "code",
   "execution_count": 304,
   "outputs": [
    {
     "name": "stdout",
     "output_type": "stream",
     "text": [
      "              precision    recall  f1-score   support\n",
      "\n",
      "           0       0.99      1.00      0.99    358971\n",
      "           1       0.98      0.95      0.96    127119\n",
      "           2       0.79      0.77      0.78     14510\n",
      "\n",
      "    accuracy                           0.98    500600\n",
      "   macro avg       0.92      0.91      0.91    500600\n",
      "weighted avg       0.98      0.98      0.98    500600\n",
      "\n"
     ]
    }
   ],
   "source": [
    "# Calculate classification report\n",
    "# No CRF layer\n",
    "report_no_crf = classification_report(y_test_tokens_flat, y_pred_tokens_no_crf_flat, labels=[0, 1, 2])\n",
    "print(report_no_crf)"
   ],
   "metadata": {
    "collapsed": false,
    "ExecuteTime": {
     "end_time": "2023-12-11T00:43:28.461994Z",
     "start_time": "2023-12-11T00:43:28.194899Z"
    }
   }
  },
  {
   "cell_type": "markdown",
   "source": [
    "The performance of the model with no CRF layer is comparable to that of the model with a CRF layer. The model with the CRF layer is substantially faster to train, so we will stick with that going forward."
   ],
   "metadata": {
    "collapsed": false
   }
  },
  {
   "cell_type": "code",
   "execution_count": 21,
   "outputs": [],
   "source": [
    "tf.config.run_functions_eagerly(False)"
   ],
   "metadata": {
    "collapsed": false,
    "ExecuteTime": {
     "end_time": "2023-12-11T01:06:35.910710Z",
     "start_time": "2023-12-11T01:06:35.894281Z"
    }
   }
  },
  {
   "cell_type": "code",
   "execution_count": 22,
   "outputs": [],
   "source": [
    "# We will conduct another ablation study to investigate the impact of the number of LSTM units.\n",
    "# Model architecture - 200 LSTM units\n",
    "input_tensor200 = Input(shape=(max_len,))\n",
    "model200 = Embedding(input_dim=len(word_tokenizer.word_index) + 1, output_dim=50, input_length=max_len)(input_tensor200)\n",
    "model200 = Bidirectional(LSTM(units=200, return_sequences=True, recurrent_dropout=0.1))(model200)\n",
    "model200 = TimeDistributed(Dense(50, activation=\"relu\"))(model200)\n",
    "crf = CRF(len(tag_tokenizer.word_index) + 1)  # CRF layer\n",
    "out = crf(model200)  # output\n",
    "\n",
    "model200 = ModelWithCRFLoss(Model(input_tensor200, out))\n",
    "\n",
    "# Compile the model\n",
    "model200.compile(optimizer=\"adam\")"
   ],
   "metadata": {
    "collapsed": false,
    "ExecuteTime": {
     "end_time": "2023-12-11T01:06:36.867561Z",
     "start_time": "2023-12-11T01:06:36.266249Z"
    }
   }
  },
  {
   "cell_type": "code",
   "execution_count": 23,
   "outputs": [
    {
     "name": "stdout",
     "output_type": "stream",
     "text": [
      "Epoch 1/5\n"
     ]
    },
    {
     "name": "stderr",
     "output_type": "stream",
     "text": [
      "2023-12-10 20:06:38.663289: W tensorflow/core/common_runtime/type_inference.cc:339] Type inference failed. This indicates an invalid graph that escaped type checking. Error message: INVALID_ARGUMENT: expected compatible input types, but input 1:\n",
      "type_id: TFT_OPTIONAL\n",
      "args {\n",
      "  type_id: TFT_PRODUCT\n",
      "  args {\n",
      "    type_id: TFT_TENSOR\n",
      "    args {\n",
      "      type_id: TFT_FLOAT\n",
      "    }\n",
      "  }\n",
      "}\n",
      " is neither a subtype nor a supertype of the combined inputs preceding it:\n",
      "type_id: TFT_OPTIONAL\n",
      "args {\n",
      "  type_id: TFT_PRODUCT\n",
      "  args {\n",
      "    type_id: TFT_TENSOR\n",
      "    args {\n",
      "      type_id: TFT_BOOL\n",
      "    }\n",
      "  }\n",
      "}\n",
      "\n",
      "\tfor Tuple type infernce function 0\n",
      "\twhile inferring type of node 'cond/output/_831'\n"
     ]
    },
    {
     "name": "stdout",
     "output_type": "stream",
     "text": [
      "564/564 [==============================] - 246s 432ms/step - loss: 5.8136 - accuracy: 0.9684 - val_loss_val: 2.1325 - val_val_accuracy: 0.9905\n",
      "Epoch 2/5\n",
      "564/564 [==============================] - 256s 454ms/step - loss: 1.2847 - accuracy: 0.9942 - val_loss_val: 1.1899 - val_val_accuracy: 0.9945\n",
      "Epoch 3/5\n",
      "564/564 [==============================] - 255s 452ms/step - loss: 0.6532 - accuracy: 0.9970 - val_loss_val: 1.0077 - val_val_accuracy: 0.9951\n",
      "Epoch 4/5\n",
      "564/564 [==============================] - 259s 458ms/step - loss: 0.4064 - accuracy: 0.9981 - val_loss_val: 1.0482 - val_val_accuracy: 0.9948\n",
      "Epoch 5/5\n",
      "564/564 [==============================] - 241s 427ms/step - loss: 0.2932 - accuracy: 0.9986 - val_loss_val: 0.9485 - val_val_accuracy: 0.9952\n"
     ]
    }
   ],
   "source": [
    "history200 = model200.fit(X_train_tokens, y_train_tokens, batch_size=32, epochs=5, validation_split=0.1, verbose=1)"
   ],
   "metadata": {
    "collapsed": false,
    "ExecuteTime": {
     "end_time": "2023-12-11T01:27:33.156395Z",
     "start_time": "2023-12-11T01:06:36.935969Z"
    }
   }
  },
  {
   "cell_type": "code",
   "execution_count": 24,
   "outputs": [
    {
     "name": "stdout",
     "output_type": "stream",
     "text": [
      "157/157 [==============================] - 13s 79ms/step\n"
     ]
    }
   ],
   "source": [
    "# Evaluate the model\n",
    "y_pred_tokens200 = model200.predict(X_test_tokens)"
   ],
   "metadata": {
    "collapsed": false,
    "ExecuteTime": {
     "end_time": "2023-12-11T01:32:43.889083Z",
     "start_time": "2023-12-11T01:32:31.247940Z"
    }
   }
  },
  {
   "cell_type": "code",
   "execution_count": 25,
   "outputs": [],
   "source": [
    "# Flatten the array for analysis\n",
    "y_pred_tokens200_flat = y_pred_tokens200.flatten()"
   ],
   "metadata": {
    "collapsed": false,
    "ExecuteTime": {
     "end_time": "2023-12-11T01:33:05.731283Z",
     "start_time": "2023-12-11T01:33:05.717996Z"
    }
   }
  },
  {
   "cell_type": "code",
   "execution_count": 28,
   "outputs": [
    {
     "name": "stdout",
     "output_type": "stream",
     "text": [
      "              precision    recall  f1-score   support\n",
      "\n",
      "           0       0.99      1.00      0.99    358971\n",
      "           1       0.97      0.95      0.96    127119\n",
      "           2       0.79      0.77      0.78     14510\n",
      "\n",
      "    accuracy                           0.98    500600\n",
      "   macro avg       0.92      0.90      0.91    500600\n",
      "weighted avg       0.98      0.98      0.98    500600\n",
      "\n"
     ]
    }
   ],
   "source": [
    "# Calculate classification report\n",
    "# 200 LSTM units\n",
    "report200 = classification_report(y_test_tokens_flat, y_pred_tokens200_flat, labels=[0, 1, 2])\n",
    "print(report200)"
   ],
   "metadata": {
    "collapsed": false,
    "ExecuteTime": {
     "end_time": "2023-12-11T01:33:48.136006Z",
     "start_time": "2023-12-11T01:33:47.844307Z"
    }
   }
  },
  {
   "cell_type": "code",
   "execution_count": 30,
   "outputs": [],
   "source": [
    "# Model architecture - 50 LSTM units\n",
    "input_tensor50 = Input(shape=(max_len,))\n",
    "model50 = Embedding(input_dim=len(word_tokenizer.word_index) + 1, output_dim=50, input_length=max_len)(input_tensor50)\n",
    "model50 = Bidirectional(LSTM(units=50, return_sequences=True, recurrent_dropout=0.1))(model50)\n",
    "model50 = TimeDistributed(Dense(50, activation=\"relu\"))(model50)\n",
    "crf = CRF(len(tag_tokenizer.word_index) + 1)  # CRF layer\n",
    "out = crf(model50)  # output\n",
    "\n",
    "model50 = ModelWithCRFLoss(Model(input_tensor50, out))\n",
    "\n",
    "# Compile the model\n",
    "model50.compile(optimizer=\"adam\")"
   ],
   "metadata": {
    "collapsed": false,
    "ExecuteTime": {
     "end_time": "2023-12-11T01:36:27.571763Z",
     "start_time": "2023-12-11T01:36:27.454085Z"
    }
   }
  },
  {
   "cell_type": "code",
   "execution_count": 31,
   "outputs": [
    {
     "name": "stdout",
     "output_type": "stream",
     "text": [
      "Epoch 1/5\n",
      "564/564 [==============================] - 53s 89ms/step - loss: 8.8542 - accuracy: 0.9621 - val_loss_val: 2.5143 - val_val_accuracy: 0.9914\n",
      "Epoch 2/5\n",
      "564/564 [==============================] - 52s 93ms/step - loss: 1.6766 - accuracy: 0.9940 - val_loss_val: 1.7674 - val_val_accuracy: 0.9937\n",
      "Epoch 3/5\n",
      "564/564 [==============================] - 50s 89ms/step - loss: 0.8997 - accuracy: 0.9968 - val_loss_val: 1.5431 - val_val_accuracy: 0.9947\n",
      "Epoch 4/5\n",
      "564/564 [==============================] - 49s 88ms/step - loss: 0.5749 - accuracy: 0.9980 - val_loss_val: 1.7160 - val_val_accuracy: 0.9942\n",
      "Epoch 5/5\n",
      "564/564 [==============================] - 49s 87ms/step - loss: 0.4113 - accuracy: 0.9986 - val_loss_val: 1.6796 - val_val_accuracy: 0.9945\n"
     ]
    }
   ],
   "source": [
    "history50 = model50.fit(X_train_tokens, y_train_tokens, batch_size=32, epochs=5, validation_split=0.1, verbose=1)"
   ],
   "metadata": {
    "collapsed": false,
    "ExecuteTime": {
     "end_time": "2023-12-11T01:40:41.798850Z",
     "start_time": "2023-12-11T01:36:28.070732Z"
    }
   }
  },
  {
   "cell_type": "code",
   "execution_count": 32,
   "outputs": [
    {
     "name": "stdout",
     "output_type": "stream",
     "text": [
      "157/157 [==============================] - 2s 13ms/step\n",
      "              precision    recall  f1-score   support\n",
      "\n",
      "           0       0.99      1.00      0.99    358971\n",
      "           1       0.97      0.95      0.96    127119\n",
      "           2       0.80      0.76      0.78     14510\n",
      "\n",
      "    accuracy                           0.98    500600\n",
      "   macro avg       0.92      0.90      0.91    500600\n",
      "weighted avg       0.98      0.98      0.98    500600\n",
      "\n"
     ]
    }
   ],
   "source": [
    "# Evaluate the model\n",
    "y_pred_tokens50 = model50.predict(X_test_tokens)\n",
    "# Flatten the array for analysis\n",
    "y_pred_tokens50_flat = y_pred_tokens50.flatten()\n",
    "# Calculate classification report\n",
    "# 50 LSTM units\n",
    "report50 = classification_report(y_test_tokens_flat, y_pred_tokens50_flat, labels=[0, 1, 2])\n",
    "print(report50)"
   ],
   "metadata": {
    "collapsed": false,
    "ExecuteTime": {
     "end_time": "2023-12-11T01:46:13.645642Z",
     "start_time": "2023-12-11T01:46:11.061229Z"
    }
   }
  },
  {
   "cell_type": "code",
   "execution_count": 37,
   "outputs": [],
   "source": [
    "def create_model_dropout(dropout_rate, max_len, vocab_size, tag_size):\n",
    "    input_tensor_do = Input(shape=(max_len,))\n",
    "    model_do = Embedding(input_dim=vocab_size, output_dim=50, input_length=max_len)(input_tensor_do)\n",
    "    model_do = Bidirectional(LSTM(units=50, return_sequences=True, recurrent_dropout=dropout_rate))(model_do)\n",
    "    model_do = Dropout(dropout_rate)(model_do)  # Dropout added after LSTM layer\n",
    "    model_do = TimeDistributed(Dense(tag_size, activation=\"relu\"))(model_do)\n",
    "    crf_do = CRF(tag_size)  # CRF layer\n",
    "    out_do = crf_do(model_do)  # output\n",
    "    model_do = ModelWithCRFLoss(Model(input_tensor_do, out_do))\n",
    "\n",
    "    return model_do"
   ],
   "metadata": {
    "collapsed": false,
    "ExecuteTime": {
     "end_time": "2023-12-11T02:23:29.607575Z",
     "start_time": "2023-12-11T02:23:29.593671Z"
    }
   }
  },
  {
   "cell_type": "code",
   "execution_count": 38,
   "outputs": [
    {
     "name": "stdout",
     "output_type": "stream",
     "text": [
      "Training model with dropout rate: 0.1\n",
      "Epoch 1/5\n",
      "564/564 [==============================] - 50s 86ms/step - loss: 75.8773 - accuracy: 0.6865 - val_loss_val: 34.6432 - val_val_accuracy: 0.9709\n",
      "Epoch 2/5\n",
      "564/564 [==============================] - 51s 90ms/step - loss: 18.3148 - accuracy: 0.9829 - val_loss_val: 9.4357 - val_val_accuracy: 0.9917\n",
      "Epoch 3/5\n",
      "564/564 [==============================] - 49s 87ms/step - loss: 6.0475 - accuracy: 0.9947 - val_loss_val: 4.9013 - val_val_accuracy: 0.9922\n",
      "Epoch 4/5\n",
      "564/564 [==============================] - 48s 86ms/step - loss: 3.0645 - accuracy: 0.9967 - val_loss_val: 2.9718 - val_val_accuracy: 0.9943\n",
      "Epoch 5/5\n",
      "564/564 [==============================] - 48s 86ms/step - loss: 1.8757 - accuracy: 0.9978 - val_loss_val: 2.4126 - val_val_accuracy: 0.9941\n",
      "Training model with dropout rate: 0.2\n",
      "Epoch 1/5\n",
      "564/564 [==============================] - 49s 83ms/step - loss: 16.3881 - accuracy: 0.9498 - val_loss_val: 4.9572 - val_val_accuracy: 0.9811\n",
      "Epoch 2/5\n",
      "564/564 [==============================] - 48s 86ms/step - loss: 2.6784 - accuracy: 0.9906 - val_loss_val: 1.9761 - val_val_accuracy: 0.9931\n",
      "Epoch 3/5\n",
      "564/564 [==============================] - 48s 86ms/step - loss: 1.2872 - accuracy: 0.9953 - val_loss_val: 1.6121 - val_val_accuracy: 0.9941\n",
      "Epoch 4/5\n",
      "564/564 [==============================] - 48s 86ms/step - loss: 0.8408 - accuracy: 0.9969 - val_loss_val: 1.4809 - val_val_accuracy: 0.9942\n",
      "Epoch 5/5\n",
      "564/564 [==============================] - 49s 86ms/step - loss: 0.6235 - accuracy: 0.9977 - val_loss_val: 1.4651 - val_val_accuracy: 0.9945\n",
      "Training model with dropout rate: 0.3\n",
      "Epoch 1/5\n",
      "564/564 [==============================] - 50s 85ms/step - loss: 33.2909 - accuracy: 0.8044 - val_loss_val: 16.4537 - val_val_accuracy: 0.9707\n",
      "Epoch 2/5\n",
      "564/564 [==============================] - 52s 92ms/step - loss: 11.2740 - accuracy: 0.9711 - val_loss_val: 8.5982 - val_val_accuracy: 0.9709\n",
      "Epoch 3/5\n",
      "564/564 [==============================] - 52s 91ms/step - loss: 7.7815 - accuracy: 0.9711 - val_loss_val: 7.2176 - val_val_accuracy: 0.9709\n",
      "Epoch 4/5\n",
      "564/564 [==============================] - 51s 91ms/step - loss: 6.9555 - accuracy: 0.9711 - val_loss_val: 6.7374 - val_val_accuracy: 0.9709\n",
      "Epoch 5/5\n",
      "564/564 [==============================] - 51s 90ms/step - loss: 6.6193 - accuracy: 0.9711 - val_loss_val: 6.4996 - val_val_accuracy: 0.9709\n",
      "Training model with dropout rate: 0.4\n",
      "Epoch 1/5\n",
      "564/564 [==============================] - 50s 85ms/step - loss: 13.0701 - accuracy: 0.9485 - val_loss_val: 3.3269 - val_val_accuracy: 0.9853\n",
      "Epoch 2/5\n",
      "564/564 [==============================] - 50s 89ms/step - loss: 2.2743 - accuracy: 0.9901 - val_loss_val: 1.8754 - val_val_accuracy: 0.9917\n",
      "Epoch 3/5\n",
      "564/564 [==============================] - 50s 89ms/step - loss: 1.3271 - accuracy: 0.9943 - val_loss_val: 1.5048 - val_val_accuracy: 0.9931\n",
      "Epoch 4/5\n",
      "564/564 [==============================] - 49s 88ms/step - loss: 0.9172 - accuracy: 0.9962 - val_loss_val: 1.3562 - val_val_accuracy: 0.9937\n",
      "Epoch 5/5\n",
      "564/564 [==============================] - 49s 88ms/step - loss: 0.6897 - accuracy: 0.9971 - val_loss_val: 1.3201 - val_val_accuracy: 0.9941\n",
      "Training model with dropout rate: 0.5\n",
      "Epoch 1/5\n",
      "564/564 [==============================] - 50s 84ms/step - loss: 16.7891 - accuracy: 0.9364 - val_loss_val: 4.9356 - val_val_accuracy: 0.9830\n",
      "Epoch 2/5\n",
      "564/564 [==============================] - 49s 87ms/step - loss: 3.3769 - accuracy: 0.9885 - val_loss_val: 2.8991 - val_val_accuracy: 0.9903\n",
      "Epoch 3/5\n",
      "564/564 [==============================] - 49s 87ms/step - loss: 1.9458 - accuracy: 0.9933 - val_loss_val: 2.2750 - val_val_accuracy: 0.9921\n",
      "Epoch 4/5\n",
      "564/564 [==============================] - 50s 88ms/step - loss: 1.3402 - accuracy: 0.9954 - val_loss_val: 1.9677 - val_val_accuracy: 0.9928\n",
      "Epoch 5/5\n",
      "564/564 [==============================] - 48s 86ms/step - loss: 0.9937 - accuracy: 0.9965 - val_loss_val: 1.8551 - val_val_accuracy: 0.9936\n"
     ]
    }
   ],
   "source": [
    "dropout_rates = [0.1, 0.2, 0.3, 0.4, 0.5]\n",
    "histories = {}\n",
    "models_dropout = []\n",
    "\n",
    "for rate in dropout_rates:\n",
    "    print(f\"Training model with dropout rate: {rate}\")\n",
    "    model_dropout = create_model_dropout(dropout_rate=rate, max_len=100, vocab_size=len(word_tokenizer.word_index) + 1, tag_size=len(tag_tokenizer.word_index) + 1)\n",
    "    model_dropout.compile(optimizer=\"adam\", loss=\"categorical_crossentropy\", metrics=[\"accuracy\"])\n",
    "\n",
    "    history_dropout = model_dropout.fit(X_train_tokens, y_train_tokens, epochs=5, batch_size=32, validation_split=0.1)\n",
    "    histories[rate] = history_dropout\n",
    "    models_dropout.append(model_dropout)"
   ],
   "metadata": {
    "collapsed": false,
    "ExecuteTime": {
     "end_time": "2023-12-11T02:47:28.969506Z",
     "start_time": "2023-12-11T02:26:46.389593Z"
    }
   }
  },
  {
   "cell_type": "code",
   "execution_count": 51,
   "outputs": [
    {
     "name": "stdout",
     "output_type": "stream",
     "text": [
      "157/157 [==============================] - 2s 13ms/step\n",
      "157/157 [==============================] - 2s 13ms/step\n",
      "157/157 [==============================] - 2s 13ms/step\n",
      "157/157 [==============================] - 2s 14ms/step\n",
      "157/157 [==============================] - 2s 13ms/step\n"
     ]
    }
   ],
   "source": [
    "predictions = {}\n",
    "\n",
    "for i, rate in enumerate(dropout_rates):\n",
    "    predictions[rate] = models_dropout[i].predict(X_test_tokens)"
   ],
   "metadata": {
    "collapsed": false,
    "ExecuteTime": {
     "end_time": "2023-12-11T02:57:20.971173Z",
     "start_time": "2023-12-11T02:57:09.472513Z"
    }
   }
  },
  {
   "cell_type": "code",
   "execution_count": 47,
   "outputs": [
    {
     "data": {
      "text/plain": "<Figure size 640x480 with 1 Axes>",
      "image/png": "[encoded data removed]"
     },
     "metadata": {},
     "output_type": "display_data"
    }
   ],
   "source": [
    "for rate in dropout_rates:\n",
    "    plt.plot(histories[rate].history['val_loss_val'], label=f\"val_loss_dropout_{rate}\")\n",
    "\n",
    "plt.title('Validation Loss for Different Dropout Rates')\n",
    "plt.xlabel('Epochs')\n",
    "plt.ylabel('Loss')\n",
    "plt.legend()\n",
    "plt.xticks(np.arange(5))\n",
    "plt.show()"
   ],
   "metadata": {
    "collapsed": false,
    "ExecuteTime": {
     "end_time": "2023-12-11T02:52:26.382113Z",
     "start_time": "2023-12-11T02:52:26.325471Z"
    }
   }
  },
  {
   "cell_type": "code",
   "execution_count": 54,
   "outputs": [
    {
     "name": "stdout",
     "output_type": "stream",
     "text": [
      "Classification report for dropout rate 0.1:\n",
      "              precision    recall  f1-score   support\n",
      "\n",
      "           0       0.99      1.00      0.99    358971\n",
      "           1       0.97      0.95      0.96    127119\n",
      "           2       0.80      0.74      0.77     14510\n",
      "\n",
      "    accuracy                           0.98    500600\n",
      "   macro avg       0.92      0.90      0.91    500600\n",
      "weighted avg       0.98      0.98      0.98    500600\n",
      "\n",
      "\n",
      "Classification report for dropout rate 0.2:\n",
      "              precision    recall  f1-score   support\n",
      "\n",
      "           0       0.99      1.00      0.99    358971\n",
      "           1       0.97      0.95      0.96    127119\n",
      "           2       0.80      0.76      0.78     14510\n",
      "\n",
      "    accuracy                           0.98    500600\n",
      "   macro avg       0.92      0.90      0.91    500600\n",
      "weighted avg       0.98      0.98      0.98    500600\n",
      "\n",
      "\n",
      "Classification report for dropout rate 0.3:\n",
      "              precision    recall  f1-score   support\n",
      "\n",
      "           0       0.99      1.00      0.99    358971\n",
      "           1       0.90      0.97      0.93    127119\n",
      "           2       0.00      0.00      0.00     14510\n",
      "\n",
      "    accuracy                           0.96    500600\n",
      "   macro avg       0.63      0.66      0.64    500600\n",
      "weighted avg       0.94      0.96      0.95    500600\n",
      "\n",
      "\n",
      "Classification report for dropout rate 0.4:\n",
      "              precision    recall  f1-score   support\n",
      "\n",
      "           0       0.99      1.00      0.99    358971\n",
      "           1       0.97      0.95      0.96    127119\n",
      "           2       0.80      0.76      0.78     14510\n",
      "\n",
      "    accuracy                           0.98    500600\n",
      "   macro avg       0.92      0.90      0.91    500600\n",
      "weighted avg       0.98      0.98      0.98    500600\n",
      "\n",
      "\n",
      "Classification report for dropout rate 0.5:\n",
      "              precision    recall  f1-score   support\n",
      "\n",
      "           0       0.99      1.00      0.99    358971\n",
      "           1       0.97      0.94      0.96    127119\n",
      "           2       0.78      0.76      0.77     14510\n",
      "\n",
      "    accuracy                           0.98    500600\n",
      "   macro avg       0.91      0.90      0.91    500600\n",
      "weighted avg       0.98      0.98      0.98    500600\n",
      "\n",
      "\n"
     ]
    }
   ],
   "source": [
    "# Print classification reports\n",
    "for dropout_rate, prediction in predictions.items():\n",
    "    flattened_prediction = prediction.flatten()\n",
    "    print(f\"Classification report for dropout rate {dropout_rate}:\")\n",
    "    print(classification_report(y_test_tokens_flat, flattened_prediction, labels=[0, 1, 2], zero_division=0))\n",
    "    print()"
   ],
   "metadata": {
    "collapsed": false,
    "ExecuteTime": {
     "end_time": "2023-12-11T03:00:02.298791Z",
     "start_time": "2023-12-11T03:00:00.985865Z"
    }
   }
  }
 ],
 "metadata": {
  "kernelspec": {
   "display_name": "Python 3",
   "language": "python",
   "name": "python3"
  },
  "language_info": {
   "codemirror_mode": {
    "name": "ipython",
    "version": 2
   },
   "file_extension": ".py",
   "mimetype": "text/x-python",
   "name": "python",
   "nbconvert_exporter": "python",
   "pygments_lexer": "ipython2",
   "version": "2.7.6"
  }
 },
 "nbformat": 4,
 "nbformat_minor": 0
}
